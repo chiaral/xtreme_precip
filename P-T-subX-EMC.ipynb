{
 "cells": [
  {
   "cell_type": "code",
   "execution_count": 1,
   "metadata": {},
   "outputs": [],
   "source": [
    "import numpy as np\n",
    "import xarray as xr\n",
    "import pandas as pd\n",
    "import datetime\n",
    "\n",
    "from datetime import timedelta, datetime, date\n",
    "import calendar\n",
    "\n",
    "import numpy as np\n",
    "from matplotlib import pyplot as plt\n",
    "%matplotlib inline\n"
   ]
  },
  {
   "cell_type": "code",
   "execution_count": 2,
   "metadata": {},
   "outputs": [
    {
     "name": "stdout",
     "output_type": "stream",
     "text": [
      "/home/clepore/.conda/envs/general_python2_7/bin/python\r\n"
     ]
    }
   ],
   "source": [
    "!which python"
   ]
  },
  {
   "cell_type": "code",
   "execution_count": 3,
   "metadata": {},
   "outputs": [],
   "source": [
    "import Nio\n",
    "import glob"
   ]
  },
  {
   "cell_type": "code",
   "execution_count": 13,
   "metadata": {
    "scrolled": true
   },
   "outputs": [
    {
     "name": "stdout",
     "output_type": "stream",
     "text": [
      "1999  2001  2003  2005\t2007  2009  2011  2013\t2015\r\n",
      "2000  2002  2004  2006\t2008  2010  2012  2014\t2016\r\n"
     ]
    }
   ],
   "source": [
    "!ls /Data2/SubX/EMC/GEFS/tas_2m//\n"
   ]
  },
  {
   "cell_type": "code",
   "execution_count": 11,
   "metadata": {},
   "outputs": [
    {
     "name": "stdout",
     "output_type": "stream",
     "text": [
      "1:0:d=1999060200:CAPE:180-0 mb above ground:1 day fcst:ENS=low-res ctl\r\n",
      "2:46954:d=1999060200:CAPE:180-0 mb above ground:2 day fcst:ENS=low-res ctl\r\n",
      "3:92924:d=1999060200:CAPE:180-0 mb above ground:3 day fcst:ENS=low-res ctl\r\n",
      "4:139690:d=1999060200:CAPE:180-0 mb above ground:4 day fcst:ENS=low-res ctl\r\n",
      "5:186582:d=1999060200:CAPE:180-0 mb above ground:5 day fcst:ENS=low-res ctl\r\n",
      "6:233994:d=1999060200:CAPE:180-0 mb above ground:6 day fcst:ENS=low-res ctl\r\n",
      "7:281218:d=1999060200:CAPE:180-0 mb above ground:7 day fcst:ENS=low-res ctl\r\n",
      "8:328742:d=1999060200:CAPE:180-0 mb above ground:8 day fcst:ENS=low-res ctl\r\n",
      "9:375455:d=1999060200:CAPE:180-0 mb above ground:9 day fcst:ENS=low-res ctl\r\n",
      "10:420780:d=1999060200:CAPE:180-0 mb above ground:10 day fcst:ENS=low-res ctl\r\n",
      "11:465309:d=1999060200:CAPE:180-0 mb above ground:11 day fcst:ENS=low-res ctl\r\n",
      "12:510293:d=1999060200:CAPE:180-0 mb above ground:12 day fcst:ENS=low-res ctl\r\n",
      "13:555360:d=1999060200:CAPE:180-0 mb above ground:13 day fcst:ENS=low-res ctl\r\n",
      "14:600065:d=1999060200:CAPE:180-0 mb above ground:14 day fcst:ENS=low-res ctl\r\n",
      "15:645256:d=1999060200:CAPE:180-0 mb above ground:15 day fcst:ENS=low-res ctl\r\n",
      "16:689274:d=1999060200:CAPE:180-0 mb above ground:16 day fcst:ENS=low-res ctl\r\n",
      "17:733088:d=1999060200:CAPE:180-0 mb above ground:17 day fcst:ENS=low-res ctl\r\n",
      "18:777941:d=1999060200:CAPE:180-0 mb above ground:18 day fcst:ENS=low-res ctl\r\n",
      "19:822541:d=1999060200:CAPE:180-0 mb above ground:19 day fcst:ENS=low-res ctl\r\n",
      "20:867110:d=1999060200:CAPE:180-0 mb above ground:20 day fcst:ENS=low-res ctl\r\n",
      "21:911639:d=1999060200:CAPE:180-0 mb above ground:21 day fcst:ENS=low-res ctl\r\n",
      "22:956300:d=1999060200:CAPE:180-0 mb above ground:22 day fcst:ENS=low-res ctl\r\n",
      "23:1001708:d=1999060200:CAPE:180-0 mb above ground:23 day fcst:ENS=low-res ctl\r\n",
      "24:1046497:d=1999060200:CAPE:180-0 mb above ground:24 day fcst:ENS=low-res ctl\r\n",
      "25:1091102:d=1999060200:CAPE:180-0 mb above ground:25 day fcst:ENS=low-res ctl\r\n",
      "26:1136391:d=1999060200:CAPE:180-0 mb above ground:26 day fcst:ENS=low-res ctl\r\n",
      "27:1182634:d=1999060200:CAPE:180-0 mb above ground:27 day fcst:ENS=low-res ctl\r\n",
      "28:1229227:d=1999060200:CAPE:180-0 mb above ground:28 day fcst:ENS=low-res ctl\r\n",
      "29:1275321:d=1999060200:CAPE:180-0 mb above ground:29 day fcst:ENS=low-res ctl\r\n",
      "30:1321203:d=1999060200:CAPE:180-0 mb above ground:30 day fcst:ENS=low-res ctl\r\n",
      "31:1366790:d=1999060200:CAPE:180-0 mb above ground:31 day fcst:ENS=low-res ctl\r\n",
      "32:1412184:d=1999060200:CAPE:180-0 mb above ground:32 day fcst:ENS=low-res ctl\r\n",
      "33:1457673:d=1999060200:CAPE:180-0 mb above ground:33 day fcst:ENS=low-res ctl\r\n",
      "34:1502994:d=1999060200:CAPE:180-0 mb above ground:34 day fcst:ENS=low-res ctl\r\n",
      "35:1548206:d=1999060200:CAPE:180-0 mb above ground:35 day fcst:ENS=low-res ctl\r\n"
     ]
    }
   ],
   "source": [
    "!wgrib2  /Data2/SubX/EMC/GEFS/cape/1999/06/cape_GEFS_02jun1999_00z_d01_d35_m00.grb2"
   ]
  },
  {
   "cell_type": "code",
   "execution_count": 32,
   "metadata": {},
   "outputs": [
    {
     "ename": "TypeError",
     "evalue": "open_dataset() got an unexpected keyword argument 'keep_attr'",
     "output_type": "error",
     "traceback": [
      "\u001b[0;31m\u001b[0m",
      "\u001b[0;31mTypeError\u001b[0mTraceback (most recent call last)",
      "\u001b[0;32m<ipython-input-32-50bf229339a9>\u001b[0m in \u001b[0;36m<module>\u001b[0;34m()\u001b[0m\n\u001b[1;32m      1\u001b[0m ds = xr.open_dataset('/Data2/SubX/EMC/GEFS/pr_sfc/1999/06/pr_sfc_GEFS_02jun1999_00z_d01_d35_m00.grb2', \n\u001b[0;32m----> 2\u001b[0;31m                      engine='pynio', keep_attr=True)\n\u001b[0m\u001b[1;32m      3\u001b[0m \u001b[0mds\u001b[0m\u001b[0;34m\u001b[0m\u001b[0m\n",
      "\u001b[0;31mTypeError\u001b[0m: open_dataset() got an unexpected keyword argument 'keep_attr'"
     ]
    }
   ],
   "source": [
    "ds = xr.open_dataset('/Data2/SubX/EMC/GEFS/pr_sfc/1999/06/pr_sfc_GEFS_02jun1999_00z_d01_d35_m00.grb2', \n",
    "                     engine='pynio')\n",
    "ds"
   ]
  },
  {
   "cell_type": "code",
   "execution_count": 25,
   "metadata": {},
   "outputs": [],
   "source": [
    "ds.variables.keys()[2] = 'pr'"
   ]
  },
  {
   "cell_type": "code",
   "execution_count": 29,
   "metadata": {},
   "outputs": [
    {
     "data": {
      "text/plain": [
       "<xarray.Dataset>\n",
       "Dimensions:  (lat: 181, lon: 360, time: 35)\n",
       "Coordinates:\n",
       "  * time     (time) timedelta64[ns] 01:00:00 02:00:00 03:00:00 04:00:00 ...\n",
       "  * lon      (lon) float32 0.0 1.0 2.0 3.0 4.0 5.0 6.0 7.0 8.0 9.0 10.0 11.0 ...\n",
       "  * lat      (lat) float32 90.0 89.0 88.0 87.0 86.0 85.0 84.0 83.0 82.0 81.0 ...\n",
       "Data variables:\n",
       "    pr       (time, lat, lon) float32 ..."
      ]
     },
     "execution_count": 29,
     "metadata": {},
     "output_type": "execute_result"
    }
   ],
   "source": [
    "ds  = ds.rename({ds.variables.keys()[2]:'pr', 'lon_0':'lon', 'lat_0':'lat', 'forecast_time0':'time'})\n",
    "ds"
   ]
  },
  {
   "cell_type": "code",
   "execution_count": 30,
   "metadata": {},
   "outputs": [
    {
     "data": {
      "text/plain": [
       "<xarray.Dataset>\n",
       "Dimensions:  (lat: 181, lon: 360, time: 35)\n",
       "Coordinates:\n",
       "  * time     (time) float64 0.5 1.5 2.5 3.5 4.5 5.5 6.5 7.5 8.5 9.5 10.5 ...\n",
       "  * lon      (lon) float32 0.0 1.0 2.0 3.0 4.0 5.0 6.0 7.0 8.0 9.0 10.0 11.0 ...\n",
       "  * lat      (lat) float32 90.0 89.0 88.0 87.0 86.0 85.0 84.0 83.0 82.0 81.0 ...\n",
       "Data variables:\n",
       "    pr       (time, lat, lon) float32 ..."
      ]
     },
     "execution_count": 30,
     "metadata": {},
     "output_type": "execute_result"
    }
   ],
   "source": [
    "ds.coords['time']=np.arange(0.5,35.5)\n",
    "ds"
   ]
  },
  {
   "cell_type": "markdown",
   "metadata": {},
   "source": [
    "###  The start time is at 00z the lead times at 12z - \n",
    "### in this grib file tho the timedelta is the wrong quantity and magnitude. so I have to overwrite that"
   ]
  },
  {
   "cell_type": "code",
   "execution_count": 8,
   "metadata": {},
   "outputs": [],
   "source": [
    "def ppf2(ds):\n",
    "    ds.coords['forecast_time0'] = \n",
    "    ds.coords['S'] = 'S', np.atleast_1d(ds.time[0].values - np.timedelta64(12, 'h'))\n",
    "    ds.rename({'time':'L'}, inplace=True)\n",
    "    ds.coords['L']=((ds.L-ds.S)/ np.timedelta64(1,'D')).squeeze()\n",
    "    ds = ds.sel(lat=slice(32,42),lon=slice(-103+360,-90+360))\n",
    "    return ds"
   ]
  },
  {
   "cell_type": "code",
   "execution_count": 9,
   "metadata": {},
   "outputs": [],
   "source": [
    "import os\n"
   ]
  },
  {
   "cell_type": "code",
   "execution_count": null,
   "metadata": {},
   "outputs": [],
   "source": [
    "\"/Data2/SubX/ESRL/fim199901/\"\n",
    "\"/Data2/SubX/ESRL/fim199901/pr_sfc_FIM_06jan1999_00z_d01_d32_m01.nc\" #precip\n",
    "\"/Data2/SubX/ESRL/fim199901/tas_2m_FIM_06jan1999_00z_d01_d32_m01.nc\" #air temp\n",
    "\"/Data2/SubX/ESRL/fim199901/tdps_2m_FIM_06jan1999_00z_d01_d32_m02.nc\" #dew point\n",
    "#no cape available\n",
    "'/Data2/SubX/ESRL/fim'+np.str(iy)+'0'+np.str(6)+'/'+varname+'_*_m0'+np.str(ensnum)+'.nc'\n",
    "'/Data2/SubX/ESRL/fim'+np.str(iy)+'0'+np.str(7)+'/'+varname+'_*_m0'+np.str(ensnum)+'.nc'\n",
    "'/Data2/SubX/ESRL/fim'+np.str(iy)+'0'+np.str(8)+'/'+varname+'_*_m0'+np.str(ensnum)+'.nc'"
   ]
  },
  {
   "cell_type": "code",
   "execution_count": 11,
   "metadata": {},
   "outputs": [
    {
     "name": "stdout",
     "output_type": "stream",
     "text": [
      "/Data2/SubX/ESRL/fim199906/pr_sfc_*_m01.nc\n",
      "/Data2/SubX/ESRL/fim199907/pr_sfc_*_m01.nc\n",
      "/Data2/SubX/ESRL/fim199908/pr_sfc_*_m01.nc\n",
      "/Data2/SubX/ESRL/fim199906/pr_sfc_*_m02.nc\n",
      "/Data2/SubX/ESRL/fim199907/pr_sfc_*_m02.nc\n",
      "/Data2/SubX/ESRL/fim199908/pr_sfc_*_m02.nc\n",
      "/Data2/SubX/ESRL/fim199906/pr_sfc_*_m03.nc\n",
      "/Data2/SubX/ESRL/fim199907/pr_sfc_*_m03.nc\n",
      "/Data2/SubX/ESRL/fim199908/pr_sfc_*_m03.nc\n",
      "/Data2/SubX/ESRL/fim199906/pr_sfc_*_m04.nc\n",
      "/Data2/SubX/ESRL/fim199907/pr_sfc_*_m04.nc\n",
      "/Data2/SubX/ESRL/fim199908/pr_sfc_*_m04.nc\n",
      "/Data2/SubX/ESRL/fim200006/pr_sfc_*_m01.nc\n",
      "/Data2/SubX/ESRL/fim200007/pr_sfc_*_m01.nc\n",
      "/Data2/SubX/ESRL/fim200008/pr_sfc_*_m01.nc\n",
      "/Data2/SubX/ESRL/fim200006/pr_sfc_*_m02.nc\n",
      "/Data2/SubX/ESRL/fim200007/pr_sfc_*_m02.nc\n",
      "/Data2/SubX/ESRL/fim200008/pr_sfc_*_m02.nc\n",
      "/Data2/SubX/ESRL/fim200006/pr_sfc_*_m03.nc\n",
      "/Data2/SubX/ESRL/fim200007/pr_sfc_*_m03.nc\n",
      "/Data2/SubX/ESRL/fim200008/pr_sfc_*_m03.nc\n",
      "/Data2/SubX/ESRL/fim200006/pr_sfc_*_m04.nc\n",
      "/Data2/SubX/ESRL/fim200007/pr_sfc_*_m04.nc\n",
      "/Data2/SubX/ESRL/fim200008/pr_sfc_*_m04.nc\n",
      "/Data2/SubX/ESRL/fim200106/pr_sfc_*_m01.nc\n",
      "/Data2/SubX/ESRL/fim200107/pr_sfc_*_m01.nc\n",
      "/Data2/SubX/ESRL/fim200108/pr_sfc_*_m01.nc\n",
      "/Data2/SubX/ESRL/fim200106/pr_sfc_*_m02.nc\n",
      "/Data2/SubX/ESRL/fim200107/pr_sfc_*_m02.nc\n",
      "/Data2/SubX/ESRL/fim200108/pr_sfc_*_m02.nc\n",
      "/Data2/SubX/ESRL/fim200106/pr_sfc_*_m03.nc\n",
      "/Data2/SubX/ESRL/fim200107/pr_sfc_*_m03.nc\n",
      "/Data2/SubX/ESRL/fim200108/pr_sfc_*_m03.nc\n",
      "/Data2/SubX/ESRL/fim200106/pr_sfc_*_m04.nc\n",
      "/Data2/SubX/ESRL/fim200107/pr_sfc_*_m04.nc\n",
      "/Data2/SubX/ESRL/fim200108/pr_sfc_*_m04.nc\n",
      "/Data2/SubX/ESRL/fim200206/pr_sfc_*_m01.nc\n",
      "/Data2/SubX/ESRL/fim200207/pr_sfc_*_m01.nc\n",
      "/Data2/SubX/ESRL/fim200208/pr_sfc_*_m01.nc\n",
      "/Data2/SubX/ESRL/fim200206/pr_sfc_*_m02.nc\n",
      "/Data2/SubX/ESRL/fim200207/pr_sfc_*_m02.nc\n",
      "/Data2/SubX/ESRL/fim200208/pr_sfc_*_m02.nc\n",
      "/Data2/SubX/ESRL/fim200206/pr_sfc_*_m03.nc\n",
      "/Data2/SubX/ESRL/fim200207/pr_sfc_*_m03.nc\n",
      "/Data2/SubX/ESRL/fim200208/pr_sfc_*_m03.nc\n",
      "/Data2/SubX/ESRL/fim200206/pr_sfc_*_m04.nc\n",
      "/Data2/SubX/ESRL/fim200207/pr_sfc_*_m04.nc\n",
      "/Data2/SubX/ESRL/fim200208/pr_sfc_*_m04.nc\n",
      "/Data2/SubX/ESRL/fim200306/pr_sfc_*_m01.nc\n",
      "/Data2/SubX/ESRL/fim200307/pr_sfc_*_m01.nc\n",
      "/Data2/SubX/ESRL/fim200308/pr_sfc_*_m01.nc\n",
      "/Data2/SubX/ESRL/fim200306/pr_sfc_*_m02.nc\n",
      "/Data2/SubX/ESRL/fim200307/pr_sfc_*_m02.nc\n",
      "/Data2/SubX/ESRL/fim200308/pr_sfc_*_m02.nc\n",
      "/Data2/SubX/ESRL/fim200306/pr_sfc_*_m03.nc\n",
      "/Data2/SubX/ESRL/fim200307/pr_sfc_*_m03.nc\n",
      "/Data2/SubX/ESRL/fim200308/pr_sfc_*_m03.nc\n",
      "/Data2/SubX/ESRL/fim200306/pr_sfc_*_m04.nc\n",
      "/Data2/SubX/ESRL/fim200307/pr_sfc_*_m04.nc\n",
      "/Data2/SubX/ESRL/fim200308/pr_sfc_*_m04.nc\n",
      "/Data2/SubX/ESRL/fim200406/pr_sfc_*_m01.nc\n",
      "/Data2/SubX/ESRL/fim200407/pr_sfc_*_m01.nc\n",
      "/Data2/SubX/ESRL/fim200408/pr_sfc_*_m01.nc\n",
      "/Data2/SubX/ESRL/fim200406/pr_sfc_*_m02.nc\n",
      "/Data2/SubX/ESRL/fim200407/pr_sfc_*_m02.nc\n",
      "/Data2/SubX/ESRL/fim200408/pr_sfc_*_m02.nc\n",
      "/Data2/SubX/ESRL/fim200406/pr_sfc_*_m03.nc\n",
      "/Data2/SubX/ESRL/fim200407/pr_sfc_*_m03.nc\n",
      "/Data2/SubX/ESRL/fim200408/pr_sfc_*_m03.nc\n",
      "/Data2/SubX/ESRL/fim200406/pr_sfc_*_m04.nc\n",
      "/Data2/SubX/ESRL/fim200407/pr_sfc_*_m04.nc\n",
      "/Data2/SubX/ESRL/fim200408/pr_sfc_*_m04.nc\n",
      "/Data2/SubX/ESRL/fim200506/pr_sfc_*_m01.nc\n",
      "/Data2/SubX/ESRL/fim200507/pr_sfc_*_m01.nc\n",
      "/Data2/SubX/ESRL/fim200508/pr_sfc_*_m01.nc\n",
      "/Data2/SubX/ESRL/fim200506/pr_sfc_*_m02.nc\n",
      "/Data2/SubX/ESRL/fim200507/pr_sfc_*_m02.nc\n",
      "/Data2/SubX/ESRL/fim200508/pr_sfc_*_m02.nc\n",
      "/Data2/SubX/ESRL/fim200506/pr_sfc_*_m03.nc\n",
      "/Data2/SubX/ESRL/fim200507/pr_sfc_*_m03.nc\n",
      "/Data2/SubX/ESRL/fim200508/pr_sfc_*_m03.nc\n",
      "/Data2/SubX/ESRL/fim200506/pr_sfc_*_m04.nc\n",
      "/Data2/SubX/ESRL/fim200507/pr_sfc_*_m04.nc\n",
      "/Data2/SubX/ESRL/fim200508/pr_sfc_*_m04.nc\n",
      "/Data2/SubX/ESRL/fim200606/pr_sfc_*_m01.nc\n",
      "/Data2/SubX/ESRL/fim200607/pr_sfc_*_m01.nc\n",
      "/Data2/SubX/ESRL/fim200608/pr_sfc_*_m01.nc\n",
      "/Data2/SubX/ESRL/fim200606/pr_sfc_*_m02.nc\n",
      "/Data2/SubX/ESRL/fim200607/pr_sfc_*_m02.nc\n",
      "/Data2/SubX/ESRL/fim200608/pr_sfc_*_m02.nc\n",
      "/Data2/SubX/ESRL/fim200606/pr_sfc_*_m03.nc\n",
      "/Data2/SubX/ESRL/fim200607/pr_sfc_*_m03.nc\n",
      "/Data2/SubX/ESRL/fim200608/pr_sfc_*_m03.nc\n",
      "/Data2/SubX/ESRL/fim200606/pr_sfc_*_m04.nc\n",
      "/Data2/SubX/ESRL/fim200607/pr_sfc_*_m04.nc\n",
      "/Data2/SubX/ESRL/fim200608/pr_sfc_*_m04.nc\n",
      "/Data2/SubX/ESRL/fim200706/pr_sfc_*_m01.nc\n",
      "/Data2/SubX/ESRL/fim200707/pr_sfc_*_m01.nc\n",
      "/Data2/SubX/ESRL/fim200708/pr_sfc_*_m01.nc\n",
      "/Data2/SubX/ESRL/fim200706/pr_sfc_*_m02.nc\n",
      "/Data2/SubX/ESRL/fim200707/pr_sfc_*_m02.nc\n",
      "/Data2/SubX/ESRL/fim200708/pr_sfc_*_m02.nc\n",
      "/Data2/SubX/ESRL/fim200706/pr_sfc_*_m03.nc\n",
      "/Data2/SubX/ESRL/fim200707/pr_sfc_*_m03.nc\n",
      "/Data2/SubX/ESRL/fim200708/pr_sfc_*_m03.nc\n",
      "/Data2/SubX/ESRL/fim200706/pr_sfc_*_m04.nc\n",
      "/Data2/SubX/ESRL/fim200707/pr_sfc_*_m04.nc\n",
      "/Data2/SubX/ESRL/fim200708/pr_sfc_*_m04.nc\n",
      "/Data2/SubX/ESRL/fim200806/pr_sfc_*_m01.nc\n",
      "/Data2/SubX/ESRL/fim200807/pr_sfc_*_m01.nc\n",
      "/Data2/SubX/ESRL/fim200808/pr_sfc_*_m01.nc\n",
      "/Data2/SubX/ESRL/fim200806/pr_sfc_*_m02.nc\n",
      "/Data2/SubX/ESRL/fim200807/pr_sfc_*_m02.nc\n",
      "/Data2/SubX/ESRL/fim200808/pr_sfc_*_m02.nc\n",
      "/Data2/SubX/ESRL/fim200806/pr_sfc_*_m03.nc\n",
      "/Data2/SubX/ESRL/fim200807/pr_sfc_*_m03.nc\n",
      "/Data2/SubX/ESRL/fim200808/pr_sfc_*_m03.nc\n",
      "/Data2/SubX/ESRL/fim200806/pr_sfc_*_m04.nc\n",
      "/Data2/SubX/ESRL/fim200807/pr_sfc_*_m04.nc\n",
      "/Data2/SubX/ESRL/fim200808/pr_sfc_*_m04.nc\n",
      "/Data2/SubX/ESRL/fim200906/pr_sfc_*_m01.nc\n",
      "/Data2/SubX/ESRL/fim200907/pr_sfc_*_m01.nc\n",
      "/Data2/SubX/ESRL/fim200908/pr_sfc_*_m01.nc\n",
      "/Data2/SubX/ESRL/fim200906/pr_sfc_*_m02.nc\n",
      "/Data2/SubX/ESRL/fim200907/pr_sfc_*_m02.nc\n",
      "/Data2/SubX/ESRL/fim200908/pr_sfc_*_m02.nc\n",
      "/Data2/SubX/ESRL/fim200906/pr_sfc_*_m03.nc\n",
      "/Data2/SubX/ESRL/fim200907/pr_sfc_*_m03.nc\n",
      "/Data2/SubX/ESRL/fim200908/pr_sfc_*_m03.nc\n",
      "/Data2/SubX/ESRL/fim200906/pr_sfc_*_m04.nc\n",
      "/Data2/SubX/ESRL/fim200907/pr_sfc_*_m04.nc\n",
      "/Data2/SubX/ESRL/fim200908/pr_sfc_*_m04.nc\n",
      "/Data2/SubX/ESRL/fim201006/pr_sfc_*_m01.nc\n",
      "/Data2/SubX/ESRL/fim201007/pr_sfc_*_m01.nc\n",
      "/Data2/SubX/ESRL/fim201008/pr_sfc_*_m01.nc\n",
      "/Data2/SubX/ESRL/fim201006/pr_sfc_*_m02.nc\n",
      "/Data2/SubX/ESRL/fim201007/pr_sfc_*_m02.nc\n",
      "/Data2/SubX/ESRL/fim201008/pr_sfc_*_m02.nc\n",
      "/Data2/SubX/ESRL/fim201006/pr_sfc_*_m03.nc\n",
      "/Data2/SubX/ESRL/fim201007/pr_sfc_*_m03.nc\n",
      "/Data2/SubX/ESRL/fim201008/pr_sfc_*_m03.nc\n",
      "/Data2/SubX/ESRL/fim201006/pr_sfc_*_m04.nc\n",
      "/Data2/SubX/ESRL/fim201007/pr_sfc_*_m04.nc\n",
      "/Data2/SubX/ESRL/fim201008/pr_sfc_*_m04.nc\n",
      "/Data2/SubX/ESRL/fim201106/pr_sfc_*_m01.nc\n",
      "/Data2/SubX/ESRL/fim201107/pr_sfc_*_m01.nc\n",
      "/Data2/SubX/ESRL/fim201108/pr_sfc_*_m01.nc\n",
      "/Data2/SubX/ESRL/fim201106/pr_sfc_*_m02.nc\n",
      "/Data2/SubX/ESRL/fim201107/pr_sfc_*_m02.nc\n",
      "/Data2/SubX/ESRL/fim201108/pr_sfc_*_m02.nc\n",
      "/Data2/SubX/ESRL/fim201106/pr_sfc_*_m03.nc\n",
      "/Data2/SubX/ESRL/fim201107/pr_sfc_*_m03.nc\n",
      "/Data2/SubX/ESRL/fim201108/pr_sfc_*_m03.nc\n",
      "/Data2/SubX/ESRL/fim201106/pr_sfc_*_m04.nc\n",
      "/Data2/SubX/ESRL/fim201107/pr_sfc_*_m04.nc\n",
      "/Data2/SubX/ESRL/fim201108/pr_sfc_*_m04.nc\n",
      "/Data2/SubX/ESRL/fim201206/pr_sfc_*_m01.nc\n",
      "/Data2/SubX/ESRL/fim201207/pr_sfc_*_m01.nc\n",
      "/Data2/SubX/ESRL/fim201208/pr_sfc_*_m01.nc\n",
      "/Data2/SubX/ESRL/fim201206/pr_sfc_*_m02.nc\n",
      "/Data2/SubX/ESRL/fim201207/pr_sfc_*_m02.nc\n",
      "/Data2/SubX/ESRL/fim201208/pr_sfc_*_m02.nc\n",
      "/Data2/SubX/ESRL/fim201206/pr_sfc_*_m03.nc\n",
      "/Data2/SubX/ESRL/fim201207/pr_sfc_*_m03.nc\n",
      "/Data2/SubX/ESRL/fim201208/pr_sfc_*_m03.nc\n",
      "/Data2/SubX/ESRL/fim201206/pr_sfc_*_m04.nc\n",
      "/Data2/SubX/ESRL/fim201207/pr_sfc_*_m04.nc\n",
      "/Data2/SubX/ESRL/fim201208/pr_sfc_*_m04.nc\n",
      "/Data2/SubX/ESRL/fim201306/pr_sfc_*_m01.nc\n",
      "/Data2/SubX/ESRL/fim201307/pr_sfc_*_m01.nc\n",
      "/Data2/SubX/ESRL/fim201308/pr_sfc_*_m01.nc\n",
      "/Data2/SubX/ESRL/fim201306/pr_sfc_*_m02.nc\n",
      "/Data2/SubX/ESRL/fim201307/pr_sfc_*_m02.nc\n",
      "/Data2/SubX/ESRL/fim201308/pr_sfc_*_m02.nc\n",
      "/Data2/SubX/ESRL/fim201306/pr_sfc_*_m03.nc\n",
      "/Data2/SubX/ESRL/fim201307/pr_sfc_*_m03.nc\n",
      "/Data2/SubX/ESRL/fim201308/pr_sfc_*_m03.nc\n",
      "/Data2/SubX/ESRL/fim201306/pr_sfc_*_m04.nc\n",
      "/Data2/SubX/ESRL/fim201307/pr_sfc_*_m04.nc\n",
      "/Data2/SubX/ESRL/fim201308/pr_sfc_*_m04.nc\n",
      "/Data2/SubX/ESRL/fim201406/pr_sfc_*_m01.nc\n",
      "/Data2/SubX/ESRL/fim201407/pr_sfc_*_m01.nc\n",
      "/Data2/SubX/ESRL/fim201408/pr_sfc_*_m01.nc\n",
      "/Data2/SubX/ESRL/fim201406/pr_sfc_*_m02.nc\n",
      "/Data2/SubX/ESRL/fim201407/pr_sfc_*_m02.nc\n",
      "/Data2/SubX/ESRL/fim201408/pr_sfc_*_m02.nc\n",
      "/Data2/SubX/ESRL/fim201406/pr_sfc_*_m03.nc\n",
      "/Data2/SubX/ESRL/fim201407/pr_sfc_*_m03.nc\n",
      "/Data2/SubX/ESRL/fim201408/pr_sfc_*_m03.nc\n",
      "/Data2/SubX/ESRL/fim201406/pr_sfc_*_m04.nc\n",
      "/Data2/SubX/ESRL/fim201407/pr_sfc_*_m04.nc\n",
      "/Data2/SubX/ESRL/fim201408/pr_sfc_*_m04.nc\n"
     ]
    }
   ],
   "source": [
    "varname = 'pr_sfc'\n",
    "ds_Y = []\n",
    "for iy in np.arange(1999, 2015):\n",
    "    ds_M = []\n",
    "    for ensnum in np.arange(1,5):\n",
    "        print ('/Data2/SubX/ESRL/fim'+np.str(iy)+'0'+np.str(6)+'/'+varname+'_*_m0'+np.str(ensnum)+'.nc')\n",
    "        print ('/Data2/SubX/ESRL/fim'+np.str(iy)+'0'+np.str(7)+'/'+varname+'_*_m0'+np.str(ensnum)+'.nc')\n",
    "        print ('/Data2/SubX/ESRL/fim'+np.str(iy)+'0'+np.str(8)+'/'+varname+'_*_m0'+np.str(ensnum)+'.nc')\n"
   ]
  },
  {
   "cell_type": "code",
   "execution_count": 13,
   "metadata": {
    "scrolled": true
   },
   "outputs": [
    {
     "data": {
      "text/plain": [
       "<xarray.DataArray 'S' (S: 210)>\n",
       "array(['1999-06-02T00:00:00.000000000', '1999-06-09T00:00:00.000000000',\n",
       "       '1999-06-16T00:00:00.000000000', ..., '2014-08-13T00:00:00.000000000',\n",
       "       '2014-08-20T00:00:00.000000000', '2014-08-27T00:00:00.000000000'], dtype='datetime64[ns]')\n",
       "Coordinates:\n",
       "  * S        (S) datetime64[ns] 1999-06-02 1999-06-09 1999-06-16 1999-06-23 ..."
      ]
     },
     "execution_count": 13,
     "metadata": {},
     "output_type": "execute_result"
    }
   ],
   "source": [
    "varname = 'pr_sfc'\n",
    "ds_Y = []\n",
    "for iy in np.arange(1999, 2015):\n",
    "    ds_M = []\n",
    "    for ensnum in np.arange(1,5):\n",
    "        mylist = glob.glob('/Data2/SubX/ESRL/fim'+np.str(iy)+'0'+np.str(6)+'/'+varname+'_*_m0'+np.str(ensnum)+'.nc') \n",
    "        pr_S=xr.open_mfdataset(mylist, concat_dim='S', preprocess=ppf2, autoclose=True)\n",
    "        pr_S.coords['M'] = 'M', np.atleast_1d(ensnum)\n",
    "\n",
    "        ds_M.append(pr_S)\n",
    "        del pr_S\n",
    "        mylist = glob.glob('/Data2/SubX/ESRL/fim'+np.str(iy)+'0'+np.str(7)+'/'+varname+'_*_m0'+np.str(ensnum)+'.nc') \n",
    "        pr_S=xr.open_mfdataset(mylist, concat_dim='S', preprocess=ppf2, autoclose=True)\n",
    "        pr_S.coords['M'] = 'M', np.atleast_1d(ensnum)\n",
    "        ds_M.append(pr_S)\n",
    "        del pr_S\n",
    "        mylist = glob.glob('/Data2/SubX/ESRL/fim'+np.str(iy)+'0'+np.str(8)+'/'+varname+'_*_m0'+np.str(ensnum)+'.nc') \n",
    "        pr_S=xr.open_mfdataset(mylist, concat_dim='S', preprocess=ppf2, autoclose=True)\n",
    "        pr_S.coords['M'] = 'M', np.atleast_1d(ensnum)\n",
    "        ds_M.append(pr_S)\n",
    "        del pr_S\n",
    "    ds_all = xr.concat(ds_M, dim='M')\n",
    "    del ds_M\n",
    "    ds_Y.append(ds_all)\n",
    "del ds_all\n",
    "ds_allpr = xr.concat(ds_Y, dim='S')\n",
    "del ds_Y\n",
    "ds_allpr.S\n"
   ]
  },
  {
   "cell_type": "code",
   "execution_count": 14,
   "metadata": {},
   "outputs": [
    {
     "name": "stdout",
     "output_type": "stream",
     "text": [
      "0.049676472\n"
     ]
    },
    {
     "data": {
      "text/plain": [
       "<xarray.DataArray 'S' (S: 210)>\n",
       "array(['1999-06-02T00:00:00.000000000', '1999-06-09T00:00:00.000000000',\n",
       "       '1999-06-16T00:00:00.000000000', ..., '2014-08-13T00:00:00.000000000',\n",
       "       '2014-08-20T00:00:00.000000000', '2014-08-27T00:00:00.000000000'], dtype='datetime64[ns]')\n",
       "Coordinates:\n",
       "  * S        (S) datetime64[ns] 1999-06-02 1999-06-09 1999-06-16 1999-06-23 ..."
      ]
     },
     "execution_count": 14,
     "metadata": {},
     "output_type": "execute_result"
    }
   ],
   "source": [
    "varname = 'tas_2m'\n",
    "ds_Y = []\n",
    "for iy in np.arange(1999, 2015):\n",
    "    ds_M = []\n",
    "    for ensnum in np.arange(1,5):\n",
    "        mylist = glob.glob('/Data2/SubX/ESRL/fim'+np.str(iy)+'0'+np.str(6)+'/'+varname+'_*_m0'+np.str(ensnum)+'.nc') \n",
    "        pr_S=xr.open_mfdataset(mylist, concat_dim='S', preprocess=ppf2, autoclose=True)\n",
    "        pr_S.coords['M'] = 'M', np.atleast_1d(ensnum)\n",
    "\n",
    "        ds_M.append(pr_S)\n",
    "        del pr_S\n",
    "        mylist = glob.glob('/Data2/SubX/ESRL/fim'+np.str(iy)+'0'+np.str(7)+'/'+varname+'_*_m0'+np.str(ensnum)+'.nc') \n",
    "        pr_S=xr.open_mfdataset(mylist, concat_dim='S', preprocess=ppf2, autoclose=True)\n",
    "        pr_S.coords['M'] = 'M', np.atleast_1d(ensnum)\n",
    "        ds_M.append(pr_S)\n",
    "        del pr_S\n",
    "        mylist = glob.glob('/Data2/SubX/ESRL/fim'+np.str(iy)+'0'+np.str(8)+'/'+varname+'_*_m0'+np.str(ensnum)+'.nc') \n",
    "        pr_S=xr.open_mfdataset(mylist, concat_dim='S', preprocess=ppf2, autoclose=True)\n",
    "        pr_S.coords['M'] = 'M', np.atleast_1d(ensnum)\n",
    "        ds_M.append(pr_S)\n",
    "        del pr_S\n",
    "    ds_all = xr.concat(ds_M, dim='M')\n",
    "    del ds_M\n",
    "    ds_Y.append(ds_all)\n",
    "del ds_all\n",
    "ds_alltas_2m = xr.concat(ds_Y, dim='S')\n",
    "del ds_Y\n",
    "print ds_alltas_2m.nbytes/1e9\n",
    "ds_alltas_2m.S"
   ]
  },
  {
   "cell_type": "code",
   "execution_count": 15,
   "metadata": {},
   "outputs": [
    {
     "name": "stdout",
     "output_type": "stream",
     "text": [
      "0.049676472\n"
     ]
    },
    {
     "data": {
      "text/plain": [
       "<xarray.DataArray 'S' (S: 210)>\n",
       "array(['1999-06-02T00:00:00.000000000', '1999-06-09T00:00:00.000000000',\n",
       "       '1999-06-16T00:00:00.000000000', ..., '2014-08-13T00:00:00.000000000',\n",
       "       '2014-08-20T00:00:00.000000000', '2014-08-27T00:00:00.000000000'], dtype='datetime64[ns]')\n",
       "Coordinates:\n",
       "  * S        (S) datetime64[ns] 1999-06-02 1999-06-09 1999-06-16 1999-06-23 ..."
      ]
     },
     "execution_count": 15,
     "metadata": {},
     "output_type": "execute_result"
    }
   ],
   "source": [
    "varname = 'tdps_2m'\n",
    "ds_Y = []\n",
    "for iy in np.arange(1999, 2015):\n",
    "    ds_M = []\n",
    "    for ensnum in np.arange(1,5):\n",
    "        mylist = glob.glob('/Data2/SubX/ESRL/fim'+np.str(iy)+'0'+np.str(6)+'/'+varname+'_*_m0'+np.str(ensnum)+'.nc') \n",
    "        pr_S=xr.open_mfdataset(mylist, concat_dim='S', preprocess=ppf2, autoclose=True)\n",
    "        pr_S.coords['M'] = 'M', np.atleast_1d(ensnum)\n",
    "\n",
    "        ds_M.append(pr_S)\n",
    "        del pr_S\n",
    "        mylist = glob.glob('/Data2/SubX/ESRL/fim'+np.str(iy)+'0'+np.str(7)+'/'+varname+'_*_m0'+np.str(ensnum)+'.nc') \n",
    "        pr_S=xr.open_mfdataset(mylist, concat_dim='S', preprocess=ppf2, autoclose=True)\n",
    "        pr_S.coords['M'] = 'M', np.atleast_1d(ensnum)\n",
    "        ds_M.append(pr_S)\n",
    "        del pr_S\n",
    "        mylist = glob.glob('/Data2/SubX/ESRL/fim'+np.str(iy)+'0'+np.str(8)+'/'+varname+'_*_m0'+np.str(ensnum)+'.nc') \n",
    "        pr_S=xr.open_mfdataset(mylist, concat_dim='S', preprocess=ppf2, autoclose=True)\n",
    "        pr_S.coords['M'] = 'M', np.atleast_1d(ensnum)\n",
    "        ds_M.append(pr_S)\n",
    "        del pr_S\n",
    "    ds_all = xr.concat(ds_M, dim='M')\n",
    "    del ds_M\n",
    "    ds_Y.append(ds_all)\n",
    "del ds_all\n",
    "ds_alltdps_2m = xr.concat(ds_Y, dim='S')\n",
    "del ds_Y\n",
    "print ds_alltdps_2m.nbytes/1e9\n",
    "ds_alltdps_2m.S"
   ]
  },
  {
   "cell_type": "code",
   "execution_count": 16,
   "metadata": {},
   "outputs": [
    {
     "name": "stdout",
     "output_type": "stream",
     "text": [
      "Variable        Type        Data/Info\n",
      "-------------------------------------\n",
      "Nio             module      <module 'Nio' from '/home<...>-packages/PyNIO/Nio.pyc'>\n",
      "calendar        module      <module 'calendar' from '<...>/python2.7/calendar.pyc'>\n",
      "date            type        <type 'datetime.date'>\n",
      "datetime        type        <type 'datetime.datetime'>\n",
      "ds              Dataset     <xarray.Dataset>\\nDimensi<...>O:                  4.4.5\n",
      "ds_allpr        Dataset     <xarray.Dataset>\\nDimensi<...>O:                  4.4.5\n",
      "ds_alltas_2m    Dataset     <xarray.Dataset>\\nDimensi<...>O:                  4.4.5\n",
      "ds_alltdps_2m   Dataset     <xarray.Dataset>\\nDimensi<...>O:                  4.4.5\n",
      "ensnum          int64       4\n",
      "glob            module      <module 'glob' from '/hom<...>/lib/python2.7/glob.pyc'>\n",
      "iy              int64       2014\n",
      "mylist          list        n=4\n",
      "np              module      <module 'numpy' from '/ho<...>ages/numpy/__init__.pyc'>\n",
      "os              module      <module 'os' from '/home/<...>_7/lib/python2.7/os.pyc'>\n",
      "pd              module      <module 'pandas' from '/h<...>ges/pandas/__init__.pyc'>\n",
      "plt             module      <module 'matplotlib.pyplo<...>s/matplotlib/pyplot.pyc'>\n",
      "ppf2            function    <function ppf2 at 0x7f54116c8758>\n",
      "timedelta       type        <type 'datetime.timedelta'>\n",
      "varname         str         tdps_2m\n",
      "xr              module      <module 'xarray' from '/h<...>ges/xarray/__init__.pyc'>\n"
     ]
    }
   ],
   "source": [
    "whos\n"
   ]
  },
  {
   "cell_type": "markdown",
   "metadata": {},
   "source": [
    "# MERGE THEM IN ONE DATAARRAY"
   ]
  },
  {
   "cell_type": "code",
   "execution_count": 18,
   "metadata": {},
   "outputs": [
    {
     "data": {
      "text/plain": [
       "<xarray.Dataset>\n",
       "Dimensions:  (L: 32, M: 12, S: 210, lat: 11, lon: 14)\n",
       "Coordinates:\n",
       "  * L        (L) float64 0.5 1.5 2.5 3.5 4.5 5.5 6.5 7.5 8.5 9.5 10.5 11.5 ...\n",
       "  * lat      (lat) float64 32.0 33.0 34.0 35.0 36.0 37.0 38.0 39.0 40.0 41.0 ...\n",
       "  * lon      (lon) float64 257.0 258.0 259.0 260.0 261.0 262.0 263.0 264.0 ...\n",
       "  * M        (M) int64 1 1 1 2 2 2 3 3 3 4 4 4\n",
       "  * S        (S) datetime64[ns] 1999-06-02 1999-06-09 1999-06-16 1999-06-23 ...\n",
       "Data variables:\n",
       "    pr       (M, S, L, lat, lon) float32 dask.array<shape=(12, 210, 32, 11, 14), chunksize=(1, 1, 32, 11, 14)>\n",
       "    tas      (M, S, L, lat, lon) float32 dask.array<shape=(12, 210, 32, 11, 14), chunksize=(1, 1, 32, 11, 14)>\n",
       "Attributes:\n",
       "    Created_by:           fim2nc\n",
       "    Created_at_yyyymmdd:  20160913\n",
       "    Created_at_hhmmss:    004106\n",
       "    GMT_offset:           -0000\n",
       "    ncout.F90_rev:        $Rev$\n",
       "    case:                 fim\n",
       "    model:                fim\n",
       "    levels:               L64\n",
       "    native_grid:          hex\n",
       "    equation:             hydro\n",
       "    description:          none\n",
       "    interp:               True\n",
       "    interp_method:        bilinear\n",
       "    real_kind:            4\n",
       "    ArchvTimeUnit:        hr\n",
       "    ArchvIntvl:           6\n",
       "    fixedgridorder:       False\n",
       "    history:              Tue Sep 13 00:45:24 2016: ncks -A pv.nc nopv2.nc\\nT...\n",
       "    NCO:                  4.4.5"
      ]
     },
     "execution_count": 18,
     "metadata": {},
     "output_type": "execute_result"
    }
   ],
   "source": [
    "ds_allpr.merge(ds_alltas_2m, inplace=True)"
   ]
  },
  {
   "cell_type": "code",
   "execution_count": 19,
   "metadata": {},
   "outputs": [
    {
     "data": {
      "text/plain": [
       "<xarray.Dataset>\n",
       "Dimensions:  (L: 32, M: 12, S: 210, lat: 11, lon: 14)\n",
       "Coordinates:\n",
       "  * L        (L) float64 0.5 1.5 2.5 3.5 4.5 5.5 6.5 7.5 8.5 9.5 10.5 11.5 ...\n",
       "  * lat      (lat) float64 32.0 33.0 34.0 35.0 36.0 37.0 38.0 39.0 40.0 41.0 ...\n",
       "  * lon      (lon) float64 257.0 258.0 259.0 260.0 261.0 262.0 263.0 264.0 ...\n",
       "  * M        (M) int64 1 1 1 2 2 2 3 3 3 4 4 4\n",
       "  * S        (S) datetime64[ns] 1999-06-02 1999-06-09 1999-06-16 1999-06-23 ...\n",
       "Data variables:\n",
       "    pr       (M, S, L, lat, lon) float32 dask.array<shape=(12, 210, 32, 11, 14), chunksize=(1, 1, 32, 11, 14)>\n",
       "    tas      (M, S, L, lat, lon) float32 dask.array<shape=(12, 210, 32, 11, 14), chunksize=(1, 1, 32, 11, 14)>\n",
       "    tdps     (M, S, L, lat, lon) float32 dask.array<shape=(12, 210, 32, 11, 14), chunksize=(1, 1, 32, 11, 14)>\n",
       "Attributes:\n",
       "    Created_by:           fim2nc\n",
       "    Created_at_yyyymmdd:  20160913\n",
       "    Created_at_hhmmss:    004106\n",
       "    GMT_offset:           -0000\n",
       "    ncout.F90_rev:        $Rev$\n",
       "    case:                 fim\n",
       "    model:                fim\n",
       "    levels:               L64\n",
       "    native_grid:          hex\n",
       "    equation:             hydro\n",
       "    description:          none\n",
       "    interp:               True\n",
       "    interp_method:        bilinear\n",
       "    real_kind:            4\n",
       "    ArchvTimeUnit:        hr\n",
       "    ArchvIntvl:           6\n",
       "    fixedgridorder:       False\n",
       "    history:              Tue Sep 13 00:45:24 2016: ncks -A pv.nc nopv2.nc\\nT...\n",
       "    NCO:                  4.4.5"
      ]
     },
     "execution_count": 19,
     "metadata": {},
     "output_type": "execute_result"
    }
   ],
   "source": [
    "ds_allpr.merge(ds_alltdps_2m, inplace=True)"
   ]
  },
  {
   "cell_type": "code",
   "execution_count": 20,
   "metadata": {},
   "outputs": [],
   "source": [
    "del ds_alltas_2m\n",
    "del ds_alltdps_2m\n"
   ]
  },
  {
   "cell_type": "markdown",
   "metadata": {},
   "source": [
    "# SELECT LEAD TIMES"
   ]
  },
  {
   "cell_type": "code",
   "execution_count": null,
   "metadata": {},
   "outputs": [],
   "source": [
    "week1 = ds_allpr.sel(L=slice(1.5,7.5))\n",
    "week1 = week1.stack(MSll=('M','S','lat','lon','L')).compute()\n",
    "week1"
   ]
  },
  {
   "cell_type": "code",
   "execution_count": 73,
   "metadata": {},
   "outputs": [
    {
     "data": {
      "text/plain": [
       "<xarray.Dataset>\n",
       "Dimensions:  (MSll: 4191264)\n",
       "Coordinates:\n",
       "  * MSll     (MSll) int64 0 1 2 3 4 5 6 7 8 9 10 11 12 13 14 15 16 17 18 19 ...\n",
       "Data variables:\n",
       "    pr       (MSll) float32 1.45447e-06 2.21444e-06 3.43661e-06 5.47569e-06 ...\n",
       "    cape     (MSll) float32 57.8507 880.703 385.558 643.724 681.066 1004.0 ...\n",
       "    tas      (MSll) float32 299.757 300.485 300.868 300.79 302.025 302.036 ...\n",
       "    tdps     (MSll) float32 278.036 287.18 284.541 286.013 285.089 286.543 ...\n",
       "Attributes:\n",
       "    CDI:          Climate Data Interface version 1.9.1 (http://mpimet.mpg.de/...\n",
       "    history:      Thu Jan 18 12:10:32 2018: cdo.exe -L chname,PRECTOT,pr -set...\n",
       "    Conventions:  COARDS\n",
       "    History:      File written by MAPL_CFIO\n",
       "    Title:        lena-S2S-2_1_CPLFCST20170811\n",
       "    Contact:      http://gmao.gsfc.nasa.gov\n",
       "    Institution:  NASA Global Modeling and Assimilation Office\n",
       "    References:   http://gmao.gsfc.nasa.gov\n",
       "    Comment:      lena-S2S-2_1_CPLFCST20170811\n",
       "    CDO:          Climate Data Operators version 1.9.1 (http://mpimet.mpg.de/..."
      ]
     },
     "execution_count": 73,
     "metadata": {},
     "output_type": "execute_result"
    }
   ],
   "source": [
    "week1.coords['MSll'] = np.arange(0,4191264) \n",
    "week1"
   ]
  },
  {
   "cell_type": "code",
   "execution_count": 74,
   "metadata": {},
   "outputs": [],
   "source": [
    "# plt.hist(week1.tas.values.ravel())\n",
    "\n",
    "step = 2.\n",
    "to_bin = lambda x: np.round(x / step) * step\n",
    "week1[\"tasb\"] = to_bin(week1.tas)\n",
    "# \n",
    "\n",
    "# plt.hist(week1.tasb.values.ravel(),bins=20)"
   ]
  },
  {
   "cell_type": "code",
   "execution_count": 75,
   "metadata": {},
   "outputs": [
    {
     "name": "stdout",
     "output_type": "stream",
     "text": [
      "0 (2,)\n",
      "1 (22,)\n",
      "2 (164,)\n",
      "3 (931,)\n",
      "4 (4617,)\n",
      "5 (16469,)\n",
      "6 (43533,)\n",
      "7 (87445,)\n",
      "8 (145584,)\n",
      "9 (229936,)\n",
      "10 (275846,)\n",
      "11 (260178,)\n",
      "12 (190819,)\n",
      "13 (98244,)\n",
      "14 (35159,)\n",
      "15 (7170,)\n",
      "16 (932,)\n",
      "17 (37,)\n"
     ]
    },
    {
     "data": {
      "text/plain": [
       "<xarray.Dataset>\n",
       "Dimensions:    (quantiles: 9, tasb: 18)\n",
       "Coordinates:\n",
       "  * tasb       (tasb) float64 280.0 282.0 284.0 286.0 288.0 290.0 292.0 ...\n",
       "  * quantiles  (quantiles) float64 75.0 85.0 95.0 99.0 99.1 99.5 99.9 99.95 ...\n",
       "Data variables:\n",
       "    pr         (tasb) float64 3.158e-05 0.0003874 0.0007239 0.0009821 ...\n",
       "    pr_q       (quantiles, tasb) float64 0.0 0.0 0.0 0.0001309 9.473e-05 ..."
      ]
     },
     "execution_count": 75,
     "metadata": {},
     "output_type": "execute_result"
    }
   ],
   "source": [
    "grouped1 = week1[['pr','tasb']].groupby('tasb')\n",
    "ds_group = grouped1.max()\n",
    "ds_group.coords['quantiles'] = np.array([75,85,95,99,99.1,99.5,99.9,99.95,99.99])\n",
    "ds_group['pr_q'] = (('quantiles','tasb'), np.zeros((len(ds_group.quantiles.values),len(ds_group.tasb.values)))) \n",
    "for iim, (k, gp) in enumerate(grouped1):\n",
    "    print iim,gp.pr.shape\n",
    "    if gp.pr.shape[0]>500:\n",
    "        var = np.nanpercentile(gp.pr.values, q=[75,85,95,99,99.1,99.5,99.9,99.95,99.99])\n",
    "#         ind_x = xr.DataArray([0, iim], dims=['x'])\n",
    "        ds_group['pr_q'].loc[dict(tasb=k)] = var\n",
    "\n",
    "ds_group\n"
   ]
  },
  {
   "cell_type": "code",
   "execution_count": 76,
   "metadata": {},
   "outputs": [
    {
     "data": {
      "image/png": "[encoded data removed]",
      "text/plain": [
       "<matplotlib.figure.Figure at 0x7f3735124150>"
      ]
     },
     "metadata": {},
     "output_type": "display_data"
    }
   ],
   "source": [
    "plt.plot(ds_group.tasb,np.log(ds_group.pr_q.T),'o-')\n",
    "plt.legend(ds_group.quantiles.values, bbox_to_anchor=(1.01,0.61))\n",
    "# plt.xlim((287,315))\n",
    "for iim in np.arange(-28,-23,0.5):\n",
    "    plt.plot(np.array([280,315]),iim+0.06*np.array([280,315]),':')\n"
   ]
  },
  {
   "cell_type": "code",
   "execution_count": null,
   "metadata": {},
   "outputs": [],
   "source": [
    "week2 = ds_allpr.sel(L=slice(8.5,14.5))\n",
    "week2 = week2.stack(MSll=('M','S','lat','lon','L')).compute()\n",
    "week2"
   ]
  },
  {
   "cell_type": "code",
   "execution_count": null,
   "metadata": {},
   "outputs": [],
   "source": [
    "week2.coords['MSll'] = np.arange(0,4191264) "
   ]
  },
  {
   "cell_type": "code",
   "execution_count": null,
   "metadata": {},
   "outputs": [],
   "source": [
    "# plt.hist(week2.tas.values.ravel())\n",
    "\n",
    "step = 2.\n",
    "to_bin = lambda x: np.round(x / step) * step\n",
    "week2[\"tasb\"] = to_bin(week2.tas)\n",
    "# \n",
    "\n",
    "# plt.hist(week2.tasb.values.ravel(),bins=20)"
   ]
  },
  {
   "cell_type": "code",
   "execution_count": null,
   "metadata": {},
   "outputs": [],
   "source": [
    "grouped2 = week2[['pr','tasb']].groupby('tasb')\n",
    "ds_group2 = grouped2.max()\n",
    "ds_group2.coords['quantiles'] = np.array([75,85,95,99,99.1,99.5,99.9,99.95,99.99])\n",
    "ds_group2['pr_q'] = (('quantiles','tasb'), np.zeros((len(ds_group2.quantiles.values),len(ds_group2.tasb.values)))) \n",
    "for iim, (k, gp) in enumerate(grouped2):\n",
    "    print iim,gp.pr.shape\n",
    "    if gp.pr.shape[0]>500:\n",
    "        var = np.nanpercentile(gp.pr.values, q=[75,85,95,99,99.1,99.5,99.9,99.95,99.99])\n",
    "#         ind_x = xr.DataArray([0, iim], dims=['x'])\n",
    "        ds_group2['pr_q'].loc[dict(tasb=k)] = var\n",
    "\n",
    "ds_group2\n"
   ]
  },
  {
   "cell_type": "code",
   "execution_count": null,
   "metadata": {},
   "outputs": [],
   "source": [
    "plt.plot(ds_group.tasb,np.log(ds_group.pr_q.T),'o-')\n",
    "plt.legend(ds_group.quantiles.values, bbox_to_anchor=(1.01,0.61))\n",
    "# plt.xlim((287,315))\n",
    "for iim in np.arange(-28,-23,0.5):\n",
    "    plt.plot(np.array([280,315]),iim+0.06*np.array([280,315]),':')\n",
    "    \n",
    "plt.plot(ds_group2.tasb,np.log(ds_group2.pr_q.T),'.-', color='grey')\n",
    "plt.legend(ds_group2.quantiles.values, bbox_to_anchor=(1.01,0.61))\n",
    "# plt.xlim((287,315))\n",
    "for iim in np.arange(-28,-23,0.5):\n",
    "    plt.plot(np.array([280,315]),iim+0.06*np.array([280,315]),':')\n"
   ]
  },
  {
   "cell_type": "code",
   "execution_count": null,
   "metadata": {},
   "outputs": [],
   "source": [
    "# week3 = ds_allpr.sel(L=slice(15.5,21.5))"
   ]
  },
  {
   "cell_type": "code",
   "execution_count": null,
   "metadata": {},
   "outputs": [],
   "source": []
  }
 ],
 "metadata": {
  "kernelspec": {
   "display_name": "Python 2",
   "language": "python",
   "name": "python2"
  },
  "language_info": {
   "codemirror_mode": {
    "name": "ipython",
    "version": 2
   },
   "file_extension": ".py",
   "mimetype": "text/x-python",
   "name": "python",
   "nbconvert_exporter": "python",
   "pygments_lexer": "ipython2",
   "version": "2.7.13"
  }
 },
 "nbformat": 4,
 "nbformat_minor": 2
}
