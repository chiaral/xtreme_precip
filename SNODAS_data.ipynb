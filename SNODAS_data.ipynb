{
 "cells": [
  {
   "cell_type": "code",
   "execution_count": 7,
   "metadata": {},
   "outputs": [],
   "source": [
    "import numpy as np\n",
    "import pandas as pd\n",
    "import xarray as xr"
   ]
  },
  {
   "cell_type": "code",
   "execution_count": 8,
   "metadata": {},
   "outputs": [],
   "source": [
    "from matplotlib import pyplot as plt\n",
    "%matplotlib inline\n"
   ]
  },
  {
   "cell_type": "code",
   "execution_count": 9,
   "metadata": {},
   "outputs": [
    {
     "name": "stdout",
     "output_type": "stream",
     "text": [
      "--2020-05-20 13:40:55--  ftp://sidads.colorado.edu/DATASETS/NOAA/G02158/masked/2003/09_Sep/SNODAS_20030930.tar\n",
      "           => ‘SNODAS_20030930.tar’\n",
      "Resolving sidads.colorado.edu (sidads.colorado.edu)... 128.138.135.20\n",
      "Connecting to sidads.colorado.edu (sidads.colorado.edu)|128.138.135.20|:21... connected.\n",
      "Logging in as anonymous ... Logged in!\n",
      "==> SYST ... done.    ==> PWD ... done.\n",
      "==> TYPE I ... done.  ==> CWD (1) /DATASETS/NOAA/G02158/masked/2003/09_Sep ... done.\n",
      "==> SIZE SNODAS_20030930.tar ... 1474560\n",
      "==> PASV ... done.    ==> RETR SNODAS_20030930.tar ... done.\n",
      "Length: 1474560 (1.4M) (unauthoritative)\n",
      "\n",
      "100%[======================================>] 1,474,560   1.27MB/s   in 1.1s   \n",
      "\n",
      "2020-05-20 13:40:56 (1.27 MB/s) - ‘SNODAS_20030930.tar’ saved [1474560]\n",
      "\n"
     ]
    }
   ],
   "source": [
    "!wget ftp://sidads.colorado.edu/DATASETS/NOAA/G02158/masked/2003/09_Sep/SNODAS_20030930.tar"
   ]
  },
  {
   "cell_type": "code",
   "execution_count": 10,
   "metadata": {},
   "outputs": [
    {
     "name": "stdout",
     "output_type": "stream",
     "text": [
      "us_ssmv01025SlL00T0024TTNATS2003093005DP001.dat.gz\n",
      "us_ssmv01025SlL00T0024TTNATS2003093005DP001.txt.gz\n",
      "us_ssmv01025SlL01T0024TTNATS2003093005DP001.dat.gz\n",
      "us_ssmv01025SlL01T0024TTNATS2003093005DP001.txt.gz\n",
      "us_ssmv11034tS__T0001TTNATS2003093005HP001.dat.gz\n",
      "us_ssmv11034tS__T0001TTNATS2003093005HP001.txt.gz\n",
      "us_ssmv11036tS__T0001TTNATS2003093005HP001.dat.gz\n",
      "us_ssmv11036tS__T0001TTNATS2003093005HP001.txt.gz\n",
      "us_ssmv11039lL00T0024TTNATS2003093005DP000.dat.gz\n",
      "us_ssmv11039lL00T0024TTNATS2003093005DP000.txt.gz\n",
      "us_ssmv11044bS__T0024TTNATS2003093005DP000.dat.gz\n",
      "us_ssmv11044bS__T0024TTNATS2003093005DP000.txt.gz\n",
      "us_ssmv11050lL00T0024TTNATS2003093005DP000.dat.gz\n",
      "us_ssmv11050lL00T0024TTNATS2003093005DP000.txt.gz\n"
     ]
    }
   ],
   "source": [
    "!tar xvf SNODAS_20030930.tar"
   ]
  },
  {
   "cell_type": "code",
   "execution_count": 11,
   "metadata": {},
   "outputs": [],
   "source": [
    "!mkdir SNODAS_20030930"
   ]
  },
  {
   "cell_type": "code",
   "execution_count": 12,
   "metadata": {},
   "outputs": [],
   "source": [
    "!mv us_ssmv* SNODAS_20030930/"
   ]
  },
  {
   "cell_type": "code",
   "execution_count": 16,
   "metadata": {},
   "outputs": [],
   "source": [
    "!gzip -d SNODAS_20030930/us_ssmv01025SlL00T0024TTNATS2003093005DP001.dat.gz"
   ]
  },
  {
   "cell_type": "code",
   "execution_count": 17,
   "metadata": {},
   "outputs": [],
   "source": [
    "!gzip -d SNODAS_20030930/us_ssmv01025SlL00T0024TTNATS2003093005DP001.txt.gz"
   ]
  },
  {
   "cell_type": "code",
   "execution_count": 18,
   "metadata": {},
   "outputs": [],
   "source": [
    "prova = xr.open_rasterio('SNODAS_20030930/us_ssmv01025SlL00T0024TTNATS2003093005DP001.txt')"
   ]
  },
  {
   "cell_type": "code",
   "execution_count": 19,
   "metadata": {},
   "outputs": [
    {
     "data": {
      "text/plain": [
       "<xarray.DataArray (band: 1, y: 3351, x: 6935)>\n",
       "[23239185 values with dtype=int16]\n",
       "Coordinates:\n",
       "  * band     (band) int64 1\n",
       "  * y        (y) float64 52.87 52.86 52.85 52.85 ... 24.98 24.97 24.96 24.95\n",
       "  * x        (x) float64 -124.7 -124.7 -124.7 -124.7 ... -66.96 -66.95 -66.95\n",
       "Attributes:\n",
       "    transform:   (0.008333333333333, 0.0, -124.73374999999501, 0.0, -0.008333...\n",
       "    crs:         +init=epsg:4326\n",
       "    res:         (0.008333333333333, 0.008333333333333)\n",
       "    is_tiled:    0\n",
       "    nodatavals:  (-9999.0,)\n",
       "    scales:      (1.0,)\n",
       "    offsets:     (0.0,)"
      ]
     },
     "execution_count": 19,
     "metadata": {},
     "output_type": "execute_result"
    }
   ],
   "source": [
    "prova"
   ]
  },
  {
   "cell_type": "code",
   "execution_count": 20,
   "metadata": {},
   "outputs": [
    {
     "data": {
      "text/plain": [
       "<matplotlib.collections.QuadMesh at 0x7fbbefeb47b8>"
      ]
     },
     "execution_count": 20,
     "metadata": {},
     "output_type": "execute_result"
    },
    {
     "data": {
      "image/png": "[encoded data removed]",
      "text/plain": [
       "<Figure size 432x288 with 2 Axes>"
      ]
     },
     "metadata": {
      "needs_background": "light"
     },
     "output_type": "display_data"
    }
   ],
   "source": [
    "prova.plot()"
   ]
  },
  {
   "cell_type": "code",
   "execution_count": null,
   "metadata": {},
   "outputs": [],
   "source": []
  }
 ],
 "metadata": {
  "kernelspec": {
   "display_name": "Python 3",
   "language": "python",
   "name": "python3"
  },
  "language_info": {
   "codemirror_mode": {
    "name": "ipython",
    "version": 3
   },
   "file_extension": ".py",
   "mimetype": "text/x-python",
   "name": "python",
   "nbconvert_exporter": "python",
   "pygments_lexer": "ipython3",
   "version": "3.6.7"
  }
 },
 "nbformat": 4,
 "nbformat_minor": 2
}
