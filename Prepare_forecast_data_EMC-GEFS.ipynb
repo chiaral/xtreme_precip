{
 "cells": [
  {
   "cell_type": "code",
   "execution_count": 75,
   "metadata": {},
   "outputs": [],
   "source": [
    "import numpy as np\n",
    "import xarray as xr\n",
    "import pandas as pd\n",
    "import datetime\n",
    "\n",
    "from datetime import timedelta, datetime, date\n",
    "import calendar\n",
    "\n",
    "import numpy as np\n",
    "from matplotlib import pyplot as plt\n",
    "%matplotlib inline\n",
    "import os\n",
    "import glob\n"
   ]
  },
  {
   "cell_type": "code",
   "execution_count": 52,
   "metadata": {},
   "outputs": [
    {
     "name": "stdout",
     "output_type": "stream",
     "text": [
      "/local/ERAin/bin/python\r\n"
     ]
    }
   ],
   "source": [
    "!which python"
   ]
  },
  {
   "cell_type": "code",
   "execution_count": 53,
   "metadata": {},
   "outputs": [
    {
     "data": {
      "text/plain": [
       "'0.14.0'"
      ]
     },
     "execution_count": 53,
     "metadata": {},
     "output_type": "execute_result"
    }
   ],
   "source": [
    "xr.__version__"
   ]
  },
  {
   "cell_type": "code",
   "execution_count": 56,
   "metadata": {},
   "outputs": [
    {
     "name": "stdout",
     "output_type": "stream",
     "text": [
      "1999  2001  2003  2005\t2007  2009  2011  2013\t2015\r\n",
      "2000  2002  2004  2006\t2008  2010  2012  2014\t2016\r\n"
     ]
    }
   ],
   "source": [
    "!ls /Data2/SubX/EMC/GEFS/tdps_sfc/\n"
   ]
  },
  {
   "cell_type": "code",
   "execution_count": 62,
   "metadata": {},
   "outputs": [],
   "source": [
    "def ppf2_filename(ds,filename):\n",
    "    # rename coordinates\n",
    "    ds  = ds.rename({ 'lon_0':'lon', 'lat_0':'lat', 'forecast_time0':'L'})\n",
    "    # getting start time from file name\n",
    "    ts = filename.split('_')\n",
    "    whereGEFS = ts.index('GEFS')\n",
    "    dateSstr = ts[whereGEFS+1]\n",
    "    dateS = datetime.strptime(dateSstr, '%d%b%Y')\n",
    "    ds.coords['S'] = 'S', np.atleast_1d(dateS)\n",
    "    \n",
    "    # replacing L dates with integer (lead days)\n",
    "    # so that I can reduce to a fixed size\n",
    "    ds.coords['L']=np.arange(0.5,35.5)\n",
    "\n",
    "    # select US\n",
    "    ds = ds.sel(lat=slice(42,32),lon=slice(-103+360,-90+360))\n",
    "#     print(ds)\n",
    "    return ds"
   ]
  },
  {
   "cell_type": "code",
   "execution_count": 63,
   "metadata": {},
   "outputs": [
    {
     "name": "stdout",
     "output_type": "stream",
     "text": [
      "1999\n",
      "2000\n",
      "2001\n",
      "2002\n",
      "2003\n",
      "2004\n",
      "2005\n",
      "2006\n",
      "2007\n",
      "2008\n"
     ]
    }
   ],
   "source": [
    "varname = 'pr_sfc'\n",
    "ds_Y = []\n",
    "for iy in np.arange(1999, 2009):#2017):\n",
    "    print( iy)\n",
    "    ds_M = []\n",
    "    for ensnum in np.arange(0,11):\n",
    "        mylist = glob.glob('/Data2/SubX/EMC/GEFS/'+varname+'/'+np.str(iy)+'/06/*_m'+np.str(ensnum).zfill(2) +'.grb2') \n",
    "#         print(len(mylist))\n",
    "        pr_S_list = []\n",
    "        for ifilename in mylist:\n",
    "            dstemp = xr.open_dataset(ifilename, engine='pynio')\n",
    "            dstemp.coords['M'] = 'M', np.atleast_1d(ensnum)\n",
    "            dstemp1 = ppf2_filename(dstemp, ifilename)\n",
    "    #         print( dstemp1)\n",
    "            del dstemp\n",
    "            pr_S_list.append(dstemp1)\n",
    "            del dstemp1\n",
    "        pr_S = xr.concat(pr_S_list, dim='S')\n",
    "    #     ds_M.append(pr_S)\n",
    "    #     del pr_S\n",
    "        mylist = glob.glob('/Data2/SubX/EMC/GEFS/'+varname+'/'+np.str(iy)+'/07/*_m'+np.str(ensnum).zfill(2) +'.grb2') \n",
    "#         print(len(mylist))\n",
    "        pr_S_list = []\n",
    "        for ifilename in mylist:\n",
    "            dstemp = xr.open_dataset(ifilename, engine='pynio')\n",
    "            dstemp.coords['M'] = 'M', np.atleast_1d(ensnum)\n",
    "            dstemp1 = ppf2_filename(dstemp, ifilename)\n",
    "    #         print( dstemp1)\n",
    "            del dstemp\n",
    "            pr_S_list.append(dstemp1)\n",
    "            del dstemp1\n",
    "        pr_S = pr_S.merge(xr.concat(pr_S_list, dim='S'))\n",
    "    #     pr_S = xr.concat(pr_S_list, dim='S')\n",
    "    #     ds_M.append(pr_S)\n",
    "    #     del pr_S\n",
    "        mylist = glob.glob('/Data2/SubX/EMC/GEFS/'+varname+'/'+np.str(iy)+'/08/*_m'+np.str(ensnum).zfill(2) +'.grb2') \n",
    "#         print(len(mylist))\n",
    "        pr_S_list = []\n",
    "        for ifilename in mylist:\n",
    "            dstemp = xr.open_dataset(ifilename, engine='pynio')\n",
    "            dstemp.coords['M'] = 'M', np.atleast_1d(ensnum)\n",
    "            dstemp1 = ppf2_filename(dstemp, ifilename)\n",
    "    #         print( dstemp1)\n",
    "            del dstemp\n",
    "            pr_S_list.append(dstemp1)\n",
    "            del dstemp1\n",
    "        pr_S = pr_S.merge(xr.concat(pr_S_list, dim='S'))\n",
    "    #     pr_S = xr.concat(pr_S_list, dim='S')\n",
    "        ds_M.append(pr_S)\n",
    "        del pr_S\n",
    "    ds_all = xr.concat(ds_M, dim='M')\n",
    "    del ds_M\n",
    "    ds_Y.append(ds_all)\n",
    "del ds_all\n",
    "ds_allpr = xr.concat(ds_Y, dim='S')\n",
    "del ds_Y\n",
    "         \n",
    "        \n",
    "        \n"
   ]
  },
  {
   "cell_type": "code",
   "execution_count": 64,
   "metadata": {},
   "outputs": [
    {
     "name": "stdout",
     "output_type": "stream",
     "text": [
      "1999\n",
      "2000\n",
      "2001\n",
      "2002\n",
      "2003\n",
      "2004\n",
      "2005\n",
      "2006\n",
      "2007\n",
      "2008\n"
     ]
    }
   ],
   "source": [
    "varname = 'tas_2m'\n",
    "ds_Y = []\n",
    "for iy in np.arange(1999, 2009):#2017):\n",
    "    print( iy)\n",
    "    ds_M = []\n",
    "    for ensnum in np.arange(0,11):\n",
    "        mylist = glob.glob('/Data2/SubX/EMC/GEFS/'+varname+'/'+np.str(iy)+'/06/*_m'+np.str(ensnum).zfill(2) +'.grb2') \n",
    "#         print(len(mylist))\n",
    "        pr_S_list = []\n",
    "        for ifilename in mylist:\n",
    "            dstemp = xr.open_dataset(ifilename, engine='pynio')\n",
    "            dstemp.coords['M'] = 'M', np.atleast_1d(ensnum)\n",
    "            dstemp1 = ppf2_filename(dstemp, ifilename)\n",
    "    #         print( dstemp1)\n",
    "            del dstemp\n",
    "            pr_S_list.append(dstemp1)\n",
    "            del dstemp1\n",
    "        pr_S = xr.concat(pr_S_list, dim='S')\n",
    "    #     ds_M.append(pr_S)\n",
    "    #     del pr_S\n",
    "        mylist = glob.glob('/Data2/SubX/EMC/GEFS/'+varname+'/'+np.str(iy)+'/07/*_m'+np.str(ensnum).zfill(2) +'.grb2') \n",
    "#         print(len(mylist))\n",
    "        pr_S_list = []\n",
    "        for ifilename in mylist:\n",
    "            dstemp = xr.open_dataset(ifilename, engine='pynio')\n",
    "            dstemp.coords['M'] = 'M', np.atleast_1d(ensnum)\n",
    "            dstemp1 = ppf2_filename(dstemp, ifilename)\n",
    "    #         print( dstemp1)\n",
    "            del dstemp\n",
    "            pr_S_list.append(dstemp1)\n",
    "            del dstemp1\n",
    "        pr_S = pr_S.merge(xr.concat(pr_S_list, dim='S'))\n",
    "    #     pr_S = xr.concat(pr_S_list, dim='S')\n",
    "    #     ds_M.append(pr_S)\n",
    "    #     del pr_S\n",
    "        mylist = glob.glob('/Data2/SubX/EMC/GEFS/'+varname+'/'+np.str(iy)+'/08/*_m'+np.str(ensnum).zfill(2) +'.grb2') \n",
    "#         print(len(mylist))\n",
    "        pr_S_list = []\n",
    "        for ifilename in mylist:\n",
    "            dstemp = xr.open_dataset(ifilename, engine='pynio')\n",
    "            dstemp.coords['M'] = 'M', np.atleast_1d(ensnum)\n",
    "            dstemp1 = ppf2_filename(dstemp, ifilename)\n",
    "    #         print( dstemp1)\n",
    "            del dstemp\n",
    "            pr_S_list.append(dstemp1)\n",
    "            del dstemp1\n",
    "        pr_S = pr_S.merge(xr.concat(pr_S_list, dim='S'))\n",
    "    #     pr_S = xr.concat(pr_S_list, dim='S')\n",
    "        ds_M.append(pr_S)\n",
    "        del pr_S\n",
    "    ds_all = xr.concat(ds_M, dim='M')\n",
    "    del ds_M\n",
    "    ds_Y.append(ds_all)\n",
    "del ds_all\n",
    "ds_alltas_2m = xr.concat(ds_Y, dim='S')\n",
    "del ds_Y\n",
    "         \n",
    "        \n",
    "        \n",
    "#     pr_S=xr.open_mfdataset(mylist, concat_dim='S', preprocess=ppf2, autoclose=True, engine='pynio')\n",
    "#     pr_S.coords['M'] = 'M', np.atleast_1d(ensnum)\n",
    "#     print( pr_S)"
   ]
  },
  {
   "cell_type": "code",
   "execution_count": 65,
   "metadata": {},
   "outputs": [
    {
     "name": "stdout",
     "output_type": "stream",
     "text": [
      "1999\n",
      "2000\n",
      "2001\n",
      "2002\n",
      "2003\n",
      "2004\n",
      "2005\n",
      "2006\n",
      "2007\n",
      "2008\n"
     ]
    }
   ],
   "source": [
    "varname = 'tas_2m'\n",
    "ds_Y = []\n",
    "for iy in np.arange(1999, 2009):#2017):\n",
    "    print( iy)\n",
    "    ds_M = []\n",
    "    for ensnum in np.arange(0,11):\n",
    "        mylist = glob.glob('/Data2/SubX/EMC/GEFS/'+varname+'/'+np.str(iy)+'/06/*_m'+np.str(ensnum).zfill(2) +'.grb2') \n",
    "#         print(len(mylist))\n",
    "        pr_S_list = []\n",
    "        for ifilename in mylist:\n",
    "            dstemp = xr.open_dataset(ifilename, engine='pynio')\n",
    "            dstemp.coords['M'] = 'M', np.atleast_1d(ensnum)\n",
    "            dstemp1 = ppf2_filename(dstemp, ifilename)\n",
    "    #         print( dstemp1)\n",
    "            del dstemp\n",
    "            pr_S_list.append(dstemp1)\n",
    "            del dstemp1\n",
    "        pr_S = xr.concat(pr_S_list, dim='S')\n",
    "    #     ds_M.append(pr_S)\n",
    "    #     del pr_S\n",
    "        mylist = glob.glob('/Data2/SubX/EMC/GEFS/'+varname+'/'+np.str(iy)+'/07/*_m'+np.str(ensnum).zfill(2) +'.grb2') \n",
    "#         print(len(mylist))\n",
    "        pr_S_list = []\n",
    "        for ifilename in mylist:\n",
    "            dstemp = xr.open_dataset(ifilename, engine='pynio')\n",
    "            dstemp.coords['M'] = 'M', np.atleast_1d(ensnum)\n",
    "            dstemp1 = ppf2_filename(dstemp, ifilename)\n",
    "    #         print( dstemp1)\n",
    "            del dstemp\n",
    "            pr_S_list.append(dstemp1)\n",
    "            del dstemp1\n",
    "        pr_S = pr_S.merge(xr.concat(pr_S_list, dim='S'))\n",
    "    #     pr_S = xr.concat(pr_S_list, dim='S')\n",
    "    #     ds_M.append(pr_S)\n",
    "    #     del pr_S\n",
    "        mylist = glob.glob('/Data2/SubX/EMC/GEFS/'+varname+'/'+np.str(iy)+'/08/*_m'+np.str(ensnum).zfill(2) +'.grb2') \n",
    "#         print(len(mylist))\n",
    "        pr_S_list = []\n",
    "        for ifilename in mylist:\n",
    "            dstemp = xr.open_dataset(ifilename, engine='pynio')\n",
    "            dstemp.coords['M'] = 'M', np.atleast_1d(ensnum)\n",
    "            dstemp1 = ppf2_filename(dstemp, ifilename)\n",
    "    #         print( dstemp1)\n",
    "            del dstemp\n",
    "            pr_S_list.append(dstemp1)\n",
    "            del dstemp1\n",
    "        pr_S = pr_S.merge(xr.concat(pr_S_list, dim='S'))\n",
    "    #     pr_S = xr.concat(pr_S_list, dim='S')\n",
    "        ds_M.append(pr_S)\n",
    "        del pr_S\n",
    "    ds_all = xr.concat(ds_M, dim='M')\n",
    "    del ds_M\n",
    "    ds_Y.append(ds_all)\n",
    "del ds_all\n",
    "ds_alltas_2m = xr.concat(ds_Y, dim='S')\n",
    "del ds_Y\n",
    "         \n",
    "        \n",
    "        \n",
    "#     pr_S=xr.open_mfdataset(mylist, concat_dim='S', preprocess=ppf2, autoclose=True, engine='pynio')\n",
    "#     pr_S.coords['M'] = 'M', np.atleast_1d(ensnum)\n",
    "#     print( pr_S)"
   ]
  },
  {
   "cell_type": "code",
   "execution_count": 66,
   "metadata": {},
   "outputs": [
    {
     "name": "stdout",
     "output_type": "stream",
     "text": [
      "1999\n",
      "2000\n",
      "2001\n",
      "2002\n",
      "2003\n",
      "2004\n",
      "2005\n",
      "2006\n",
      "2007\n",
      "2008\n"
     ]
    }
   ],
   "source": [
    "\n",
    "varname = 'tdps_sfc'\n",
    "ds_Y = []\n",
    "for iy in np.arange(1999, 2009):#2017):\n",
    "    print( iy)\n",
    "    ds_M = []\n",
    "    for ensnum in np.arange(0,11):\n",
    "        mylist = glob.glob('/Data2/SubX/EMC/GEFS/'+varname+'/'+np.str(iy)+'/06/*_m'+np.str(ensnum).zfill(2) +'.grb2') \n",
    "#         print(len(mylist))\n",
    "        pr_S_list = []\n",
    "        for ifilename in mylist:\n",
    "            dstemp = xr.open_dataset(ifilename, engine='pynio')\n",
    "            dstemp.coords['M'] = 'M', np.atleast_1d(ensnum)\n",
    "            dstemp1 = ppf2_filename(dstemp, ifilename)\n",
    "    #         print( dstemp1)\n",
    "            del dstemp\n",
    "            pr_S_list.append(dstemp1)\n",
    "            del dstemp1\n",
    "        pr_S = xr.concat(pr_S_list, dim='S')\n",
    "    #     ds_M.append(pr_S)\n",
    "    #     del pr_S\n",
    "        mylist = glob.glob('/Data2/SubX/EMC/GEFS/'+varname+'/'+np.str(iy)+'/07/*_m'+np.str(ensnum).zfill(2) +'.grb2') \n",
    "#         print(len(mylist))\n",
    "        pr_S_list = []\n",
    "        for ifilename in mylist:\n",
    "            dstemp = xr.open_dataset(ifilename, engine='pynio')\n",
    "            dstemp.coords['M'] = 'M', np.atleast_1d(ensnum)\n",
    "            dstemp1 = ppf2_filename(dstemp, ifilename)\n",
    "    #         print( dstemp1)\n",
    "            del dstemp\n",
    "            pr_S_list.append(dstemp1)\n",
    "            del dstemp1\n",
    "        pr_S = pr_S.merge(xr.concat(pr_S_list, dim='S'))\n",
    "    #     pr_S = xr.concat(pr_S_list, dim='S')\n",
    "    #     ds_M.append(pr_S)\n",
    "    #     del pr_S\n",
    "        mylist = glob.glob('/Data2/SubX/EMC/GEFS/'+varname+'/'+np.str(iy)+'/08/*_m'+np.str(ensnum).zfill(2) +'.grb2') \n",
    "#         print(len(mylist))\n",
    "        pr_S_list = []\n",
    "        for ifilename in mylist:\n",
    "            dstemp = xr.open_dataset(ifilename, engine='pynio')\n",
    "            dstemp.coords['M'] = 'M', np.atleast_1d(ensnum)\n",
    "            dstemp1 = ppf2_filename(dstemp, ifilename)\n",
    "    #         print( dstemp1)\n",
    "            del dstemp\n",
    "            pr_S_list.append(dstemp1)\n",
    "            del dstemp1\n",
    "        pr_S = pr_S.merge(xr.concat(pr_S_list, dim='S'))\n",
    "    #     pr_S = xr.concat(pr_S_list, dim='S')\n",
    "        ds_M.append(pr_S)\n",
    "        del pr_S\n",
    "    ds_all = xr.concat(ds_M, dim='M')\n",
    "    del ds_M\n",
    "    ds_Y.append(ds_all)\n",
    "del ds_all\n",
    "ds_alltdps_2m = xr.concat(ds_Y, dim='S')\n",
    "del ds_Y\n",
    "         \n",
    "        \n",
    "        \n",
    "#     pr_S=xr.open_mfdataset(mylist, concat_dim='S', preprocess=ppf2, autoclose=True, engine='pynio')\n",
    "#     pr_S.coords['M'] = 'M', np.atleast_1d(ensnum)\n",
    "#     print( pr_S)"
   ]
  },
  {
   "cell_type": "code",
   "execution_count": 67,
   "metadata": {},
   "outputs": [
    {
     "name": "stdout",
     "output_type": "stream",
     "text": [
      "1999\n",
      "2000\n",
      "2001\n",
      "2002\n",
      "2003\n",
      "2004\n",
      "2005\n",
      "2006\n",
      "2007\n",
      "2008\n"
     ]
    }
   ],
   "source": [
    "\n",
    "varname = 'cape'\n",
    "ds_Y = []\n",
    "for iy in np.arange(1999, 2009):# 2017):\n",
    "    print( iy)\n",
    "    ds_M = []\n",
    "    for ensnum in np.arange(0,11):\n",
    "        mylist = glob.glob('/Data2/SubX/EMC/GEFS/'+varname+'/'+np.str(iy)+'/06/*_m'+np.str(ensnum).zfill(2) +'.grb2') \n",
    "#         print(len(mylist))\n",
    "        pr_S_list = []\n",
    "        for ifilename in mylist:\n",
    "            dstemp = xr.open_dataset(ifilename,  engine='pynio')\n",
    "            dstemp.coords['M'] = 'M', np.atleast_1d(ensnum)\n",
    "            dstemp1 = ppf2_filename(dstemp, ifilename)\n",
    "    #         print( dstemp1)\n",
    "            del dstemp\n",
    "            pr_S_list.append(dstemp1)\n",
    "            del dstemp1\n",
    "        pr_S = xr.concat(pr_S_list, dim='S')\n",
    "    #     ds_M.append(pr_S)\n",
    "    #     del pr_S\n",
    "        mylist = glob.glob('/Data2/SubX/EMC/GEFS/'+varname+'/'+np.str(iy)+'/07/*_m'+np.str(ensnum).zfill(2) +'.grb2') \n",
    "#         print(len(mylist))\n",
    "        pr_S_list = []\n",
    "        for ifilename in mylist:\n",
    "            dstemp = xr.open_dataset(ifilename, engine='pynio')\n",
    "            dstemp.coords['M'] = 'M', np.atleast_1d(ensnum)\n",
    "            dstemp1 = ppf2_filename(dstemp, ifilename)\n",
    "    #         print( dstemp1)\n",
    "            del dstemp\n",
    "            pr_S_list.append(dstemp1)\n",
    "            del dstemp1\n",
    "        pr_S = pr_S.merge(xr.concat(pr_S_list, dim='S'))\n",
    "    #     pr_S = xr.concat(pr_S_list, dim='S')\n",
    "    #     ds_M.append(pr_S)\n",
    "    #     del pr_S\n",
    "        mylist = glob.glob('/Data2/SubX/EMC/GEFS/'+varname+'/'+np.str(iy)+'/08/*_m'+np.str(ensnum).zfill(2) +'.grb2') \n",
    "#         print(len(mylist))\n",
    "        pr_S_list = []\n",
    "        for ifilename in mylist:\n",
    "            dstemp = xr.open_dataset(ifilename, engine='pynio')\n",
    "            dstemp.coords['M'] = 'M', np.atleast_1d(ensnum)\n",
    "            dstemp1 = ppf2_filename(dstemp, ifilename)\n",
    "    #         print( dstemp1)\n",
    "            del dstemp\n",
    "            pr_S_list.append(dstemp1)\n",
    "            del dstemp1\n",
    "        pr_S = pr_S.merge(xr.concat(pr_S_list, dim='S'))\n",
    "    #     pr_S = xr.concat(pr_S_list, dim='S')\n",
    "        ds_M.append(pr_S)\n",
    "        del pr_S\n",
    "    ds_all = xr.concat(ds_M, dim='M')\n",
    "    del ds_M\n",
    "    ds_Y.append(ds_all)\n",
    "del ds_all\n",
    "ds_allcape = xr.concat(ds_Y, dim='S')\n",
    "del ds_Y\n",
    "         \n",
    "        \n",
    "        \n",
    "#     pr_S=xr.open_mfdataset(mylist, concat_dim='S', preprocess=ppf2, autoclose=True, engine='pynio')\n",
    "#     pr_S.coords['M'] = 'M', np.atleast_1d(ensnum)\n",
    "#     print( pr_S)"
   ]
  },
  {
   "cell_type": "markdown",
   "metadata": {},
   "source": [
    "# MERGE THEM IN ONE DATAARRAY"
   ]
  },
  {
   "cell_type": "code",
   "execution_count": 68,
   "metadata": {},
   "outputs": [],
   "source": [
    "ds_allpr =  xr.merge([ds_allpr,ds_alltas_2m,ds_alltdps_2m, ds_allcape])"
   ]
  },
  {
   "cell_type": "code",
   "execution_count": 69,
   "metadata": {},
   "outputs": [],
   "source": [
    "del ds_allcape"
   ]
  },
  {
   "cell_type": "code",
   "execution_count": 70,
   "metadata": {},
   "outputs": [],
   "source": [
    "del ds_alltdps_2m\n"
   ]
  },
  {
   "cell_type": "code",
   "execution_count": 72,
   "metadata": {},
   "outputs": [
    {
     "ename": "NameError",
     "evalue": "name 'ds_alltas_2m' is not defined",
     "output_type": "error",
     "traceback": [
      "\u001b[0;31m---------------------------------------------------------------------------\u001b[0m",
      "\u001b[0;31mNameError\u001b[0m                                 Traceback (most recent call last)",
      "\u001b[0;32m<ipython-input-72-4f481cfeace9>\u001b[0m in \u001b[0;36m<module>\u001b[0;34m\u001b[0m\n\u001b[0;32m----> 1\u001b[0;31m \u001b[0;32mdel\u001b[0m \u001b[0mds_alltas_2m\u001b[0m\u001b[0;34m\u001b[0m\u001b[0;34m\u001b[0m\u001b[0m\n\u001b[0m\u001b[1;32m      2\u001b[0m \u001b[0;31m# del ds_alltdps_2m\u001b[0m\u001b[0;34m\u001b[0m\u001b[0;34m\u001b[0m\u001b[0;34m\u001b[0m\u001b[0m\n\u001b[1;32m      3\u001b[0m \u001b[0;31m# del ds_allcape\u001b[0m\u001b[0;34m\u001b[0m\u001b[0;34m\u001b[0m\u001b[0;34m\u001b[0m\u001b[0m\n",
      "\u001b[0;31mNameError\u001b[0m: name 'ds_alltas_2m' is not defined"
     ]
    }
   ],
   "source": [
    "del ds_alltas_2m\n",
    "# del ds_alltdps_2m\n",
    "# del ds_allcape"
   ]
  },
  {
   "cell_type": "code",
   "execution_count": 74,
   "metadata": {},
   "outputs": [],
   "source": [
    "ds_allpr.to_netcdf('ds_pr_t_td_cape_EMCB.nc')"
   ]
  },
  {
   "cell_type": "code",
   "execution_count": null,
   "metadata": {},
   "outputs": [],
   "source": []
  }
 ],
 "metadata": {
  "kernelspec": {
   "display_name": "Python 3",
   "language": "python",
   "name": "python3"
  },
  "language_info": {
   "codemirror_mode": {
    "name": "ipython",
    "version": 3
   },
   "file_extension": ".py",
   "mimetype": "text/x-python",
   "name": "python",
   "nbconvert_exporter": "python",
   "pygments_lexer": "ipython3",
   "version": "3.6.7"
  }
 },
 "nbformat": 4,
 "nbformat_minor": 2
}
