{
 "cells": [
  {
   "cell_type": "code",
   "execution_count": 2,
   "metadata": {},
   "outputs": [],
   "source": [
    "import xarray as xr\n",
    "import numpy as np\n",
    "from matplotlib import pyplot as plt\n",
    "%matplotlib inline\n",
    "from matplotlib.colors import LogNorm\n",
    "from xhistogram.xarray import histogram\n",
    "import os\n",
    "import time\n",
    "from matplotlib.colors import LogNorm\n",
    "import dask"
   ]
  },
  {
   "cell_type": "code",
   "execution_count": 3,
   "metadata": {},
   "outputs": [
    {
     "data": {
      "text/plain": [
       "['ESRL', 'NASA', 'EMC', 'RSMAS', 'ECCC', 'NRL', 'CESM', 'NCEP']"
      ]
     },
     "execution_count": 3,
     "metadata": {},
     "output_type": "execute_result"
    }
   ],
   "source": [
    "listOfDir = os.listdir('/Data2/SubX/')\n",
    "listOfDir = listOfDir[0:-1] # drop 'CWB\n",
    "listOfDir"
   ]
  },
  {
   "cell_type": "code",
   "execution_count": 5,
   "metadata": {},
   "outputs": [],
   "source": [
    "subfolder_to_try = ['FIMr1p1','GEOS_V2p1','GEFS','CCSM4','GEPS5','GEPS6','hindcast','NESM','46LCESM1', '30LCAM5','CFSv2']"
   ]
  },
  {
   "cell_type": "markdown",
   "metadata": {},
   "source": [
    "# the list above will look for the subfolder in the folder. I have 11 possibilities, one for each model. In particular"
   ]
  },
  {
   "cell_type": "code",
   "execution_count": 6,
   "metadata": {},
   "outputs": [
    {
     "name": "stdout",
     "output_type": "stream",
     "text": [
      "ESRL/FIMr1p1\n",
      "NASA/GEOS_V2p1\n",
      "EMC/GEFS\n",
      "RSMAS/CCSM4\n",
      "ECCC/GEPS5\n",
      "ECCC/GEPS6\n",
      "ECCC/hindcast\n",
      "NRL/NESM\n",
      "CESM/46LCESM1\n",
      "CESM/30LCAM5\n",
      "NCEP/CFSv2\n"
     ]
    }
   ],
   "source": [
    "for ild in listOfDir:\n",
    "    for isb in subfolder_to_try:\n",
    "        if isb in os.listdir('/Data2/SubX/'+ild+'/'):\n",
    "            print(ild+'/'+isb)\n"
   ]
  },
  {
   "cell_type": "markdown",
   "metadata": {},
   "source": [
    "## each of this subfloders are organized differently (in fact the third ECCC doesn't have a name for the submodel, but directly the folder hindcast. I assume that is the GEM model)\n",
    "\n",
    "## Unfortunately I cannot use a general loop to treat each model, but I have to write a separate script for each of them\n",
    "\n",
    "## the name of the variables *should* be the same: cape, tas_2m, tdps_2m, wap_500, pr_sfc"
   ]
  },
  {
   "cell_type": "code",
   "execution_count": 7,
   "metadata": {},
   "outputs": [],
   "source": [
    "variable_names = ['cape', 'tas_2m', 'tdps_2m', 'wap_500', 'pr_sfc']"
   ]
  },
  {
   "cell_type": "markdown",
   "metadata": {},
   "source": [
    "# NASA/GEOS_V2p1"
   ]
  },
  {
   "cell_type": "code",
   "execution_count": 8,
   "metadata": {},
   "outputs": [
    {
     "name": "stdout",
     "output_type": "stream",
     "text": [
      "NASA/GEOS_V2p1\n",
      "['pr_sfc', 'rlut_toa', 'tas_2m', 'ts_sfc', 'ua_200', 'ua_850', 'va_200', 'va_850', 'zg_200', 'zg_500', 'forecast', 'startdates.txt', 'README', 'climatology', 'va_50', 'vas_10m', 'zg_10', 'zg_30', 'zg_50', 'get_GEOS_V2p1_hcast.pl', 'documentation.txt', 'vnames.pr2.txt', 'vnames.pr3.txt', 'cape', 'dlwrf_sfc', 'dswrf_sfc', 'hfls_sfc', 'hfss_sfc', 'huss_850', 'mrro', 'mrso', 'psl', 'sic', 'snc_sfc', 'snodp', 'stx_sfc', 'sty_sfc', 'swe', 'ta_10', 'ta_100', 'ta_30', 'ta_50', 'tasmax_2m', 'tasmin_2m', 'tdps_2m', 'ua_10', 'ua_100', 'ua_30', 'ua_50', 'uas_10m', 'ulwrf_sfc', 'uswrf_sfc', 'va_10', 'va_100', 'va_30', 'wap_500', 'zg_850', 'RMM', 'pentad_climatology', 'ROMI', 'get_GEOS_V2p1_SubX_fcst.pl', 'get_GEOS_V2p1_SubX_fcst_old20200529.pl']\n"
     ]
    }
   ],
   "source": [
    "for ild in listOfDir[1:2]:\n",
    "    for isb in subfolder_to_try:\n",
    "        if isb in os.listdir('/Data2/SubX/'+ild+'/'):\n",
    "            subfolder_dir = ild+'/'+isb\n",
    "            print(subfolder_dir)\n",
    "            \n",
    "            file_list = os.listdir('/Data2/SubX/'+subfolder_dir)\n",
    "#             file_list1 = [ifl if ifl[-4:]!='.zip' else print('skip') for ifl in file_list]\n",
    "            print(file_list)\n"
   ]
  },
  {
   "cell_type": "code",
   "execution_count": 9,
   "metadata": {},
   "outputs": [
    {
     "name": "stdout",
     "output_type": "stream",
     "text": [
      "['1999', '2000', '2001', '2002', '2003', '2004', '2005', '2006', '2007', '2008', '2009', '2010', '2011', '2012', '2013', '2014', '2015', '2016']\n",
      "['1999', '2000', '2001', '2002', '2003', '2004', '2005', '2006', '2007', '2008', '2009', '2010', '2011', '2012', '2013', '2014', '2015', '2016']\n",
      "['1999', '2000', '2001', '2002', '2003', '2004', '2005', '2006', '2007', '2008', '2009', '2010', '2011', '2012', '2013', '2014', '2015', '2016']\n",
      "['1999', '2000', '2001', '2002', '2003', '2004', '2005', '2006', '2007', '2008', '2009', '2010', '2011', '2012', '2013', '2014', '2015', '2016']\n",
      "['1999', '2000', '2001', '2002', '2003', '2004', '2005', '2006', '2007', '2008', '2009', '2010', '2011', '2012', '2013', '2014', '2015', '2016']\n"
     ]
    }
   ],
   "source": [
    "for ild in listOfDir[1:2]:\n",
    "    for isb in subfolder_to_try:\n",
    "        if isb in os.listdir('/Data2/SubX/'+ild+'/'):\n",
    "            subfolder_dir = ild+'/'+isb+'/'\n",
    "            for ivar in variable_names:\n",
    "                if ivar in os.listdir('/Data2/SubX/'+subfolder_dir):\n",
    "                    var_subfolder_dir = '/Data2/SubX/'+subfolder_dir+ivar+'/'\n",
    "                    file_list = os.listdir(var_subfolder_dir)\n",
    "                    print(file_list)\n"
   ]
  },
  {
   "cell_type": "code",
   "execution_count": 11,
   "metadata": {},
   "outputs": [
    {
     "name": "stdout",
     "output_type": "stream",
     "text": [
      "cape\n",
      "1999\n",
      "2000\n",
      "2001\n",
      "2002\n",
      "2003\n",
      "2004\n",
      "2005\n",
      "2006\n",
      "2007\n",
      "2008\n",
      "2009\n",
      "2010\n",
      "2011\n",
      "/Data2/SubX/NASA/GEOS_V2p1/cape/2011/jan/cape_GMAOGEOS_01jan2011_00z_d01_d45_m01.nc\n",
      "/Data2/SubX/NASA/GEOS_V2p1/cape/2011/jan/cape_GMAOGEOS_01jan2011_00z_d01_d45_m02.nc\n",
      "/Data2/SubX/NASA/GEOS_V2p1/cape/2011/jan/cape_GMAOGEOS_01jan2011_00z_d01_d45_m03.nc\n",
      "/Data2/SubX/NASA/GEOS_V2p1/cape/2011/jan/cape_GMAOGEOS_01jan2011_00z_d01_d45_m04.nc\n",
      "/Data2/SubX/NASA/GEOS_V2p1/cape/2011/jan/cape_GMAOGEOS_06jan2011_00z_d01_d45_m01.nc\n",
      "/Data2/SubX/NASA/GEOS_V2p1/cape/2011/jan/cape_GMAOGEOS_06jan2011_00z_d01_d45_m02.nc\n",
      "/Data2/SubX/NASA/GEOS_V2p1/cape/2011/jan/cape_GMAOGEOS_06jan2011_00z_d01_d45_m03.nc\n",
      "/Data2/SubX/NASA/GEOS_V2p1/cape/2011/jan/cape_GMAOGEOS_06jan2011_00z_d01_d45_m04.nc\n",
      "/Data2/SubX/NASA/GEOS_V2p1/cape/2011/jan/cape_GMAOGEOS_11jan2011_00z_d01_d45_m01.nc\n",
      "/Data2/SubX/NASA/GEOS_V2p1/cape/2011/jan/cape_GMAOGEOS_11jan2011_00z_d01_d45_m02.nc\n",
      "/Data2/SubX/NASA/GEOS_V2p1/cape/2011/jan/cape_GMAOGEOS_11jan2011_00z_d01_d45_m03.nc\n",
      "/Data2/SubX/NASA/GEOS_V2p1/cape/2011/jan/cape_GMAOGEOS_11jan2011_00z_d01_d45_m04.nc\n",
      "2012\n",
      "2013\n",
      "2014\n",
      "2015\n",
      "2016\n",
      "tas_2m\n",
      "1999\n",
      "2000\n",
      "2001\n",
      "2002\n",
      "2003\n",
      "2004\n",
      "2005\n",
      "2006\n",
      "2007\n",
      "2008\n",
      "2009\n",
      "2010\n",
      "2011\n",
      "/Data2/SubX/NASA/GEOS_V2p1/tas_2m/2011/jan/tas_2m_GMAOGEOS_01jan2011_00z_d01_d45_m01.nc\n",
      "/Data2/SubX/NASA/GEOS_V2p1/tas_2m/2011/jan/tas_2m_GMAOGEOS_01jan2011_00z_d01_d45_m02.nc\n",
      "/Data2/SubX/NASA/GEOS_V2p1/tas_2m/2011/jan/tas_2m_GMAOGEOS_01jan2011_00z_d01_d45_m03.nc\n",
      "/Data2/SubX/NASA/GEOS_V2p1/tas_2m/2011/jan/tas_2m_GMAOGEOS_01jan2011_00z_d01_d45_m04.nc\n",
      "/Data2/SubX/NASA/GEOS_V2p1/tas_2m/2011/jan/tas_2m_GMAOGEOS_06jan2011_00z_d01_d45_m01.nc\n",
      "/Data2/SubX/NASA/GEOS_V2p1/tas_2m/2011/jan/tas_2m_GMAOGEOS_06jan2011_00z_d01_d45_m02.nc\n",
      "/Data2/SubX/NASA/GEOS_V2p1/tas_2m/2011/jan/tas_2m_GMAOGEOS_06jan2011_00z_d01_d45_m03.nc\n",
      "/Data2/SubX/NASA/GEOS_V2p1/tas_2m/2011/jan/tas_2m_GMAOGEOS_06jan2011_00z_d01_d45_m04.nc\n",
      "/Data2/SubX/NASA/GEOS_V2p1/tas_2m/2011/jan/tas_2m_GMAOGEOS_11jan2011_00z_d01_d45_m01.nc\n",
      "/Data2/SubX/NASA/GEOS_V2p1/tas_2m/2011/jan/tas_2m_GMAOGEOS_11jan2011_00z_d01_d45_m02.nc\n",
      "/Data2/SubX/NASA/GEOS_V2p1/tas_2m/2011/jan/tas_2m_GMAOGEOS_11jan2011_00z_d01_d45_m03.nc\n",
      "/Data2/SubX/NASA/GEOS_V2p1/tas_2m/2011/jan/tas_2m_GMAOGEOS_11jan2011_00z_d01_d45_m04.nc\n",
      "/Data2/SubX/NASA/GEOS_V2p1/tas_2m/2011/jan/tas_2m_GMAOGEOS_16jan2011_00z_d01_d45_m01.nc\n",
      "/Data2/SubX/NASA/GEOS_V2p1/tas_2m/2011/jan/tas_2m_GMAOGEOS_16jan2011_00z_d01_d45_m02.nc\n",
      "/Data2/SubX/NASA/GEOS_V2p1/tas_2m/2011/jan/tas_2m_GMAOGEOS_16jan2011_00z_d01_d45_m03.nc\n",
      "/Data2/SubX/NASA/GEOS_V2p1/tas_2m/2011/jan/tas_2m_GMAOGEOS_16jan2011_00z_d01_d45_m04.nc\n",
      "/Data2/SubX/NASA/GEOS_V2p1/tas_2m/2011/jan/tas_2m_GMAOGEOS_21jan2011_00z_d01_d45_m01.nc\n",
      "/Data2/SubX/NASA/GEOS_V2p1/tas_2m/2011/jan/tas_2m_GMAOGEOS_21jan2011_00z_d01_d45_m02.nc\n",
      "/Data2/SubX/NASA/GEOS_V2p1/tas_2m/2011/jan/tas_2m_GMAOGEOS_21jan2011_00z_d01_d45_m03.nc\n",
      "/Data2/SubX/NASA/GEOS_V2p1/tas_2m/2011/jan/tas_2m_GMAOGEOS_21jan2011_00z_d01_d45_m04.nc\n",
      "/Data2/SubX/NASA/GEOS_V2p1/tas_2m/2011/jan/tas_2m_GMAOGEOS_26jan2011_00z_d01_d45_m01.nc\n",
      "/Data2/SubX/NASA/GEOS_V2p1/tas_2m/2011/jan/tas_2m_GMAOGEOS_26jan2011_00z_d01_d45_m02.nc\n",
      "/Data2/SubX/NASA/GEOS_V2p1/tas_2m/2011/jan/tas_2m_GMAOGEOS_26jan2011_00z_d01_d45_m03.nc\n",
      "/Data2/SubX/NASA/GEOS_V2p1/tas_2m/2011/jan/tas_2m_GMAOGEOS_26jan2011_00z_d01_d45_m04.nc\n",
      "/Data2/SubX/NASA/GEOS_V2p1/tas_2m/2011/jan/tas_2m_GMAOGEOS_31jan2011_00z_d01_d45_m01.nc\n",
      "/Data2/SubX/NASA/GEOS_V2p1/tas_2m/2011/jan/tas_2m_GMAOGEOS_31jan2011_00z_d01_d45_m02.nc\n",
      "/Data2/SubX/NASA/GEOS_V2p1/tas_2m/2011/jan/tas_2m_GMAOGEOS_31jan2011_00z_d01_d45_m03.nc\n",
      "/Data2/SubX/NASA/GEOS_V2p1/tas_2m/2011/jan/tas_2m_GMAOGEOS_31jan2011_00z_d01_d45_m04.nc\n",
      "2012\n",
      "2013\n",
      "2014\n",
      "2015\n",
      "2016\n",
      "tdps_2m\n",
      "1999\n",
      "2000\n",
      "2001\n",
      "2002\n",
      "2003\n",
      "2004\n",
      "2005\n",
      "2006\n",
      "2007\n",
      "2008\n",
      "2009\n",
      "2010\n",
      "2011\n",
      "/Data2/SubX/NASA/GEOS_V2p1/tdps_2m/2011/jan/tdps_2m_GMAOGEOS_01jan2011_00z_d01_d45_m01.nc\n",
      "/Data2/SubX/NASA/GEOS_V2p1/tdps_2m/2011/jan/tdps_2m_GMAOGEOS_01jan2011_00z_d01_d45_m02.nc\n",
      "/Data2/SubX/NASA/GEOS_V2p1/tdps_2m/2011/jan/tdps_2m_GMAOGEOS_01jan2011_00z_d01_d45_m03.nc\n",
      "/Data2/SubX/NASA/GEOS_V2p1/tdps_2m/2011/jan/tdps_2m_GMAOGEOS_01jan2011_00z_d01_d45_m04.nc\n",
      "/Data2/SubX/NASA/GEOS_V2p1/tdps_2m/2011/jan/tdps_2m_GMAOGEOS_06jan2011_00z_d01_d45_m01.nc\n",
      "/Data2/SubX/NASA/GEOS_V2p1/tdps_2m/2011/jan/tdps_2m_GMAOGEOS_06jan2011_00z_d01_d45_m02.nc\n",
      "/Data2/SubX/NASA/GEOS_V2p1/tdps_2m/2011/jan/tdps_2m_GMAOGEOS_06jan2011_00z_d01_d45_m03.nc\n",
      "/Data2/SubX/NASA/GEOS_V2p1/tdps_2m/2011/jan/tdps_2m_GMAOGEOS_06jan2011_00z_d01_d45_m04.nc\n",
      "/Data2/SubX/NASA/GEOS_V2p1/tdps_2m/2011/jan/tdps_2m_GMAOGEOS_11jan2011_00z_d01_d45_m01.nc\n",
      "/Data2/SubX/NASA/GEOS_V2p1/tdps_2m/2011/jan/tdps_2m_GMAOGEOS_11jan2011_00z_d01_d45_m02.nc\n",
      "/Data2/SubX/NASA/GEOS_V2p1/tdps_2m/2011/jan/tdps_2m_GMAOGEOS_11jan2011_00z_d01_d45_m03.nc\n",
      "/Data2/SubX/NASA/GEOS_V2p1/tdps_2m/2011/jan/tdps_2m_GMAOGEOS_11jan2011_00z_d01_d45_m04.nc\n",
      "/Data2/SubX/NASA/GEOS_V2p1/tdps_2m/2011/jan/tdps_2m_GMAOGEOS_16jan2011_00z_d01_d45_m01.nc\n",
      "/Data2/SubX/NASA/GEOS_V2p1/tdps_2m/2011/jan/tdps_2m_GMAOGEOS_16jan2011_00z_d01_d45_m02.nc\n",
      "/Data2/SubX/NASA/GEOS_V2p1/tdps_2m/2011/jan/tdps_2m_GMAOGEOS_16jan2011_00z_d01_d45_m03.nc\n",
      "/Data2/SubX/NASA/GEOS_V2p1/tdps_2m/2011/jan/tdps_2m_GMAOGEOS_16jan2011_00z_d01_d45_m04.nc\n",
      "/Data2/SubX/NASA/GEOS_V2p1/tdps_2m/2011/jan/tdps_2m_GMAOGEOS_21jan2011_00z_d01_d45_m01.nc\n",
      "/Data2/SubX/NASA/GEOS_V2p1/tdps_2m/2011/jan/tdps_2m_GMAOGEOS_21jan2011_00z_d01_d45_m02.nc\n",
      "/Data2/SubX/NASA/GEOS_V2p1/tdps_2m/2011/jan/tdps_2m_GMAOGEOS_21jan2011_00z_d01_d45_m03.nc\n",
      "/Data2/SubX/NASA/GEOS_V2p1/tdps_2m/2011/jan/tdps_2m_GMAOGEOS_21jan2011_00z_d01_d45_m04.nc\n",
      "/Data2/SubX/NASA/GEOS_V2p1/tdps_2m/2011/jan/tdps_2m_GMAOGEOS_26jan2011_00z_d01_d45_m01.nc\n",
      "/Data2/SubX/NASA/GEOS_V2p1/tdps_2m/2011/jan/tdps_2m_GMAOGEOS_26jan2011_00z_d01_d45_m02.nc\n",
      "/Data2/SubX/NASA/GEOS_V2p1/tdps_2m/2011/jan/tdps_2m_GMAOGEOS_26jan2011_00z_d01_d45_m03.nc\n",
      "/Data2/SubX/NASA/GEOS_V2p1/tdps_2m/2011/jan/tdps_2m_GMAOGEOS_26jan2011_00z_d01_d45_m04.nc\n",
      "/Data2/SubX/NASA/GEOS_V2p1/tdps_2m/2011/jan/tdps_2m_GMAOGEOS_31jan2011_00z_d01_d45_m01.nc\n",
      "/Data2/SubX/NASA/GEOS_V2p1/tdps_2m/2011/jan/tdps_2m_GMAOGEOS_31jan2011_00z_d01_d45_m02.nc\n",
      "/Data2/SubX/NASA/GEOS_V2p1/tdps_2m/2011/jan/tdps_2m_GMAOGEOS_31jan2011_00z_d01_d45_m03.nc\n",
      "/Data2/SubX/NASA/GEOS_V2p1/tdps_2m/2011/jan/tdps_2m_GMAOGEOS_31jan2011_00z_d01_d45_m04.nc\n",
      "2012\n",
      "2013\n",
      "2014\n",
      "2015\n",
      "2016\n",
      "wap_500\n",
      "1999\n",
      "2000\n",
      "2001\n",
      "2002\n",
      "2003\n",
      "2004\n",
      "2005\n",
      "2006\n",
      "2007\n",
      "2008\n",
      "2009\n",
      "2010\n",
      "2011\n",
      "/Data2/SubX/NASA/GEOS_V2p1/wap_500/2011/jan/wap_500_GMAOGEOS_01jan2011_00z_d01_d45_m01.nc\n",
      "/Data2/SubX/NASA/GEOS_V2p1/wap_500/2011/jan/wap_500_GMAOGEOS_01jan2011_00z_d01_d45_m02.nc\n",
      "/Data2/SubX/NASA/GEOS_V2p1/wap_500/2011/jan/wap_500_GMAOGEOS_01jan2011_00z_d01_d45_m03.nc\n",
      "/Data2/SubX/NASA/GEOS_V2p1/wap_500/2011/jan/wap_500_GMAOGEOS_01jan2011_00z_d01_d45_m04.nc\n",
      "/Data2/SubX/NASA/GEOS_V2p1/wap_500/2011/jan/wap_500_GMAOGEOS_06jan2011_00z_d01_d45_m01.nc\n",
      "/Data2/SubX/NASA/GEOS_V2p1/wap_500/2011/jan/wap_500_GMAOGEOS_06jan2011_00z_d01_d45_m02.nc\n",
      "/Data2/SubX/NASA/GEOS_V2p1/wap_500/2011/jan/wap_500_GMAOGEOS_06jan2011_00z_d01_d45_m03.nc\n",
      "/Data2/SubX/NASA/GEOS_V2p1/wap_500/2011/jan/wap_500_GMAOGEOS_06jan2011_00z_d01_d45_m04.nc\n",
      "/Data2/SubX/NASA/GEOS_V2p1/wap_500/2011/jan/wap_500_GMAOGEOS_11jan2011_00z_d01_d45_m01.nc\n",
      "/Data2/SubX/NASA/GEOS_V2p1/wap_500/2011/jan/wap_500_GMAOGEOS_11jan2011_00z_d01_d45_m02.nc\n",
      "/Data2/SubX/NASA/GEOS_V2p1/wap_500/2011/jan/wap_500_GMAOGEOS_11jan2011_00z_d01_d45_m03.nc\n",
      "/Data2/SubX/NASA/GEOS_V2p1/wap_500/2011/jan/wap_500_GMAOGEOS_11jan2011_00z_d01_d45_m04.nc\n",
      "/Data2/SubX/NASA/GEOS_V2p1/wap_500/2011/jan/wap_500_GMAOGEOS_16jan2011_00z_d01_d45_m01.nc\n",
      "/Data2/SubX/NASA/GEOS_V2p1/wap_500/2011/jan/wap_500_GMAOGEOS_16jan2011_00z_d01_d45_m02.nc\n",
      "/Data2/SubX/NASA/GEOS_V2p1/wap_500/2011/jan/wap_500_GMAOGEOS_16jan2011_00z_d01_d45_m03.nc\n",
      "/Data2/SubX/NASA/GEOS_V2p1/wap_500/2011/jan/wap_500_GMAOGEOS_16jan2011_00z_d01_d45_m04.nc\n",
      "/Data2/SubX/NASA/GEOS_V2p1/wap_500/2011/jan/wap_500_GMAOGEOS_21jan2011_00z_d01_d45_m01.nc\n",
      "/Data2/SubX/NASA/GEOS_V2p1/wap_500/2011/jan/wap_500_GMAOGEOS_21jan2011_00z_d01_d45_m02.nc\n",
      "/Data2/SubX/NASA/GEOS_V2p1/wap_500/2011/jan/wap_500_GMAOGEOS_21jan2011_00z_d01_d45_m03.nc\n",
      "/Data2/SubX/NASA/GEOS_V2p1/wap_500/2011/jan/wap_500_GMAOGEOS_21jan2011_00z_d01_d45_m04.nc\n",
      "/Data2/SubX/NASA/GEOS_V2p1/wap_500/2011/jan/wap_500_GMAOGEOS_26jan2011_00z_d01_d45_m01.nc\n",
      "/Data2/SubX/NASA/GEOS_V2p1/wap_500/2011/jan/wap_500_GMAOGEOS_26jan2011_00z_d01_d45_m02.nc\n",
      "/Data2/SubX/NASA/GEOS_V2p1/wap_500/2011/jan/wap_500_GMAOGEOS_26jan2011_00z_d01_d45_m03.nc\n",
      "/Data2/SubX/NASA/GEOS_V2p1/wap_500/2011/jan/wap_500_GMAOGEOS_26jan2011_00z_d01_d45_m04.nc\n",
      "/Data2/SubX/NASA/GEOS_V2p1/wap_500/2011/jan/wap_500_GMAOGEOS_31jan2011_00z_d01_d45_m01.nc\n",
      "/Data2/SubX/NASA/GEOS_V2p1/wap_500/2011/jan/wap_500_GMAOGEOS_31jan2011_00z_d01_d45_m02.nc\n",
      "/Data2/SubX/NASA/GEOS_V2p1/wap_500/2011/jan/wap_500_GMAOGEOS_31jan2011_00z_d01_d45_m03.nc\n",
      "/Data2/SubX/NASA/GEOS_V2p1/wap_500/2011/jan/wap_500_GMAOGEOS_31jan2011_00z_d01_d45_m04.nc\n"
     ]
    },
    {
     "name": "stdout",
     "output_type": "stream",
     "text": [
      "2012\n",
      "2013\n",
      "2014\n",
      "2015\n",
      "2016\n",
      "pr_sfc\n",
      "1999\n",
      "2000\n",
      "2001\n",
      "2002\n",
      "2003\n",
      "2004\n",
      "2005\n",
      "2006\n",
      "2007\n",
      "2008\n",
      "2009\n",
      "2010\n",
      "2011\n",
      "/Data2/SubX/NASA/GEOS_V2p1/pr_sfc/2011/jan/pr_sfc_GMAOGEOS_01jan2011_00z_d01_d45_m01.nc\n",
      "/Data2/SubX/NASA/GEOS_V2p1/pr_sfc/2011/jan/pr_sfc_GMAOGEOS_01jan2011_00z_d01_d45_m02.nc\n",
      "/Data2/SubX/NASA/GEOS_V2p1/pr_sfc/2011/jan/pr_sfc_GMAOGEOS_01jan2011_00z_d01_d45_m03.nc\n",
      "/Data2/SubX/NASA/GEOS_V2p1/pr_sfc/2011/jan/pr_sfc_GMAOGEOS_01jan2011_00z_d01_d45_m04.nc\n",
      "/Data2/SubX/NASA/GEOS_V2p1/pr_sfc/2011/jan/pr_sfc_GMAOGEOS_06jan2011_00z_d01_d45_m01.nc\n",
      "/Data2/SubX/NASA/GEOS_V2p1/pr_sfc/2011/jan/pr_sfc_GMAOGEOS_06jan2011_00z_d01_d45_m02.nc\n",
      "/Data2/SubX/NASA/GEOS_V2p1/pr_sfc/2011/jan/pr_sfc_GMAOGEOS_06jan2011_00z_d01_d45_m03.nc\n",
      "/Data2/SubX/NASA/GEOS_V2p1/pr_sfc/2011/jan/pr_sfc_GMAOGEOS_06jan2011_00z_d01_d45_m04.nc\n",
      "/Data2/SubX/NASA/GEOS_V2p1/pr_sfc/2011/jan/pr_sfc_GMAOGEOS_11jan2011_00z_d01_d45_m01.nc\n",
      "/Data2/SubX/NASA/GEOS_V2p1/pr_sfc/2011/jan/pr_sfc_GMAOGEOS_11jan2011_00z_d01_d45_m02.nc\n",
      "/Data2/SubX/NASA/GEOS_V2p1/pr_sfc/2011/jan/pr_sfc_GMAOGEOS_11jan2011_00z_d01_d45_m03.nc\n",
      "/Data2/SubX/NASA/GEOS_V2p1/pr_sfc/2011/jan/pr_sfc_GMAOGEOS_11jan2011_00z_d01_d45_m04.nc\n",
      "/Data2/SubX/NASA/GEOS_V2p1/pr_sfc/2011/jan/pr_sfc_GMAOGEOS_16jan2011_00z_d01_d45_m01.nc\n",
      "/Data2/SubX/NASA/GEOS_V2p1/pr_sfc/2011/jan/pr_sfc_GMAOGEOS_16jan2011_00z_d01_d45_m02.nc\n",
      "/Data2/SubX/NASA/GEOS_V2p1/pr_sfc/2011/jan/pr_sfc_GMAOGEOS_16jan2011_00z_d01_d45_m03.nc\n",
      "/Data2/SubX/NASA/GEOS_V2p1/pr_sfc/2011/jan/pr_sfc_GMAOGEOS_16jan2011_00z_d01_d45_m04.nc\n",
      "/Data2/SubX/NASA/GEOS_V2p1/pr_sfc/2011/jan/pr_sfc_GMAOGEOS_21jan2011_00z_d01_d45_m01.nc\n",
      "/Data2/SubX/NASA/GEOS_V2p1/pr_sfc/2011/jan/pr_sfc_GMAOGEOS_21jan2011_00z_d01_d45_m02.nc\n",
      "/Data2/SubX/NASA/GEOS_V2p1/pr_sfc/2011/jan/pr_sfc_GMAOGEOS_21jan2011_00z_d01_d45_m03.nc\n",
      "/Data2/SubX/NASA/GEOS_V2p1/pr_sfc/2011/jan/pr_sfc_GMAOGEOS_21jan2011_00z_d01_d45_m04.nc\n",
      "/Data2/SubX/NASA/GEOS_V2p1/pr_sfc/2011/jan/pr_sfc_GMAOGEOS_26jan2011_00z_d01_d45_m01.nc\n",
      "/Data2/SubX/NASA/GEOS_V2p1/pr_sfc/2011/jan/pr_sfc_GMAOGEOS_26jan2011_00z_d01_d45_m02.nc\n",
      "/Data2/SubX/NASA/GEOS_V2p1/pr_sfc/2011/jan/pr_sfc_GMAOGEOS_26jan2011_00z_d01_d45_m03.nc\n",
      "/Data2/SubX/NASA/GEOS_V2p1/pr_sfc/2011/jan/pr_sfc_GMAOGEOS_26jan2011_00z_d01_d45_m04.nc\n",
      "/Data2/SubX/NASA/GEOS_V2p1/pr_sfc/2011/jan/pr_sfc_GMAOGEOS_31jan2011_00z_d01_d45_m01.nc\n",
      "/Data2/SubX/NASA/GEOS_V2p1/pr_sfc/2011/jan/pr_sfc_GMAOGEOS_31jan2011_00z_d01_d45_m02.nc\n",
      "/Data2/SubX/NASA/GEOS_V2p1/pr_sfc/2011/jan/pr_sfc_GMAOGEOS_31jan2011_00z_d01_d45_m03.nc\n",
      "/Data2/SubX/NASA/GEOS_V2p1/pr_sfc/2011/jan/pr_sfc_GMAOGEOS_31jan2011_00z_d01_d45_m04.nc\n",
      "2012\n",
      "2013\n",
      "2014\n",
      "2015\n",
      "2016\n"
     ]
    }
   ],
   "source": [
    "from glob import glob\n",
    "def pre_process_func(ds, strM):\n",
    "    ds = ds.sel(lat=slice(23,50), lon=slice(230,300))\n",
    "    ds.coords['S'] = ds.time[0].values\n",
    "    ds.coords['S'] = ds.S - np.timedelta64(12,'h') \n",
    "    ds.coords['M'] = np.int(strM)\n",
    "    ds.coords['time'] = ds.time-ds.S\n",
    "    ds = ds.expand_dims(['S','M'])\n",
    "    return ds\n",
    "def read_netcdfs(files, dim, transform_func=None):\n",
    "    def process_one_path(path):\n",
    "        # use a context manager, to ensure the file gets closed after use\n",
    "        with xr.open_dataset(path, chunks={}) as ds:\n",
    "#             print(path)\n",
    "            # transform_func should do some sort of selection or\n",
    "            # aggregation\n",
    "            if transform_func is not None:\n",
    "                ds = transform_func(ds, path[-5:-3])\n",
    "            # load all data from the transformed dataset, to ensure we can\n",
    "            # use it after closing each original file\n",
    "#             print(ds)\n",
    "#             ds.load()\n",
    "            return ds\n",
    "\n",
    "    paths = sorted(glob(files))\n",
    "#     print(paths)\n",
    "    datasets = []\n",
    "    for p in paths:\n",
    "#         print(p)\n",
    "        if (p.split('/')[6]=='2011')&(p.split('/')[7]=='jan'):\n",
    "            print(p)\n",
    "        else:\n",
    "            datasets.append(process_one_path(p))\n",
    "        \n",
    "#     datasets = [process_one_path(p) for p in paths]\n",
    "    \n",
    "    combined = xr.combine_by_coords(datasets)\n",
    "    combined = combined.chunk({'S':4,'M':-1})\n",
    "    return combined\n",
    "\n",
    "\n",
    "\n",
    "var_l=[]\n",
    "for ivar in variable_names:\n",
    "    print(ivar)\n",
    "    if ivar in os.listdir('/Data2/SubX/NASA/GEOS_V2p1/'):    \n",
    "        c_l = []\n",
    "        for iy in np.arange(1999, 2017):\n",
    "            print(iy)\n",
    "            # here we suppose we only care about the combined mean of each file;\n",
    "            # you might also use indexing operations like .sel to subset datasets\n",
    "#             for im in np.arange()\n",
    "            combined = read_netcdfs('/Data2/SubX/NASA/GEOS_V2p1/'+ivar+'/'+np.str(iy)+'/*/*.nc', dim=['S','M'],\n",
    "                                    transform_func=pre_process_func)\n",
    "\n",
    "            c_l.append(combined)\n",
    "    all_values = xr.concat(c_l, dim='S') \n",
    "    var_l.append(all_values)\n",
    "all_variables = xr.merge(var_l)"
   ]
  },
  {
   "cell_type": "code",
   "execution_count": 12,
   "metadata": {},
   "outputs": [],
   "source": [
    "#p = '/Data2/SubX/NASA/GEOS_V2p1/cape/2011/jan/'"
   ]
  },
  {
   "cell_type": "code",
   "execution_count": 13,
   "metadata": {},
   "outputs": [
    {
     "data": {
      "text/plain": [
       "<xarray.Dataset>\n",
       "Dimensions:  (M: 4, S: 1307, lat: 28, lev: 1, lon: 71, time: 45)\n",
       "Coordinates:\n",
       "  * lon      (lon) float32 230.0 231.0 232.0 233.0 ... 297.0 298.0 299.0 300.0\n",
       "  * lat      (lat) float32 23.0 24.0 25.0 26.0 27.0 ... 46.0 47.0 48.0 49.0 50.0\n",
       "  * time     (time) timedelta64[ns] 0 days 12:00:00 ... 44 days 12:00:00\n",
       "  * M        (M) int64 1 2 3 4\n",
       "  * S        (S) datetime64[ns] 1999-01-01 1999-01-06 ... 2016-12-22 2016-12-27\n",
       "  * lev      (lev) float64 500.0\n",
       "Data variables:\n",
       "    cape     (S, M, time, lat, lon) float32 dask.array<chunksize=(4, 4, 45, 28, 71), meta=np.ndarray>\n",
       "    tas      (S, M, time, lat, lon) float32 dask.array<chunksize=(4, 4, 45, 28, 71), meta=np.ndarray>\n",
       "    tdps     (S, M, time, lat, lon) float32 dask.array<chunksize=(4, 4, 45, 28, 71), meta=np.ndarray>\n",
       "    wap      (S, M, time, lev, lat, lon) float32 dask.array<chunksize=(4, 4, 45, 1, 28, 71), meta=np.ndarray>\n",
       "    pr       (S, M, time, lat, lon) float32 dask.array<chunksize=(4, 4, 45, 28, 71), meta=np.ndarray>"
      ]
     },
     "execution_count": 13,
     "metadata": {},
     "output_type": "execute_result"
    }
   ],
   "source": [
    "all_variables"
   ]
  },
  {
   "cell_type": "code",
   "execution_count": 55,
   "metadata": {},
   "outputs": [
    {
     "data": {
      "text/plain": [
       "[<matplotlib.lines.Line2D at 0x7f1296dcc438>]"
      ]
     },
     "execution_count": 55,
     "metadata": {},
     "output_type": "execute_result"
    },
    {
     "data": {
      "image/png": "[encoded data removed]",
      "text/plain": [
       "<Figure size 432x288 with 1 Axes>"
      ]
     },
     "metadata": {
      "needs_background": "light"
     },
     "output_type": "display_data"
    }
   ],
   "source": [
    "all_variables.cape.sel(S=slice('2011-01-01', '2011-12-28')).mean(dim=['lat','lon','M','time']).plot.line(add_legend=False)"
   ]
  }
 ],
 "metadata": {
  "kernelspec": {
   "display_name": "Python 3",
   "language": "python",
   "name": "python3"
  },
  "language_info": {
   "codemirror_mode": {
    "name": "ipython",
    "version": 3
   },
   "file_extension": ".py",
   "mimetype": "text/x-python",
   "name": "python",
   "nbconvert_exporter": "python",
   "pygments_lexer": "ipython3",
   "version": "3.6.7"
  }
 },
 "nbformat": 4,
 "nbformat_minor": 2
}
