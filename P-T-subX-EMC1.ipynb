{
 "cells": [
  {
   "cell_type": "markdown",
   "metadata": {},
   "source": [
    "# USE GENERAL_PYTHON3"
   ]
  },
  {
   "cell_type": "code",
   "execution_count": 1,
   "metadata": {},
   "outputs": [],
   "source": [
    "import numpy as np\n",
    "import xarray as xr\n",
    "import pandas as pd\n",
    "import datetime\n",
    "\n",
    "from datetime import timedelta, datetime, date\n",
    "import calendar\n",
    "\n",
    "import numpy as np\n",
    "from matplotlib import pyplot as plt\n",
    "%matplotlib inline\n"
   ]
  },
  {
   "cell_type": "code",
   "execution_count": 2,
   "metadata": {},
   "outputs": [
    {
     "name": "stdout",
     "output_type": "stream",
     "text": [
      "/home/clepore/.conda/envs/general_python3/bin/python\r\n"
     ]
    }
   ],
   "source": [
    "!which python"
   ]
  },
  {
   "cell_type": "code",
   "execution_count": 3,
   "metadata": {},
   "outputs": [],
   "source": [
    "import os\n"
   ]
  },
  {
   "cell_type": "code",
   "execution_count": 4,
   "metadata": {},
   "outputs": [],
   "source": [
    "import Nio\n",
    "import glob"
   ]
  },
  {
   "cell_type": "code",
   "execution_count": 5,
   "metadata": {},
   "outputs": [
    {
     "name": "stdout",
     "output_type": "stream",
     "text": [
      "tas_2m_GEFS_02jun1999_00z_d01_d35_m00.grb2\r\n",
      "tas_2m_GEFS_02jun1999_00z_d01_d35_m01.grb2\r\n",
      "tas_2m_GEFS_02jun1999_00z_d01_d35_m02.grb2\r\n",
      "tas_2m_GEFS_02jun1999_00z_d01_d35_m03.grb2\r\n",
      "tas_2m_GEFS_02jun1999_00z_d01_d35_m04.grb2\r\n",
      "tas_2m_GEFS_02jun1999_00z_d01_d35_m05.grb2\r\n",
      "tas_2m_GEFS_02jun1999_00z_d01_d35_m06.grb2\r\n",
      "tas_2m_GEFS_02jun1999_00z_d01_d35_m07.grb2\r\n",
      "tas_2m_GEFS_02jun1999_00z_d01_d35_m08.grb2\r\n",
      "tas_2m_GEFS_02jun1999_00z_d01_d35_m09.grb2\r\n",
      "tas_2m_GEFS_02jun1999_00z_d01_d35_m10.grb2\r\n",
      "tas_2m_GEFS_09jun1999_00z_d01_d35_m00.grb2\r\n",
      "tas_2m_GEFS_09jun1999_00z_d01_d35_m01.grb2\r\n",
      "tas_2m_GEFS_09jun1999_00z_d01_d35_m02.grb2\r\n",
      "tas_2m_GEFS_09jun1999_00z_d01_d35_m03.grb2\r\n",
      "tas_2m_GEFS_09jun1999_00z_d01_d35_m04.grb2\r\n",
      "tas_2m_GEFS_09jun1999_00z_d01_d35_m05.grb2\r\n",
      "tas_2m_GEFS_09jun1999_00z_d01_d35_m06.grb2\r\n",
      "tas_2m_GEFS_09jun1999_00z_d01_d35_m07.grb2\r\n",
      "tas_2m_GEFS_09jun1999_00z_d01_d35_m08.grb2\r\n",
      "tas_2m_GEFS_09jun1999_00z_d01_d35_m09.grb2\r\n",
      "tas_2m_GEFS_09jun1999_00z_d01_d35_m10.grb2\r\n",
      "tas_2m_GEFS_16jun1999_00z_d01_d35_m00.grb2\r\n",
      "tas_2m_GEFS_16jun1999_00z_d01_d35_m01.grb2\r\n",
      "tas_2m_GEFS_16jun1999_00z_d01_d35_m02.grb2\r\n",
      "tas_2m_GEFS_16jun1999_00z_d01_d35_m03.grb2\r\n",
      "tas_2m_GEFS_16jun1999_00z_d01_d35_m04.grb2\r\n",
      "tas_2m_GEFS_16jun1999_00z_d01_d35_m05.grb2\r\n",
      "tas_2m_GEFS_16jun1999_00z_d01_d35_m06.grb2\r\n",
      "tas_2m_GEFS_16jun1999_00z_d01_d35_m07.grb2\r\n",
      "tas_2m_GEFS_16jun1999_00z_d01_d35_m08.grb2\r\n",
      "tas_2m_GEFS_16jun1999_00z_d01_d35_m09.grb2\r\n",
      "tas_2m_GEFS_16jun1999_00z_d01_d35_m10.grb2\r\n",
      "tas_2m_GEFS_23jun1999_00z_d01_d35_m00.grb2\r\n",
      "tas_2m_GEFS_23jun1999_00z_d01_d35_m01.grb2\r\n",
      "tas_2m_GEFS_23jun1999_00z_d01_d35_m02.grb2\r\n",
      "tas_2m_GEFS_23jun1999_00z_d01_d35_m03.grb2\r\n",
      "tas_2m_GEFS_23jun1999_00z_d01_d35_m04.grb2\r\n",
      "tas_2m_GEFS_23jun1999_00z_d01_d35_m05.grb2\r\n",
      "tas_2m_GEFS_23jun1999_00z_d01_d35_m06.grb2\r\n",
      "tas_2m_GEFS_23jun1999_00z_d01_d35_m07.grb2\r\n",
      "tas_2m_GEFS_23jun1999_00z_d01_d35_m08.grb2\r\n",
      "tas_2m_GEFS_23jun1999_00z_d01_d35_m09.grb2\r\n",
      "tas_2m_GEFS_23jun1999_00z_d01_d35_m10.grb2\r\n",
      "tas_2m_GEFS_30jun1999_00z_d01_d35_m00.grb2\r\n",
      "tas_2m_GEFS_30jun1999_00z_d01_d35_m01.grb2\r\n",
      "tas_2m_GEFS_30jun1999_00z_d01_d35_m02.grb2\r\n",
      "tas_2m_GEFS_30jun1999_00z_d01_d35_m03.grb2\r\n",
      "tas_2m_GEFS_30jun1999_00z_d01_d35_m04.grb2\r\n",
      "tas_2m_GEFS_30jun1999_00z_d01_d35_m05.grb2\r\n",
      "tas_2m_GEFS_30jun1999_00z_d01_d35_m06.grb2\r\n",
      "tas_2m_GEFS_30jun1999_00z_d01_d35_m07.grb2\r\n",
      "tas_2m_GEFS_30jun1999_00z_d01_d35_m08.grb2\r\n",
      "tas_2m_GEFS_30jun1999_00z_d01_d35_m09.grb2\r\n",
      "tas_2m_GEFS_30jun1999_00z_d01_d35_m10.grb2\r\n"
     ]
    }
   ],
   "source": [
    "!ls /Data2/SubX/EMC/GEFS/tas_2m/1999/06\n"
   ]
  },
  {
   "cell_type": "code",
   "execution_count": 6,
   "metadata": {},
   "outputs": [
    {
     "name": "stdout",
     "output_type": "stream",
     "text": [
      "1:0:d=1999060200:CAPE:180-0 mb above ground:1 day fcst:ENS=low-res ctl\r\n",
      "2:46954:d=1999060200:CAPE:180-0 mb above ground:2 day fcst:ENS=low-res ctl\r\n",
      "3:92924:d=1999060200:CAPE:180-0 mb above ground:3 day fcst:ENS=low-res ctl\r\n",
      "4:139690:d=1999060200:CAPE:180-0 mb above ground:4 day fcst:ENS=low-res ctl\r\n",
      "5:186582:d=1999060200:CAPE:180-0 mb above ground:5 day fcst:ENS=low-res ctl\r\n",
      "6:233994:d=1999060200:CAPE:180-0 mb above ground:6 day fcst:ENS=low-res ctl\r\n",
      "7:281218:d=1999060200:CAPE:180-0 mb above ground:7 day fcst:ENS=low-res ctl\r\n",
      "8:328742:d=1999060200:CAPE:180-0 mb above ground:8 day fcst:ENS=low-res ctl\r\n",
      "9:375455:d=1999060200:CAPE:180-0 mb above ground:9 day fcst:ENS=low-res ctl\r\n",
      "10:420780:d=1999060200:CAPE:180-0 mb above ground:10 day fcst:ENS=low-res ctl\r\n",
      "11:465309:d=1999060200:CAPE:180-0 mb above ground:11 day fcst:ENS=low-res ctl\r\n",
      "12:510293:d=1999060200:CAPE:180-0 mb above ground:12 day fcst:ENS=low-res ctl\r\n",
      "13:555360:d=1999060200:CAPE:180-0 mb above ground:13 day fcst:ENS=low-res ctl\r\n",
      "14:600065:d=1999060200:CAPE:180-0 mb above ground:14 day fcst:ENS=low-res ctl\r\n",
      "15:645256:d=1999060200:CAPE:180-0 mb above ground:15 day fcst:ENS=low-res ctl\r\n",
      "16:689274:d=1999060200:CAPE:180-0 mb above ground:16 day fcst:ENS=low-res ctl\r\n",
      "17:733088:d=1999060200:CAPE:180-0 mb above ground:17 day fcst:ENS=low-res ctl\r\n",
      "18:777941:d=1999060200:CAPE:180-0 mb above ground:18 day fcst:ENS=low-res ctl\r\n",
      "19:822541:d=1999060200:CAPE:180-0 mb above ground:19 day fcst:ENS=low-res ctl\r\n",
      "20:867110:d=1999060200:CAPE:180-0 mb above ground:20 day fcst:ENS=low-res ctl\r\n",
      "21:911639:d=1999060200:CAPE:180-0 mb above ground:21 day fcst:ENS=low-res ctl\r\n",
      "22:956300:d=1999060200:CAPE:180-0 mb above ground:22 day fcst:ENS=low-res ctl\r\n",
      "23:1001708:d=1999060200:CAPE:180-0 mb above ground:23 day fcst:ENS=low-res ctl\r\n",
      "24:1046497:d=1999060200:CAPE:180-0 mb above ground:24 day fcst:ENS=low-res ctl\r\n",
      "25:1091102:d=1999060200:CAPE:180-0 mb above ground:25 day fcst:ENS=low-res ctl\r\n",
      "26:1136391:d=1999060200:CAPE:180-0 mb above ground:26 day fcst:ENS=low-res ctl\r\n",
      "27:1182634:d=1999060200:CAPE:180-0 mb above ground:27 day fcst:ENS=low-res ctl\r\n",
      "28:1229227:d=1999060200:CAPE:180-0 mb above ground:28 day fcst:ENS=low-res ctl\r\n",
      "29:1275321:d=1999060200:CAPE:180-0 mb above ground:29 day fcst:ENS=low-res ctl\r\n",
      "30:1321203:d=1999060200:CAPE:180-0 mb above ground:30 day fcst:ENS=low-res ctl\r\n",
      "31:1366790:d=1999060200:CAPE:180-0 mb above ground:31 day fcst:ENS=low-res ctl\r\n",
      "32:1412184:d=1999060200:CAPE:180-0 mb above ground:32 day fcst:ENS=low-res ctl\r\n",
      "33:1457673:d=1999060200:CAPE:180-0 mb above ground:33 day fcst:ENS=low-res ctl\r\n",
      "34:1502994:d=1999060200:CAPE:180-0 mb above ground:34 day fcst:ENS=low-res ctl\r\n",
      "35:1548206:d=1999060200:CAPE:180-0 mb above ground:35 day fcst:ENS=low-res ctl\r\n"
     ]
    }
   ],
   "source": [
    "!wgrib2  /Data2/SubX/EMC/GEFS/cape/1999/06/cape_GEFS_02jun1999_00z_d01_d35_m00.grb2"
   ]
  },
  {
   "cell_type": "code",
   "execution_count": 7,
   "metadata": {},
   "outputs": [
    {
     "data": {
      "text/plain": [
       "<xarray.Dataset>\n",
       "Dimensions:          (forecast_time0: 35, lat_0: 181, lon_0: 360)\n",
       "Coordinates:\n",
       "  * lat_0            (lat_0) float32 90.0 89.0 88.0 87.0 ... -88.0 -89.0 -90.0\n",
       "  * lon_0            (lon_0) float32 0.0 1.0 2.0 3.0 ... 356.0 357.0 358.0 359.0\n",
       "  * forecast_time0   (forecast_time0) timedelta64[ns] 01:00:00 ... 1 days 11:00:00\n",
       "Data variables:\n",
       "    APCP_P1_L1_GLL0  (forecast_time0, lat_0, lon_0) float32 ..."
      ]
     },
     "execution_count": 7,
     "metadata": {},
     "output_type": "execute_result"
    }
   ],
   "source": [
    "ds = xr.open_dataset('/Data2/SubX/EMC/GEFS/pr_sfc/1999/06/pr_sfc_GEFS_02jun1999_00z_d01_d35_m00.grb2', \n",
    "                     engine='pynio')\n",
    "ds"
   ]
  },
  {
   "cell_type": "code",
   "execution_count": 23,
   "metadata": {},
   "outputs": [
    {
     "data": {
      "text/plain": [
       "<xarray.Dataset>\n",
       "Dimensions:  (lat: 181, lon: 360, time: 35)\n",
       "Coordinates:\n",
       "  * lat      (lat) float32 90.0 89.0 88.0 87.0 86.0 ... -87.0 -88.0 -89.0 -90.0\n",
       "  * lon      (lon) float32 0.0 1.0 2.0 3.0 4.0 ... 355.0 356.0 357.0 358.0 359.0\n",
       "  * time     (time) timedelta64[ns] 01:00:00 02:00:00 ... 1 days 11:00:00\n",
       "Data variables:\n",
       "    pr       (time, lat, lon) float32 0.0 0.0 0.0 0.0 0.0 ... 0.0 0.0 0.0 0.0"
      ]
     },
     "execution_count": 23,
     "metadata": {},
     "output_type": "execute_result"
    }
   ],
   "source": [
    "ds  = ds.rename({list(ds.variables.keys())[0]:'pr', 'lon_0':'lon', 'lat_0':'lat', 'forecast_time0':'time'})\n",
    "ds"
   ]
  },
  {
   "cell_type": "code",
   "execution_count": 24,
   "metadata": {},
   "outputs": [
    {
     "data": {
      "text/plain": [
       "<xarray.DataArray 'lon' (lon: 360)>\n",
       "array([  0.,   1.,   2., ..., 357., 358., 359.], dtype=float32)\n",
       "Coordinates:\n",
       "  * lon      (lon) float32 0.0 1.0 2.0 3.0 4.0 ... 355.0 356.0 357.0 358.0 359.0\n",
       "Attributes:\n",
       "    long_name:  longitude\n",
       "    grid_type:  Latitude/Longitude\n",
       "    units:      degrees_east\n",
       "    Dj:         [1.]\n",
       "    Di:         [1.]\n",
       "    Lo2:        [359.]\n",
       "    La2:        [-90.]\n",
       "    Lo1:        [0.]\n",
       "    La1:        [90.]"
      ]
     },
     "execution_count": 24,
     "metadata": {},
     "output_type": "execute_result"
    }
   ],
   "source": [
    "ds.coords['time']=np.arange(0.5,35.5)\n",
    "ds.lon"
   ]
  },
  {
   "cell_type": "markdown",
   "metadata": {},
   "source": [
    "####  The start time is at 00z the lead times at 12z - I am going to ignore this for the time being since I look at some accumulated/maximum weekly value"
   ]
  },
  {
   "cell_type": "code",
   "execution_count": 25,
   "metadata": {},
   "outputs": [],
   "source": [
    "# def ppf(ds):\n",
    "#     ds.coords['S'] = 'S', np.atleast_1d(ds.time[0].values) # I am setting S equal to the first time of the lead time, \n",
    "#                                                            # we can change that\n",
    "#     return ds"
   ]
  },
  {
   "cell_type": "code",
   "execution_count": 26,
   "metadata": {},
   "outputs": [],
   "source": [
    "def ppf2(ds):\n",
    "\n",
    "    print( ds[list(ds.variables.keys())[0]].encoding['source'])\n",
    "    ds  = ds.rename({ 'lon_0':'lon', 'lat_0':'lat', 'forecast_time0':'time'})\n",
    "    ds.coords['S'] = 'S', np.atleast_1d(ds.time[0].values - np.timedelta64(12, 'h'))\n",
    "    ds.rename({'time':'L'}, inplace=True)\n",
    "    ds.coords['L']=((ds.L-ds.S)/ np.timedelta64(1,'D')).squeeze()\n",
    "    ds = ds.sel(lat=slice(42,32),lon=slice(-103+360,-90+360))\n",
    "    return ds"
   ]
  },
  {
   "cell_type": "code",
   "execution_count": 28,
   "metadata": {},
   "outputs": [
    {
     "ename": "KeyError",
     "evalue": "'source'",
     "output_type": "error",
     "traceback": [
      "\u001b[0;31m---------------------------------------------------------------------------\u001b[0m",
      "\u001b[0;31mKeyError\u001b[0m                                  Traceback (most recent call last)",
      "\u001b[0;32m<ipython-input-28-d019811d7271>\u001b[0m in \u001b[0;36m<module>\u001b[0;34m\u001b[0m\n\u001b[1;32m      4\u001b[0m \u001b[0;32mfor\u001b[0m \u001b[0mensnum\u001b[0m \u001b[0;32min\u001b[0m \u001b[0mnp\u001b[0m\u001b[0;34m.\u001b[0m\u001b[0marange\u001b[0m\u001b[0;34m(\u001b[0m\u001b[0;36m0\u001b[0m\u001b[0;34m,\u001b[0m\u001b[0;36m11\u001b[0m\u001b[0;34m)\u001b[0m\u001b[0;34m:\u001b[0m\u001b[0;34m\u001b[0m\u001b[0m\n\u001b[1;32m      5\u001b[0m     \u001b[0mmylist\u001b[0m \u001b[0;34m=\u001b[0m \u001b[0mglob\u001b[0m\u001b[0;34m.\u001b[0m\u001b[0mglob\u001b[0m\u001b[0;34m(\u001b[0m\u001b[0;34m'/Data2/SubX/EMC/GEFS/'\u001b[0m\u001b[0;34m+\u001b[0m\u001b[0mvarname\u001b[0m\u001b[0;34m+\u001b[0m\u001b[0;34m'/'\u001b[0m\u001b[0;34m+\u001b[0m\u001b[0mnp\u001b[0m\u001b[0;34m.\u001b[0m\u001b[0mstr\u001b[0m\u001b[0;34m(\u001b[0m\u001b[0miy\u001b[0m\u001b[0;34m)\u001b[0m\u001b[0;34m+\u001b[0m\u001b[0;34m'/06/*_m'\u001b[0m\u001b[0;34m+\u001b[0m\u001b[0mnp\u001b[0m\u001b[0;34m.\u001b[0m\u001b[0mstr\u001b[0m\u001b[0;34m(\u001b[0m\u001b[0mensnum\u001b[0m\u001b[0;34m)\u001b[0m\u001b[0;34m.\u001b[0m\u001b[0mzfill\u001b[0m\u001b[0;34m(\u001b[0m\u001b[0;36m2\u001b[0m\u001b[0;34m)\u001b[0m \u001b[0;34m+\u001b[0m\u001b[0;34m'.grb2'\u001b[0m\u001b[0;34m)\u001b[0m\u001b[0;34m\u001b[0m\u001b[0m\n\u001b[0;32m----> 6\u001b[0;31m     \u001b[0mpr_S\u001b[0m\u001b[0;34m=\u001b[0m\u001b[0mxr\u001b[0m\u001b[0;34m.\u001b[0m\u001b[0mopen_mfdataset\u001b[0m\u001b[0;34m(\u001b[0m\u001b[0mmylist\u001b[0m\u001b[0;34m,\u001b[0m \u001b[0mconcat_dim\u001b[0m\u001b[0;34m=\u001b[0m\u001b[0;34m'S'\u001b[0m\u001b[0;34m,\u001b[0m \u001b[0mpreprocess\u001b[0m\u001b[0;34m=\u001b[0m\u001b[0mppf2\u001b[0m\u001b[0;34m,\u001b[0m \u001b[0mautoclose\u001b[0m\u001b[0;34m=\u001b[0m\u001b[0;32mTrue\u001b[0m\u001b[0;34m,\u001b[0m \u001b[0mengine\u001b[0m\u001b[0;34m=\u001b[0m\u001b[0;34m'pynio'\u001b[0m\u001b[0;34m)\u001b[0m\u001b[0;34m\u001b[0m\u001b[0m\n\u001b[0m\u001b[1;32m      7\u001b[0m     \u001b[0mpr_S\u001b[0m\u001b[0;34m.\u001b[0m\u001b[0mcoords\u001b[0m\u001b[0;34m[\u001b[0m\u001b[0;34m'M'\u001b[0m\u001b[0;34m]\u001b[0m \u001b[0;34m=\u001b[0m \u001b[0;34m'M'\u001b[0m\u001b[0;34m,\u001b[0m \u001b[0mnp\u001b[0m\u001b[0;34m.\u001b[0m\u001b[0matleast_1d\u001b[0m\u001b[0;34m(\u001b[0m\u001b[0mensnum\u001b[0m\u001b[0;34m)\u001b[0m\u001b[0;34m\u001b[0m\u001b[0m\n\u001b[1;32m      8\u001b[0m     \u001b[0mprint\u001b[0m\u001b[0;34m(\u001b[0m \u001b[0mpr_S\u001b[0m\u001b[0;34m)\u001b[0m\u001b[0;34m\u001b[0m\u001b[0m\n",
      "\u001b[0;32m~/.conda/envs/general_python3/lib/python3.6/site-packages/xarray/backends/api.py\u001b[0m in \u001b[0;36mopen_mfdataset\u001b[0;34m(paths, chunks, concat_dim, compat, preprocess, engine, lock, data_vars, coords, autoclose, parallel, **kwargs)\u001b[0m\n\u001b[1;32m    625\u001b[0m     \u001b[0mfile_objs\u001b[0m \u001b[0;34m=\u001b[0m \u001b[0;34m[\u001b[0m\u001b[0mgetattr_\u001b[0m\u001b[0;34m(\u001b[0m\u001b[0mds\u001b[0m\u001b[0;34m,\u001b[0m \u001b[0;34m'_file_obj'\u001b[0m\u001b[0;34m)\u001b[0m \u001b[0;32mfor\u001b[0m \u001b[0mds\u001b[0m \u001b[0;32min\u001b[0m \u001b[0mdatasets\u001b[0m\u001b[0;34m]\u001b[0m\u001b[0;34m\u001b[0m\u001b[0m\n\u001b[1;32m    626\u001b[0m     \u001b[0;32mif\u001b[0m \u001b[0mpreprocess\u001b[0m \u001b[0;32mis\u001b[0m \u001b[0;32mnot\u001b[0m \u001b[0;32mNone\u001b[0m\u001b[0;34m:\u001b[0m\u001b[0;34m\u001b[0m\u001b[0m\n\u001b[0;32m--> 627\u001b[0;31m         \u001b[0mdatasets\u001b[0m \u001b[0;34m=\u001b[0m \u001b[0;34m[\u001b[0m\u001b[0mpreprocess\u001b[0m\u001b[0;34m(\u001b[0m\u001b[0mds\u001b[0m\u001b[0;34m)\u001b[0m \u001b[0;32mfor\u001b[0m \u001b[0mds\u001b[0m \u001b[0;32min\u001b[0m \u001b[0mdatasets\u001b[0m\u001b[0;34m]\u001b[0m\u001b[0;34m\u001b[0m\u001b[0m\n\u001b[0m\u001b[1;32m    628\u001b[0m \u001b[0;34m\u001b[0m\u001b[0m\n\u001b[1;32m    629\u001b[0m     \u001b[0;32mif\u001b[0m \u001b[0mparallel\u001b[0m\u001b[0;34m:\u001b[0m\u001b[0;34m\u001b[0m\u001b[0m\n",
      "\u001b[0;32m~/.conda/envs/general_python3/lib/python3.6/site-packages/xarray/backends/api.py\u001b[0m in \u001b[0;36m<listcomp>\u001b[0;34m(.0)\u001b[0m\n\u001b[1;32m    625\u001b[0m     \u001b[0mfile_objs\u001b[0m \u001b[0;34m=\u001b[0m \u001b[0;34m[\u001b[0m\u001b[0mgetattr_\u001b[0m\u001b[0;34m(\u001b[0m\u001b[0mds\u001b[0m\u001b[0;34m,\u001b[0m \u001b[0;34m'_file_obj'\u001b[0m\u001b[0;34m)\u001b[0m \u001b[0;32mfor\u001b[0m \u001b[0mds\u001b[0m \u001b[0;32min\u001b[0m \u001b[0mdatasets\u001b[0m\u001b[0;34m]\u001b[0m\u001b[0;34m\u001b[0m\u001b[0m\n\u001b[1;32m    626\u001b[0m     \u001b[0;32mif\u001b[0m \u001b[0mpreprocess\u001b[0m \u001b[0;32mis\u001b[0m \u001b[0;32mnot\u001b[0m \u001b[0;32mNone\u001b[0m\u001b[0;34m:\u001b[0m\u001b[0;34m\u001b[0m\u001b[0m\n\u001b[0;32m--> 627\u001b[0;31m         \u001b[0mdatasets\u001b[0m \u001b[0;34m=\u001b[0m \u001b[0;34m[\u001b[0m\u001b[0mpreprocess\u001b[0m\u001b[0;34m(\u001b[0m\u001b[0mds\u001b[0m\u001b[0;34m)\u001b[0m \u001b[0;32mfor\u001b[0m \u001b[0mds\u001b[0m \u001b[0;32min\u001b[0m \u001b[0mdatasets\u001b[0m\u001b[0;34m]\u001b[0m\u001b[0;34m\u001b[0m\u001b[0m\n\u001b[0m\u001b[1;32m    628\u001b[0m \u001b[0;34m\u001b[0m\u001b[0m\n\u001b[1;32m    629\u001b[0m     \u001b[0;32mif\u001b[0m \u001b[0mparallel\u001b[0m\u001b[0;34m:\u001b[0m\u001b[0;34m\u001b[0m\u001b[0m\n",
      "\u001b[0;32m<ipython-input-26-2e46437a857c>\u001b[0m in \u001b[0;36mppf2\u001b[0;34m(ds)\u001b[0m\n\u001b[1;32m      1\u001b[0m \u001b[0;32mdef\u001b[0m \u001b[0mppf2\u001b[0m\u001b[0;34m(\u001b[0m\u001b[0mds\u001b[0m\u001b[0;34m)\u001b[0m\u001b[0;34m:\u001b[0m\u001b[0;34m\u001b[0m\u001b[0m\n\u001b[1;32m      2\u001b[0m \u001b[0;34m\u001b[0m\u001b[0m\n\u001b[0;32m----> 3\u001b[0;31m     \u001b[0mprint\u001b[0m\u001b[0;34m(\u001b[0m \u001b[0mds\u001b[0m\u001b[0;34m[\u001b[0m\u001b[0mlist\u001b[0m\u001b[0;34m(\u001b[0m\u001b[0mds\u001b[0m\u001b[0;34m.\u001b[0m\u001b[0mvariables\u001b[0m\u001b[0;34m.\u001b[0m\u001b[0mkeys\u001b[0m\u001b[0;34m(\u001b[0m\u001b[0;34m)\u001b[0m\u001b[0;34m)\u001b[0m\u001b[0;34m[\u001b[0m\u001b[0;36m0\u001b[0m\u001b[0;34m]\u001b[0m\u001b[0;34m]\u001b[0m\u001b[0;34m.\u001b[0m\u001b[0mencoding\u001b[0m\u001b[0;34m[\u001b[0m\u001b[0;34m'source'\u001b[0m\u001b[0;34m]\u001b[0m\u001b[0;34m)\u001b[0m\u001b[0;34m\u001b[0m\u001b[0m\n\u001b[0m\u001b[1;32m      4\u001b[0m     \u001b[0mds\u001b[0m  \u001b[0;34m=\u001b[0m \u001b[0mds\u001b[0m\u001b[0;34m.\u001b[0m\u001b[0mrename\u001b[0m\u001b[0;34m(\u001b[0m\u001b[0;34m{\u001b[0m \u001b[0;34m'lon_0'\u001b[0m\u001b[0;34m:\u001b[0m\u001b[0;34m'lon'\u001b[0m\u001b[0;34m,\u001b[0m \u001b[0;34m'lat_0'\u001b[0m\u001b[0;34m:\u001b[0m\u001b[0;34m'lat'\u001b[0m\u001b[0;34m,\u001b[0m \u001b[0;34m'forecast_time0'\u001b[0m\u001b[0;34m:\u001b[0m\u001b[0;34m'time'\u001b[0m\u001b[0;34m}\u001b[0m\u001b[0;34m)\u001b[0m\u001b[0;34m\u001b[0m\u001b[0m\n\u001b[1;32m      5\u001b[0m     \u001b[0mds\u001b[0m\u001b[0;34m.\u001b[0m\u001b[0mcoords\u001b[0m\u001b[0;34m[\u001b[0m\u001b[0;34m'S'\u001b[0m\u001b[0;34m]\u001b[0m \u001b[0;34m=\u001b[0m \u001b[0;34m'S'\u001b[0m\u001b[0;34m,\u001b[0m \u001b[0mnp\u001b[0m\u001b[0;34m.\u001b[0m\u001b[0matleast_1d\u001b[0m\u001b[0;34m(\u001b[0m\u001b[0mds\u001b[0m\u001b[0;34m.\u001b[0m\u001b[0mtime\u001b[0m\u001b[0;34m[\u001b[0m\u001b[0;36m0\u001b[0m\u001b[0;34m]\u001b[0m\u001b[0;34m.\u001b[0m\u001b[0mvalues\u001b[0m \u001b[0;34m-\u001b[0m \u001b[0mnp\u001b[0m\u001b[0;34m.\u001b[0m\u001b[0mtimedelta64\u001b[0m\u001b[0;34m(\u001b[0m\u001b[0;36m12\u001b[0m\u001b[0;34m,\u001b[0m \u001b[0;34m'h'\u001b[0m\u001b[0;34m)\u001b[0m\u001b[0;34m)\u001b[0m\u001b[0;34m\u001b[0m\u001b[0m\n",
      "\u001b[0;31mKeyError\u001b[0m: 'source'"
     ]
    }
   ],
   "source": [
    "varname = 'pr_sfc'\n",
    "iy=1999\n",
    "ds_M = []\n",
    "for ensnum in np.arange(0,11):\n",
    "    mylist = glob.glob('/Data2/SubX/EMC/GEFS/'+varname+'/'+np.str(iy)+'/06/*_m'+np.str(ensnum).zfill(2) +'.grb2') \n",
    "    pr_S=xr.open_mfdataset(mylist, concat_dim='S', preprocess=ppf2, autoclose=True, engine='pynio')\n",
    "    pr_S.coords['M'] = 'M', np.atleast_1d(ensnum)\n",
    "    print( pr_S)"
   ]
  },
  {
   "cell_type": "code",
   "execution_count": 15,
   "metadata": {
    "scrolled": true
   },
   "outputs": [
    {
     "name": "stdout",
     "output_type": "stream",
     "text": [
      "<xarray.Dataset>\n",
      "Dimensions:  (L: 45, M: 12, S: 18, lat: 11, lon: 14)\n",
      "Coordinates:\n",
      "  * S        (S) datetime64[ns] 1999-06-05 1999-06-10 1999-06-15 1999-06-20 ...\n",
      "  * L        (L) float64 0.5 1.5 2.5 3.5 4.5 5.5 6.5 7.5 8.5 9.5 10.5 11.5 ...\n",
      "  * lon      (lon) float32 257.0 258.0 259.0 260.0 261.0 262.0 263.0 264.0 ...\n",
      "  * lat      (lat) float32 32.0 33.0 34.0 35.0 36.0 37.0 38.0 39.0 40.0 41.0 ...\n",
      "  * M        (M) int64 1 1 1 2 2 2 3 3 3 4 4 4\n",
      "Data variables:\n",
      "    pr       (M, S, L, lat, lon) float32 dask.array<shape=(12, 18, 45, 11, 14), chunksize=(1, 1, 45, 11, 14)>\n",
      "Attributes:\n",
      "    CDI:          Climate Data Interface version 1.9.1 (http://mpimet.mpg.de/...\n",
      "    history:      Thu Jan 18 12:10:32 2018: cdo.exe -L chname,PRECTOT,pr -set...\n",
      "    Conventions:  COARDS\n",
      "    History:      File written by MAPL_CFIO\n",
      "    Title:        lena-S2S-2_1_CPLFCST20170811\n",
      "    Contact:      http://gmao.gsfc.nasa.gov\n",
      "    Institution:  NASA Global Modeling and Assimilation Office\n",
      "    References:   http://gmao.gsfc.nasa.gov\n",
      "    Comment:      lena-S2S-2_1_CPLFCST20170811\n",
      "    CDO:          Climate Data Operators version 1.9.1 (http://mpimet.mpg.de/...\n",
      "0.00598822\n",
      "<xarray.Dataset>\n",
      "Dimensions:  (L: 45, M: 12, S: 18, lat: 11, lon: 14)\n",
      "Coordinates:\n",
      "  * S        (S) datetime64[ns] 2000-06-05 2000-06-10 2000-06-15 2000-06-20 ...\n",
      "  * L        (L) float64 0.5 1.5 2.5 3.5 4.5 5.5 6.5 7.5 8.5 9.5 10.5 11.5 ...\n",
      "  * lon      (lon) float32 257.0 258.0 259.0 260.0 261.0 262.0 263.0 264.0 ...\n",
      "  * lat      (lat) float32 32.0 33.0 34.0 35.0 36.0 37.0 38.0 39.0 40.0 41.0 ...\n",
      "  * M        (M) int64 1 1 1 2 2 2 3 3 3 4 4 4\n",
      "Data variables:\n",
      "    pr       (M, S, L, lat, lon) float32 dask.array<shape=(12, 18, 45, 11, 14), chunksize=(1, 1, 45, 11, 14)>\n",
      "Attributes:\n",
      "    CDI:          Climate Data Interface version 1.9.1 (http://mpimet.mpg.de/...\n",
      "    history:      Thu Jan 18 12:19:18 2018: cdo.exe -L chname,PRECTOT,pr -set...\n",
      "    Conventions:  COARDS\n",
      "    History:      File written by MAPL_CFIO\n",
      "    Title:        lena-S2S-2_1_CPLFCST20170811\n",
      "    Contact:      http://gmao.gsfc.nasa.gov\n",
      "    Institution:  NASA Global Modeling and Assimilation Office\n",
      "    References:   http://gmao.gsfc.nasa.gov\n",
      "    Comment:      lena-S2S-2_1_CPLFCST20170811\n",
      "    CDO:          Climate Data Operators version 1.9.1 (http://mpimet.mpg.de/...\n",
      "0.00598822\n",
      "<xarray.Dataset>\n",
      "Dimensions:  (L: 45, M: 12, S: 18, lat: 11, lon: 14)\n",
      "Coordinates:\n",
      "  * S        (S) datetime64[ns] 2001-06-05 2001-06-10 2001-06-15 2001-06-20 ...\n",
      "  * L        (L) float64 0.5 1.5 2.5 3.5 4.5 5.5 6.5 7.5 8.5 9.5 10.5 11.5 ...\n",
      "  * lon      (lon) float32 257.0 258.0 259.0 260.0 261.0 262.0 263.0 264.0 ...\n",
      "  * lat      (lat) float32 32.0 33.0 34.0 35.0 36.0 37.0 38.0 39.0 40.0 41.0 ...\n",
      "  * M        (M) int64 1 1 1 2 2 2 3 3 3 4 4 4\n",
      "Data variables:\n",
      "    pr       (M, S, L, lat, lon) float32 dask.array<shape=(12, 18, 45, 11, 14), chunksize=(1, 1, 45, 11, 14)>\n",
      "Attributes:\n",
      "    CDI:          Climate Data Interface version 1.9.1 (http://mpimet.mpg.de/...\n",
      "    history:      Thu Jan 18 12:27:54 2018: cdo.exe -L chname,PRECTOT,pr -set...\n",
      "    Conventions:  COARDS\n",
      "    History:      File written by MAPL_CFIO\n",
      "    Title:        lena-S2S-2_1_CPLFCST20170811\n",
      "    Contact:      http://gmao.gsfc.nasa.gov\n",
      "    Institution:  NASA Global Modeling and Assimilation Office\n",
      "    References:   http://gmao.gsfc.nasa.gov\n",
      "    Comment:      lena-S2S-2_1_CPLFCST20170811\n",
      "    CDO:          Climate Data Operators version 1.9.1 (http://mpimet.mpg.de/...\n",
      "0.00598822\n",
      "<xarray.Dataset>\n",
      "Dimensions:  (L: 45, M: 12, S: 18, lat: 11, lon: 14)\n",
      "Coordinates:\n",
      "  * S        (S) datetime64[ns] 2002-06-05 2002-06-10 2002-06-15 2002-06-20 ...\n",
      "  * L        (L) float64 0.5 1.5 2.5 3.5 4.5 5.5 6.5 7.5 8.5 9.5 10.5 11.5 ...\n",
      "  * lon      (lon) float32 257.0 258.0 259.0 260.0 261.0 262.0 263.0 264.0 ...\n",
      "  * lat      (lat) float32 32.0 33.0 34.0 35.0 36.0 37.0 38.0 39.0 40.0 41.0 ...\n",
      "  * M        (M) int64 1 1 1 2 2 2 3 3 3 4 4 4\n",
      "Data variables:\n",
      "    pr       (M, S, L, lat, lon) float32 dask.array<shape=(12, 18, 45, 11, 14), chunksize=(1, 1, 45, 11, 14)>\n",
      "Attributes:\n",
      "    CDI:          Climate Data Interface version 1.9.1 (http://mpimet.mpg.de/...\n",
      "    history:      Thu Jan 18 12:35:02 2018: cdo.exe -L chname,PRECTOT,pr -set...\n",
      "    Conventions:  COARDS\n",
      "    History:      File written by MAPL_CFIO\n",
      "    Title:        lena-S2S-2_1_CPLFCST20170811\n",
      "    Contact:      http://gmao.gsfc.nasa.gov\n",
      "    Institution:  NASA Global Modeling and Assimilation Office\n",
      "    References:   http://gmao.gsfc.nasa.gov\n",
      "    Comment:      lena-S2S-2_1_CPLFCST20170811\n",
      "    CDO:          Climate Data Operators version 1.9.1 (http://mpimet.mpg.de/...\n",
      "0.00598822\n",
      "<xarray.Dataset>\n",
      "Dimensions:  (L: 45, M: 12, S: 18, lat: 11, lon: 14)\n",
      "Coordinates:\n",
      "  * S        (S) datetime64[ns] 2003-06-05 2003-06-10 2003-06-15 2003-06-20 ...\n",
      "  * L        (L) float64 0.5 1.5 2.5 3.5 4.5 5.5 6.5 7.5 8.5 9.5 10.5 11.5 ...\n",
      "  * lon      (lon) float32 257.0 258.0 259.0 260.0 261.0 262.0 263.0 264.0 ...\n",
      "  * lat      (lat) float32 32.0 33.0 34.0 35.0 36.0 37.0 38.0 39.0 40.0 41.0 ...\n",
      "  * M        (M) int64 1 1 1 2 2 2 3 3 3 4 4 4\n",
      "Data variables:\n",
      "    pr       (M, S, L, lat, lon) float32 dask.array<shape=(12, 18, 45, 11, 14), chunksize=(1, 1, 45, 11, 14)>\n",
      "Attributes:\n",
      "    CDI:          Climate Data Interface version 1.9.1 (http://mpimet.mpg.de/...\n",
      "    history:      Thu Jan 18 12:41:43 2018: cdo.exe -L chname,PRECTOT,pr -set...\n",
      "    Conventions:  COARDS\n",
      "    History:      File written by MAPL_CFIO\n",
      "    Title:        lena-S2S-2_1_CPLFCST20170811\n",
      "    Contact:      http://gmao.gsfc.nasa.gov\n",
      "    Institution:  NASA Global Modeling and Assimilation Office\n",
      "    References:   http://gmao.gsfc.nasa.gov\n",
      "    Comment:      lena-S2S-2_1_CPLFCST20170811\n",
      "    CDO:          Climate Data Operators version 1.9.1 (http://mpimet.mpg.de/...\n",
      "0.00598822\n",
      "<xarray.Dataset>\n",
      "Dimensions:  (L: 45, M: 12, S: 18, lat: 11, lon: 14)\n",
      "Coordinates:\n",
      "  * S        (S) datetime64[ns] 2004-06-05 2004-06-10 2004-06-15 2004-06-20 ...\n",
      "  * L        (L) float64 0.5 1.5 2.5 3.5 4.5 5.5 6.5 7.5 8.5 9.5 10.5 11.5 ...\n",
      "  * lon      (lon) float32 257.0 258.0 259.0 260.0 261.0 262.0 263.0 264.0 ...\n",
      "  * lat      (lat) float32 32.0 33.0 34.0 35.0 36.0 37.0 38.0 39.0 40.0 41.0 ...\n",
      "  * M        (M) int64 1 1 1 2 2 2 3 3 3 4 4 4\n",
      "Data variables:\n",
      "    pr       (M, S, L, lat, lon) float32 dask.array<shape=(12, 18, 45, 11, 14), chunksize=(1, 1, 45, 11, 14)>\n",
      "Attributes:\n",
      "    CDI:          Climate Data Interface version 1.9.1 (http://mpimet.mpg.de/...\n",
      "    history:      Thu Jan 18 12:10:30 2018: cdo.exe -L chname,PRECTOT,pr -set...\n",
      "    Conventions:  COARDS\n",
      "    History:      File written by MAPL_CFIO\n",
      "    Title:        lena-S2S-2_1_CPLFCST20170811\n",
      "    Contact:      http://gmao.gsfc.nasa.gov\n",
      "    Institution:  NASA Global Modeling and Assimilation Office\n",
      "    References:   http://gmao.gsfc.nasa.gov\n",
      "    Comment:      lena-S2S-2_1_CPLFCST20170811\n",
      "    CDO:          Climate Data Operators version 1.9.1 (http://mpimet.mpg.de/...\n",
      "0.00598822\n",
      "<xarray.Dataset>\n",
      "Dimensions:  (L: 45, M: 12, S: 18, lat: 11, lon: 14)\n",
      "Coordinates:\n",
      "  * S        (S) datetime64[ns] 2005-06-05 2005-06-10 2005-06-15 2005-06-20 ...\n",
      "  * L        (L) float64 0.5 1.5 2.5 3.5 4.5 5.5 6.5 7.5 8.5 9.5 10.5 11.5 ...\n",
      "  * lon      (lon) float32 257.0 258.0 259.0 260.0 261.0 262.0 263.0 264.0 ...\n",
      "  * lat      (lat) float32 32.0 33.0 34.0 35.0 36.0 37.0 38.0 39.0 40.0 41.0 ...\n",
      "  * M        (M) int64 1 1 1 2 2 2 3 3 3 4 4 4\n",
      "Data variables:\n",
      "    pr       (M, S, L, lat, lon) float32 dask.array<shape=(12, 18, 45, 11, 14), chunksize=(1, 1, 45, 11, 14)>\n",
      "Attributes:\n",
      "    CDI:          Climate Data Interface version 1.9.1 (http://mpimet.mpg.de/...\n",
      "    history:      Thu Jan 18 12:19:21 2018: cdo.exe -L chname,PRECTOT,pr -set...\n",
      "    Conventions:  COARDS\n",
      "    History:      File written by MAPL_CFIO\n",
      "    Title:        lena-S2S-2_1_CPLFCST20170811\n",
      "    Contact:      http://gmao.gsfc.nasa.gov\n",
      "    Institution:  NASA Global Modeling and Assimilation Office\n",
      "    References:   http://gmao.gsfc.nasa.gov\n",
      "    Comment:      lena-S2S-2_1_CPLFCST20170811\n",
      "    CDO:          Climate Data Operators version 1.9.1 (http://mpimet.mpg.de/...\n",
      "0.00598822\n",
      "<xarray.Dataset>\n",
      "Dimensions:  (L: 45, M: 12, S: 18, lat: 11, lon: 14)\n",
      "Coordinates:\n",
      "  * S        (S) datetime64[ns] 2006-06-05 2006-06-10 2006-06-15 2006-06-20 ...\n",
      "  * L        (L) float64 0.5 1.5 2.5 3.5 4.5 5.5 6.5 7.5 8.5 9.5 10.5 11.5 ...\n",
      "  * lon      (lon) float32 257.0 258.0 259.0 260.0 261.0 262.0 263.0 264.0 ...\n",
      "  * lat      (lat) float32 32.0 33.0 34.0 35.0 36.0 37.0 38.0 39.0 40.0 41.0 ...\n",
      "  * M        (M) int64 1 1 1 2 2 2 3 3 3 4 4 4\n",
      "Data variables:\n",
      "    pr       (M, S, L, lat, lon) float32 dask.array<shape=(12, 18, 45, 11, 14), chunksize=(1, 1, 45, 11, 14)>\n",
      "Attributes:\n",
      "    CDI:          Climate Data Interface version 1.9.1 (http://mpimet.mpg.de/...\n",
      "    history:      Thu Jan 18 12:27:55 2018: cdo.exe -L chname,PRECTOT,pr -set...\n",
      "    Conventions:  COARDS\n",
      "    History:      File written by MAPL_CFIO\n",
      "    Title:        lena-S2S-2_1_CPLFCST20170811\n",
      "    Contact:      http://gmao.gsfc.nasa.gov\n",
      "    Institution:  NASA Global Modeling and Assimilation Office\n",
      "    References:   http://gmao.gsfc.nasa.gov\n",
      "    Comment:      lena-S2S-2_1_CPLFCST20170811\n",
      "    CDO:          Climate Data Operators version 1.9.1 (http://mpimet.mpg.de/...\n",
      "0.00598822\n"
     ]
    },
    {
     "name": "stdout",
     "output_type": "stream",
     "text": [
      "<xarray.Dataset>\n",
      "Dimensions:  (L: 45, M: 12, S: 18, lat: 11, lon: 14)\n",
      "Coordinates:\n",
      "  * S        (S) datetime64[ns] 2007-06-05 2007-06-10 2007-06-15 2007-06-20 ...\n",
      "  * L        (L) float64 0.5 1.5 2.5 3.5 4.5 5.5 6.5 7.5 8.5 9.5 10.5 11.5 ...\n",
      "  * lon      (lon) float32 257.0 258.0 259.0 260.0 261.0 262.0 263.0 264.0 ...\n",
      "  * lat      (lat) float32 32.0 33.0 34.0 35.0 36.0 37.0 38.0 39.0 40.0 41.0 ...\n",
      "  * M        (M) int64 1 1 1 2 2 2 3 3 3 4 4 4\n",
      "Data variables:\n",
      "    pr       (M, S, L, lat, lon) float32 dask.array<shape=(12, 18, 45, 11, 14), chunksize=(1, 1, 45, 11, 14)>\n",
      "Attributes:\n",
      "    CDI:          Climate Data Interface version 1.9.1 (http://mpimet.mpg.de/...\n",
      "    history:      Thu Jan 18 12:35:02 2018: cdo.exe -L chname,PRECTOT,pr -set...\n",
      "    Conventions:  COARDS\n",
      "    History:      File written by MAPL_CFIO\n",
      "    Title:        lena-S2S-2_1_CPLFCST20170811\n",
      "    Contact:      http://gmao.gsfc.nasa.gov\n",
      "    Institution:  NASA Global Modeling and Assimilation Office\n",
      "    References:   http://gmao.gsfc.nasa.gov\n",
      "    Comment:      lena-S2S-2_1_CPLFCST20170811\n",
      "    CDO:          Climate Data Operators version 1.9.1 (http://mpimet.mpg.de/...\n",
      "0.00598822\n",
      "<xarray.Dataset>\n",
      "Dimensions:  (L: 45, M: 12, S: 18, lat: 11, lon: 14)\n",
      "Coordinates:\n",
      "  * S        (S) datetime64[ns] 2008-06-05 2008-06-10 2008-06-15 2008-06-20 ...\n",
      "  * L        (L) float64 0.5 1.5 2.5 3.5 4.5 5.5 6.5 7.5 8.5 9.5 10.5 11.5 ...\n",
      "  * lon      (lon) float32 257.0 258.0 259.0 260.0 261.0 262.0 263.0 264.0 ...\n",
      "  * lat      (lat) float32 32.0 33.0 34.0 35.0 36.0 37.0 38.0 39.0 40.0 41.0 ...\n",
      "  * M        (M) int64 1 1 1 2 2 2 3 3 3 4 4 4\n",
      "Data variables:\n",
      "    pr       (M, S, L, lat, lon) float32 dask.array<shape=(12, 18, 45, 11, 14), chunksize=(1, 1, 45, 11, 14)>\n",
      "Attributes:\n",
      "    CDI:          Climate Data Interface version 1.9.1 (http://mpimet.mpg.de/...\n",
      "    history:      Thu Jan 18 12:41:43 2018: cdo.exe -L chname,PRECTOT,pr -set...\n",
      "    Conventions:  COARDS\n",
      "    History:      File written by MAPL_CFIO\n",
      "    Title:        lena-S2S-2_1_CPLFCST20170811\n",
      "    Contact:      http://gmao.gsfc.nasa.gov\n",
      "    Institution:  NASA Global Modeling and Assimilation Office\n",
      "    References:   http://gmao.gsfc.nasa.gov\n",
      "    Comment:      lena-S2S-2_1_CPLFCST20170811\n",
      "    CDO:          Climate Data Operators version 1.9.1 (http://mpimet.mpg.de/...\n",
      "0.00598822\n",
      "<xarray.Dataset>\n",
      "Dimensions:  (L: 45, M: 12, S: 18, lat: 11, lon: 14)\n",
      "Coordinates:\n",
      "  * S        (S) datetime64[ns] 2009-06-05 2009-06-10 2009-06-15 2009-06-20 ...\n",
      "  * L        (L) float64 0.5 1.5 2.5 3.5 4.5 5.5 6.5 7.5 8.5 9.5 10.5 11.5 ...\n",
      "  * lon      (lon) float32 257.0 258.0 259.0 260.0 261.0 262.0 263.0 264.0 ...\n",
      "  * lat      (lat) float32 32.0 33.0 34.0 35.0 36.0 37.0 38.0 39.0 40.0 41.0 ...\n",
      "  * M        (M) int64 1 1 1 2 2 2 3 3 3 4 4 4\n",
      "Data variables:\n",
      "    pr       (M, S, L, lat, lon) float32 dask.array<shape=(12, 18, 45, 11, 14), chunksize=(1, 1, 45, 11, 14)>\n",
      "Attributes:\n",
      "    CDI:          Climate Data Interface version 1.9.1 (http://mpimet.mpg.de/...\n",
      "    history:      Thu Jan 18 12:10:33 2018: cdo.exe -L chname,PRECTOT,pr -set...\n",
      "    Conventions:  COARDS\n",
      "    History:      File written by MAPL_CFIO\n",
      "    Title:        lena-S2S-2_1_CPLFCST20170811\n",
      "    Contact:      http://gmao.gsfc.nasa.gov\n",
      "    Institution:  NASA Global Modeling and Assimilation Office\n",
      "    References:   http://gmao.gsfc.nasa.gov\n",
      "    Comment:      lena-S2S-2_1_CPLFCST20170811\n",
      "    CDO:          Climate Data Operators version 1.9.1 (http://mpimet.mpg.de/...\n",
      "0.00598822\n",
      "<xarray.Dataset>\n",
      "Dimensions:  (L: 45, M: 12, S: 18, lat: 11, lon: 14)\n",
      "Coordinates:\n",
      "  * S        (S) datetime64[ns] 2010-06-05 2010-06-10 2010-06-15 2010-06-20 ...\n",
      "  * L        (L) float64 0.5 1.5 2.5 3.5 4.5 5.5 6.5 7.5 8.5 9.5 10.5 11.5 ...\n",
      "  * lon      (lon) float32 257.0 258.0 259.0 260.0 261.0 262.0 263.0 264.0 ...\n",
      "  * lat      (lat) float32 32.0 33.0 34.0 35.0 36.0 37.0 38.0 39.0 40.0 41.0 ...\n",
      "  * M        (M) int64 1 1 1 2 2 2 3 3 3 4 4 4\n",
      "Data variables:\n",
      "    pr       (M, S, L, lat, lon) float32 dask.array<shape=(12, 18, 45, 11, 14), chunksize=(1, 1, 45, 11, 14)>\n",
      "Attributes:\n",
      "    CDI:          Climate Data Interface version 1.9.1 (http://mpimet.mpg.de/...\n",
      "    history:      Thu Jan 18 12:19:29 2018: cdo.exe -L chname,PRECTOT,pr -set...\n",
      "    Conventions:  COARDS\n",
      "    History:      File written by MAPL_CFIO\n",
      "    Title:        lena-S2S-2_1_CPLFCST20170811\n",
      "    Contact:      http://gmao.gsfc.nasa.gov\n",
      "    Institution:  NASA Global Modeling and Assimilation Office\n",
      "    References:   http://gmao.gsfc.nasa.gov\n",
      "    Comment:      lena-S2S-2_1_CPLFCST20170811\n",
      "    CDO:          Climate Data Operators version 1.9.1 (http://mpimet.mpg.de/...\n",
      "0.00598822\n",
      "<xarray.Dataset>\n",
      "Dimensions:  (L: 45, M: 12, S: 18, lat: 11, lon: 14)\n",
      "Coordinates:\n",
      "  * S        (S) datetime64[ns] 2011-06-05 2011-06-10 2011-06-15 2011-06-20 ...\n",
      "  * L        (L) float64 0.5 1.5 2.5 3.5 4.5 5.5 6.5 7.5 8.5 9.5 10.5 11.5 ...\n",
      "  * lon      (lon) float32 257.0 258.0 259.0 260.0 261.0 262.0 263.0 264.0 ...\n",
      "  * lat      (lat) float32 32.0 33.0 34.0 35.0 36.0 37.0 38.0 39.0 40.0 41.0 ...\n",
      "  * M        (M) int64 1 1 1 2 2 2 3 3 3 4 4 4\n",
      "Data variables:\n",
      "    pr       (M, S, L, lat, lon) float32 dask.array<shape=(12, 18, 45, 11, 14), chunksize=(1, 1, 45, 11, 14)>\n",
      "Attributes:\n",
      "    CDI:          Climate Data Interface version 1.9.1 (http://mpimet.mpg.de/...\n",
      "    history:      Thu Jan 18 12:27:35 2018: cdo.exe -L chname,PRECTOT,pr -set...\n",
      "    Conventions:  COARDS\n",
      "    History:      File written by MAPL_CFIO\n",
      "    Title:        lena-S2S-2_1_CPLFCST20170811\n",
      "    Contact:      http://gmao.gsfc.nasa.gov\n",
      "    Institution:  NASA Global Modeling and Assimilation Office\n",
      "    References:   http://gmao.gsfc.nasa.gov\n",
      "    Comment:      lena-S2S-2_1_CPLFCST20170811\n",
      "    CDO:          Climate Data Operators version 1.9.1 (http://mpimet.mpg.de/...\n",
      "0.00598822\n",
      "<xarray.Dataset>\n",
      "Dimensions:  (L: 45, M: 12, S: 18, lat: 11, lon: 14)\n",
      "Coordinates:\n",
      "  * S        (S) datetime64[ns] 2012-06-05 2012-06-10 2012-06-15 2012-06-20 ...\n",
      "  * L        (L) float64 0.5 1.5 2.5 3.5 4.5 5.5 6.5 7.5 8.5 9.5 10.5 11.5 ...\n",
      "  * lon      (lon) float32 257.0 258.0 259.0 260.0 261.0 262.0 263.0 264.0 ...\n",
      "  * lat      (lat) float32 32.0 33.0 34.0 35.0 36.0 37.0 38.0 39.0 40.0 41.0 ...\n",
      "  * M        (M) int64 1 1 1 2 2 2 3 3 3 4 4 4\n",
      "Data variables:\n",
      "    pr       (M, S, L, lat, lon) float32 dask.array<shape=(12, 18, 45, 11, 14), chunksize=(1, 1, 45, 11, 14)>\n",
      "Attributes:\n",
      "    CDI:          Climate Data Interface version 1.9.1 (http://mpimet.mpg.de/...\n",
      "    history:      Thu Jan 18 12:33:32 2018: cdo.exe -L chname,PRECTOT,pr -set...\n",
      "    Conventions:  COARDS\n",
      "    History:      File written by MAPL_CFIO\n",
      "    Title:        lena-S2S-2_1_CPLFCST20170811\n",
      "    Contact:      http://gmao.gsfc.nasa.gov\n",
      "    Institution:  NASA Global Modeling and Assimilation Office\n",
      "    References:   http://gmao.gsfc.nasa.gov\n",
      "    Comment:      lena-S2S-2_1_CPLFCST20170811\n",
      "    CDO:          Climate Data Operators version 1.9.1 (http://mpimet.mpg.de/...\n",
      "0.00598822\n",
      "<xarray.Dataset>\n",
      "Dimensions:  (L: 45, M: 12, S: 18, lat: 11, lon: 14)\n",
      "Coordinates:\n",
      "  * S        (S) datetime64[ns] 2013-06-05 2013-06-10 2013-06-15 2013-06-20 ...\n",
      "  * L        (L) float64 0.5 1.5 2.5 3.5 4.5 5.5 6.5 7.5 8.5 9.5 10.5 11.5 ...\n",
      "  * lon      (lon) float32 257.0 258.0 259.0 260.0 261.0 262.0 263.0 264.0 ...\n",
      "  * lat      (lat) float32 32.0 33.0 34.0 35.0 36.0 37.0 38.0 39.0 40.0 41.0 ...\n",
      "  * M        (M) int64 1 1 1 2 2 2 3 3 3 4 4 4\n",
      "Data variables:\n",
      "    pr       (M, S, L, lat, lon) float32 dask.array<shape=(12, 18, 45, 11, 14), chunksize=(1, 1, 45, 11, 14)>\n",
      "Attributes:\n",
      "    CDI:          Climate Data Interface version 1.9.1 (http://mpimet.mpg.de/...\n",
      "    history:      Thu Jan 18 12:39:11 2018: cdo.exe -L chname,PRECTOT,pr -set...\n",
      "    Conventions:  COARDS\n",
      "    History:      File written by MAPL_CFIO\n",
      "    Title:        lena-S2S-2_1_CPLFCST20170811\n",
      "    Contact:      http://gmao.gsfc.nasa.gov\n",
      "    Institution:  NASA Global Modeling and Assimilation Office\n",
      "    References:   http://gmao.gsfc.nasa.gov\n",
      "    Comment:      lena-S2S-2_1_CPLFCST20170811\n",
      "    CDO:          Climate Data Operators version 1.9.1 (http://mpimet.mpg.de/...\n",
      "0.00598822\n",
      "<xarray.Dataset>\n",
      "Dimensions:  (L: 45, M: 12, S: 18, lat: 11, lon: 14)\n",
      "Coordinates:\n",
      "  * S        (S) datetime64[ns] 2014-06-05 2014-06-10 2014-06-15 2014-06-20 ...\n",
      "  * L        (L) float64 0.5 1.5 2.5 3.5 4.5 5.5 6.5 7.5 8.5 9.5 10.5 11.5 ...\n",
      "  * lon      (lon) float32 257.0 258.0 259.0 260.0 261.0 262.0 263.0 264.0 ...\n",
      "  * lat      (lat) float32 32.0 33.0 34.0 35.0 36.0 37.0 38.0 39.0 40.0 41.0 ...\n",
      "  * M        (M) int64 1 1 1 2 2 2 3 3 3 4 4 4\n",
      "Data variables:\n",
      "    pr       (M, S, L, lat, lon) float32 dask.array<shape=(12, 18, 45, 11, 14), chunksize=(1, 1, 45, 11, 14)>\n",
      "Attributes:\n",
      "    CDI:          Climate Data Interface version 1.9.1 (http://mpimet.mpg.de/...\n",
      "    history:      Thu Jan 18 12:10:32 2018: cdo.exe -L chname,PRECTOT,pr -set...\n",
      "    Conventions:  COARDS\n",
      "    History:      File written by MAPL_CFIO\n",
      "    Title:        lena-S2S-2_1_CPLFCST20170811\n",
      "    Contact:      http://gmao.gsfc.nasa.gov\n",
      "    Institution:  NASA Global Modeling and Assimilation Office\n",
      "    References:   http://gmao.gsfc.nasa.gov\n",
      "    Comment:      lena-S2S-2_1_CPLFCST20170811\n",
      "    CDO:          Climate Data Operators version 1.9.1 (http://mpimet.mpg.de/...\n",
      "0.00598822\n"
     ]
    },
    {
     "name": "stdout",
     "output_type": "stream",
     "text": [
      "<xarray.Dataset>\n",
      "Dimensions:  (L: 45, M: 12, S: 18, lat: 11, lon: 14)\n",
      "Coordinates:\n",
      "  * S        (S) datetime64[ns] 2015-06-05 2015-06-10 2015-06-15 2015-06-20 ...\n",
      "  * L        (L) float64 0.5 1.5 2.5 3.5 4.5 5.5 6.5 7.5 8.5 9.5 10.5 11.5 ...\n",
      "  * lon      (lon) float32 257.0 258.0 259.0 260.0 261.0 262.0 263.0 264.0 ...\n",
      "  * lat      (lat) float32 32.0 33.0 34.0 35.0 36.0 37.0 38.0 39.0 40.0 41.0 ...\n",
      "  * M        (M) int64 1 1 1 2 2 2 3 3 3 4 4 4\n",
      "Data variables:\n",
      "    pr       (M, S, L, lat, lon) float32 dask.array<shape=(12, 18, 45, 11, 14), chunksize=(1, 1, 45, 11, 14)>\n",
      "Attributes:\n",
      "    CDI:          Climate Data Interface version 1.9.1 (http://mpimet.mpg.de/...\n",
      "    history:      Thu Jan 18 12:19:21 2018: cdo.exe -L chname,PRECTOT,pr -set...\n",
      "    Conventions:  COARDS\n",
      "    History:      File written by MAPL_CFIO\n",
      "    Title:        lena-S2S-2_1_CPLFCST20170811\n",
      "    Contact:      http://gmao.gsfc.nasa.gov\n",
      "    Institution:  NASA Global Modeling and Assimilation Office\n",
      "    References:   http://gmao.gsfc.nasa.gov\n",
      "    Comment:      lena-S2S-2_1_CPLFCST20170811\n",
      "    CDO:          Climate Data Operators version 1.9.1 (http://mpimet.mpg.de/...\n",
      "0.00598822\n",
      "<xarray.Dataset>\n",
      "Dimensions:  (L: 45, M: 12, S: 18, lat: 11, lon: 14)\n",
      "Coordinates:\n",
      "  * S        (S) datetime64[ns] 2016-06-05 2016-06-10 2016-06-15 2016-06-20 ...\n",
      "  * L        (L) float64 0.5 1.5 2.5 3.5 4.5 5.5 6.5 7.5 8.5 9.5 10.5 11.5 ...\n",
      "  * lon      (lon) float32 257.0 258.0 259.0 260.0 261.0 262.0 263.0 264.0 ...\n",
      "  * lat      (lat) float32 32.0 33.0 34.0 35.0 36.0 37.0 38.0 39.0 40.0 41.0 ...\n",
      "  * M        (M) int64 1 1 1 2 2 2 3 3 3 4 4 4\n",
      "Data variables:\n",
      "    pr       (M, S, L, lat, lon) float32 dask.array<shape=(12, 18, 45, 11, 14), chunksize=(1, 1, 45, 11, 14)>\n",
      "Attributes:\n",
      "    CDI:          Climate Data Interface version 1.9.1 (http://mpimet.mpg.de/...\n",
      "    history:      Thu Mar 15 15:22:04 2018: cdo.exe -L chname,PRECTOT,pr -set...\n",
      "    Conventions:  COARDS\n",
      "    History:      File written by MAPL_CFIO\n",
      "    Title:        lena-S2S-2_1_CPLFCST20170811\n",
      "    Contact:      http://gmao.gsfc.nasa.gov\n",
      "    Institution:  NASA Global Modeling and Assimilation Office\n",
      "    References:   http://gmao.gsfc.nasa.gov\n",
      "    Comment:      lena-S2S-2_1_CPLFCST20170811\n",
      "    CDO:          Climate Data Operators version 1.9.1 (http://mpimet.mpg.de/...\n",
      "0.00598822\n",
      "0.107778508\n"
     ]
    },
    {
     "data": {
      "text/plain": [
       "<xarray.DataArray 'S' (S: 324)>\n",
       "array(['1999-06-05T00:00:00.000000000', '1999-06-10T00:00:00.000000000',\n",
       "       '1999-06-15T00:00:00.000000000', ..., '2016-08-19T00:00:00.000000000',\n",
       "       '2016-08-24T00:00:00.000000000', '2016-08-29T00:00:00.000000000'], dtype='datetime64[ns]')\n",
       "Coordinates:\n",
       "  * S        (S) datetime64[ns] 1999-06-05 1999-06-10 1999-06-15 1999-06-20 ..."
      ]
     },
     "execution_count": 15,
     "metadata": {},
     "output_type": "execute_result"
    }
   ],
   "source": [
    "varname = 'pr_sfc'\n",
    "ds_Y = []\n",
    "for iy in np.arange(1999, 2017):\n",
    "    ds_M = []\n",
    "    for ensnum in np.arange(0,11):\n",
    "        mylist = glob.glob('/Data2/SubX/EMC/GEFS/'+varname+'/'+np.str(iy)+'/06//*_m0'+np.str(ensnum)+'.nc') \n",
    "        pr_S=xr.open_mfdataset(mylist, concat_dim='S', preprocess=ppf2, autoclose=True)\n",
    "        pr_S.coords['M'] = 'M', np.atleast_1d(ensnum)\n",
    "\n",
    "        ds_M.append(pr_S)\n",
    "        del pr_S\n",
    "        mylist = glob.glob('/Data2/SubX/EMC/GEFS/'+varname+'/'+np.str(iy)+'/07//*_m0'+np.str(ensnum)+'.nc') \n",
    "        pr_S=xr.open_mfdataset(mylist, concat_dim='S', preprocess=ppf2, autoclose=True)\n",
    "        pr_S.coords['M'] = 'M', np.atleast_1d(ensnum)\n",
    "        ds_M.append(pr_S)\n",
    "        del pr_S\n",
    "        mylist = glob.glob('/Data2/SubX/EMC/GEFS/'+varname+'/'+np.str(iy)+'/08//*_m0'+np.str(ensnum)+'.nc') \n",
    "        pr_S=xr.open_mfdataset(mylist, concat_dim='S', preprocess=ppf2, autoclose=True)\n",
    "        pr_S.coords['M'] = 'M', np.atleast_1d(ensnum)\n",
    "        ds_M.append(pr_S)\n",
    "        del pr_S\n",
    "    ds_all = xr.concat(ds_M, dim='M')\n",
    "    del ds_M\n",
    "    ds_Y.append(ds_all)\n",
    "del ds_all\n",
    "ds_allpr = xr.concat(ds_Y, dim='S')\n",
    "del ds_Y\n",
    "ds_allpr.S\n",
    "# ds_allpr.rename({variables.keys()[2]:'pr'}, inplace=True)"
   ]
  },
  {
   "cell_type": "code",
   "execution_count": 18,
   "metadata": {},
   "outputs": [
    {
     "name": "stdout",
     "output_type": "stream",
     "text": [
      "0.107778508\n"
     ]
    }
   ],
   "source": [
    "varname = 'cape'\n",
    "ds_Y = []\n",
    "for iy in np.arange(1999, 2017):\n",
    "    ds_M = []\n",
    "    for ensnum in np.arange(1,5):\n",
    "        mylist = glob.glob('/Data2/SubX/NASA/GEOS_V2p1/'+varname+'/'+np.str(iy)+'/jun//*_m0'+np.str(ensnum)+'.nc') \n",
    "        pr_S=xr.open_mfdataset(mylist, concat_dim='S', preprocess=ppf2, autoclose=True)\n",
    "        pr_S.coords['M'] = 'M', np.atleast_1d(ensnum)\n",
    "\n",
    "        ds_M.append(pr_S)\n",
    "        del pr_S\n",
    "        mylist = glob.glob('/Data2/SubX/NASA/GEOS_V2p1/'+varname+'/'+np.str(iy)+'/jul//*_m0'+np.str(ensnum)+'.nc') \n",
    "        pr_S=xr.open_mfdataset(mylist, concat_dim='S', preprocess=ppf2, autoclose=True)\n",
    "        pr_S.coords['M'] = 'M', np.atleast_1d(ensnum)\n",
    "        ds_M.append(pr_S)\n",
    "        del pr_S\n",
    "        mylist = glob.glob('/Data2/SubX/NASA/GEOS_V2p1/'+varname+'/'+np.str(iy)+'/aug//*_m0'+np.str(ensnum)+'.nc') \n",
    "        pr_S=xr.open_mfdataset(mylist, concat_dim='S', preprocess=ppf2, autoclose=True)\n",
    "        pr_S.coords['M'] = 'M', np.atleast_1d(ensnum)\n",
    "        ds_M.append(pr_S)\n",
    "        del pr_S\n",
    "    ds_all = xr.concat(ds_M, dim='M')\n",
    "    del ds_M\n",
    "    ds_Y.append(ds_all)\n",
    "del ds_all\n",
    "\n",
    "ds_allcape = xr.concat(ds_Y, dim='S')\n",
    "del ds_Y\n",
    "print ds_allcape.nbytes/1e9\n",
    "# ds_allcape.S"
   ]
  },
  {
   "cell_type": "code",
   "execution_count": 16,
   "metadata": {},
   "outputs": [
    {
     "name": "stdout",
     "output_type": "stream",
     "text": [
      "0.107778508\n"
     ]
    },
    {
     "data": {
      "text/plain": [
       "<xarray.DataArray 'S' (S: 324)>\n",
       "array(['1999-06-05T00:00:00.000000000', '1999-06-10T00:00:00.000000000',\n",
       "       '1999-06-15T00:00:00.000000000', ..., '2016-08-19T00:00:00.000000000',\n",
       "       '2016-08-24T00:00:00.000000000', '2016-08-29T00:00:00.000000000'], dtype='datetime64[ns]')\n",
       "Coordinates:\n",
       "  * S        (S) datetime64[ns] 1999-06-05 1999-06-10 1999-06-15 1999-06-20 ..."
      ]
     },
     "execution_count": 16,
     "metadata": {},
     "output_type": "execute_result"
    }
   ],
   "source": [
    "varname = 'tas_2m'\n",
    "ds_Y = []\n",
    "for iy in np.arange(1999, 2017):\n",
    "    ds_M = []\n",
    "    for ensnum in np.arange(1,5):\n",
    "        mylist = glob.glob('/Data2/SubX/NASA/GEOS_V2p1/'+varname+'/'+np.str(iy)+'/jun//*_m0'+np.str(ensnum)+'.nc') \n",
    "        pr_S=xr.open_mfdataset(mylist, concat_dim='S', preprocess=ppf2, autoclose=True)\n",
    "        pr_S.coords['M'] = 'M', np.atleast_1d(ensnum)\n",
    "\n",
    "        ds_M.append(pr_S)\n",
    "        del pr_S\n",
    "        mylist = glob.glob('/Data2/SubX/NASA/GEOS_V2p1/'+varname+'/'+np.str(iy)+'/jul//*_m0'+np.str(ensnum)+'.nc') \n",
    "        pr_S=xr.open_mfdataset(mylist, concat_dim='S', preprocess=ppf2, autoclose=True)\n",
    "        pr_S.coords['M'] = 'M', np.atleast_1d(ensnum)\n",
    "        ds_M.append(pr_S)\n",
    "        del pr_S\n",
    "        mylist = glob.glob('/Data2/SubX/NASA/GEOS_V2p1/'+varname+'/'+np.str(iy)+'/aug//*_m0'+np.str(ensnum)+'.nc') \n",
    "        pr_S=xr.open_mfdataset(mylist, concat_dim='S', preprocess=ppf2, autoclose=True)\n",
    "        pr_S.coords['M'] = 'M', np.atleast_1d(ensnum)\n",
    "        ds_M.append(pr_S)\n",
    "        del pr_S\n",
    "    ds_all = xr.concat(ds_M, dim='M')\n",
    "    del ds_M\n",
    "    ds_Y.append(ds_all)\n",
    "del ds_all\n",
    "\n",
    "ds_alltas_2m = xr.concat(ds_Y, dim='S')\n",
    "del ds_Y\n",
    "print ds_alltas_2m.nbytes/1e9\n",
    "ds_alltas_2m.S"
   ]
  },
  {
   "cell_type": "code",
   "execution_count": 17,
   "metadata": {},
   "outputs": [
    {
     "name": "stdout",
     "output_type": "stream",
     "text": [
      "0.107778508\n"
     ]
    },
    {
     "data": {
      "text/plain": [
       "<xarray.DataArray 'S' (S: 324)>\n",
       "array(['1999-06-05T00:00:00.000000000', '1999-06-10T00:00:00.000000000',\n",
       "       '1999-06-15T00:00:00.000000000', ..., '2016-08-19T00:00:00.000000000',\n",
       "       '2016-08-24T00:00:00.000000000', '2016-08-29T00:00:00.000000000'], dtype='datetime64[ns]')\n",
       "Coordinates:\n",
       "  * S        (S) datetime64[ns] 1999-06-05 1999-06-10 1999-06-15 1999-06-20 ..."
      ]
     },
     "execution_count": 17,
     "metadata": {},
     "output_type": "execute_result"
    }
   ],
   "source": [
    "varname = 'tdps_2m'\n",
    "ds_Y = []\n",
    "for iy in np.arange(1999, 2017):\n",
    "    ds_M = []\n",
    "    for ensnum in np.arange(1,5):\n",
    "        mylist = glob.glob('/Data2/SubX/NASA/GEOS_V2p1/'+varname+'/'+np.str(iy)+'/jun//*_m0'+np.str(ensnum)+'.nc') \n",
    "        pr_S=xr.open_mfdataset(mylist, concat_dim='S', preprocess=ppf2, autoclose=True)\n",
    "        pr_S.coords['M'] = 'M', np.atleast_1d(ensnum)\n",
    "\n",
    "        ds_M.append(pr_S)\n",
    "        del pr_S\n",
    "        mylist = glob.glob('/Data2/SubX/NASA/GEOS_V2p1/'+varname+'/'+np.str(iy)+'/jul//*_m0'+np.str(ensnum)+'.nc') \n",
    "        pr_S=xr.open_mfdataset(mylist, concat_dim='S', preprocess=ppf2, autoclose=True)\n",
    "        pr_S.coords['M'] = 'M', np.atleast_1d(ensnum)\n",
    "        ds_M.append(pr_S)\n",
    "        del pr_S\n",
    "        mylist = glob.glob('/Data2/SubX/NASA/GEOS_V2p1/'+varname+'/'+np.str(iy)+'/aug//*_m0'+np.str(ensnum)+'.nc') \n",
    "        pr_S=xr.open_mfdataset(mylist, concat_dim='S', preprocess=ppf2, autoclose=True)\n",
    "        pr_S.coords['M'] = 'M', np.atleast_1d(ensnum)\n",
    "        ds_M.append(pr_S)\n",
    "        del pr_S\n",
    "    ds_all = xr.concat(ds_M, dim='M')\n",
    "    del ds_M\n",
    "    ds_Y.append(ds_all)\n",
    "del ds_all\n",
    "ds_alltdps_2m = xr.concat(ds_Y, dim='S')\n",
    "del ds_Y\n",
    "print ds_alltdps_2m.nbytes/1e9\n",
    "ds_alltdps_2m.S"
   ]
  },
  {
   "cell_type": "code",
   "execution_count": 14,
   "metadata": {},
   "outputs": [
    {
     "name": "stdout",
     "output_type": "stream",
     "text": [
      "Variable        Type        Data/Info\n",
      "-------------------------------------\n",
      "Nio             module      <module 'Nio' from '/home<...>-packages/PyNIO/Nio.pyc'>\n",
      "calendar        module      <module 'calendar' from '<...>/python2.7/calendar.pyc'>\n",
      "date            type        <type 'datetime.date'>\n",
      "datetime        type        <type 'datetime.datetime'>\n",
      "ds              Dataset     <xarray.Dataset>\\nDimensi<...>(http://mpimet.mpg.de/...\n",
      "ds_allcape      Dataset     <xarray.Dataset>\\nDimensi<...>(http://mpimet.mpg.de/...\n",
      "ds_allpr        Dataset     <xarray.Dataset>\\nDimensi<...>(http://mpimet.mpg.de/...\n",
      "ds_alltas_2m    Dataset     <xarray.Dataset>\\nDimensi<...>(http://mpimet.mpg.de/...\n",
      "ds_alltdps_2m   Dataset     <xarray.Dataset>\\nDimensi<...>(http://mpimet.mpg.de/...\n",
      "ensnum          int64       4\n",
      "glob            module      <module 'glob' from '/hom<...>/lib/python2.7/glob.pyc'>\n",
      "iy              int64       2016\n",
      "mylist          list        n=6\n",
      "np              module      <module 'numpy' from '/ho<...>ages/numpy/__init__.pyc'>\n",
      "os              module      <module 'os' from '/home/<...>_7/lib/python2.7/os.pyc'>\n",
      "pd              module      <module 'pandas' from '/h<...>ges/pandas/__init__.pyc'>\n",
      "plt             module      <module 'matplotlib.pyplo<...>s/matplotlib/pyplot.pyc'>\n",
      "ppf2            function    <function ppf2 at 0x7faeaac167d0>\n",
      "timedelta       type        <type 'datetime.timedelta'>\n",
      "xr              module      <module 'xarray' from '/h<...>ges/xarray/__init__.pyc'>\n"
     ]
    }
   ],
   "source": [
    "whos\n"
   ]
  },
  {
   "cell_type": "markdown",
   "metadata": {},
   "source": [
    "# MERGE THEM IN ONE DATAARRAY"
   ]
  },
  {
   "cell_type": "code",
   "execution_count": 19,
   "metadata": {},
   "outputs": [
    {
     "data": {
      "text/plain": [
       "<xarray.Dataset>\n",
       "Dimensions:  (L: 45, M: 12, S: 324, lat: 11, lon: 14)\n",
       "Coordinates:\n",
       "  * L        (L) float64 0.5 1.5 2.5 3.5 4.5 5.5 6.5 7.5 8.5 9.5 10.5 11.5 ...\n",
       "  * lon      (lon) float32 257.0 258.0 259.0 260.0 261.0 262.0 263.0 264.0 ...\n",
       "  * lat      (lat) float32 32.0 33.0 34.0 35.0 36.0 37.0 38.0 39.0 40.0 41.0 ...\n",
       "  * M        (M) int64 1 1 1 2 2 2 3 3 3 4 4 4\n",
       "  * S        (S) datetime64[ns] 1999-06-05 1999-06-10 1999-06-15 1999-06-20 ...\n",
       "Data variables:\n",
       "    pr       (M, S, L, lat, lon) float32 dask.array<shape=(12, 324, 45, 11, 14), chunksize=(1, 1, 45, 11, 14)>\n",
       "    cape     (M, S, L, lat, lon) float32 dask.array<shape=(12, 324, 45, 11, 14), chunksize=(1, 1, 45, 11, 14)>\n",
       "Attributes:\n",
       "    CDI:          Climate Data Interface version 1.9.1 (http://mpimet.mpg.de/...\n",
       "    history:      Thu Jan 18 12:10:32 2018: cdo.exe -L chname,PRECTOT,pr -set...\n",
       "    Conventions:  COARDS\n",
       "    History:      File written by MAPL_CFIO\n",
       "    Title:        lena-S2S-2_1_CPLFCST20170811\n",
       "    Contact:      http://gmao.gsfc.nasa.gov\n",
       "    Institution:  NASA Global Modeling and Assimilation Office\n",
       "    References:   http://gmao.gsfc.nasa.gov\n",
       "    Comment:      lena-S2S-2_1_CPLFCST20170811\n",
       "    CDO:          Climate Data Operators version 1.9.1 (http://mpimet.mpg.de/..."
      ]
     },
     "execution_count": 19,
     "metadata": {},
     "output_type": "execute_result"
    }
   ],
   "source": [
    "ds_allpr.merge(ds_allcape, inplace=True)"
   ]
  },
  {
   "cell_type": "code",
   "execution_count": 20,
   "metadata": {},
   "outputs": [
    {
     "data": {
      "text/plain": [
       "<xarray.Dataset>\n",
       "Dimensions:  (L: 45, M: 12, S: 324, lat: 11, lon: 14)\n",
       "Coordinates:\n",
       "  * L        (L) float64 0.5 1.5 2.5 3.5 4.5 5.5 6.5 7.5 8.5 9.5 10.5 11.5 ...\n",
       "  * lon      (lon) float32 257.0 258.0 259.0 260.0 261.0 262.0 263.0 264.0 ...\n",
       "  * lat      (lat) float32 32.0 33.0 34.0 35.0 36.0 37.0 38.0 39.0 40.0 41.0 ...\n",
       "  * M        (M) int64 1 1 1 2 2 2 3 3 3 4 4 4\n",
       "  * S        (S) datetime64[ns] 1999-06-05 1999-06-10 1999-06-15 1999-06-20 ...\n",
       "Data variables:\n",
       "    pr       (M, S, L, lat, lon) float32 dask.array<shape=(12, 324, 45, 11, 14), chunksize=(1, 1, 45, 11, 14)>\n",
       "    cape     (M, S, L, lat, lon) float32 dask.array<shape=(12, 324, 45, 11, 14), chunksize=(1, 1, 45, 11, 14)>\n",
       "    tas      (M, S, L, lat, lon) float32 dask.array<shape=(12, 324, 45, 11, 14), chunksize=(1, 1, 45, 11, 14)>\n",
       "Attributes:\n",
       "    CDI:          Climate Data Interface version 1.9.1 (http://mpimet.mpg.de/...\n",
       "    history:      Thu Jan 18 12:10:32 2018: cdo.exe -L chname,PRECTOT,pr -set...\n",
       "    Conventions:  COARDS\n",
       "    History:      File written by MAPL_CFIO\n",
       "    Title:        lena-S2S-2_1_CPLFCST20170811\n",
       "    Contact:      http://gmao.gsfc.nasa.gov\n",
       "    Institution:  NASA Global Modeling and Assimilation Office\n",
       "    References:   http://gmao.gsfc.nasa.gov\n",
       "    Comment:      lena-S2S-2_1_CPLFCST20170811\n",
       "    CDO:          Climate Data Operators version 1.9.1 (http://mpimet.mpg.de/..."
      ]
     },
     "execution_count": 20,
     "metadata": {},
     "output_type": "execute_result"
    }
   ],
   "source": [
    "ds_allpr.merge(ds_alltas_2m, inplace=True)"
   ]
  },
  {
   "cell_type": "code",
   "execution_count": 21,
   "metadata": {},
   "outputs": [
    {
     "data": {
      "text/plain": [
       "<xarray.Dataset>\n",
       "Dimensions:  (L: 45, M: 12, S: 324, lat: 11, lon: 14)\n",
       "Coordinates:\n",
       "  * L        (L) float64 0.5 1.5 2.5 3.5 4.5 5.5 6.5 7.5 8.5 9.5 10.5 11.5 ...\n",
       "  * lon      (lon) float32 257.0 258.0 259.0 260.0 261.0 262.0 263.0 264.0 ...\n",
       "  * lat      (lat) float32 32.0 33.0 34.0 35.0 36.0 37.0 38.0 39.0 40.0 41.0 ...\n",
       "  * M        (M) int64 1 1 1 2 2 2 3 3 3 4 4 4\n",
       "  * S        (S) datetime64[ns] 1999-06-05 1999-06-10 1999-06-15 1999-06-20 ...\n",
       "Data variables:\n",
       "    pr       (M, S, L, lat, lon) float32 dask.array<shape=(12, 324, 45, 11, 14), chunksize=(1, 1, 45, 11, 14)>\n",
       "    cape     (M, S, L, lat, lon) float32 dask.array<shape=(12, 324, 45, 11, 14), chunksize=(1, 1, 45, 11, 14)>\n",
       "    tas      (M, S, L, lat, lon) float32 dask.array<shape=(12, 324, 45, 11, 14), chunksize=(1, 1, 45, 11, 14)>\n",
       "    tdps     (M, S, L, lat, lon) float32 dask.array<shape=(12, 324, 45, 11, 14), chunksize=(1, 1, 45, 11, 14)>\n",
       "Attributes:\n",
       "    CDI:          Climate Data Interface version 1.9.1 (http://mpimet.mpg.de/...\n",
       "    history:      Thu Jan 18 12:10:32 2018: cdo.exe -L chname,PRECTOT,pr -set...\n",
       "    Conventions:  COARDS\n",
       "    History:      File written by MAPL_CFIO\n",
       "    Title:        lena-S2S-2_1_CPLFCST20170811\n",
       "    Contact:      http://gmao.gsfc.nasa.gov\n",
       "    Institution:  NASA Global Modeling and Assimilation Office\n",
       "    References:   http://gmao.gsfc.nasa.gov\n",
       "    Comment:      lena-S2S-2_1_CPLFCST20170811\n",
       "    CDO:          Climate Data Operators version 1.9.1 (http://mpimet.mpg.de/..."
      ]
     },
     "execution_count": 21,
     "metadata": {},
     "output_type": "execute_result"
    }
   ],
   "source": [
    "ds_allpr.merge(ds_alltdps_2m, inplace=True)"
   ]
  },
  {
   "cell_type": "code",
   "execution_count": 26,
   "metadata": {},
   "outputs": [],
   "source": [
    "del ds_alltas_2m\n",
    "del ds_alltdps_2m\n",
    "del ds_allcape"
   ]
  },
  {
   "cell_type": "markdown",
   "metadata": {},
   "source": [
    "# SELECT LEAD TIMES"
   ]
  },
  {
   "cell_type": "code",
   "execution_count": 62,
   "metadata": {},
   "outputs": [
    {
     "data": {
      "text/plain": [
       "<xarray.Dataset>\n",
       "Dimensions:  (MSll: 4191264)\n",
       "Coordinates:\n",
       "  * MSll     (MSll) MultiIndex\n",
       "  - M        (MSll) int64 1 1 1 1 1 1 1 1 1 1 1 1 1 1 1 1 1 1 1 1 1 1 1 1 1 ...\n",
       "  - S        (MSll) datetime64[ns] 1999-06-05 1999-06-05 1999-06-05 ...\n",
       "  - lat      (MSll) float64 32.0 32.0 32.0 32.0 32.0 32.0 32.0 32.0 32.0 ...\n",
       "  - lon      (MSll) float64 257.0 257.0 257.0 257.0 257.0 257.0 257.0 258.0 ...\n",
       "  - L        (MSll) float64 1.5 2.5 3.5 4.5 5.5 6.5 7.5 1.5 2.5 3.5 4.5 5.5 ...\n",
       "Data variables:\n",
       "    pr       (MSll) float32 1.45447e-06 2.21444e-06 3.43661e-06 5.47569e-06 ...\n",
       "    cape     (MSll) float32 57.8507 880.703 385.558 643.724 681.066 1004.0 ...\n",
       "    tas      (MSll) float32 299.757 300.485 300.868 300.79 302.025 302.036 ...\n",
       "    tdps     (MSll) float32 278.036 287.18 284.541 286.013 285.089 286.543 ...\n",
       "Attributes:\n",
       "    CDI:          Climate Data Interface version 1.9.1 (http://mpimet.mpg.de/...\n",
       "    history:      Thu Jan 18 12:10:32 2018: cdo.exe -L chname,PRECTOT,pr -set...\n",
       "    Conventions:  COARDS\n",
       "    History:      File written by MAPL_CFIO\n",
       "    Title:        lena-S2S-2_1_CPLFCST20170811\n",
       "    Contact:      http://gmao.gsfc.nasa.gov\n",
       "    Institution:  NASA Global Modeling and Assimilation Office\n",
       "    References:   http://gmao.gsfc.nasa.gov\n",
       "    Comment:      lena-S2S-2_1_CPLFCST20170811\n",
       "    CDO:          Climate Data Operators version 1.9.1 (http://mpimet.mpg.de/..."
      ]
     },
     "execution_count": 62,
     "metadata": {},
     "output_type": "execute_result"
    }
   ],
   "source": [
    "week1 = ds_allpr.sel(L=slice(1.5,7.5))\n",
    "week1 = week1.stack(MSll=('M','S','lat','lon','L')).compute()\n",
    "week1"
   ]
  },
  {
   "cell_type": "code",
   "execution_count": 73,
   "metadata": {},
   "outputs": [
    {
     "data": {
      "text/plain": [
       "<xarray.Dataset>\n",
       "Dimensions:  (MSll: 4191264)\n",
       "Coordinates:\n",
       "  * MSll     (MSll) int64 0 1 2 3 4 5 6 7 8 9 10 11 12 13 14 15 16 17 18 19 ...\n",
       "Data variables:\n",
       "    pr       (MSll) float32 1.45447e-06 2.21444e-06 3.43661e-06 5.47569e-06 ...\n",
       "    cape     (MSll) float32 57.8507 880.703 385.558 643.724 681.066 1004.0 ...\n",
       "    tas      (MSll) float32 299.757 300.485 300.868 300.79 302.025 302.036 ...\n",
       "    tdps     (MSll) float32 278.036 287.18 284.541 286.013 285.089 286.543 ...\n",
       "Attributes:\n",
       "    CDI:          Climate Data Interface version 1.9.1 (http://mpimet.mpg.de/...\n",
       "    history:      Thu Jan 18 12:10:32 2018: cdo.exe -L chname,PRECTOT,pr -set...\n",
       "    Conventions:  COARDS\n",
       "    History:      File written by MAPL_CFIO\n",
       "    Title:        lena-S2S-2_1_CPLFCST20170811\n",
       "    Contact:      http://gmao.gsfc.nasa.gov\n",
       "    Institution:  NASA Global Modeling and Assimilation Office\n",
       "    References:   http://gmao.gsfc.nasa.gov\n",
       "    Comment:      lena-S2S-2_1_CPLFCST20170811\n",
       "    CDO:          Climate Data Operators version 1.9.1 (http://mpimet.mpg.de/..."
      ]
     },
     "execution_count": 73,
     "metadata": {},
     "output_type": "execute_result"
    }
   ],
   "source": [
    "week1.coords['MSll'] = np.arange(0,4191264) \n",
    "week1"
   ]
  },
  {
   "cell_type": "code",
   "execution_count": 74,
   "metadata": {},
   "outputs": [],
   "source": [
    "# plt.hist(week1.tas.values.ravel())\n",
    "\n",
    "step = 2.\n",
    "to_bin = lambda x: np.round(x / step) * step\n",
    "week1[\"tasb\"] = to_bin(week1.tas)\n",
    "# \n",
    "\n",
    "# plt.hist(week1.tasb.values.ravel(),bins=20)"
   ]
  },
  {
   "cell_type": "code",
   "execution_count": 75,
   "metadata": {},
   "outputs": [
    {
     "name": "stdout",
     "output_type": "stream",
     "text": [
      "0 (2,)\n",
      "1 (22,)\n",
      "2 (164,)\n",
      "3 (931,)\n",
      "4 (4617,)\n",
      "5 (16469,)\n",
      "6 (43533,)\n",
      "7 (87445,)\n",
      "8 (145584,)\n",
      "9 (229936,)\n",
      "10 (275846,)\n",
      "11 (260178,)\n",
      "12 (190819,)\n",
      "13 (98244,)\n",
      "14 (35159,)\n",
      "15 (7170,)\n",
      "16 (932,)\n",
      "17 (37,)\n"
     ]
    },
    {
     "data": {
      "text/plain": [
       "<xarray.Dataset>\n",
       "Dimensions:    (quantiles: 9, tasb: 18)\n",
       "Coordinates:\n",
       "  * tasb       (tasb) float64 280.0 282.0 284.0 286.0 288.0 290.0 292.0 ...\n",
       "  * quantiles  (quantiles) float64 75.0 85.0 95.0 99.0 99.1 99.5 99.9 99.95 ...\n",
       "Data variables:\n",
       "    pr         (tasb) float64 3.158e-05 0.0003874 0.0007239 0.0009821 ...\n",
       "    pr_q       (quantiles, tasb) float64 0.0 0.0 0.0 0.0001309 9.473e-05 ..."
      ]
     },
     "execution_count": 75,
     "metadata": {},
     "output_type": "execute_result"
    }
   ],
   "source": [
    "grouped1 = week1[['pr','tasb']].groupby('tasb')\n",
    "ds_group = grouped1.max()\n",
    "ds_group.coords['quantiles'] = np.array([75,85,95,99,99.1,99.5,99.9,99.95,99.99])\n",
    "ds_group['pr_q'] = (('quantiles','tasb'), np.zeros((len(ds_group.quantiles.values),len(ds_group.tasb.values)))) \n",
    "for iim, (k, gp) in enumerate(grouped1):\n",
    "    print iim,gp.pr.shape\n",
    "    if gp.pr.shape[0]>500:\n",
    "        var = np.nanpercentile(gp.pr.values, q=[75,85,95,99,99.1,99.5,99.9,99.95,99.99])\n",
    "#         ind_x = xr.DataArray([0, iim], dims=['x'])\n",
    "        ds_group['pr_q'].loc[dict(tasb=k)] = var\n",
    "\n",
    "ds_group\n"
   ]
  },
  {
   "cell_type": "code",
   "execution_count": 76,
   "metadata": {},
   "outputs": [
    {
     "data": {
      "image/png": "[encoded data removed]",
      "text/plain": [
       "<matplotlib.figure.Figure at 0x7f3735124150>"
      ]
     },
     "metadata": {},
     "output_type": "display_data"
    }
   ],
   "source": [
    "plt.plot(ds_group.tasb,np.log(ds_group.pr_q.T),'o-')\n",
    "plt.legend(ds_group.quantiles.values, bbox_to_anchor=(1.01,0.61))\n",
    "# plt.xlim((287,315))\n",
    "for iim in np.arange(-28,-23,0.5):\n",
    "    plt.plot(np.array([280,315]),iim+0.06*np.array([280,315]),':')\n"
   ]
  },
  {
   "cell_type": "code",
   "execution_count": 77,
   "metadata": {},
   "outputs": [
    {
     "data": {
      "text/plain": [
       "<xarray.Dataset>\n",
       "Dimensions:  (MSll: 4191264)\n",
       "Coordinates:\n",
       "  * MSll     (MSll) MultiIndex\n",
       "  - M        (MSll) int64 1 1 1 1 1 1 1 1 1 1 1 1 1 1 1 1 1 1 1 1 1 1 1 1 1 ...\n",
       "  - S        (MSll) datetime64[ns] 1999-06-05 1999-06-05 1999-06-05 ...\n",
       "  - lat      (MSll) float64 32.0 32.0 32.0 32.0 32.0 32.0 32.0 32.0 32.0 ...\n",
       "  - lon      (MSll) float64 257.0 257.0 257.0 257.0 257.0 257.0 257.0 258.0 ...\n",
       "  - L        (MSll) float64 8.5 9.5 10.5 11.5 12.5 13.5 14.5 8.5 9.5 10.5 ...\n",
       "Data variables:\n",
       "    pr       (MSll) float32 6.51815e-08 1.67013e-07 2.29898e-08 1.75807e-08 ...\n",
       "    cape     (MSll) float32 29.7604 36.3748 185.046 559.103 699.687 1093.92 ...\n",
       "    tas      (MSll) float32 300.401 300.249 301.77 302.028 302.553 302.811 ...\n",
       "    tdps     (MSll) float32 285.258 285.31 283.548 284.928 284.912 286.449 ...\n",
       "Attributes:\n",
       "    CDI:          Climate Data Interface version 1.9.1 (http://mpimet.mpg.de/...\n",
       "    history:      Thu Jan 18 12:10:32 2018: cdo.exe -L chname,PRECTOT,pr -set...\n",
       "    Conventions:  COARDS\n",
       "    History:      File written by MAPL_CFIO\n",
       "    Title:        lena-S2S-2_1_CPLFCST20170811\n",
       "    Contact:      http://gmao.gsfc.nasa.gov\n",
       "    Institution:  NASA Global Modeling and Assimilation Office\n",
       "    References:   http://gmao.gsfc.nasa.gov\n",
       "    Comment:      lena-S2S-2_1_CPLFCST20170811\n",
       "    CDO:          Climate Data Operators version 1.9.1 (http://mpimet.mpg.de/..."
      ]
     },
     "execution_count": 77,
     "metadata": {},
     "output_type": "execute_result"
    }
   ],
   "source": [
    "week2 = ds_allpr.sel(L=slice(8.5,14.5))\n",
    "week2 = week2.stack(MSll=('M','S','lat','lon','L')).compute()\n",
    "week2"
   ]
  },
  {
   "cell_type": "code",
   "execution_count": 78,
   "metadata": {},
   "outputs": [],
   "source": [
    "week2.coords['MSll'] = np.arange(0,4191264) "
   ]
  },
  {
   "cell_type": "code",
   "execution_count": 79,
   "metadata": {},
   "outputs": [],
   "source": [
    "# plt.hist(week2.tas.values.ravel())\n",
    "\n",
    "step = 2.\n",
    "to_bin = lambda x: np.round(x / step) * step\n",
    "week2[\"tasb\"] = to_bin(week2.tas)\n",
    "# \n",
    "\n",
    "# plt.hist(week2.tasb.values.ravel(),bins=20)"
   ]
  },
  {
   "cell_type": "code",
   "execution_count": 80,
   "metadata": {},
   "outputs": [
    {
     "name": "stdout",
     "output_type": "stream",
     "text": [
      "0 (32,)\n",
      "1 (178,)\n",
      "2 (563,)\n",
      "3 (2880,)\n",
      "4 (10857,)\n",
      "5 (30746,)\n",
      "6 (65045,)\n",
      "7 (119906,)\n",
      "8 (216154,)\n",
      "9 (290011,)\n",
      "10 (284600,)\n",
      "11 (217824,)\n",
      "12 (110737,)\n",
      "13 (38113,)\n",
      "14 (8558,)\n",
      "15 (876,)\n",
      "16 (8,)\n"
     ]
    },
    {
     "data": {
      "text/plain": [
       "<xarray.Dataset>\n",
       "Dimensions:    (quantiles: 9, tasb: 17)\n",
       "Coordinates:\n",
       "  * tasb       (tasb) float64 282.0 284.0 286.0 288.0 290.0 292.0 294.0 ...\n",
       "  * quantiles  (quantiles) float64 75.0 85.0 95.0 99.0 99.1 99.5 99.9 99.95 ...\n",
       "Data variables:\n",
       "    pr         (tasb) float64 0.0001326 0.0007936 0.0008433 0.001466 ...\n",
       "    pr_q       (quantiles, tasb) float64 0.0 0.0 9.9e-05 5.73e-05 4.189e-05 ..."
      ]
     },
     "execution_count": 80,
     "metadata": {},
     "output_type": "execute_result"
    }
   ],
   "source": [
    "grouped2 = week2[['pr','tasb']].groupby('tasb')\n",
    "ds_group2 = grouped2.max()\n",
    "ds_group2.coords['quantiles'] = np.array([75,85,95,99,99.1,99.5,99.9,99.95,99.99])\n",
    "ds_group2['pr_q'] = (('quantiles','tasb'), np.zeros((len(ds_group2.quantiles.values),len(ds_group2.tasb.values)))) \n",
    "for iim, (k, gp) in enumerate(grouped2):\n",
    "    print iim,gp.pr.shape\n",
    "    if gp.pr.shape[0]>500:\n",
    "        var = np.nanpercentile(gp.pr.values, q=[75,85,95,99,99.1,99.5,99.9,99.95,99.99])\n",
    "#         ind_x = xr.DataArray([0, iim], dims=['x'])\n",
    "        ds_group2['pr_q'].loc[dict(tasb=k)] = var\n",
    "\n",
    "ds_group2\n"
   ]
  },
  {
   "cell_type": "code",
   "execution_count": 85,
   "metadata": {},
   "outputs": [
    {
     "data": {
      "image/png": "[encoded data removed]",
      "text/plain": [
       "<matplotlib.figure.Figure at 0x7f3734f1f4d0>"
      ]
     },
     "metadata": {},
     "output_type": "display_data"
    }
   ],
   "source": [
    "plt.plot(ds_group.tasb,np.log(ds_group.pr_q.T),'o-')\n",
    "plt.legend(ds_group.quantiles.values, bbox_to_anchor=(1.01,0.61))\n",
    "# plt.xlim((287,315))\n",
    "for iim in np.arange(-28,-23,0.5):\n",
    "    plt.plot(np.array([280,315]),iim+0.06*np.array([280,315]),':')\n",
    "    \n",
    "plt.plot(ds_group2.tasb,np.log(ds_group2.pr_q.T),'.-', color='grey')\n",
    "plt.legend(ds_group2.quantiles.values, bbox_to_anchor=(1.01,0.61))\n",
    "# plt.xlim((287,315))\n",
    "for iim in np.arange(-28,-23,0.5):\n",
    "    plt.plot(np.array([280,315]),iim+0.06*np.array([280,315]),':')\n"
   ]
  },
  {
   "cell_type": "code",
   "execution_count": 82,
   "metadata": {},
   "outputs": [],
   "source": [
    "# week3 = ds_allpr.sel(L=slice(15.5,21.5))"
   ]
  },
  {
   "cell_type": "code",
   "execution_count": null,
   "metadata": {},
   "outputs": [],
   "source": []
  }
 ],
 "metadata": {
  "kernelspec": {
   "display_name": "Python 2",
   "language": "python",
   "name": "python2"
  },
  "language_info": {
   "codemirror_mode": {
    "name": "ipython",
    "version": 2
   },
   "file_extension": ".py",
   "mimetype": "text/x-python",
   "name": "python",
   "nbconvert_exporter": "python",
   "pygments_lexer": "ipython2",
   "version": "2.7.13"
  }
 },
 "nbformat": 4,
 "nbformat_minor": 2
}
