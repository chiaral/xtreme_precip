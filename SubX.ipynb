{
 "cells": [
  {
   "cell_type": "code",
   "execution_count": 1,
   "metadata": {},
   "outputs": [],
   "source": [
    "import numpy as np\n",
    "import xarray as xr\n",
    "import pandas as pd\n",
    "import datetime\n",
    "\n",
    "from datetime import timedelta, datetime, date\n",
    "import calendar\n",
    "\n",
    "import numpy as np\n",
    "from matplotlib import pyplot as plt\n",
    "%matplotlib inline\n"
   ]
  },
  {
   "cell_type": "code",
   "execution_count": 2,
   "metadata": {},
   "outputs": [
    {
     "name": "stdout",
     "output_type": "stream",
     "text": [
      "/home/clepore/.conda/envs/updated_general_python2_7/bin/python\r\n"
     ]
    }
   ],
   "source": [
    "!which python"
   ]
  },
  {
   "cell_type": "code",
   "execution_count": 3,
   "metadata": {},
   "outputs": [],
   "source": [
    "import Nio"
   ]
  },
  {
   "cell_type": "code",
   "execution_count": 9,
   "metadata": {},
   "outputs": [
    {
     "name": "stdout",
     "output_type": "stream",
     "text": [
      "pr_sfc_CFS_01feb2018_00z_d00_d44_m01.nc\n",
      "pr_sfc_CFS_01feb2018_00z_d00_d44_m02.nc\n",
      "pr_sfc_CFS_01feb2018_00z_d00_d44_m03.nc\n",
      "pr_sfc_CFS_01feb2018_00z_d00_d44_m04.nc\n",
      "ls: write error\n"
     ]
    }
   ],
   "source": [
    "ls /Data2/SubX/NCEP/CFSv2/forecast -U | head -4"
   ]
  },
  {
   "cell_type": "code",
   "execution_count": 3,
   "metadata": {},
   "outputs": [
    {
     "name": "stdout",
     "output_type": "stream",
     "text": [
      "\u001b[0m\u001b[38;5;9msubX_realtime_ECCC_2017072700_m00.tar\u001b[0m\n",
      "\u001b[38;5;9msubX_realtime_ECCC_2017072700_m01.tar\u001b[0m\n",
      "\u001b[38;5;9msubX_realtime_ECCC_2017072700_m02.tar\u001b[0m\n",
      "\u001b[38;5;9msubX_realtime_ECCC_2017072700_m03.tar\u001b[0m\n",
      "ls: write error\n"
     ]
    }
   ],
   "source": [
    "ls /Data2/SubX/ECCC/forecast -U | head -4"
   ]
  },
  {
   "cell_type": "code",
   "execution_count": 53,
   "metadata": {},
   "outputs": [
    {
     "name": "stdout",
     "output_type": "stream",
     "text": [
      "pr_sfc_CCSM4_02dec2000_00z_d01_d45_m01.nc\n",
      "pr_sfc_CCSM4_02dec2000_00z_d01_d45_m02.nc\n",
      "pr_sfc_CCSM4_02dec2000_00z_d01_d45_m03.nc\n",
      "pr_sfc_CCSM4_03dec2000_00z_d01_d45_m01.nc\n",
      "pr_sfc_CCSM4_03dec2000_00z_d01_d45_m02.nc\n",
      "pr_sfc_CCSM4_03dec2000_00z_d01_d45_m03.nc\n",
      "pr_sfc_CCSM4_09dec2000_00z_d01_d45_m01.nc\n",
      "pr_sfc_CCSM4_09dec2000_00z_d01_d45_m02.nc\n",
      "pr_sfc_CCSM4_09dec2000_00z_d01_d45_m03.nc\n",
      "pr_sfc_CCSM4_10dec2000_00z_d01_d45_m01.nc\n",
      "pr_sfc_CCSM4_10dec2000_00z_d01_d45_m02.nc\n",
      "pr_sfc_CCSM4_10dec2000_00z_d01_d45_m03.nc\n",
      "pr_sfc_CCSM4_16dec2000_00z_d01_d45_m01.nc\n",
      "pr_sfc_CCSM4_16dec2000_00z_d01_d45_m02.nc\n",
      "pr_sfc_CCSM4_16dec2000_00z_d01_d45_m03.nc\n",
      "pr_sfc_CCSM4_17dec2000_00z_d01_d45_m01.nc\n",
      "pr_sfc_CCSM4_17dec2000_00z_d01_d45_m02.nc\n",
      "pr_sfc_CCSM4_17dec2000_00z_d01_d45_m03.nc\n",
      "pr_sfc_CCSM4_23dec2000_00z_d01_d45_m01.nc\n",
      "pr_sfc_CCSM4_23dec2000_00z_d01_d45_m02.nc\n",
      "pr_sfc_CCSM4_23dec2000_00z_d01_d45_m03.nc\n",
      "pr_sfc_CCSM4_24dec2000_00z_d01_d45_m01.nc\n",
      "pr_sfc_CCSM4_24dec2000_00z_d01_d45_m02.nc\n",
      "pr_sfc_CCSM4_24dec2000_00z_d01_d45_m03.nc\n",
      "pr_sfc_CCSM4_30dec2000_00z_d01_d45_m01.nc\n",
      "pr_sfc_CCSM4_30dec2000_00z_d01_d45_m02.nc\n",
      "pr_sfc_CCSM4_30dec2000_00z_d01_d45_m03.nc\n",
      "pr_sfc_CCSM4_31dec2000_00z_d01_d45_m01.nc\n",
      "pr_sfc_CCSM4_31dec2000_00z_d01_d45_m02.nc\n",
      "pr_sfc_CCSM4_31dec2000_00z_d01_d45_m03.nc\n"
     ]
    }
   ],
   "source": [
    "!ls /Data2/SubX/RSMAS/CCSM4/pr/2000/12\n"
   ]
  },
  {
   "cell_type": "code",
   "execution_count": 54,
   "metadata": {},
   "outputs": [],
   "source": [
    "filenamegrib = \"/Data2/SubX/EMC/GEFS/forecast/20170701/pr_sfc_GEFS_01jul2017_00z_d01_d35_m00.grb2\"\n",
    "filenamegrib = 'https://nomads.ncdc.noaa.gov/data/gens/201810/20181012/gens-a_2_20181012_0000_048_19.grb2'"
   ]
  },
  {
   "cell_type": "code",
   "execution_count": 55,
   "metadata": {},
   "outputs": [
    {
     "ename": "NIOError",
     "evalue": "Unable to open file",
     "output_type": "error",
     "traceback": [
      "\u001b[0;31m---------------------------------------------------------------------------\u001b[0m",
      "\u001b[0;31mNIOError\u001b[0m                                  Traceback (most recent call last)",
      "\u001b[0;32m<ipython-input-55-1fd8ed435c72>\u001b[0m in \u001b[0;36m<module>\u001b[0;34m\u001b[0m\n\u001b[0;32m----> 1\u001b[0;31m \u001b[0mf\u001b[0m \u001b[0;34m=\u001b[0m \u001b[0mNio\u001b[0m\u001b[0;34m.\u001b[0m\u001b[0mopen_file\u001b[0m\u001b[0;34m(\u001b[0m\u001b[0mfilenamegrib\u001b[0m\u001b[0;34m)\u001b[0m\u001b[0;34m\u001b[0m\u001b[0m\n\u001b[0m\u001b[1;32m      2\u001b[0m \u001b[0mprint\u001b[0m\u001b[0;34m(\u001b[0m\u001b[0mf\u001b[0m\u001b[0;34m)\u001b[0m\u001b[0;34m\u001b[0m\u001b[0m\n",
      "\u001b[0;32m~/.conda/envs/general_python3/lib/python3.6/site-packages/PyNIO/Nio.py\u001b[0m in \u001b[0;36mopen_file\u001b[0;34m(filename, mode, options, history, format)\u001b[0m\n\u001b[1;32m    744\u001b[0m     \u001b[0mmask_above_value\u001b[0m \u001b[0;34m=\u001b[0m \u001b[0m_get_option_value\u001b[0m\u001b[0;34m(\u001b[0m\u001b[0moptions\u001b[0m\u001b[0;34m,\u001b[0m\u001b[0m_nio\u001b[0m\u001b[0;34m.\u001b[0m\u001b[0moption_defaults\u001b[0m\u001b[0;34m,\u001b[0m\u001b[0;34m'MaskAboveValue'\u001b[0m\u001b[0;34m)\u001b[0m\u001b[0;34m\u001b[0m\u001b[0m\n\u001b[1;32m    745\u001b[0m \u001b[0;34m\u001b[0m\u001b[0m\n\u001b[0;32m--> 746\u001b[0;31m     \u001b[0mfile\u001b[0m \u001b[0;34m=\u001b[0m \u001b[0m_nio\u001b[0m\u001b[0;34m.\u001b[0m\u001b[0mopen_file\u001b[0m\u001b[0;34m(\u001b[0m\u001b[0mfilename\u001b[0m\u001b[0;34m,\u001b[0m\u001b[0mmode\u001b[0m\u001b[0;34m,\u001b[0m\u001b[0moptions\u001b[0m\u001b[0;34m,\u001b[0m\u001b[0mhistory\u001b[0m\u001b[0;34m,\u001b[0m\u001b[0mformat\u001b[0m\u001b[0;34m)\u001b[0m\u001b[0;34m\u001b[0m\u001b[0m\n\u001b[0m\u001b[1;32m    747\u001b[0m \u001b[0;34m\u001b[0m\u001b[0m\n\u001b[1;32m    748\u001b[0m     \u001b[0mfile_proxy\u001b[0m \u001b[0;34m=\u001b[0m \u001b[0m_proxy\u001b[0m\u001b[0;34m(\u001b[0m\u001b[0mfile\u001b[0m\u001b[0;34m,\u001b[0m \u001b[0;34m'str'\u001b[0m\u001b[0;34m,\u001b[0m \u001b[0m__del__\u001b[0m\u001b[0;34m=\u001b[0m\u001b[0m__del__\u001b[0m\u001b[0;34m,\u001b[0m\u001b[0mcreate_variable\u001b[0m\u001b[0;34m=\u001b[0m\u001b[0mcreate_variable\u001b[0m\u001b[0;34m,\u001b[0m\u001b[0mcreate_group\u001b[0m\u001b[0;34m=\u001b[0m\u001b[0mcreate_group\u001b[0m\u001b[0;34m,\u001b[0m\u001b[0mclose\u001b[0m\u001b[0;34m=\u001b[0m\u001b[0mclose\u001b[0m\u001b[0;34m)\u001b[0m\u001b[0;34m\u001b[0m\u001b[0m\n",
      "\u001b[0;31mNIOError\u001b[0m: Unable to open file"
     ]
    }
   ],
   "source": [
    "f = Nio.open_file(filenamegrib)\n",
    "print(f)"
   ]
  },
  {
   "cell_type": "code",
   "execution_count": 29,
   "metadata": {},
   "outputs": [
    {
     "data": {
      "text/plain": [
       "<xarray.Dataset>\n",
       "Dimensions:          (forecast_time0: 35, lat_0: 181, lon_0: 360)\n",
       "Coordinates:\n",
       "  * lat_0            (lat_0) float32 90.0 89.0 88.0 87.0 ... -88.0 -89.0 -90.0\n",
       "  * lon_0            (lon_0) float32 0.0 1.0 2.0 3.0 ... 356.0 357.0 358.0 359.0\n",
       "  * forecast_time0   (forecast_time0) timedelta64[ns] 01:00:00 ... 1 days 11:00:00\n",
       "Data variables:\n",
       "    APCP_P1_L1_GLL0  (forecast_time0, lat_0, lon_0) float32 ..."
      ]
     },
     "execution_count": 29,
     "metadata": {},
     "output_type": "execute_result"
    }
   ],
   "source": [
    "temp = xr.open_dataset(filenamegrib, engine='pynio')\n",
    "temp"
   ]
  },
  {
   "cell_type": "code",
   "execution_count": 30,
   "metadata": {},
   "outputs": [
    {
     "data": {
      "text/plain": [
       "<xarray.DataArray 'forecast_time0' (forecast_time0: 35)>\n",
       "array([ 1.,  2.,  3.,  4.,  5.,  6.,  7.,  8.,  9., 10., 11., 12., 13., 14.,\n",
       "       15., 16., 17., 18., 19., 20., 21., 22., 23., 24., 25., 26., 27., 28.,\n",
       "       29., 30., 31., 32., 33., 34., 35.])\n",
       "Coordinates:\n",
       "  * forecast_time0  (forecast_time0) timedelta64[ns] 01:00:00 ... 1 days 11:00:00"
      ]
     },
     "execution_count": 30,
     "metadata": {},
     "output_type": "execute_result"
    }
   ],
   "source": [
    "temp.forecast_time0/np.timedelta64(1,'h')"
   ]
  },
  {
   "cell_type": "code",
   "execution_count": 8,
   "metadata": {},
   "outputs": [
    {
     "data": {
      "text/plain": [
       "<xarray.DataArray 'forecast_time0' (forecast_time0: 35)>\n",
       "array([0.041667, 0.083333, 0.125   , 0.166667, 0.208333, 0.25    , 0.291667,\n",
       "       0.333333, 0.375   , 0.416667, 0.458333, 0.5     , 0.541667, 0.583333,\n",
       "       0.625   , 0.666667, 0.708333, 0.75    , 0.791667, 0.833333, 0.875   ,\n",
       "       0.916667, 0.958333, 1.      , 1.041667, 1.083333, 1.125   , 1.166667,\n",
       "       1.208333, 1.25    , 1.291667, 1.333333, 1.375   , 1.416667, 1.458333])\n",
       "Coordinates:\n",
       "  * forecast_time0  (forecast_time0) timedelta64[ns] 01:00:00 ... 1 days 11:00:00"
      ]
     },
     "execution_count": 8,
     "metadata": {},
     "output_type": "execute_result"
    }
   ],
   "source": [
    "temp.forecast_time0/ np.timedelta64(1, 'D')"
   ]
  },
  {
   "cell_type": "code",
   "execution_count": null,
   "metadata": {},
   "outputs": [],
   "source": []
  },
  {
   "cell_type": "code",
   "execution_count": 3,
   "metadata": {},
   "outputs": [
    {
     "ename": "ModuleNotFoundError",
     "evalue": "No module named 'gcsfs'",
     "output_type": "error",
     "traceback": [
      "\u001b[0;31m---------------------------------------------------------------------------\u001b[0m",
      "\u001b[0;31mModuleNotFoundError\u001b[0m                       Traceback (most recent call last)",
      "\u001b[0;32m<ipython-input-3-3f25f74e3f1b>\u001b[0m in \u001b[0;36m<module>\u001b[0;34m\u001b[0m\n\u001b[0;32m----> 1\u001b[0;31m \u001b[0;32mimport\u001b[0m \u001b[0mgcsfs\u001b[0m\u001b[0;34m\u001b[0m\u001b[0m\n\u001b[0m",
      "\u001b[0;31mModuleNotFoundError\u001b[0m: No module named 'gcsfs'"
     ]
    }
   ],
   "source": [
    "import gcsfs"
   ]
  },
  {
   "cell_type": "code",
   "execution_count": 51,
   "metadata": {},
   "outputs": [],
   "source": [
    "def ppf(ds):\n",
    "    ds.coords['S'] = 'S', np.atleast_1d(ds.time[0].values) # I am setting S equal to the first time of the lead time, \n",
    "                                                           # we can change that\n",
    "    return ds"
   ]
  },
  {
   "cell_type": "code",
   "execution_count": 68,
   "metadata": {},
   "outputs": [],
   "source": [
    "def ppf2(ds):\n",
    "    ds.coords['S'] = 'S', np.atleast_1d(ds.time[0].values) # I am setting S equal to the first time of the lead time, \n",
    "                                                           # we can change that\n",
    "    ds.rename({'time':'L'}, inplace=True)\n",
    "    ds['L']=(((ds.L-ds.S)*2.7777777777777778e-13).values.squeeze()).astype(float)     \n",
    "    return ds"
   ]
  },
  {
   "cell_type": "code",
   "execution_count": 3,
   "metadata": {},
   "outputs": [
    {
     "ename": "ImportError",
     "evalue": "libkea.so.1.4: cannot open shared object file: No such file or directory",
     "output_type": "error",
     "traceback": [
      "\u001b[0;31m\u001b[0m",
      "\u001b[0;31mImportError\u001b[0mTraceback (most recent call last)",
      "\u001b[0;32m<ipython-input-3-9142307ba237>\u001b[0m in \u001b[0;36m<module>\u001b[0;34m()\u001b[0m\n\u001b[0;32m----> 1\u001b[0;31m \u001b[0mtemp\u001b[0m \u001b[0;34m=\u001b[0m \u001b[0mxr\u001b[0m\u001b[0;34m.\u001b[0m\u001b[0mopen_dataset\u001b[0m\u001b[0;34m(\u001b[0m\u001b[0;34m'/Data2/SubX/EMC/GEFS/pr_sfc/1999/01/pr_sfc_GEFS_06jan1999_00z_d01_d35_m00.grb2'\u001b[0m\u001b[0;34m,\u001b[0m \u001b[0mengine\u001b[0m\u001b[0;34m=\u001b[0m\u001b[0;34m'pynio'\u001b[0m\u001b[0;34m)\u001b[0m\u001b[0;34m\u001b[0m\u001b[0m\n\u001b[0m\u001b[1;32m      2\u001b[0m \u001b[0mtemp\u001b[0m\u001b[0;34m\u001b[0m\u001b[0m\n",
      "\u001b[0;32m/home/clepore/.conda/envs/updated_general_python2_7/lib/python2.7/site-packages/xarray/backends/api.pyc\u001b[0m in \u001b[0;36mopen_dataset\u001b[0;34m(filename_or_obj, group, decode_cf, mask_and_scale, decode_times, autoclose, concat_characters, decode_coords, engine, chunks, lock, cache, drop_variables, backend_kwargs)\u001b[0m\n\u001b[1;32m    333\u001b[0m             store = backends.NioDataStore(filename_or_obj,\n\u001b[1;32m    334\u001b[0m                                           \u001b[0mautoclose\u001b[0m\u001b[0;34m=\u001b[0m\u001b[0mautoclose\u001b[0m\u001b[0;34m,\u001b[0m\u001b[0;34m\u001b[0m\u001b[0m\n\u001b[0;32m--> 335\u001b[0;31m                                            **backend_kwargs)\n\u001b[0m\u001b[1;32m    336\u001b[0m         \u001b[0;32melif\u001b[0m \u001b[0mengine\u001b[0m \u001b[0;34m==\u001b[0m \u001b[0;34m'pseudonetcdf'\u001b[0m\u001b[0;34m:\u001b[0m\u001b[0;34m\u001b[0m\u001b[0m\n\u001b[1;32m    337\u001b[0m             store = backends.PseudoNetCDFDataStore.open(\n",
      "\u001b[0;32m/home/clepore/.conda/envs/updated_general_python2_7/lib/python2.7/site-packages/xarray/backends/pynio_.pyc\u001b[0m in \u001b[0;36m__init__\u001b[0;34m(self, filename, mode, autoclose)\u001b[0m\n\u001b[1;32m     45\u001b[0m \u001b[0;34m\u001b[0m\u001b[0m\n\u001b[1;32m     46\u001b[0m     \u001b[0;32mdef\u001b[0m \u001b[0m__init__\u001b[0m\u001b[0;34m(\u001b[0m\u001b[0mself\u001b[0m\u001b[0;34m,\u001b[0m \u001b[0mfilename\u001b[0m\u001b[0;34m,\u001b[0m \u001b[0mmode\u001b[0m\u001b[0;34m=\u001b[0m\u001b[0;34m'r'\u001b[0m\u001b[0;34m,\u001b[0m \u001b[0mautoclose\u001b[0m\u001b[0;34m=\u001b[0m\u001b[0mFalse\u001b[0m\u001b[0;34m)\u001b[0m\u001b[0;34m:\u001b[0m\u001b[0;34m\u001b[0m\u001b[0m\n\u001b[0;32m---> 47\u001b[0;31m         \u001b[0;32mimport\u001b[0m \u001b[0mNio\u001b[0m\u001b[0;34m\u001b[0m\u001b[0m\n\u001b[0m\u001b[1;32m     48\u001b[0m         \u001b[0mopener\u001b[0m \u001b[0;34m=\u001b[0m \u001b[0mfunctools\u001b[0m\u001b[0;34m.\u001b[0m\u001b[0mpartial\u001b[0m\u001b[0;34m(\u001b[0m\u001b[0mNio\u001b[0m\u001b[0;34m.\u001b[0m\u001b[0mopen_file\u001b[0m\u001b[0;34m,\u001b[0m \u001b[0mfilename\u001b[0m\u001b[0;34m,\u001b[0m \u001b[0mmode\u001b[0m\u001b[0;34m=\u001b[0m\u001b[0mmode\u001b[0m\u001b[0;34m)\u001b[0m\u001b[0;34m\u001b[0m\u001b[0m\n\u001b[1;32m     49\u001b[0m         \u001b[0mself\u001b[0m\u001b[0;34m.\u001b[0m\u001b[0m_ds\u001b[0m \u001b[0;34m=\u001b[0m \u001b[0mopener\u001b[0m\u001b[0;34m(\u001b[0m\u001b[0;34m)\u001b[0m\u001b[0;34m\u001b[0m\u001b[0m\n",
      "\u001b[0;32m/home/clepore/.conda/envs/updated_general_python2_7/lib/python2.7/site-packages/PyNIO/Nio.py\u001b[0m in \u001b[0;36m<module>\u001b[0;34m()\u001b[0m\n\u001b[1;32m     81\u001b[0m '''\n\u001b[1;32m     82\u001b[0m \u001b[0;34m\u001b[0m\u001b[0m\n\u001b[0;32m---> 83\u001b[0;31m \u001b[0;32mfrom\u001b[0m \u001b[0mnio\u001b[0m \u001b[0;32mimport\u001b[0m \u001b[0;34m*\u001b[0m\u001b[0;34m\u001b[0m\u001b[0m\n\u001b[0m\u001b[1;32m     84\u001b[0m \u001b[0;32mfrom\u001b[0m \u001b[0mnio\u001b[0m \u001b[0;32mimport\u001b[0m \u001b[0m_C_API\u001b[0m\u001b[0;34m\u001b[0m\u001b[0m\n\u001b[1;32m     85\u001b[0m \u001b[0;34m\u001b[0m\u001b[0m\n",
      "\u001b[0;31mImportError\u001b[0m: libkea.so.1.4: cannot open shared object file: No such file or directory"
     ]
    }
   ],
   "source": []
  },
  {
   "cell_type": "code",
   "execution_count": 25,
   "metadata": {},
   "outputs": [
    {
     "name": "stdout",
     "output_type": "stream",
     "text": [
      "pr_sfc_GMAOGEOS_01apr2010_00z_d01_d45_m01.nc\n",
      "pr_sfc_GMAOGEOS_01apr2010_00z_d01_d45_m02.nc\n",
      "pr_sfc_GMAOGEOS_01apr2010_00z_d01_d45_m03.nc\n",
      "pr_sfc_GMAOGEOS_01apr2010_00z_d01_d45_m04.nc\n",
      "pr_sfc_GMAOGEOS_06apr2010_00z_d01_d45_m01.nc\n",
      "pr_sfc_GMAOGEOS_06apr2010_00z_d01_d45_m02.nc\n",
      "pr_sfc_GMAOGEOS_06apr2010_00z_d01_d45_m03.nc\n",
      "pr_sfc_GMAOGEOS_06apr2010_00z_d01_d45_m04.nc\n",
      "pr_sfc_GMAOGEOS_11apr2010_00z_d01_d45_m01.nc\n",
      "pr_sfc_GMAOGEOS_11apr2010_00z_d01_d45_m02.nc\n",
      "pr_sfc_GMAOGEOS_11apr2010_00z_d01_d45_m03.nc\n",
      "pr_sfc_GMAOGEOS_11apr2010_00z_d01_d45_m04.nc\n",
      "pr_sfc_GMAOGEOS_16apr2010_00z_d01_d45_m01.nc\n",
      "pr_sfc_GMAOGEOS_16apr2010_00z_d01_d45_m02.nc\n",
      "pr_sfc_GMAOGEOS_16apr2010_00z_d01_d45_m03.nc\n",
      "pr_sfc_GMAOGEOS_16apr2010_00z_d01_d45_m04.nc\n",
      "pr_sfc_GMAOGEOS_21apr2010_00z_d01_d45_m01.nc\n",
      "pr_sfc_GMAOGEOS_21apr2010_00z_d01_d45_m02.nc\n",
      "pr_sfc_GMAOGEOS_21apr2010_00z_d01_d45_m03.nc\n",
      "pr_sfc_GMAOGEOS_21apr2010_00z_d01_d45_m04.nc\n",
      "pr_sfc_GMAOGEOS_26apr2010_00z_d01_d45_m01.nc\n",
      "pr_sfc_GMAOGEOS_26apr2010_00z_d01_d45_m02.nc\n",
      "pr_sfc_GMAOGEOS_26apr2010_00z_d01_d45_m03.nc\n",
      "pr_sfc_GMAOGEOS_26apr2010_00z_d01_d45_m04.nc\n",
      "pr_sfc_GMAOGEOS_apr.tar\n"
     ]
    }
   ],
   "source": [
    "!ls /Data2/SubX/NASA/GEOS_V2p1/pr_sfc/2010/apr/"
   ]
  },
  {
   "cell_type": "code",
   "execution_count": 26,
   "metadata": {},
   "outputs": [],
   "source": [
    "temp = xr.open_dataset('/Data2/SubX/NASA/GEOS_V2p1/pr_sfc/1999/apr/pr_sfc_GMAOGEOS_06apr1999_00z_d01_d45_m01.nc')\n"
   ]
  },
  {
   "cell_type": "code",
   "execution_count": 27,
   "metadata": {},
   "outputs": [
    {
     "name": "stdout",
     "output_type": "stream",
     "text": [
      "<xarray.DataArray (time: 45, S: 1)>\n",
      "array([[               0],\n",
      "       [  86400000000000],\n",
      "       [ 172800000000000],\n",
      "       [ 259200000000000],\n",
      "       [ 345600000000000],\n",
      "       [ 432000000000000],\n",
      "       [ 518400000000000],\n",
      "       [ 604800000000000],\n",
      "       [ 691200000000000],\n",
      "       [ 777600000000000],\n",
      "       [ 864000000000000],\n",
      "       [ 950400000000000],\n",
      "       [1036800000000000],\n",
      "       [1123200000000000],\n",
      "       [1209600000000000],\n",
      "       [1296000000000000],\n",
      "       [1382400000000000],\n",
      "       [1468800000000000],\n",
      "       [1555200000000000],\n",
      "       [1641600000000000],\n",
      "       [1728000000000000],\n",
      "       [1814400000000000],\n",
      "       [1900800000000000],\n",
      "       [1987200000000000],\n",
      "       [2073600000000000],\n",
      "       [2160000000000000],\n",
      "       [2246400000000000],\n",
      "       [2332800000000000],\n",
      "       [2419200000000000],\n",
      "       [2505600000000000],\n",
      "       [2592000000000000],\n",
      "       [2678400000000000],\n",
      "       [2764800000000000],\n",
      "       [2851200000000000],\n",
      "       [2937600000000000],\n",
      "       [3024000000000000],\n",
      "       [3110400000000000],\n",
      "       [3196800000000000],\n",
      "       [3283200000000000],\n",
      "       [3369600000000000],\n",
      "       [3456000000000000],\n",
      "       [3542400000000000],\n",
      "       [3628800000000000],\n",
      "       [3715200000000000],\n",
      "       [3801600000000000]], dtype='timedelta64[ns]')\n",
      "Coordinates:\n",
      "  * time     (time) datetime64[ns] 1999-04-06T12:00:00 1999-04-07T12:00:00 ...\n",
      "  * S        (S) datetime64[ns] 1999-04-06T12:00:00\n"
     ]
    }
   ],
   "source": [
    "temp.coords['S'] = 'S', np.atleast_1d(temp.time[0].values) # I am setting S equal to the first time of the lead time, \n",
    "print temp.time-temp.S\n",
    "\n",
    "temp.coords['L']=(temp.time-temp.S)*2.7777777777777778e-13"
   ]
  },
  {
   "cell_type": "code",
   "execution_count": 22,
   "metadata": {},
   "outputs": [
    {
     "data": {
      "text/plain": [
       "<xarray.DataArray 'L' (L2: 45)>\n",
       "array([   0,   24,   48,   72,   96,  120,  144,  168,  192,  216,  240,  264,\n",
       "        288,  312,  336,  360,  384,  408,  432,  456,  480,  504,  528,  552,\n",
       "        576,  600,  624,  648,  672,  696,  720,  744,  768,  792,  816,  840,\n",
       "        864,  888,  912,  936,  960,  984, 1008, 1032, 1056], dtype='timedelta64[ns]')\n",
       "Coordinates:\n",
       "    L        (L2) timedelta64[ns] 00:00:00 00:00:00.000000 00:00:00.000000 ...\n",
       "  * L2       (L2) MultiIndex\n",
       "  - S        (L2) datetime64[ns] 1999-04-06T12:00:00 1999-04-06T12:00:00 ...\n",
       "  - time     (L2) datetime64[ns] 1999-04-06T12:00:00 1999-04-07T12:00:00 ..."
      ]
     },
     "execution_count": 22,
     "metadata": {},
     "output_type": "execute_result"
    }
   ],
   "source": [
    "temp.L"
   ]
  },
  {
   "cell_type": "code",
   "execution_count": 15,
   "metadata": {},
   "outputs": [],
   "source": [
    "temp = temp.stack(L2=['S', 'time'])   #trick to deal with the time coordinat"
   ]
  },
  {
   "cell_type": "code",
   "execution_count": 16,
   "metadata": {},
   "outputs": [
    {
     "data": {
      "text/plain": [
       "<xarray.Dataset>\n",
       "Dimensions:  (L2: 45, lat: 181, lon: 360)\n",
       "Coordinates:\n",
       "  * lon      (lon) float32 0.0 1.0 2.0 3.0 4.0 5.0 6.0 7.0 8.0 9.0 10.0 11.0 ...\n",
       "  * lat      (lat) float32 -90.0 -89.0 -88.0 -87.0 -86.0 -85.0 -84.0 -83.0 ...\n",
       "    L        (L2) timedelta64[ns] 00:00:00 00:00:00.000000 00:00:00.000000 ...\n",
       "  * L2       (L2) MultiIndex\n",
       "  - S        (L2) datetime64[ns] 1999-04-06T12:00:00 1999-04-06T12:00:00 ...\n",
       "  - time     (L2) datetime64[ns] 1999-04-06T12:00:00 1999-04-07T12:00:00 ...\n",
       "Data variables:\n",
       "    pr       (lat, lon, L2) float32 1.67424e-06 2.44923e-06 2.58377e-06 ...\n",
       "Attributes:\n",
       "    CDI:          Climate Data Interface version 1.9.1 (http://mpimet.mpg.de/...\n",
       "    history:      Mon Dec 18 10:08:46 2017: cdo.exe -L chname,PRECTOT,pr -set...\n",
       "    Conventions:  COARDS\n",
       "    History:      File written by MAPL_CFIO\n",
       "    Title:        lena-S2S-2_1_CPLFCST20170811\n",
       "    Contact:      http://gmao.gsfc.nasa.gov\n",
       "    Institution:  NASA Global Modeling and Assimilation Office\n",
       "    References:   http://gmao.gsfc.nasa.gov\n",
       "    Comment:      lena-S2S-2_1_CPLFCST20170811\n",
       "    CDO:          Climate Data Operators version 1.9.1 (http://mpimet.mpg.de/..."
      ]
     },
     "execution_count": 16,
     "metadata": {},
     "output_type": "execute_result"
    }
   ],
   "source": [
    "temp"
   ]
  },
  {
   "cell_type": "code",
   "execution_count": 21,
   "metadata": {},
   "outputs": [
    {
     "data": {
      "text/plain": [
       "[<matplotlib.lines.Line2D at 0x7fe131c69050>]"
      ]
     },
     "execution_count": 21,
     "metadata": {},
     "output_type": "execute_result"
    },
    {
     "data": {
      "image/png": "[encoded data removed]",
      "text/plain": [
       "<matplotlib.figure.Figure at 0x7fe13f917c10>"
      ]
     },
     "metadata": {},
     "output_type": "display_data"
    }
   ],
   "source": [
    "temp.pr.sel(lat=slice(25,50), lon=slice(230,300)).mean(dim=['lat','lon']).unstack('L2').plot()"
   ]
  },
  {
   "cell_type": "code",
   "execution_count": 73,
   "metadata": {},
   "outputs": [
    {
     "data": {
      "text/plain": [
       "<xarray.Dataset>\n",
       "Dimensions:  (L: 45, S: 1, lat: 181, lon: 360)\n",
       "Coordinates:\n",
       "  * L        (L) float64 0.0 24.0 48.0 72.0 96.0 120.0 144.0 168.0 192.0 ...\n",
       "  * lon      (lon) float32 0.0 1.0 2.0 3.0 4.0 5.0 6.0 7.0 8.0 9.0 10.0 11.0 ...\n",
       "  * lat      (lat) float32 -90.0 -89.0 -88.0 -87.0 -86.0 -85.0 -84.0 -83.0 ...\n",
       "  * S        (S) datetime64[ns] 1999-04-06T12:00:00\n",
       "Data variables:\n",
       "    pr       (L, lat, lon) float32 ...\n",
       "Attributes:\n",
       "    CDI:          Climate Data Interface version 1.9.1 (http://mpimet.mpg.de/...\n",
       "    history:      Mon Dec 18 10:08:46 2017: cdo.exe -L chname,PRECTOT,pr -set...\n",
       "    Conventions:  COARDS\n",
       "    History:      File written by MAPL_CFIO\n",
       "    Title:        lena-S2S-2_1_CPLFCST20170811\n",
       "    Contact:      http://gmao.gsfc.nasa.gov\n",
       "    Institution:  NASA Global Modeling and Assimilation Office\n",
       "    References:   http://gmao.gsfc.nasa.gov\n",
       "    Comment:      lena-S2S-2_1_CPLFCST20170811\n",
       "    CDO:          Climate Data Operators version 1.9.1 (http://mpimet.mpg.de/..."
      ]
     },
     "execution_count": 73,
     "metadata": {},
     "output_type": "execute_result"
    }
   ],
   "source": [
    "temp = xr.open_dataset('/Data2/SubX/NASA/GEOS_V2p1/pr_sfc/1999/apr/pr_sfc_GMAOGEOS_06apr1999_00z_d01_d45_m01.nc')\n",
    "temp.coords['S'] = 'S', np.atleast_1d(temp.time[0].values-) # I am setting S equal to the first time of the lead time, \n",
    "temp.rename({'time':'L'}, inplace=True)\n",
    "temp['L']=(((temp.L-temp.S)*2.7777777777777778e-13).values.squeeze()).astype(float) \n",
    "temp"
   ]
  },
  {
   "cell_type": "code",
   "execution_count": 89,
   "metadata": {},
   "outputs": [
    {
     "data": {
      "text/plain": [
       "<xarray.Dataset>\n",
       "Dimensions:  (L: 45, S: 1, lat: 181, lon: 360)\n",
       "Coordinates:\n",
       "  * L        (L) float64 0.0 24.0 48.0 72.0 96.0 120.0 144.0 168.0 192.0 ...\n",
       "  * lon      (lon) float32 0.0 1.0 2.0 3.0 4.0 5.0 6.0 7.0 8.0 9.0 10.0 11.0 ...\n",
       "  * lat      (lat) float32 -90.0 -89.0 -88.0 -87.0 -86.0 -85.0 -84.0 -83.0 ...\n",
       "  * S        (S) datetime64[ns] 1999-04-06T12:00:00\n",
       "Data variables:\n",
       "    pr       (L, lat, lon) float32 ...\n",
       "Attributes:\n",
       "    CDI:          Climate Data Interface version 1.9.1 (http://mpimet.mpg.de/...\n",
       "    history:      Mon Dec 18 10:08:46 2017: cdo.exe -L chname,PRECTOT,pr -set...\n",
       "    Conventions:  COARDS\n",
       "    History:      File written by MAPL_CFIO\n",
       "    Title:        lena-S2S-2_1_CPLFCST20170811\n",
       "    Contact:      http://gmao.gsfc.nasa.gov\n",
       "    Institution:  NASA Global Modeling and Assimilation Office\n",
       "    References:   http://gmao.gsfc.nasa.gov\n",
       "    Comment:      lena-S2S-2_1_CPLFCST20170811\n",
       "    CDO:          Climate Data Operators version 1.9.1 (http://mpimet.mpg.de/..."
      ]
     },
     "execution_count": 89,
     "metadata": {},
     "output_type": "execute_result"
    }
   ],
   "source": [
    "temp.h"
   ]
  },
  {
   "cell_type": "markdown",
   "metadata": {},
   "source": [
    "## Concatenating along two dimensions is still not possible. Bcause the info on the file name is also not easy to get into with a preprocessing function, I decided to use the glob step - that is the creation of the list of files, to select the ensemble members looping and concatenation\n",
    "\n",
    "## for a general example look here: https://stackoverflow.com/questions/47545138/python-xarray-open-mfdataset-concat-along-two-dimensions\n",
    "\n"
   ]
  },
  {
   "cell_type": "code",
   "execution_count": 71,
   "metadata": {},
   "outputs": [],
   "source": [
    "temp = xr.open_dataset('/Data2/SubX/NASA/GEOS_V2p1/pr_sfc/1999/apr/pr_sfc_GMAOGEOS_06apr1999_00z_d01_d45_m01.nc')"
   ]
  },
  {
   "cell_type": "code",
   "execution_count": 72,
   "metadata": {},
   "outputs": [
    {
     "data": {
      "text/plain": [
       "<xarray.Dataset>\n",
       "Dimensions:  (lat: 181, lon: 360, time: 45)\n",
       "Coordinates:\n",
       "  * time     (time) datetime64[ns] 1999-04-06T12:00:00 1999-04-07T12:00:00 ...\n",
       "  * lon      (lon) float32 0.0 1.0 2.0 3.0 4.0 5.0 6.0 7.0 8.0 9.0 10.0 11.0 ...\n",
       "  * lat      (lat) float32 -90.0 -89.0 -88.0 -87.0 -86.0 -85.0 -84.0 -83.0 ...\n",
       "Data variables:\n",
       "    pr       (time, lat, lon) float32 ...\n",
       "Attributes:\n",
       "    CDI:          Climate Data Interface version 1.9.1 (http://mpimet.mpg.de/...\n",
       "    history:      Mon Dec 18 10:08:46 2017: cdo.exe -L chname,PRECTOT,pr -set...\n",
       "    Conventions:  COARDS\n",
       "    History:      File written by MAPL_CFIO\n",
       "    Title:        lena-S2S-2_1_CPLFCST20170811\n",
       "    Contact:      http://gmao.gsfc.nasa.gov\n",
       "    Institution:  NASA Global Modeling and Assimilation Office\n",
       "    References:   http://gmao.gsfc.nasa.gov\n",
       "    Comment:      lena-S2S-2_1_CPLFCST20170811\n",
       "    CDO:          Climate Data Operators version 1.9.1 (http://mpimet.mpg.de/..."
      ]
     },
     "execution_count": 72,
     "metadata": {},
     "output_type": "execute_result"
    }
   ],
   "source": [
    "temp"
   ]
  },
  {
   "cell_type": "code",
   "execution_count": 41,
   "metadata": {},
   "outputs": [],
   "source": [
    "temp.coords['S'] = 'S', np.atleast_1d(temp.time[0].values) # I am setting S equal to the first time of the lead time, \n",
    "    "
   ]
  },
  {
   "cell_type": "code",
   "execution_count": 46,
   "metadata": {},
   "outputs": [
    {
     "data": {
      "text/plain": [
       "<xarray.Dataset>\n",
       "Dimensions:  (L: 45, S: 1, lat: 181, lon: 360, time: 45)\n",
       "Coordinates:\n",
       "  * time     (time) datetime64[ns] 1999-04-01T12:00:00 1999-04-02T12:00:00 ...\n",
       "  * lon      (lon) float32 0.0 1.0 2.0 3.0 4.0 5.0 6.0 7.0 8.0 9.0 10.0 11.0 ...\n",
       "  * lat      (lat) float32 -90.0 -89.0 -88.0 -87.0 -86.0 -85.0 -84.0 -83.0 ...\n",
       "  * S        (S) datetime64[ns] 1999-04-01T12:00:00\n",
       "  * L        (L) float64 0.0 24.0 48.0 72.0 96.0 120.0 144.0 168.0 192.0 ...\n",
       "Data variables:\n",
       "    pr       (time, lat, lon) float32 ...\n",
       "Attributes:\n",
       "    CDI:          Climate Data Interface version 1.9.1 (http://mpimet.mpg.de/...\n",
       "    history:      Mon Dec 18 10:08:49 2017: cdo.exe -L chname,PRECTOT,pr -set...\n",
       "    Conventions:  COARDS\n",
       "    History:      File written by MAPL_CFIO\n",
       "    Title:        lena-S2S-2_1_CPLFCST20170811\n",
       "    Contact:      http://gmao.gsfc.nasa.gov\n",
       "    Institution:  NASA Global Modeling and Assimilation Office\n",
       "    References:   http://gmao.gsfc.nasa.gov\n",
       "    Comment:      lena-S2S-2_1_CPLFCST20170811\n",
       "    CDO:          Climate Data Operators version 1.9.1 (http://mpimet.mpg.de/..."
      ]
     },
     "execution_count": 46,
     "metadata": {},
     "output_type": "execute_result"
    }
   ],
   "source": [
    "temp"
   ]
  },
  {
   "cell_type": "code",
   "execution_count": 43,
   "metadata": {},
   "outputs": [],
   "source": [
    "temp.coords['L'] = 'L', (((temp.time-temp.S)*2.7777777777777778e-13).values.squeeze()).astype(float) "
   ]
  },
  {
   "cell_type": "code",
   "execution_count": 49,
   "metadata": {},
   "outputs": [],
   "source": [
    "tt = temp.pr.reindex({'time':temp.L, 'lat':temp.lat, 'lon':temp.lon})"
   ]
  },
  {
   "cell_type": "code",
   "execution_count": 50,
   "metadata": {},
   "outputs": [
    {
     "data": {
      "text/plain": [
       "<xarray.DataArray 'pr' (time: 45, lat: 181, lon: 360)>\n",
       "array([[[  1.063718e-09,   1.063718e-09, ...,   1.063718e-09,   1.063718e-09],\n",
       "        [  5.492151e-10,   5.425709e-10, ...,   5.629206e-10,   5.559938e-10],\n",
       "        ..., \n",
       "        [  4.183768e-06,   4.171839e-06, ...,   4.209483e-06,   4.196310e-06],\n",
       "        [  6.807067e-06,   6.807067e-06, ...,   6.807067e-06,   6.807067e-06]],\n",
       "\n",
       "       [[  1.487170e-12,   1.487170e-12, ...,   1.487170e-12,   1.487170e-12],\n",
       "        [  1.961077e-10,   1.877001e-10, ...,   2.129633e-10,   2.045420e-10],\n",
       "        ..., \n",
       "        [  1.035707e-06,   1.000619e-06, ...,   1.105430e-06,   1.070657e-06],\n",
       "        [  4.268129e-07,   4.268129e-07, ...,   4.268129e-07,   4.268129e-07]],\n",
       "\n",
       "       ..., \n",
       "       [[  1.774676e-07,   1.774676e-07, ...,   1.774676e-07,   1.774676e-07],\n",
       "        [  1.382420e-07,   1.360687e-07, ...,   1.427318e-07,   1.404645e-07],\n",
       "        ..., \n",
       "        [  3.896335e-06,   3.953094e-06, ...,   3.785516e-06,   3.840493e-06],\n",
       "        [  3.672801e-06,   3.672801e-06, ...,   3.672801e-06,   3.672801e-06]],\n",
       "\n",
       "       [[  4.775829e-07,   4.775829e-07, ...,   4.775829e-07,   4.775829e-07],\n",
       "        [  2.715297e-07,   2.643849e-07, ...,   2.858141e-07,   2.786696e-07],\n",
       "        ..., \n",
       "        [  3.201257e-06,   3.164040e-06, ...,   3.274710e-06,   3.238189e-06],\n",
       "        [  2.343769e-06,   2.343769e-06, ...,   2.343769e-06,   2.343769e-06]]], dtype=float32)\n",
       "Coordinates:\n",
       "  * time     (time) datetime64[ns] 1999-04-01T12:00:00 1999-04-02T12:00:00 ...\n",
       "  * lon      (lon) float32 0.0 1.0 2.0 3.0 4.0 5.0 6.0 7.0 8.0 9.0 10.0 11.0 ...\n",
       "  * lat      (lat) float32 -90.0 -89.0 -88.0 -87.0 -86.0 -85.0 -84.0 -83.0 ...\n",
       "Attributes:\n",
       "    standard_name:   total_precipitation\n",
       "    long_name:       total_precipitation\n",
       "    units:           kg m-2 s-1\n",
       "    fmissing_value:  1e+15\n",
       "    vmin:            -1e+15\n",
       "    vmax:            1e+15"
      ]
     },
     "execution_count": 50,
     "metadata": {},
     "output_type": "execute_result"
    }
   ],
   "source": [
    "tt"
   ]
  },
  {
   "cell_type": "code",
   "execution_count": 23,
   "metadata": {},
   "outputs": [],
   "source": [
    "import glob"
   ]
  },
  {
   "cell_type": "code",
   "execution_count": null,
   "metadata": {},
   "outputs": [],
   "source": [
    "1999/apr"
   ]
  },
  {
   "cell_type": "code",
   "execution_count": 74,
   "metadata": {},
   "outputs": [
    {
     "name": "stdout",
     "output_type": "stream",
     "text": [
      "<xarray.Dataset>\n",
      "Dimensions:  (L: 45, M: 1, S: 6, lat: 181, lon: 360)\n",
      "Coordinates:\n",
      "  * L        (L) float64 0.0 24.0 48.0 72.0 96.0 120.0 144.0 168.0 192.0 ...\n",
      "  * lon      (lon) float32 0.0 1.0 2.0 3.0 4.0 5.0 6.0 7.0 8.0 9.0 10.0 11.0 ...\n",
      "  * lat      (lat) float32 -90.0 -89.0 -88.0 -87.0 -86.0 -85.0 -84.0 -83.0 ...\n",
      "  * S        (S) datetime64[ns] 1999-04-01T12:00:00 1999-04-06T12:00:00 ...\n",
      "  * M        (M) int64 1\n",
      "Data variables:\n",
      "    pr       (M, S, L, lat, lon) float32 dask.array<shape=(1, 6, 45, 181, 360), chunksize=(1, 1, 45, 181, 360)>\n",
      "Attributes:\n",
      "    CDI:          Climate Data Interface version 1.9.1 (http://mpimet.mpg.de/...\n",
      "    history:      Mon Dec 18 10:08:49 2017: cdo.exe -L chname,PRECTOT,pr -set...\n",
      "    Conventions:  COARDS\n",
      "    History:      File written by MAPL_CFIO\n",
      "    Title:        lena-S2S-2_1_CPLFCST20170811\n",
      "    Contact:      http://gmao.gsfc.nasa.gov\n",
      "    Institution:  NASA Global Modeling and Assimilation Office\n",
      "    References:   http://gmao.gsfc.nasa.gov\n",
      "    Comment:      lena-S2S-2_1_CPLFCST20170811\n",
      "    CDO:          Climate Data Operators version 1.9.1 (http://mpimet.mpg.de/...\n",
      "0.07037538\n"
     ]
    }
   ],
   "source": [
    "ds_M = []\n",
    "for ensnum in np.arange(1,2):\n",
    "    mylist = glob.glob('/Data2/SubX/NASA/GEOS_V2p1/pr_sfc/1999/apr/*_m0'+np.str(ensnum)+'.nc') #[f for f in glob.glob('/Data2/SubX/NASA/GEOS_V2p1/pr_sfc/*/*/*_m01.nc')]\n",
    "#     print mylist[0:20]\n",
    "    # the listing of the files it's not in chronological order because the month is a string and not a number.\n",
    "    # however I will fix that after, by sorting by S\n",
    "\n",
    "    #I am going to opne only a few I am going to put them backwards to show how to sort them correctly after\n",
    "    pr_S=xr.open_mfdataset(mylist, concat_dim='S', preprocess=ppf2, autoclose=True)\n",
    "    pr_S.coords['M'] = 'M', np.atleast_1d(ensnum)\n",
    "#     print pr_S.L\n",
    "    ds_M.append(pr_S)\n",
    "    del pr_S\n",
    "ds_all = xr.concat(ds_M, dim='M')\n",
    "del ds_M\n",
    "print ds_all\n",
    "print ds_all.nbytes/1e9\n",
    "\n",
    "# ds_all.to_zarr('GEOS_V2p1/')\n",
    "# del ds_all"
   ]
  },
  {
   "cell_type": "code",
   "execution_count": 75,
   "metadata": {},
   "outputs": [],
   "source": [
    "ds_all = ds_all.sortby('S')"
   ]
  },
  {
   "cell_type": "code",
   "execution_count": 80,
   "metadata": {},
   "outputs": [
    {
     "data": {
      "text/plain": [
       "<matplotlib.collections.QuadMesh at 0x7fc5ae949b50>"
      ]
     },
     "execution_count": 80,
     "metadata": {},
     "output_type": "execute_result"
    },
    {
     "data": {
      "image/png": "[encoded data removed]",
      "text/plain": [
       "<matplotlib.figure.Figure at 0x7fc5a70b37d0>"
      ]
     },
     "metadata": {},
     "output_type": "display_data"
    }
   ],
   "source": [
    "ds_all.sel(S='1999-04-06').sel(L=120).pr.plot()"
   ]
  },
  {
   "cell_type": "code",
   "execution_count": 82,
   "metadata": {},
   "outputs": [
    {
     "data": {
      "text/plain": [
       "<matplotlib.collections.QuadMesh at 0x7fc5a89008d0>"
      ]
     },
     "execution_count": 82,
     "metadata": {},
     "output_type": "execute_result"
    },
    {
     "data": {
      "image/png": "[encoded data removed]",
      "text/plain": [
       "<matplotlib.figure.Figure at 0x7fc5ac514ed0>"
      ]
     },
     "metadata": {},
     "output_type": "display_data"
    }
   ],
   "source": [
    "(ds_all.sel(S='1999-04-06').sel(L=120)-temp.sel(L=120)).pr.plot()"
   ]
  },
  {
   "cell_type": "code",
   "execution_count": 69,
   "metadata": {},
   "outputs": [
    {
     "name": "stdout",
     "output_type": "stream",
     "text": [
      "<xarray.Dataset>\n",
      "Dimensions:  (L: 45, M: 4, S: 7, lat: 181, lon: 360)\n",
      "Coordinates:\n",
      "  * L        (L) float64 0.0 24.0 48.0 72.0 96.0 120.0 144.0 168.0 192.0 ...\n",
      "  * lon      (lon) float32 0.0 1.0 2.0 3.0 4.0 5.0 6.0 7.0 8.0 9.0 10.0 11.0 ...\n",
      "  * lat      (lat) float32 -90.0 -89.0 -88.0 -87.0 -86.0 -85.0 -84.0 -83.0 ...\n",
      "  * S        (S) datetime64[ns] 1999-01-01T12:00:00 1999-01-06T12:00:00 ...\n",
      "  * M        (M) int64 1 2 3 4\n",
      "Data variables:\n",
      "    pr       (M, S, L, lat, lon) float32 dask.array<shape=(4, 7, 45, 181, 360), chunksize=(1, 1, 45, 181, 360)>\n",
      "Attributes:\n",
      "    CDI:          Climate Data Interface version 1.9.1 (http://mpimet.mpg.de/...\n",
      "    history:      Wed Nov 22 14:57:23 2017: cdo.exe -L chname,PRECTOT,pr -set...\n",
      "    Conventions:  COARDS\n",
      "    History:      File written by MAPL_CFIO\n",
      "    Title:        lena-S2S-2_1_CPLFCST20170811\n",
      "    Contact:      http://gmao.gsfc.nasa.gov\n",
      "    Institution:  NASA Global Modeling and Assimilation Office\n",
      "    References:   http://gmao.gsfc.nasa.gov\n",
      "    Comment:      lena-S2S-2_1_CPLFCST20170811\n",
      "    CDO:          Climate Data Operators version 1.9.1 (http://mpimet.mpg.de/...\n",
      "0.328409012\n"
     ]
    }
   ],
   "source": [
    "ds_M = []\n",
    "for ensnum in np.arange(1,5):\n",
    "    mylist = glob.glob('/Data2/SubX/NASA/GEOS_V2p1/pr_sfc/1999/jan//*_m0'+np.str(ensnum)+'.nc') #[f for f in glob.glob('/Data2/SubX/NASA/GEOS_V2p1/pr_sfc/*/*/*_m01.nc')]\n",
    "#     print mylist[0:20]\n",
    "    # the listing of the files it's not in chronological order because the month is a string and not a number.\n",
    "    # however I will fix that after, by sorting by S\n",
    "\n",
    "    #I am going to opne only a few I am going to put them backwards to show how to sort them correctly after\n",
    "    pr_S=xr.open_mfdataset(mylist, concat_dim='S', preprocess=ppf2, autoclose=True)\n",
    "    pr_S.coords['M'] = 'M', np.atleast_1d(ensnum)\n",
    "#     print pr_S.L\n",
    "    ds_M.append(pr_S)\n",
    "    del pr_S\n",
    "ds_all = xr.concat(ds_M, dim='M')\n",
    "del ds_M\n",
    "print ds_all\n",
    "print ds_all.nbytes/1e9\n",
    "\n",
    "# ds_all.to_zarr('GEOS_V2p1/')\n",
    "# del ds_all"
   ]
  },
  {
   "cell_type": "code",
   "execution_count": 70,
   "metadata": {},
   "outputs": [
    {
     "ename": "TypeError",
     "evalue": "ufunc add cannot use operands with types dtype('<M8[ns]') and dtype('float64')",
     "output_type": "error",
     "traceback": [
      "\u001b[0;31m\u001b[0m",
      "\u001b[0;31mTypeError\u001b[0mTraceback (most recent call last)",
      "\u001b[0;32m<ipython-input-70-ae1c3b6f4f99>\u001b[0m in \u001b[0;36m<module>\u001b[0;34m()\u001b[0m\n\u001b[0;32m----> 1\u001b[0;31m \u001b[0mds_all\u001b[0m\u001b[0;34m.\u001b[0m\u001b[0mS\u001b[0m\u001b[0;34m+\u001b[0m\u001b[0mds_all\u001b[0m\u001b[0;34m.\u001b[0m\u001b[0mL\u001b[0m\u001b[0;34m\u001b[0m\u001b[0m\n\u001b[0m",
      "\u001b[0;32m/home/clepore/.conda/envs/general_python2_7/lib/python2.7/site-packages/xarray/core/dataarray.pyc\u001b[0m in \u001b[0;36mfunc\u001b[0;34m(self, other)\u001b[0m\n\u001b[1;32m   1735\u001b[0m \u001b[0;34m\u001b[0m\u001b[0m\n\u001b[1;32m   1736\u001b[0m             variable = (f(self.variable, other_variable)\n\u001b[0;32m-> 1737\u001b[0;31m                         \u001b[0;32mif\u001b[0m \u001b[0;32mnot\u001b[0m \u001b[0mreflexive\u001b[0m\u001b[0;34m\u001b[0m\u001b[0m\n\u001b[0m\u001b[1;32m   1738\u001b[0m                         else f(other_variable, self.variable))\n\u001b[1;32m   1739\u001b[0m             \u001b[0mcoords\u001b[0m \u001b[0;34m=\u001b[0m \u001b[0mself\u001b[0m\u001b[0;34m.\u001b[0m\u001b[0mcoords\u001b[0m\u001b[0;34m.\u001b[0m\u001b[0m_merge_raw\u001b[0m\u001b[0;34m(\u001b[0m\u001b[0mother_coords\u001b[0m\u001b[0;34m)\u001b[0m\u001b[0;34m\u001b[0m\u001b[0m\n",
      "\u001b[0;32m/home/clepore/.conda/envs/general_python2_7/lib/python2.7/site-packages/xarray/core/variable.pyc\u001b[0m in \u001b[0;36mfunc\u001b[0;34m(self, other)\u001b[0m\n\u001b[1;32m   1581\u001b[0m             \u001b[0;32mwith\u001b[0m \u001b[0mnp\u001b[0m\u001b[0;34m.\u001b[0m\u001b[0merrstate\u001b[0m\u001b[0;34m(\u001b[0m\u001b[0mall\u001b[0m\u001b[0;34m=\u001b[0m\u001b[0;34m'ignore'\u001b[0m\u001b[0;34m)\u001b[0m\u001b[0;34m:\u001b[0m\u001b[0;34m\u001b[0m\u001b[0m\n\u001b[1;32m   1582\u001b[0m                 new_data = (f(self_data, other_data)\n\u001b[0;32m-> 1583\u001b[0;31m                             \u001b[0;32mif\u001b[0m \u001b[0;32mnot\u001b[0m \u001b[0mreflexive\u001b[0m\u001b[0;34m\u001b[0m\u001b[0m\n\u001b[0m\u001b[1;32m   1584\u001b[0m                             else f(other_data, self_data))\n\u001b[1;32m   1585\u001b[0m             \u001b[0mresult\u001b[0m \u001b[0;34m=\u001b[0m \u001b[0mVariable\u001b[0m\u001b[0;34m(\u001b[0m\u001b[0mdims\u001b[0m\u001b[0;34m,\u001b[0m \u001b[0mnew_data\u001b[0m\u001b[0;34m)\u001b[0m\u001b[0;34m\u001b[0m\u001b[0m\n",
      "\u001b[0;31mTypeError\u001b[0m: ufunc add cannot use operands with types dtype('<M8[ns]') and dtype('float64')"
     ]
    }
   ],
   "source": [
    "ds_all.S+ds_all.L"
   ]
  },
  {
   "cell_type": "code",
   "execution_count": 83,
   "metadata": {},
   "outputs": [],
   "source": [
    "for iy in np.arange(1999, 2000):\n",
    "    ds_M = []\n",
    "    for ensnum in np.arange(1,5):\n",
    "        mylist = glob.glob('/Data2/SubX/NASA/GEOS_V2p1/pr_sfc/'+np.str(iy)+'/*/*_m0'+np.str(ensnum)+'.nc') #[f for f in glob.glob('/Data2/SubX/NASA/GEOS_V2p1/pr_sfc/*/*/*_m01.nc')]\n",
    "    #     print mylist[0:20]\n",
    "        # the listing of the files it's not in chronological order because the month is a string and not a number.\n",
    "        # however I will fix that after, by sorting by S\n",
    "\n",
    "        #I am going to opne only a few I am going to put them backwards to show how to sort them correctly after\n",
    "        pr_S=xr.open_mfdataset(mylist, concat_dim='S', preprocess=ppf2, autoclose=True)\n",
    "        pr_S.coords['M'] = 'M', np.atleast_1d(ensnum)\n",
    "        ds_M.append(pr_S)\n",
    "        del pr_S\n",
    "    ds_all = xr.concat(ds_M, dim='M')\n",
    "    del ds_M\n",
    "#     directory_tosave = '/crunch/c2/clepore/GEOS_V2p1/'+np.str(iy)\n",
    "#     if not os.path.exists(directory_tosave):\n",
    "#         os.makedirs(directory_tosave)\n",
    "    \n",
    "#     ds_all.to_zarr(directory_tosave)\n",
    "#     !du -sh '/crunch/c2/clepore/GEOS_V2p1/'\n",
    "#     del ds_all"
   ]
  },
  {
   "cell_type": "code",
   "execution_count": 86,
   "metadata": {},
   "outputs": [
    {
     "data": {
      "text/plain": [
       "<xarray.Dataset>\n",
       "Dimensions:  (L: 45, M: 4, S: 73, lat: 181, lon: 360)\n",
       "Coordinates:\n",
       "  * lon      (lon) float64 0.0 1.0 2.0 3.0 4.0 5.0 6.0 7.0 8.0 9.0 10.0 11.0 ...\n",
       "  * lat      (lat) float64 -90.0 -89.0 -88.0 -87.0 -86.0 -85.0 -84.0 -83.0 ...\n",
       "  * L        (L) float64 0.0 24.0 48.0 72.0 96.0 120.0 144.0 168.0 192.0 ...\n",
       "  * S        (S) datetime64[ns] 1999-07-05T12:00:00 1999-07-10T12:00:00 ...\n",
       "  * M        (M) int64 1 2 3 4\n",
       "Data variables:\n",
       "    pr       (M, S, L, lat, lon) float32 dask.array<shape=(4, 73, 45, 181, 360), chunksize=(1, 1, 45, 181, 360)>\n",
       "Attributes:\n",
       "    CDI:          Climate Data Interface version 1.7.1 (http://mpimet.mpg.de/...\n",
       "    history:      Mon Jun 26 11:23:16 2017: cdo.exe -L chname,PRECTOT,pr -set...\n",
       "    Conventions:  COARDS\n",
       "    History:      File written by MAPL_CFIO\n",
       "    Title:        yuri-S2S-2_1_UNSTABLE\n",
       "    Contact:      http://gmao.gsfc.nasa.gov\n",
       "    Institution:  NASA Global Modeling and Assimilation Office\n",
       "    References:   http://gmao.gsfc.nasa.gov\n",
       "    Comment:      yuri-S2S-2_1_UNSTABLE\n",
       "    CDO:          Climate Data Operators version 1.7.1 (http://mpimet.mpg.de/..."
      ]
     },
     "execution_count": 86,
     "metadata": {},
     "output_type": "execute_result"
    }
   ],
   "source": [
    "ds_all"
   ]
  },
  {
   "cell_type": "code",
   "execution_count": 11,
   "metadata": {},
   "outputs": [],
   "source": [
    "import os\n"
   ]
  },
  {
   "cell_type": "code",
   "execution_count": 88,
   "metadata": {},
   "outputs": [
    {
     "name": "stdout",
     "output_type": "stream",
     "text": [
      "4.3G\t/crunch/c2/clepore/GEOS_V2p1_L/\n",
      "8.6G\t/crunch/c2/clepore/GEOS_V2p1_L/\n",
      "13G\t/crunch/c2/clepore/GEOS_V2p1_L/\n",
      "18G\t/crunch/c2/clepore/GEOS_V2p1_L/\n",
      "16G\t/crunch/c2/clepore/GEOS_V2p1_L/\n",
      "20G\t/crunch/c2/clepore/GEOS_V2p1_L/\n",
      "24G\t/crunch/c2/clepore/GEOS_V2p1_L/\n",
      "29G\t/crunch/c2/clepore/GEOS_V2p1_L/\n",
      "33G\t/crunch/c2/clepore/GEOS_V2p1_L/\n",
      "37G\t/crunch/c2/clepore/GEOS_V2p1_L/\n",
      "33G\t/crunch/c2/clepore/GEOS_V2p1_L/\n",
      "37G\t/crunch/c2/clepore/GEOS_V2p1_L/\n",
      "41G\t/crunch/c2/clepore/GEOS_V2p1_L/\n",
      "45G\t/crunch/c2/clepore/GEOS_V2p1_L/\n",
      "50G\t/crunch/c2/clepore/GEOS_V2p1_L/\n",
      "46G\t/crunch/c2/clepore/GEOS_V2p1_L/\n",
      "51G\t/crunch/c2/clepore/GEOS_V2p1_L/\n",
      "55G\t/crunch/c2/clepore/GEOS_V2p1_L/\n"
     ]
    }
   ],
   "source": [
    "for iy in np.arange(1999, 2017):\n",
    "    ds_M = []\n",
    "    for ensnum in np.arange(1,5):\n",
    "        mylist = glob.glob('/Data2/SubX/NASA/GEOS_V2p1/pr_sfc/'+np.str(iy)+'/*/*_m0'+np.str(ensnum)+'.nc') #[f for f in glob.glob('/Data2/SubX/NASA/GEOS_V2p1/pr_sfc/*/*/*_m01.nc')]\n",
    "    #     print mylist[0:20]\n",
    "        # the listing of the files it's not in chronological order because the month is a string and not a number.\n",
    "        # however I will fix that after, by sorting by S\n",
    "\n",
    "        #I am going to opne only a few I am going to put them backwards to show how to sort them correctly after\n",
    "        pr_S=xr.open_mfdataset(mylist, concat_dim='S', preprocess=ppf2, autoclose=True)\n",
    "        pr_S.coords['M'] = 'M', np.atleast_1d(ensnum)\n",
    "        ds_M.append(pr_S)\n",
    "        del pr_S\n",
    "    ds_all = xr.concat(ds_M, dim='M')\n",
    "    del ds_M\n",
    "    directory_tosave = '/crunch/c2/clepore/GEOS_V2p1_L/'+np.str(iy)\n",
    "    if not os.path.exists(directory_tosave):\n",
    "        os.makedirs(directory_tosave)\n",
    "    \n",
    "    ds_all.to_zarr(directory_tosave)\n",
    "    !du -sh '/crunch/c2/clepore/GEOS_V2p1_L/'\n",
    "    del ds_all"
   ]
  },
  {
   "cell_type": "code",
   "execution_count": 14,
   "metadata": {},
   "outputs": [
    {
     "name": "stdout",
     "output_type": "stream",
     "text": [
      "4.3G\t/crunch/c2/clepore/GEOS_V2p1/\n",
      "8.6G\t/crunch/c2/clepore/GEOS_V2p1/\n",
      "11G\t/crunch/c2/clepore/GEOS_V2p1/\n",
      "15G\t/crunch/c2/clepore/GEOS_V2p1/\n",
      "20G\t/crunch/c2/clepore/GEOS_V2p1/\n",
      "24G\t/crunch/c2/clepore/GEOS_V2p1/\n",
      "28G\t/crunch/c2/clepore/GEOS_V2p1/\n",
      "25G\t/crunch/c2/clepore/GEOS_V2p1/\n",
      "29G\t/crunch/c2/clepore/GEOS_V2p1/\n",
      "34G\t/crunch/c2/clepore/GEOS_V2p1/\n",
      "38G\t/crunch/c2/clepore/GEOS_V2p1/\n",
      "36G\t/crunch/c2/clepore/GEOS_V2p1/\n",
      "41G\t/crunch/c2/clepore/GEOS_V2p1/\n",
      "45G\t/crunch/c2/clepore/GEOS_V2p1/\n",
      "49G\t/crunch/c2/clepore/GEOS_V2p1/\n",
      "54G\t/crunch/c2/clepore/GEOS_V2p1/\n",
      "52G\t/crunch/c2/clepore/GEOS_V2p1/\n",
      "56G\t/crunch/c2/clepore/GEOS_V2p1/\n"
     ]
    }
   ],
   "source": [
    "# for iy in np.arange(1999, 2017):\n",
    "#     ds_M = []\n",
    "#     for ensnum in np.arange(1,5):\n",
    "#         mylist = glob.glob('/Data2/SubX/NASA/GEOS_V2p1/pr_sfc/'+np.str(iy)+'/*/*_m0'+np.str(ensnum)+'.nc') #[f for f in glob.glob('/Data2/SubX/NASA/GEOS_V2p1/pr_sfc/*/*/*_m01.nc')]\n",
    "#     #     print mylist[0:20]\n",
    "#         # the listing of the files it's not in chronological order because the month is a string and not a number.\n",
    "#         # however I will fix that after, by sorting by S\n",
    "\n",
    "#         #I am going to opne only a few I am going to put them backwards to show how to sort them correctly after\n",
    "#         pr_S=xr.open_mfdataset(mylist, concat_dim='S', preprocess=ppf, autoclose=True)\n",
    "#         pr_S.coords['M'] = 'M', np.atleast_1d(ensnum)\n",
    "#         ds_M.append(pr_S)\n",
    "#         del pr_S\n",
    "#     ds_all = xr.concat(ds_M, dim='M')\n",
    "#     del ds_M\n",
    "#     directory_tosave = '/crunch/c2/clepore/GEOS_V2p1/'+np.str(iy)\n",
    "#     if not os.path.exists(directory_tosave):\n",
    "#         os.makedirs(directory_tosave)\n",
    "    \n",
    "#     ds_all.to_zarr(directory_tosave)\n",
    "#     !du -sh '/crunch/c2/clepore/GEOS_V2p1/'\n",
    "#     del ds_all"
   ]
  },
  {
   "cell_type": "code",
   "execution_count": null,
   "metadata": {},
   "outputs": [],
   "source": [
    "# save folder to cloud!"
   ]
  },
  {
   "cell_type": "code",
   "execution_count": 15,
   "metadata": {},
   "outputs": [
    {
     "name": "stdout",
     "output_type": "stream",
     "text": [
      "/bin/sh: gsutil: command not found\n"
     ]
    }
   ],
   "source": [
    "!gsutil -m cp -r /crunch/c2/clepore/GEOS_V2p1/ gs://pangeo-data/"
   ]
  },
  {
   "cell_type": "code",
   "execution_count": null,
   "metadata": {},
   "outputs": [],
   "source": [
    "gsutil -m cp -r /crunch/c2/clepore/GEOS_V2p1 gs://pangeo-data/"
   ]
  },
  {
   "cell_type": "code",
   "execution_count": 9,
   "metadata": {},
   "outputs": [],
   "source": [
    "!mkdir GEOS_V2p1"
   ]
  },
  {
   "cell_type": "code",
   "execution_count": 16,
   "metadata": {},
   "outputs": [
    {
     "data": {
      "text/plain": [
       "0.037138924"
      ]
     },
     "execution_count": 16,
     "metadata": {},
     "output_type": "execute_result"
    }
   ],
   "source": [
    "37138924/1e9\n"
   ]
  },
  {
   "cell_type": "code",
   "execution_count": 11,
   "metadata": {},
   "outputs": [
    {
     "data": {
      "text/plain": [
       "30.823294584"
      ]
     },
     "execution_count": 11,
     "metadata": {},
     "output_type": "execute_result"
    }
   ],
   "source": [
    "ds_all.nbytes/1e9"
   ]
  },
  {
   "cell_type": "code",
   "execution_count": 6,
   "metadata": {},
   "outputs": [
    {
     "data": {
      "text/plain": [
       "[]"
      ]
     },
     "execution_count": 6,
     "metadata": {},
     "output_type": "execute_result"
    }
   ],
   "source": [
    "ds_M"
   ]
  },
  {
   "cell_type": "code",
   "execution_count": 9,
   "metadata": {},
   "outputs": [
    {
     "data": {
      "text/plain": [
       "7.705829752"
      ]
     },
     "execution_count": 9,
     "metadata": {},
     "output_type": "execute_result"
    }
   ],
   "source": [
    "ds_allM = ds_all.mean(dim='M')\n",
    "ds_allM.nbytes/1e9"
   ]
  },
  {
   "cell_type": "code",
   "execution_count": 207,
   "metadata": {},
   "outputs": [],
   "source": [
    "del ds_all"
   ]
  },
  {
   "cell_type": "code",
   "execution_count": 214,
   "metadata": {},
   "outputs": [],
   "source": [
    "dsCONUS = ds_allM.sel(lat=slice(25,50),lon=slice(-130,-60)).mean(dim=['lat','lon'])\n",
    "del ds_allM"
   ]
  },
  {
   "cell_type": "markdown",
   "metadata": {},
   "source": [
    "### now they are not in order"
   ]
  },
  {
   "cell_type": "code",
   "execution_count": 197,
   "metadata": {},
   "outputs": [
    {
     "data": {
      "text/plain": [
       "<xarray.DataArray 'S' (S: 20)>\n",
       "array(['1999-11-12T12:00:00.000000000', '1999-11-07T12:00:00.000000000',\n",
       "       '1999-11-02T12:00:00.000000000', '1999-09-28T12:00:00.000000000',\n",
       "       '1999-09-23T12:00:00.000000000', '1999-09-18T12:00:00.000000000',\n",
       "       '1999-09-13T12:00:00.000000000', '1999-09-08T12:00:00.000000000',\n",
       "       '1999-09-03T12:00:00.000000000', '1999-08-29T12:00:00.000000000',\n",
       "       '1999-08-24T12:00:00.000000000', '1999-08-19T12:00:00.000000000',\n",
       "       '1999-08-14T12:00:00.000000000', '1999-08-09T12:00:00.000000000',\n",
       "       '1999-08-04T12:00:00.000000000', '1999-07-30T12:00:00.000000000',\n",
       "       '1999-07-25T12:00:00.000000000', '1999-07-20T12:00:00.000000000',\n",
       "       '1999-07-15T12:00:00.000000000', '1999-07-10T12:00:00.000000000'], dtype='datetime64[ns]')\n",
       "Coordinates:\n",
       "  * S        (S) datetime64[ns] 1999-11-12T12:00:00 1999-11-07T12:00:00 ..."
      ]
     },
     "execution_count": 197,
     "metadata": {},
     "output_type": "execute_result"
    }
   ],
   "source": [
    "ds_all.S"
   ]
  },
  {
   "cell_type": "code",
   "execution_count": 198,
   "metadata": {},
   "outputs": [],
   "source": [
    "ds_all = ds_all.sortby('S')"
   ]
  },
  {
   "cell_type": "code",
   "execution_count": 199,
   "metadata": {},
   "outputs": [
    {
     "data": {
      "text/plain": [
       "<xarray.DataArray 'S' (S: 20)>\n",
       "array(['1999-07-10T12:00:00.000000000', '1999-07-15T12:00:00.000000000',\n",
       "       '1999-07-20T12:00:00.000000000', '1999-07-25T12:00:00.000000000',\n",
       "       '1999-07-30T12:00:00.000000000', '1999-08-04T12:00:00.000000000',\n",
       "       '1999-08-09T12:00:00.000000000', '1999-08-14T12:00:00.000000000',\n",
       "       '1999-08-19T12:00:00.000000000', '1999-08-24T12:00:00.000000000',\n",
       "       '1999-08-29T12:00:00.000000000', '1999-09-03T12:00:00.000000000',\n",
       "       '1999-09-08T12:00:00.000000000', '1999-09-13T12:00:00.000000000',\n",
       "       '1999-09-18T12:00:00.000000000', '1999-09-23T12:00:00.000000000',\n",
       "       '1999-09-28T12:00:00.000000000', '1999-11-02T12:00:00.000000000',\n",
       "       '1999-11-07T12:00:00.000000000', '1999-11-12T12:00:00.000000000'], dtype='datetime64[ns]')\n",
       "Coordinates:\n",
       "  * S        (S) datetime64[ns] 1999-07-10T12:00:00 1999-07-15T12:00:00 ..."
      ]
     },
     "execution_count": 199,
     "metadata": {},
     "output_type": "execute_result"
    }
   ],
   "source": [
    "ds_all.S"
   ]
  },
  {
   "cell_type": "code",
   "execution_count": 192,
   "metadata": {},
   "outputs": [],
   "source": [
    "# ds_all.pr.sel(S='1999-07-15').mean(dim=['time','M']).plot()"
   ]
  },
  {
   "cell_type": "code",
   "execution_count": null,
   "metadata": {},
   "outputs": [],
   "source": []
  }
 ],
 "metadata": {
  "kernelspec": {
   "display_name": "Python 2",
   "language": "python",
   "name": "python2"
  },
  "language_info": {
   "codemirror_mode": {
    "name": "ipython",
    "version": 2
   },
   "file_extension": ".py",
   "mimetype": "text/x-python",
   "name": "python",
   "nbconvert_exporter": "python",
   "pygments_lexer": "ipython2",
   "version": "2.7.13"
  }
 },
 "nbformat": 4,
 "nbformat_minor": 2
}
