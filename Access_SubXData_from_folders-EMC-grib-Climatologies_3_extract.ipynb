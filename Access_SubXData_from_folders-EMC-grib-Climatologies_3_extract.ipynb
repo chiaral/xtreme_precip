{
 "cells": [
  {
   "cell_type": "code",
   "execution_count": 1,
   "metadata": {},
   "outputs": [],
   "source": [
    "import numpy as np\n",
    "import xarray as xr\n",
    "import pandas as pd\n",
    "import datetime\n",
    "\n",
    "\n",
    "from datetime import timedelta, datetime, date\n",
    "import calendar\n",
    "\n",
    "import numpy as np\n",
    "from matplotlib import pyplot as plt\n",
    "%matplotlib inline\n",
    "import os\n",
    "import glob\n"
   ]
  },
  {
   "cell_type": "code",
   "execution_count": 2,
   "metadata": {},
   "outputs": [
    {
     "name": "stdout",
     "output_type": "stream",
     "text": [
      "cape\t\t\t\t\t   sty_sfc\r\n",
      "climatology\t\t\t\t   swe_sfc\r\n",
      "correctedfiles.d\t\t\t   ta_10\r\n",
      "cprat_sfc\t\t\t\t   ta_100\r\n",
      "DJF\t\t\t\t\t   ta_30\r\n",
      "dlwrf_sfc\t\t\t\t   ta_50\r\n",
      "dswrf_sfc\t\t\t\t   tas_2m\r\n",
      "forecast\t\t\t\t   tasmax_sfc\r\n",
      "grb2_databefore1strecord.txt\t\t   tasmin_sfc\r\n",
      "grb2_large_int_byte_files.txt\t\t   tdps_sfc\r\n",
      "hfls_sfc\t\t\t\t   ts_sfc\r\n",
      "hfss_sfc\t\t\t\t   ua_10\r\n",
      "hlcy\t\t\t\t\t   ua_100\r\n",
      "huss_850\t\t\t\t   ua_10m\r\n",
      "JJA\t\t\t\t\t   ua_200\r\n",
      "originaltarfiles.d\t\t\t   ua_30\r\n",
      "pentad_climatology\t\t\t   ua_50\r\n",
      "prate_sfc\t\t\t\t   ua_850\r\n",
      "pr_sfc\t\t\t\t\t   ulwrf_sfc\r\n",
      "psl_sfc\t\t\t\t\t   uswrf_sfc\r\n",
      "rlut_toa\t\t\t\t   va_10\r\n",
      "RMM\t\t\t\t\t   va_100\r\n",
      "ROMI\t\t\t\t\t   va_10m\r\n",
      "sic_sfc\t\t\t\t\t   va_200\r\n",
      "snc_sfc\t\t\t\t\t   va_30\r\n",
      "snod_sfc\t\t\t\t   va_50\r\n",
      "soilw1_sfc\t\t\t\t   va_850\r\n",
      "soilw2_sfc\t\t\t\t   wap_500\r\n",
      "soilw3_sfc\t\t\t\t   zg_10\r\n",
      "soilw4_sfc\t\t\t\t   zg_200\r\n",
      "SON\t\t\t\t\t   zg_30\r\n",
      "sorted_grb2_EMC_GEFS_prob_files_final.txt  zg_50\r\n",
      "sorted_grb2_prob_files.txt\t\t   zg_500\r\n",
      "sort_grb2_large_int_byte_files.txt\t   zg_850\r\n",
      "stx_sfc\r\n"
     ]
    }
   ],
   "source": [
    "!ls /Data2/SubX/EMC/GEFS/"
   ]
  },
  {
   "cell_type": "code",
   "execution_count": 3,
   "metadata": {},
   "outputs": [
    {
     "name": "stdout",
     "output_type": "stream",
     "text": [
      "1999  2001  2003  2005\t2007  2009  2011  2013\t2015\r\n",
      "2000  2002  2004  2006\t2008  2010  2012  2014\t2016\r\n"
     ]
    }
   ],
   "source": [
    "!ls /Data2/SubX/EMC/GEFS/tdps_sfc/\n"
   ]
  },
  {
   "cell_type": "code",
   "execution_count": 4,
   "metadata": {},
   "outputs": [
    {
     "name": "stdout",
     "output_type": "stream",
     "text": [
      "01  02\t03  04\t05  06\t07  08\t09  10\t11  12\r\n"
     ]
    }
   ],
   "source": [
    "!ls /Data2/SubX/EMC/GEFS/tdps_sfc/1999"
   ]
  },
  {
   "cell_type": "code",
   "execution_count": 5,
   "metadata": {},
   "outputs": [],
   "source": [
    "#!ls /Data2/SubX/EMC/GEFS/tdps_sfc/1999/01"
   ]
  },
  {
   "cell_type": "markdown",
   "metadata": {},
   "source": [
    "# This is my preprocessing function, which I run on each grib file"
   ]
  },
  {
   "cell_type": "code",
   "execution_count": 6,
   "metadata": {},
   "outputs": [],
   "source": [
    "# def ppf2_filename(ds,filename):\n",
    "#     # rename coordinates\n",
    "#     ds  = ds.rename({ 'lon_0':'lon', 'lat_0':'lat', 'forecast_time0':'L'})\n",
    "#     # getting start time from file name\n",
    "#     ts = filename.split('_')\n",
    "#     whereGEFS = ts.index('GEFS')\n",
    "#     dateSstr = ts[whereGEFS+1]\n",
    "#     dateS = datetime.strptime(dateSstr, '%d%b%Y')\n",
    "#     ds.coords['S'] = 'S', np.atleast_1d(dateS)\n",
    "    \n",
    "#     # replacing L dates with integer (lead days)\n",
    "#     # so that I can reduce to a fixed size\n",
    "#     # BEWARE - this is a hardcoded step now, so it needs to be checked for each model\n",
    "    \n",
    "#     #if you comment in the two print lines, you will see how L is read by xarray from the grib file\n",
    "# #     print(ds.L)\n",
    "# #     print(ds.S)\n",
    "#     ds.coords['L']=np.arange(0.5,35.5)\n",
    "\n",
    "#     # select US\n",
    "#     ds = ds.sel(lat=slice(42,32),lon=slice(-103+360,-90+360))\n",
    "# #     print(ds)\n",
    "#     return ds"
   ]
  },
  {
   "cell_type": "markdown",
   "metadata": {},
   "source": [
    "L in this files is read by xarray like this"
   ]
  },
  {
   "cell_type": "markdown",
   "metadata": {},
   "source": [
    "`<xarray.DataArray 'L' (L: 35)>\n",
    "array([  3600000000000,   7200000000000,  10800000000000,  14400000000000,\n",
    "        18000000000000,  21600000000000,  25200000000000,  28800000000000,\n",
    "        32400000000000,  36000000000000,  39600000000000,  43200000000000,\n",
    "        46800000000000,  50400000000000,  54000000000000,  57600000000000,\n",
    "        61200000000000,  64800000000000,  68400000000000,  72000000000000,\n",
    "        75600000000000,  79200000000000,  82800000000000,  86400000000000,\n",
    "        90000000000000,  93600000000000,  97200000000000, 100800000000000,\n",
    "       104400000000000, 108000000000000, 111600000000000, 115200000000000,\n",
    "       118800000000000, 122400000000000, 126000000000000],\n",
    "      dtype='timedelta64[ns]')`"
   ]
  },
  {
   "cell_type": "markdown",
   "metadata": {},
   "source": [
    "however if I use wgrib2 on one file\n",
    "`!wgrib2 -v /Data2/SubX/EMC/GEFS/cape/1999/06/cape_GEFS_02jun1999_00z_d01_d35_m00.grb2 `"
   ]
  },
  {
   "cell_type": "markdown",
   "metadata": {},
   "source": [
    "I get something like"
   ]
  },
  {
   "cell_type": "markdown",
   "metadata": {},
   "source": [
    "` 1:0:d=1999060200:CAPE Convective Available Potential Energy [J/kg]:180-0 mb above ground:1 day fcst:ENS=low-res ctl\n",
    "2:46954:d=1999060200:CAPE Convective Available Potential Energy [J/kg]:180-0 mb above ground:2 day fcst:ENS=low-res ctl\n",
    "3:92924:d=1999060200:CAPE Convective Available Potential Energy [J/kg]:180-0 mb above ground:3 day fcst:ENS=low-res ctl\n",
    "4:139690:d=1999060200:CAPE Convective Available Potential Energy [J/kg]:180-0 mb above ground:4 day fcst:ENS=low-res ctl\n",
    "5:186582:d=1999060200:CAPE Convective Available Potential Energy [J/kg]:180-0 mb above ground:5 day fcst:ENS=low-res ctl `"
   ]
  },
  {
   "cell_type": "markdown",
   "metadata": {},
   "source": [
    "Let's make sure I am correctly overwriting L.\n",
    "\n",
    "I am now using L=array([  43200000000000,  129600000000000,  216000000000000,\n",
    "        302400000000000,  388800000000000,  475200000000000,\n",
    "        561600000000000,  648000000000000,  734400000000000,\n",
    "        820800000000000,  907200000000000,  993600000000000,\n",
    "       1080000000000000, 1166400000000000, 1252800000000000,\n",
    "       1339200000000000, 1425600000000000, 1512000000000000,\n",
    "       1598400000000000, 1684800000000000, 1771200000000000,\n",
    "       1857600000000000, 1944000000000000, 2030400000000000,\n",
    "       2116800000000000, 2203200000000000, 2289600000000000,\n",
    "       2376000000000000, 2462400000000000, 2548800000000000,\n",
    "       2635200000000000, 2721600000000000, 2808000000000000,\n",
    "       2894400000000000, 2980800000000000, 3067200000000000,\n",
    "       3153600000000000, 3240000000000000, 3326400000000000,\n",
    "       3412800000000000, 3499200000000000, 3585600000000000,\n",
    "       3672000000000000, 3758400000000000, 3844800000000000], etc......\n",
    "      dtype='timedelta64[ns]')\n",
    "      \n",
    "from the other models I loaded "
   ]
  },
  {
   "cell_type": "markdown",
   "metadata": {},
   "source": [
    "# Load, preprocess, append, and concatenate all the grib files. In this notebook I ran it on half of the data available.\n",
    "\n",
    "### I will comment the code below for pr_sfc. I repeat the code for each variable separiately. I could loop it for a list of varname =[ 'pr_sfc' , ....] but I preferred keeping it separate."
   ]
  },
  {
   "cell_type": "code",
   "execution_count": 7,
   "metadata": {},
   "outputs": [],
   "source": [
    "# def ppf2_filename(ds,filename):\n",
    "#     # rename coordinates\n",
    "#     ds  = ds.rename({ 'lon_0':'lon', 'lat_0':'lat', 'forecast_time0':'time'})\n",
    "#     # getting start time from file name\n",
    "#     ts = filename.split('_')\n",
    "#     print(ts)\n",
    "#     whereGEFS = ts.index('GEFS')\n",
    "#     dateSstr = ts[whereGEFS+1]\n",
    "#     dateS = datetime.strptime(dateSstr, '%d%b%Y')\n",
    "    \n",
    "#     Mvalue = np.int(float(np.asarray(ts[-1][2:4])))\n",
    "\n",
    "#     ds.coords['S'] = 'S', np.atleast_1d(dateS)\n",
    "#     ds.coords['M'] = 'M', np.atleast_1d(Mvalue)\n",
    "    \n",
    "#     # replacing L dates with integer (lead days)\n",
    "#     # so that I can reduce to a fixed size\n",
    "#     # BEWARE - this is a hardcoded step now, so it needs to be checked for each model\n",
    "    \n",
    "#     #if you comment in the two print lines, you will see how L is read by xarray from the grib file\n",
    "# #     print(ds.L)\n",
    "# #     print(ds.S)\n",
    "#     ds.coords['time']=np.array([  43200000000000,  129600000000000,  216000000000000,\n",
    "#         302400000000000,  388800000000000,  475200000000000,\n",
    "#         561600000000000,  648000000000000,  734400000000000,\n",
    "#         820800000000000,  907200000000000,  993600000000000,\n",
    "#        1080000000000000, 1166400000000000, 1252800000000000,\n",
    "#        1339200000000000, 1425600000000000, 1512000000000000,\n",
    "#        1598400000000000, 1684800000000000, 1771200000000000,\n",
    "#        1857600000000000, 1944000000000000, 2030400000000000,\n",
    "#        2116800000000000, 2203200000000000, 2289600000000000,\n",
    "#        2376000000000000, 2462400000000000, 2548800000000000,\n",
    "#        2635200000000000, 2721600000000000, 2808000000000000,\n",
    "#        2894400000000000, 2980800000000000],\n",
    "#       dtype='timedelta64[ns]')\n",
    "\n",
    "#     # select US\n",
    "#     ds = ds.sel(lat=slice(23,50), lon=slice(230,300))\n",
    "# #     print(ds)\n",
    "#     return ds"
   ]
  },
  {
   "cell_type": "code",
   "execution_count": 8,
   "metadata": {},
   "outputs": [],
   "source": [
    "# ds = xr.open_dataset('/Data2/SubX/EMC/GEFS/cape/1999/01/cape_GEFS_06jan1999_00z_d01_d35_m00.grb2',\n",
    "#                 engine='pynio')\n",
    "# ds = ppf2_filename(ds,'/Data2/SubX/EMC/GEFS/cape/1999/01/cape_GEFS_06jan1999_00z_d01_d35_m00.grb2')\n",
    "# ds"
   ]
  },
  {
   "cell_type": "code",
   "execution_count": 9,
   "metadata": {},
   "outputs": [],
   "source": [
    "#!ls /Data2/SubX/EMC/GEFS/cape/1999/11"
   ]
  },
  {
   "cell_type": "code",
   "execution_count": 10,
   "metadata": {
    "scrolled": true
   },
   "outputs": [
    {
     "name": "stdout",
     "output_type": "stream",
     "text": [
      "pr_sfc\n",
      "1999\n",
      "2000\n",
      "2001\n",
      "2002\n",
      "2003\n",
      "2004\n",
      "2005\n",
      "2006\n",
      "2007\n",
      "2008\n",
      "2009\n",
      "2010\n",
      "2011\n",
      "2012\n",
      "2013\n",
      "2014\n",
      "2015\n",
      "2016\n"
     ]
    }
   ],
   "source": [
    "from glob import glob\n",
    "variable_names = ['pr_sfc']\n",
    "\n",
    "def ppf2_filename(ds,filename):\n",
    "    # rename coordinates\n",
    "    ds  = ds.rename({ 'lon_0':'lon', 'lat_0':'lat', 'forecast_time0':'time'})\n",
    "    # getting start time from file name\n",
    "    ts = filename.split('_')\n",
    "#     print(ts)\n",
    "    whereGEFS = ts.index('GEFS')\n",
    "#     print(whereGEFS)\n",
    "    dateSstr = ts[whereGEFS+1]\n",
    "#     print(dateSstr)\n",
    "    dateS = datetime.strptime(dateSstr, '%d%b%Y')\n",
    "#     print(dateS)\n",
    "    \n",
    "    Mvalue = np.int(float(np.asarray(ts[-1][2:4])))\n",
    "\n",
    "    ds.coords['S'] = 'S', np.atleast_1d(dateS)\n",
    "    ds.coords['M'] = 'M', np.atleast_1d(Mvalue)\n",
    "    \n",
    "    ds.coords['time']=np.array([  43200000000000,  129600000000000,  216000000000000,\n",
    "        302400000000000,  388800000000000,  475200000000000,\n",
    "        561600000000000,  648000000000000,  734400000000000,\n",
    "        820800000000000,  907200000000000,  993600000000000,\n",
    "       1080000000000000, 1166400000000000, 1252800000000000,\n",
    "       1339200000000000, 1425600000000000, 1512000000000000,\n",
    "       1598400000000000, 1684800000000000, 1771200000000000,\n",
    "       1857600000000000, 1944000000000000, 2030400000000000,\n",
    "       2116800000000000, 2203200000000000, 2289600000000000,\n",
    "       2376000000000000, 2462400000000000, 2548800000000000,\n",
    "       2635200000000000, 2721600000000000, 2808000000000000,\n",
    "       2894400000000000, 2980800000000000],\n",
    "      dtype='timedelta64[ns]')\n",
    "\n",
    "    # select US\n",
    "    ds = ds.sel(lat=slice(50,23), lon=slice(230,300))\n",
    "#     print(ds)\n",
    "    return ds\n",
    "\n",
    "def read_netcdfs(files, dim, transform_func=None):\n",
    "    def process_one_path(path):\n",
    "        # use a context manager, to ensure the file gets closed after use\n",
    "#         print(path)\n",
    "        with xr.open_dataset(path, engine='pynio', chunks={}) as ds:\n",
    "            # transform_func should do some sort of selection or\n",
    "            # aggregation\n",
    "            if transform_func is not None:\n",
    "                ds = transform_func(ds, path)\n",
    "            # load all data from the transformed dataset, to ensure we can\n",
    "            # use it after closing each original file\n",
    "#             print(ds)\n",
    "#             ds.load()\n",
    "            return ds\n",
    "#     print(files)\n",
    "    paths = sorted(glob(files))\n",
    "#     print(paths)\n",
    "    datasets = [process_one_path(p) for p in paths]\n",
    "    \n",
    "    combined = xr.combine_by_coords(datasets)\n",
    "    combined = combined.chunk({'S':4,'M':-1})\n",
    "    return combined\n",
    "\n",
    "var_l=[]\n",
    "for ivx, ivar in enumerate(variable_names):\n",
    "    print(ivar)\n",
    "    if ivar in os.listdir('/Data2/SubX/EMC/GEFS/'):\n",
    "        c_l = []\n",
    "        for iy in np.arange(1999, 2017):#2017\n",
    "            print(iy)\n",
    "            # here we suppose we only care about the combined mean of each file;\n",
    "            # you might also use indexing operations like .sel to subset datasets\n",
    "            combined = read_netcdfs('/Data2/SubX/EMC/GEFS/'+ivar+'/'+np.str(iy)+'/*/*.grb2', dim=['S','M'],\n",
    "                                    transform_func=ppf2_filename)\n",
    "            \n",
    "            c_l.append(combined)\n",
    "    all_values = xr.concat(c_l, dim='S') \n",
    "    var_l.append(all_values)\n"
   ]
  },
  {
   "cell_type": "code",
   "execution_count": 11,
   "metadata": {},
   "outputs": [
    {
     "data": {
      "text/plain": [
       "<xarray.Dataset>\n",
       "Dimensions:          (M: 10, S: 939, lat: 28, lon: 71, time: 35)\n",
       "Coordinates:\n",
       "  * lat              (lat) float32 50.0 49.0 48.0 47.0 ... 26.0 25.0 24.0 23.0\n",
       "  * M                (M) int64 0 1 2 3 4 5 6 7 8 9\n",
       "  * time             (time) timedelta64[ns] 0 days 12:00:00 ... 34 days 12:00:00\n",
       "  * lon              (lon) float32 230.0 231.0 232.0 233.0 ... 298.0 299.0 300.0\n",
       "  * S                (S) datetime64[ns] 1999-01-06 1999-01-13 ... 2016-12-28\n",
       "Data variables:\n",
       "    APCP_P1_L1_GLL0  (S, M, time, lat, lon) float32 dask.array<chunksize=(4, 10, 35, 28, 71), meta=np.ndarray>"
      ]
     },
     "execution_count": 11,
     "metadata": {},
     "output_type": "execute_result"
    }
   ],
   "source": [
    "all_variables = xr.merge(var_l)\n",
    "all_variables"
   ]
  },
  {
   "cell_type": "code",
   "execution_count": 12,
   "metadata": {},
   "outputs": [],
   "source": [
    "all_variables = all_variables.rename({'APCP_P1_L1_GLL0':'pr_sfc'})"
   ]
  },
  {
   "cell_type": "code",
   "execution_count": 13,
   "metadata": {},
   "outputs": [
    {
     "data": {
      "text/plain": [
       "<xarray.Dataset>\n",
       "Dimensions:  (M: 10, S: 939, lat: 28, lon: 71, time: 35)\n",
       "Coordinates:\n",
       "  * lat      (lat) float32 50.0 49.0 48.0 47.0 46.0 ... 27.0 26.0 25.0 24.0 23.0\n",
       "  * M        (M) int64 0 1 2 3 4 5 6 7 8 9\n",
       "  * time     (time) timedelta64[ns] 0 days 12:00:00 ... 34 days 12:00:00\n",
       "  * lon      (lon) float32 230.0 231.0 232.0 233.0 ... 297.0 298.0 299.0 300.0\n",
       "  * S        (S) datetime64[ns] 1999-01-06 1999-01-13 ... 2016-12-21 2016-12-28\n",
       "Data variables:\n",
       "    pr_sfc   (S, M, time, lat, lon) float32 dask.array<chunksize=(4, 10, 35, 28, 71), meta=np.ndarray>"
      ]
     },
     "execution_count": 13,
     "metadata": {},
     "output_type": "execute_result"
    }
   ],
   "source": [
    "all_variables"
   ]
  },
  {
   "cell_type": "code",
   "execution_count": 14,
   "metadata": {},
   "outputs": [
    {
     "data": {
      "text/plain": [
       "<xarray.Dataset>\n",
       "Dimensions:  (M: 10, S: 939, lat: 28, lon: 71, time: 35)\n",
       "Coordinates:\n",
       "  * lat      (lat) float32 50.0 49.0 48.0 47.0 46.0 ... 27.0 26.0 25.0 24.0 23.0\n",
       "  * M        (M) int64 0 1 2 3 4 5 6 7 8 9\n",
       "  * time     (time) timedelta64[ns] 0 days 12:00:00 ... 34 days 12:00:00\n",
       "  * lon      (lon) float32 230.0 231.0 232.0 233.0 ... 297.0 298.0 299.0 300.0\n",
       "  * S        (S) datetime64[ns] 1999-01-06 1999-01-13 ... 2016-12-21 2016-12-28\n",
       "Data variables:\n",
       "    pr_sfc   (S, M, time, lat, lon) float32 1.1 1.2 1.0 ... 0.84 0.65999997 0.39"
      ]
     },
     "execution_count": 14,
     "metadata": {},
     "output_type": "execute_result"
    }
   ],
   "source": [
    "all_variables.load()"
   ]
  },
  {
   "cell_type": "code",
   "execution_count": 15,
   "metadata": {},
   "outputs": [],
   "source": [
    "all_variables.coords['target_time'] = all_variables.S+all_variables.time\n"
   ]
  },
  {
   "cell_type": "markdown",
   "metadata": {},
   "source": [
    "# Does climatology depend on lead times?\n",
    "\n",
    "# calculate climatology for a handful of Target dates (3 day accumulated rain) by pooling 5 S dates and a range of L 1-5, 7-11, 13-17"
   ]
  },
  {
   "cell_type": "code",
   "execution_count": 16,
   "metadata": {},
   "outputs": [],
   "source": [
    "# Generate target time to check on L dependnece \n",
    "target = [ '1900-'+np.str(month).zfill(2)+'-'+np.str(15).zfill(2) for month in np.arange(1,13)]\n",
    "# transform them in correct dtype\n",
    "target = [np.datetime64(it) for it in target ]\n",
    "target = [pd.DatetimeIndex([it]) for it in target ]"
   ]
  },
  {
   "cell_type": "code",
   "execution_count": 17,
   "metadata": {},
   "outputs": [],
   "source": [
    "MASK_url = 'http://iridl.ldeo.columbia.edu/expert/SOURCES/.Models/.SubX/'\n",
    "MASK_url1 = '/.hindcast/.pr'\n",
    "MASK_url2 = '/dup/.SOURCES/.Features/.Political/.World/.Countries/.the_geom/objectid/135/VALUE/rasterize/dods'\n",
    "url3 = '/Y/(23N)/(50N)/RANGEEDGES/X/(130W)/(60W)/RANGEEDGES'  \n",
    "\n",
    "i_v_u ='EMC/.GEFS'\n",
    "#                'GMAO/.GEOS_V2p1',\n",
    "#                'NRL/.NESM',\n",
    "#                'RSMAS/.CCSM4',\n",
    "#                'NCEP/.CFSv2'\n",
    "              #]\n",
    "\n",
    "ds_mask = xr.open_dataset(MASK_url+i_v_u+MASK_url1+url3+MASK_url2)\n",
    "ds_mask['the_geom']=xr.where(ds_mask.the_geom!=0, 1, 0)\n",
    "\n",
    "ds_mask = ds_mask.rename({'X':'lon', 'Y':'lat'})\n",
    "ds_mask = ds_mask.isel(objectid=0, drop=True)\n",
    "ds_mask.coords['lon'] = ds_mask.lon+360.\n",
    "\n"
   ]
  },
  {
   "cell_type": "markdown",
   "metadata": {},
   "source": [
    "# re do this with accumulated 3 day rainfall. The accumulation (rolling sum) is done along L"
   ]
  },
  {
   "cell_type": "code",
   "execution_count": 18,
   "metadata": {},
   "outputs": [],
   "source": [
    "all_variables_3L = all_variables.rolling(time=3).sum()\n"
   ]
  },
  {
   "cell_type": "markdown",
   "metadata": {},
   "source": [
    "# The rolling sum assign the right edge value of the interval"
   ]
  },
  {
   "cell_type": "code",
   "execution_count": 19,
   "metadata": {},
   "outputs": [
    {
     "data": {
      "text/plain": [
       "<xarray.DataArray 'pr_sfc' (time: 35)>\n",
       "array([           nan,            nan,  1.0000000e-01,  1.0000000e-01,\n",
       "        1.0000000e-01,  0.0000000e+00,  0.0000000e+00,  0.0000000e+00,\n",
       "        0.0000000e+00,  3.4000001e+00,  6.6999998e+00,  7.2999997e+00,\n",
       "        1.2400000e+01,  9.0999994e+00,  8.4999990e+00, -9.5367432e-07,\n",
       "        3.9999990e+00,  3.9999990e+00,  3.9999990e+00, -9.5367432e-07,\n",
       "       -9.5367432e-07,  9.9999048e-02,  2.9999906e-01,  2.9999906e-01,\n",
       "        1.9999906e-01, -9.3877316e-07,  1.9999906e-01,  1.9999906e-01,\n",
       "        1.9999906e-01, -9.3877316e-07,  9.9999063e-02,  9.9999063e-02,\n",
       "        9.9999063e-02,  9.9999905e-01,  9.9999905e-01], dtype=float32)\n",
       "Coordinates:\n",
       "    lat          float32 40.0\n",
       "    M            int64 0\n",
       "  * time         (time) timedelta64[ns] 0 days 12:00:00 ... 34 days 12:00:00\n",
       "    lon          float32 250.0\n",
       "    S            datetime64[ns] 1999-01-06\n",
       "    target_time  (time) datetime64[ns] 1999-01-06T12:00:00 ... 1999-02-09T12:00:00"
      ]
     },
     "execution_count": 19,
     "metadata": {},
     "output_type": "execute_result"
    }
   ],
   "source": [
    "all_variables_3L.pr_sfc[0,0,:,10,20]"
   ]
  },
  {
   "cell_type": "markdown",
   "metadata": {},
   "source": [
    "# Here I switch to the left edge of the interval"
   ]
  },
  {
   "cell_type": "code",
   "execution_count": 20,
   "metadata": {},
   "outputs": [],
   "source": [
    "all_variables_3L.coords['time'] = all_variables_3L.time.values-np.timedelta64(2,'D')"
   ]
  },
  {
   "cell_type": "markdown",
   "metadata": {},
   "source": [
    "# And drop the first 2 empty values"
   ]
  },
  {
   "cell_type": "code",
   "execution_count": 21,
   "metadata": {},
   "outputs": [
    {
     "data": {
      "text/plain": [
       "<xarray.DataArray 'pr_sfc' (time: 33)>\n",
       "array([ 1.0000000e-01,  1.0000000e-01,  1.0000000e-01,  0.0000000e+00,\n",
       "        0.0000000e+00,  0.0000000e+00,  0.0000000e+00,  3.4000001e+00,\n",
       "        6.6999998e+00,  7.2999997e+00,  1.2400000e+01,  9.0999994e+00,\n",
       "        8.4999990e+00, -9.5367432e-07,  3.9999990e+00,  3.9999990e+00,\n",
       "        3.9999990e+00, -9.5367432e-07, -9.5367432e-07,  9.9999048e-02,\n",
       "        2.9999906e-01,  2.9999906e-01,  1.9999906e-01, -9.3877316e-07,\n",
       "        1.9999906e-01,  1.9999906e-01,  1.9999906e-01, -9.3877316e-07,\n",
       "        9.9999063e-02,  9.9999063e-02,  9.9999063e-02,  9.9999905e-01,\n",
       "        9.9999905e-01], dtype=float32)\n",
       "Coordinates:\n",
       "    lat          float32 40.0\n",
       "    M            int64 0\n",
       "  * time         (time) timedelta64[ns] 0 days 12:00:00 ... 32 days 12:00:00\n",
       "    lon          float32 250.0\n",
       "    S            datetime64[ns] 1999-01-06\n",
       "    target_time  (time) datetime64[ns] 1999-01-08T12:00:00 ... 1999-02-09T12:00:00"
      ]
     },
     "execution_count": 21,
     "metadata": {},
     "output_type": "execute_result"
    }
   ],
   "source": [
    "all_variables_3L = all_variables_3L.isel(time=slice(2,36))\n",
    "all_variables_3L.pr_sfc[0,0,:,10,20]"
   ]
  },
  {
   "cell_type": "markdown",
   "metadata": {},
   "source": [
    "# Update the target time, because those have not changed and they are still linked to the right edge of the interval"
   ]
  },
  {
   "cell_type": "code",
   "execution_count": 22,
   "metadata": {},
   "outputs": [
    {
     "data": {
      "text/plain": [
       "<xarray.Dataset>\n",
       "Dimensions:      (M: 10, S: 939, lat: 28, lon: 71, time: 33)\n",
       "Coordinates:\n",
       "  * lat          (lat) float32 50.0 49.0 48.0 47.0 46.0 ... 26.0 25.0 24.0 23.0\n",
       "  * M            (M) int64 0 1 2 3 4 5 6 7 8 9\n",
       "  * time         (time) timedelta64[ns] 0 days 12:00:00 ... 32 days 12:00:00\n",
       "  * lon          (lon) float32 230.0 231.0 232.0 233.0 ... 298.0 299.0 300.0\n",
       "  * S            (S) datetime64[ns] 1999-01-06 1999-01-13 ... 2016-12-28\n",
       "    target_time  (S, time) datetime64[ns] 1999-01-06T12:00:00 ... 2017-01-29T12:00:00\n",
       "Data variables:\n",
       "    pr_sfc       (S, M, time, lat, lon) float32 10.5 3.5 ... 1.3400015 1.0199976"
      ]
     },
     "execution_count": 22,
     "metadata": {},
     "output_type": "execute_result"
    }
   ],
   "source": [
    "all_variables_3L.coords['target_time'] = all_variables_3L.S+all_variables_3L.time\n",
    "all_variables_3L"
   ]
  },
  {
   "cell_type": "code",
   "execution_count": 23,
   "metadata": {},
   "outputs": [],
   "source": [
    "all_variables_T3 = all_variables_3L.stack(St=('S','time'))\n",
    "all_variables_T3 = all_variables_T3.swap_dims({'St':'target_time'})\n",
    "all_variables_T3 = all_variables_T3.unstack()\n"
   ]
  },
  {
   "cell_type": "code",
   "execution_count": 117,
   "metadata": {},
   "outputs": [],
   "source": [
    "tempk =all_variables_T3.where((all_variables_T3.target_time.dt.year==1999)&(all_variables_T3.target_time.dt.month==5)&\n",
    "                              (all_variables_T3.target_time.dt.day==2), drop=True)"
   ]
  },
  {
   "cell_type": "code",
   "execution_count": 121,
   "metadata": {},
   "outputs": [
    {
     "name": "stdout",
     "output_type": "stream",
     "text": [
      "[Timedelta('32 days 12:00:00') Timedelta('25 days 12:00:00')\n",
      " Timedelta('18 days 12:00:00') Timedelta('11 days 12:00:00')\n",
      " Timedelta('4 days 12:00:00')]\n",
      "[Timestamp('1999-03-31 00:00:00') Timestamp('1999-04-07 00:00:00')\n",
      " Timestamp('1999-04-14 00:00:00') Timestamp('1999-04-21 00:00:00')\n",
      " Timestamp('1999-04-28 00:00:00')]\n"
     ]
    }
   ],
   "source": [
    "y_ls = [y for (x,y) in tempk.St.values]\n",
    "y_arr = np.array(y_ls)\n",
    "x_ls = [x for (x,y) in tempk.St.values]\n",
    "x_arr = np.array(x_ls)\n",
    "print(y_arr)\n",
    "print(x_arr)"
   ]
  },
  {
   "cell_type": "code",
   "execution_count": 24,
   "metadata": {},
   "outputs": [],
   "source": [
    "# looping through the target dates for climatologies\n",
    "ds_clim_test_3d = []\n",
    "for iT in target:\n",
    "    # extract values that correspond to the target dates\n",
    "    temp = all_variables_T3.where((all_variables_T3.target_time.dt.month==iT.month.values[0])&\n",
    "                              (all_variables_T3.target_time.dt.day==iT.day.values[0]), drop=True)\n",
    "    \n",
    "    # bits to extract the S and t of each target_time\n",
    "    y_ls = [y for (x,y) in temp.St.values]\n",
    "    y_arr = np.array(y_ls)\n",
    "    # loop through the 3 types of lead times\n",
    "    # I have the -1 because of the way the timedelta is centered at 0 day and 12hours for day 1\n",
    "#     for different_lead1, different_lead2 in zip(np.array([1,7,13])-1, np.array([5,11,17])-1 ):\n",
    "    for different_lead1, different_lead2 in zip(np.array([2,4,6,8])-1, np.array([10,12,14,16])-1 ):\n",
    "#         print(y_arr[(y_arr>np.timedelta64(different_lead1,'D'))&(y_arr<np.timedelta64(different_lead2,'D'))])\n",
    "        temp2 = temp.sel(target_time=\n",
    "                         (y_arr>np.timedelta64(different_lead1,'D'))&(y_arr<np.timedelta64(different_lead2,'D')))\n",
    "        temp3 = temp2.stack(Mtt=('M','target_time'))\n",
    "#         print(temp3.pr_sfc.values.shape)\n",
    "        temp3 = temp3.quantile(dim=['Mtt'], q=[0.15,0.33,0.5,0.667,0.85])\n",
    "        temp3 = temp3.expand_dims('Lbeg')\n",
    "        temp3.coords['Lbeg'] = 'Lbeg', np.atleast_1d(different_lead1+1)\n",
    "#         print(temp3)\n",
    "        if different_lead1==1:\n",
    "            ds_quantile = temp3*1.\n",
    "        else:\n",
    "            ds_quantile = xr.merge([ds_quantile,temp3])\n",
    "    ds_quantile = ds_quantile.expand_dims('target_clim')\n",
    "    ds_quantile.coords['target_clim'] = 'target_clim', np.atleast_1d(iT)\n",
    "    ds_clim_test_3d.append(ds_quantile)\n",
    "ds_clim_test_3d = xr.combine_by_coords(ds_clim_test_3d)    \n"
   ]
  },
  {
   "cell_type": "code",
   "execution_count": 25,
   "metadata": {},
   "outputs": [],
   "source": [
    "ds_clim_test_3d = ds_clim_test_3d.rename({'quantile':'quant'})\n"
   ]
  },
  {
   "cell_type": "code",
   "execution_count": 106,
   "metadata": {},
   "outputs": [],
   "source": [
    "ds_clim_test_3d.to_netcdf('ds_clim_test_3d.nc')"
   ]
  },
  {
   "cell_type": "markdown",
   "metadata": {},
   "source": [
    "# PERSIANN DATA"
   ]
  },
  {
   "cell_type": "code",
   "execution_count": 130,
   "metadata": {},
   "outputs": [],
   "source": [
    "persiann_ds = xr.open_dataset('http://iridl.ldeo.columbia.edu/SOURCES/.NOAA/.NCDC/.CDR/.PERSIANN/.v01r01/.precipitation/Y/25/50/RANGE/X/230/300/RANGE/T/(1999)/(2016)/RANGEEDGES/dods')\n",
    "\n"
   ]
  },
  {
   "cell_type": "code",
   "execution_count": 131,
   "metadata": {},
   "outputs": [],
   "source": [
    "persiann_ds = persiann_ds.rename({'T':'time','X':'lon','Y':'lat'})"
   ]
  },
  {
   "cell_type": "code",
   "execution_count": 134,
   "metadata": {},
   "outputs": [
    {
     "data": {
      "text/plain": [
       "<xarray.Dataset>\n",
       "Dimensions:        (lat: 102, lon: 282, time: 6575)\n",
       "Coordinates:\n",
       "  * lat            (lat) float32 24.875 25.125 25.375 ... 49.625 49.875 50.125\n",
       "  * lon            (lon) float32 229.875 230.125 230.375 ... 299.875 300.125\n",
       "  * time           (time) datetime64[ns] 1999-01-01T12:00:00 ... 2016-12-31T12:00:00\n",
       "Data variables:\n",
       "    precipitation  (time, lon, lat) float32 2.5556662 1.9122274 ... 0.0 0.0\n",
       "Attributes:\n",
       "    Conventions:  IRIDL"
      ]
     },
     "execution_count": 134,
     "metadata": {},
     "output_type": "execute_result"
    }
   ],
   "source": [
    "persiann_ds"
   ]
  },
  {
   "cell_type": "code",
   "execution_count": 144,
   "metadata": {},
   "outputs": [
    {
     "data": {
      "text/plain": [
       "<xarray.Dataset>\n",
       "Dimensions:        (lat: 102, lon: 282, time: 6575)\n",
       "Coordinates:\n",
       "  * lat            (lat) float32 24.875 25.125 25.375 ... 49.625 49.875 50.125\n",
       "  * lon            (lon) float32 229.875 230.125 230.375 ... 299.875 300.125\n",
       "  * time           (time) datetime64[ns] 1999-01-01T12:00:00 ... 2016-12-31T12:00:00\n",
       "Data variables:\n",
       "    precipitation  (time, lat, lon) float32 2.5556662 2.1840682 ... 0.0 0.0\n",
       "Attributes:\n",
       "    Conventions:  IRIDL"
      ]
     },
     "execution_count": 144,
     "metadata": {},
     "output_type": "execute_result"
    }
   ],
   "source": [
    "persiann_ds = persiann_ds.transpose('time','lat','lon')\n",
    "persiann_ds"
   ]
  },
  {
   "cell_type": "code",
   "execution_count": 145,
   "metadata": {},
   "outputs": [
    {
     "data": {
      "text/plain": [
       "<xarray.Dataset>\n",
       "Dimensions:  (lat: 28, lon: 71)\n",
       "Coordinates:\n",
       "  * lon      (lon) float32 230.0 231.0 232.0 233.0 ... 297.0 298.0 299.0 300.0\n",
       "  * lat      (lat) float32 50.0 49.0 48.0 47.0 46.0 ... 27.0 26.0 25.0 24.0 23.0\n",
       "Data variables:\n",
       "    *empty*"
      ]
     },
     "execution_count": 145,
     "metadata": {},
     "output_type": "execute_result"
    }
   ],
   "source": [
    "ds_out"
   ]
  },
  {
   "cell_type": "code",
   "execution_count": 146,
   "metadata": {},
   "outputs": [],
   "source": [
    "import xesmf as xe\n"
   ]
  },
  {
   "cell_type": "code",
   "execution_count": 147,
   "metadata": {},
   "outputs": [],
   "source": [
    "temppersiann = persiann_ds.rolling(time=3, center=False).sum()\n",
    "temppersiann.coords['time'] = temppersiann.time.values-np.timedelta64(2,'D')"
   ]
  },
  {
   "cell_type": "code",
   "execution_count": 148,
   "metadata": {},
   "outputs": [
    {
     "data": {
      "text/plain": [
       "<xarray.Dataset>\n",
       "Dimensions:        (lat: 102, lon: 282, time: 6575)\n",
       "Coordinates:\n",
       "  * lat            (lat) float32 24.875 25.125 25.375 ... 49.625 49.875 50.125\n",
       "  * lon            (lon) float32 229.875 230.125 230.375 ... 299.875 300.125\n",
       "  * time           (time) datetime64[ns] 1998-12-30T12:00:00 ... 2016-12-29T12:00:00\n",
       "Data variables:\n",
       "    precipitation  (time, lat, lon) float32 nan nan nan ... 10.913296 13.459204"
      ]
     },
     "execution_count": 148,
     "metadata": {},
     "output_type": "execute_result"
    }
   ],
   "source": [
    "temppersiann"
   ]
  },
  {
   "cell_type": "code",
   "execution_count": 149,
   "metadata": {},
   "outputs": [
    {
     "data": {
      "text/plain": [
       "<xarray.Dataset>\n",
       "Dimensions:  (lat: 28, lon: 71)\n",
       "Coordinates:\n",
       "  * lon      (lon) float32 230.0 231.0 232.0 233.0 ... 297.0 298.0 299.0 300.0\n",
       "  * lat      (lat) float32 50.0 49.0 48.0 47.0 46.0 ... 27.0 26.0 25.0 24.0 23.0\n",
       "Data variables:\n",
       "    *empty*"
      ]
     },
     "execution_count": 149,
     "metadata": {},
     "output_type": "execute_result"
    }
   ],
   "source": [
    "ds_out =ds_clim_test_3d[['lon','lat']]\n",
    "ds_out"
   ]
  },
  {
   "cell_type": "code",
   "execution_count": 150,
   "metadata": {},
   "outputs": [
    {
     "name": "stdout",
     "output_type": "stream",
     "text": [
      "Overwrite existing file: bilinear_102x282_28x71.nc \n",
      " You can set reuse_weights=True to save computing time.\n"
     ]
    },
    {
     "data": {
      "text/plain": [
       "xESMF Regridder \n",
       "Regridding algorithm:       bilinear \n",
       "Weight filename:            bilinear_102x282_28x71.nc \n",
       "Reuse pre-computed weights? False \n",
       "Input grid shape:           (102, 282) \n",
       "Output grid shape:          (28, 71) \n",
       "Output grid dimension name: ('lat', 'lon') \n",
       "Periodic in longitude?      False"
      ]
     },
     "execution_count": 150,
     "metadata": {},
     "output_type": "execute_result"
    }
   ],
   "source": [
    "regridderp = xe.Regridder(temppersiann, ds_out, 'bilinear')\n",
    "regridderp"
   ]
  },
  {
   "cell_type": "code",
   "execution_count": 151,
   "metadata": {},
   "outputs": [
    {
     "name": "stdout",
     "output_type": "stream",
     "text": [
      "using dimensions ('lat', 'lon') from data variable precipitation as the horizontal dimensions for this dataset.\n"
     ]
    }
   ],
   "source": [
    "persiann_out = regridderp(temppersiann)\n"
   ]
  },
  {
   "cell_type": "code",
   "execution_count": 152,
   "metadata": {},
   "outputs": [
    {
     "data": {
      "text/plain": [
       "<xarray.Dataset>\n",
       "Dimensions:        (lat: 28, lon: 71, time: 6575)\n",
       "Coordinates:\n",
       "  * time           (time) datetime64[ns] 1998-12-30T12:00:00 ... 2016-12-29T12:00:00\n",
       "  * lon            (lon) float32 230.0 231.0 232.0 233.0 ... 298.0 299.0 300.0\n",
       "  * lat            (lat) float32 50.0 49.0 48.0 47.0 ... 26.0 25.0 24.0 23.0\n",
       "Data variables:\n",
       "    precipitation  (time, lat, lon) float64 nan nan nan nan ... 0.0 0.0 0.0 0.0\n",
       "Attributes:\n",
       "    regrid_method:  bilinear"
      ]
     },
     "execution_count": 152,
     "metadata": {},
     "output_type": "execute_result"
    }
   ],
   "source": [
    "persiann_out"
   ]
  },
  {
   "cell_type": "code",
   "execution_count": 153,
   "metadata": {},
   "outputs": [],
   "source": [
    "# looping through the target dates for climatologies\n",
    "persiann_clim_test_3d = []\n",
    "for iT in target:\n",
    "    # extract values exact values\n",
    "    temp = persiann_out.where((persiann_out.time.dt.month==iT.month.values[0])&\n",
    "                        (persiann_out.time.dt.day==iT.day.values[0]), drop=True)\n",
    "    temp = temp.quantile(dim=['time'], q=[0.15,0.33,0.5,0.667,0.85])\n",
    "    persiann_quantile = temp*1.\n",
    "    persiann_quantile = persiann_quantile.expand_dims('window')\n",
    "    persiann_quantile.coords['window'] = 'window', np.atleast_1d(1)\n",
    "    # adding 2 days before and after\n",
    "    temp1 = persiann_out.where((persiann_out.time.dt.month==iT.month.values[0])&\n",
    "                        ((persiann_out.time.dt.day>=iT.day.values[0]-2)&(persiann_out.time.dt.day<=iT.day.values[0]+2)), \n",
    "                          drop=True)\n",
    "\n",
    "    temp1 = temp1.quantile(dim=['time'], q=[0.15,0.33,0.5,0.667,0.85])\n",
    "    temp1 = temp1.expand_dims('window')\n",
    "    temp1.coords['window'] = 'window', np.atleast_1d(5)\n",
    "    persiann_quantile = xr.merge([persiann_quantile, temp1])\n",
    "    persiann_quantile = persiann_quantile.expand_dims('target_clim')\n",
    "    persiann_quantile.coords['target_clim'] = 'target_clim', np.atleast_1d(iT)\n",
    "    persiann_clim_test_3d.append(persiann_quantile)\n",
    "persiann_clim_test_3d = xr.combine_by_coords(persiann_clim_test_3d)    \n"
   ]
  },
  {
   "cell_type": "code",
   "execution_count": 157,
   "metadata": {},
   "outputs": [],
   "source": [
    "persiann_clim_test_3d = persiann_clim_test_3d.rename({'quantile':'quant'})\n",
    "\n",
    "\n",
    "persiann_clim_test_3d = persiann_clim_test_3d.rename({'precipitation':'apcp'})\n"
   ]
  },
  {
   "cell_type": "code",
   "execution_count": 158,
   "metadata": {},
   "outputs": [],
   "source": [
    "persiann_clim_test_3d.to_netcdf('persiann_clim_test_3d.nc')"
   ]
  },
  {
   "cell_type": "markdown",
   "metadata": {},
   "source": [
    "# CPC"
   ]
  },
  {
   "cell_type": "code",
   "execution_count": 200,
   "metadata": {},
   "outputs": [],
   "source": [
    "cpc1 = xr.open_dataset('https://iridl.ldeo.columbia.edu/SOURCES/.NOAA/.NCEP/.CPC/.UNIFIED_PRCP/.GAUGE_BASED/.CONUS/.v1p0/.RETRO/.rain/Y/25/50/RANGE/T/(1999)/(2006)/RANGEEDGES/dods')\n",
    "cpc2 = xr.open_dataset('https://iridl.ldeo.columbia.edu/SOURCES/.NOAA/.NCEP/.CPC/.UNIFIED_PRCP/.GAUGE_BASED/.CONUS/.v1p0/.REALTIME/.rain/Y/25/50/RANGE/T/(2007)/(2016)/RANGEEDGES/dods')\n"
   ]
  },
  {
   "cell_type": "code",
   "execution_count": 201,
   "metadata": {},
   "outputs": [],
   "source": [
    "cpc1 = cpc1.rename({'T':'time','X':'lon','Y':'lat'})\n",
    "cpc2 = cpc2.rename({'T':'time','X':'lon','Y':'lat'})\n"
   ]
  },
  {
   "cell_type": "code",
   "execution_count": 202,
   "metadata": {},
   "outputs": [],
   "source": [
    "cpc1.coords['lon'] = cpc1.lon.values+360\n",
    "cpc2.coords['lon'] = cpc2.lon.values+360"
   ]
  },
  {
   "cell_type": "code",
   "execution_count": 205,
   "metadata": {},
   "outputs": [
    {
     "data": {
      "text/plain": [
       "<matplotlib.collections.QuadMesh at 0x7fecf1839cc0>"
      ]
     },
     "execution_count": 205,
     "metadata": {},
     "output_type": "execute_result"
    },
    {
     "data": {
      "image/png": "[encoded data removed]",
      "text/plain": [
       "<Figure size 432x288 with 2 Axes>"
      ]
     },
     "metadata": {
      "needs_background": "light"
     },
     "output_type": "display_data"
    }
   ],
   "source": [
    "cpc1.rain[0].plot()"
   ]
  },
  {
   "cell_type": "code",
   "execution_count": 206,
   "metadata": {},
   "outputs": [
    {
     "name": "stdout",
     "output_type": "stream",
     "text": [
      "Create weight file: bilinear_101x300_28x71.nc\n"
     ]
    },
    {
     "data": {
      "text/plain": [
       "xESMF Regridder \n",
       "Regridding algorithm:       bilinear \n",
       "Weight filename:            bilinear_101x300_28x71.nc \n",
       "Reuse pre-computed weights? False \n",
       "Input grid shape:           (101, 300) \n",
       "Output grid shape:          (28, 71) \n",
       "Output grid dimension name: ('lat', 'lon') \n",
       "Periodic in longitude?      False"
      ]
     },
     "execution_count": 206,
     "metadata": {},
     "output_type": "execute_result"
    }
   ],
   "source": [
    "regridderc = xe.Regridder(cpc2, ds_out, 'bilinear')\n",
    "regridderc"
   ]
  },
  {
   "cell_type": "code",
   "execution_count": 207,
   "metadata": {},
   "outputs": [
    {
     "name": "stdout",
     "output_type": "stream",
     "text": [
      "using dimensions ('lat', 'lon') from data variable rain as the horizontal dimensions for this dataset.\n",
      "using dimensions ('lat', 'lon') from data variable rain as the horizontal dimensions for this dataset.\n"
     ]
    }
   ],
   "source": [
    "cpc1_out = regridderc(cpc1)\n",
    "cpc2_out = regridderc(cpc2)\n"
   ]
  },
  {
   "cell_type": "code",
   "execution_count": 208,
   "metadata": {},
   "outputs": [
    {
     "data": {
      "text/plain": [
       "<xarray.Dataset>\n",
       "Dimensions:  (lat: 28, lon: 71, time: 2921)\n",
       "Coordinates:\n",
       "  * time     (time) datetime64[ns] 1999-01-02 1999-01-03 ... 2006-12-31\n",
       "  * lon      (lon) float32 230.0 231.0 232.0 233.0 ... 297.0 298.0 299.0 300.0\n",
       "  * lat      (lat) float32 50.0 49.0 48.0 47.0 46.0 ... 27.0 26.0 25.0 24.0 23.0\n",
       "Data variables:\n",
       "    rain     (time, lat, lon) float64 0.0 0.0 0.0 0.0 0.0 ... 0.0 0.0 0.0 0.0\n",
       "Attributes:\n",
       "    regrid_method:  bilinear"
      ]
     },
     "execution_count": 208,
     "metadata": {},
     "output_type": "execute_result"
    }
   ],
   "source": [
    "cpc1_out"
   ]
  },
  {
   "cell_type": "code",
   "execution_count": 209,
   "metadata": {},
   "outputs": [],
   "source": [
    "cpc_out = xr.combine_by_coords([cpc1_out, cpc2_out])"
   ]
  },
  {
   "cell_type": "code",
   "execution_count": 210,
   "metadata": {},
   "outputs": [
    {
     "data": {
      "text/plain": [
       "<xarray.Dataset>\n",
       "Dimensions:  (lat: 28, lon: 71, time: 6573)\n",
       "Coordinates:\n",
       "  * lat      (lat) float32 50.0 49.0 48.0 47.0 46.0 ... 27.0 26.0 25.0 24.0 23.0\n",
       "  * lon      (lon) float32 230.0 231.0 232.0 233.0 ... 297.0 298.0 299.0 300.0\n",
       "  * time     (time) datetime64[ns] 1999-01-02 1999-01-03 ... 2016-12-31\n",
       "Data variables:\n",
       "    rain     (time, lat, lon) float64 0.0 0.0 0.0 0.0 0.0 ... 0.0 0.0 0.0 0.0"
      ]
     },
     "execution_count": 210,
     "metadata": {},
     "output_type": "execute_result"
    }
   ],
   "source": [
    "cpc_out"
   ]
  },
  {
   "cell_type": "code",
   "execution_count": 211,
   "metadata": {},
   "outputs": [],
   "source": [
    "cpc_out = cpc_out.rolling(time=3, center=False).sum()\n",
    "cpc_out.coords['time'] = cpc_out.time.values-np.timedelta64(2,'D')"
   ]
  },
  {
   "cell_type": "code",
   "execution_count": 212,
   "metadata": {},
   "outputs": [],
   "source": [
    "# looping through the target dates for climatologies\n",
    "cpc_clim_test_3d = []\n",
    "for iT in target:\n",
    "    # extract values exact values\n",
    "    temp = cpc_out.where((cpc_out.time.dt.month==iT.month.values[0])&\n",
    "                        (cpc_out.time.dt.day==iT.day.values[0]), drop=True)\n",
    "    temp = temp.quantile(dim=['time'], q=[0.15,0.33,0.5,0.667,0.85])\n",
    "    cpc_quantile = temp*1.\n",
    "    cpc_quantile = cpc_quantile.expand_dims('window')\n",
    "    cpc_quantile.coords['window'] = 'window', np.atleast_1d(1)\n",
    "    # adding 2 days before and after\n",
    "    temp1 = cpc_out.where((cpc_out.time.dt.month==iT.month.values[0])&\n",
    "                        ((cpc_out.time.dt.day>=iT.day.values[0]-2)&(cpc_out.time.dt.day<=iT.day.values[0]+2)), \n",
    "                          drop=True)\n",
    "\n",
    "    temp1 = temp1.quantile(dim=['time'], q=[0.15,0.33,0.5,0.667,0.85])\n",
    "    temp1 = temp1.expand_dims('window')\n",
    "    temp1.coords['window'] = 'window', np.atleast_1d(5)\n",
    "    cpc_quantile = xr.merge([cpc_quantile, temp1])\n",
    "    cpc_quantile = cpc_quantile.expand_dims('target_clim')\n",
    "    cpc_quantile.coords['target_clim'] = 'target_clim', np.atleast_1d(iT)\n",
    "    cpc_clim_test_3d.append(cpc_quantile)\n",
    "cpc_clim_test_3d = xr.combine_by_coords(cpc_clim_test_3d)    \n"
   ]
  },
  {
   "cell_type": "code",
   "execution_count": 213,
   "metadata": {},
   "outputs": [],
   "source": [
    "cpc_clim_test_3d = cpc_clim_test_3d.rename({'quantile':'quant'})\n",
    "\n",
    "\n",
    "cpc_clim_test_3d = cpc_clim_test_3d.rename({'rain':'apcp'})\n"
   ]
  },
  {
   "cell_type": "code",
   "execution_count": 214,
   "metadata": {},
   "outputs": [],
   "source": [
    "cpc_clim_test_3d.to_netcdf('cpc_clim_test_3d.nc')"
   ]
  },
  {
   "cell_type": "markdown",
   "metadata": {},
   "source": [
    "# NARR data"
   ]
  },
  {
   "cell_type": "code",
   "execution_count": 26,
   "metadata": {},
   "outputs": [
    {
     "name": "stderr",
     "output_type": "stream",
     "text": [
      "/local/ERAin/lib/python3.6/site-packages/xarray/conventions.py:494: SerializationWarning: variable 'apcp' has multiple fill values {9.96921e+36, -9.96921e+36}, decoding all values to NaN.\n",
      "  use_cftime=use_cftime,\n",
      "/local/ERAin/lib/python3.6/site-packages/xarray/conventions.py:494: SerializationWarning: variable 'apcp' has multiple fill values {9.96921e+36, -9.96921e+36}, decoding all values to NaN.\n",
      "  use_cftime=use_cftime,\n",
      "/local/ERAin/lib/python3.6/site-packages/xarray/conventions.py:494: SerializationWarning: variable 'apcp' has multiple fill values {9.96921e+36, -9.96921e+36}, decoding all values to NaN.\n",
      "  use_cftime=use_cftime,\n",
      "/local/ERAin/lib/python3.6/site-packages/xarray/conventions.py:494: SerializationWarning: variable 'apcp' has multiple fill values {9.96921e+36, -9.96921e+36}, decoding all values to NaN.\n",
      "  use_cftime=use_cftime,\n",
      "/local/ERAin/lib/python3.6/site-packages/xarray/conventions.py:494: SerializationWarning: variable 'apcp' has multiple fill values {9.96921e+36, -9.96921e+36}, decoding all values to NaN.\n",
      "  use_cftime=use_cftime,\n",
      "/local/ERAin/lib/python3.6/site-packages/xarray/conventions.py:494: SerializationWarning: variable 'apcp' has multiple fill values {9.96921e+36, -9.96921e+36}, decoding all values to NaN.\n",
      "  use_cftime=use_cftime,\n",
      "/local/ERAin/lib/python3.6/site-packages/xarray/conventions.py:494: SerializationWarning: variable 'apcp' has multiple fill values {9.96921e+36, -9.96921e+36}, decoding all values to NaN.\n",
      "  use_cftime=use_cftime,\n",
      "/local/ERAin/lib/python3.6/site-packages/xarray/conventions.py:494: SerializationWarning: variable 'apcp' has multiple fill values {9.96921e+36, -9.96921e+36}, decoding all values to NaN.\n",
      "  use_cftime=use_cftime,\n",
      "/local/ERAin/lib/python3.6/site-packages/xarray/conventions.py:494: SerializationWarning: variable 'apcp' has multiple fill values {9.96921e+36, -9.96921e+36}, decoding all values to NaN.\n",
      "  use_cftime=use_cftime,\n",
      "/local/ERAin/lib/python3.6/site-packages/xarray/conventions.py:494: SerializationWarning: variable 'apcp' has multiple fill values {9.96921e+36, -9.96921e+36}, decoding all values to NaN.\n",
      "  use_cftime=use_cftime,\n",
      "/local/ERAin/lib/python3.6/site-packages/xarray/conventions.py:494: SerializationWarning: variable 'apcp' has multiple fill values {9.96921e+36, -9.96921e+36}, decoding all values to NaN.\n",
      "  use_cftime=use_cftime,\n",
      "/local/ERAin/lib/python3.6/site-packages/xarray/conventions.py:494: SerializationWarning: variable 'apcp' has multiple fill values {9.96921e+36, -9.96921e+36}, decoding all values to NaN.\n",
      "  use_cftime=use_cftime,\n",
      "/local/ERAin/lib/python3.6/site-packages/xarray/conventions.py:494: SerializationWarning: variable 'apcp' has multiple fill values {9.96921e+36, -9.96921e+36}, decoding all values to NaN.\n",
      "  use_cftime=use_cftime,\n",
      "/local/ERAin/lib/python3.6/site-packages/xarray/conventions.py:494: SerializationWarning: variable 'apcp' has multiple fill values {9.96921e+36, -9.96921e+36}, decoding all values to NaN.\n",
      "  use_cftime=use_cftime,\n",
      "/local/ERAin/lib/python3.6/site-packages/xarray/conventions.py:494: SerializationWarning: variable 'apcp' has multiple fill values {9.96921e+36, -9.96921e+36}, decoding all values to NaN.\n",
      "  use_cftime=use_cftime,\n",
      "/local/ERAin/lib/python3.6/site-packages/xarray/conventions.py:494: SerializationWarning: variable 'apcp' has multiple fill values {9.96921e+36, -9.96921e+36}, decoding all values to NaN.\n",
      "  use_cftime=use_cftime,\n",
      "/local/ERAin/lib/python3.6/site-packages/xarray/conventions.py:494: SerializationWarning: variable 'apcp' has multiple fill values {9.96921e+36, -9.96921e+36}, decoding all values to NaN.\n",
      "  use_cftime=use_cftime,\n",
      "/local/ERAin/lib/python3.6/site-packages/xarray/conventions.py:494: SerializationWarning: variable 'apcp' has multiple fill values {9.969209968386869e+36, -9.96921e+36}, decoding all values to NaN.\n",
      "  use_cftime=use_cftime,\n"
     ]
    }
   ],
   "source": [
    "narr_ls=[]\n",
    "for iy in np.arange(1999, 2017):\n",
    "    temp = xr.open_dataset('/crunch/c0/NARR/3_hr_all/apcp/apcp.'+np.str(iy)+'.nc',\n",
    "                          drop_variables='Lambert_Conformal')\n",
    "    # aggregate to daily\n",
    "    temp = temp.resample(time='1D').sum()\n",
    "#     print(temp)\n",
    "#     pause\n",
    "    narr_ls.append(temp)\n",
    "    del temp"
   ]
  },
  {
   "cell_type": "markdown",
   "metadata": {},
   "source": [
    "### combine, roll sum, roll back startign interval date"
   ]
  },
  {
   "cell_type": "code",
   "execution_count": 37,
   "metadata": {},
   "outputs": [
    {
     "data": {
      "text/plain": [
       "<xarray.Dataset>\n",
       "Dimensions:  (x: 349, y: 277)\n",
       "Coordinates:\n",
       "    lat      (y, x) float32 1.000001 1.104305 1.208292 ... 46.64134 46.3544\n",
       "    lon      (y, x) float32 -145.5 -145.315 -145.1295 ... -2.643617 -2.569891\n",
       "  * y        (y) float32 0.0 32463.0 64926.0 ... 8894862.0 8927325.0 8959788.0\n",
       "  * x        (x) float32 0.0 32463.0 64926.0 ... 11264660.0 11297120.0\n",
       "Data variables:\n",
       "    *empty*"
      ]
     },
     "execution_count": 37,
     "metadata": {},
     "output_type": "execute_result"
    }
   ],
   "source": [
    "temp_latlon = narr_ls[0][['lat','lon']]\n",
    "temp_latlon"
   ]
  },
  {
   "cell_type": "code",
   "execution_count": 38,
   "metadata": {},
   "outputs": [],
   "source": [
    "narr_ds = xr.combine_by_coords(narr_ls)"
   ]
  },
  {
   "cell_type": "markdown",
   "metadata": {},
   "source": [
    "### for some reason hte combining creates a dimension time for lon (might be small differences in decimal values). So I drop it and substitute with one only"
   ]
  },
  {
   "cell_type": "code",
   "execution_count": 40,
   "metadata": {},
   "outputs": [
    {
     "data": {
      "text/plain": [
       "<xarray.Dataset>\n",
       "Dimensions:  (time: 6575, x: 349, y: 277)\n",
       "Coordinates:\n",
       "    lat      (y, x) float32 1.000001 1.104305 1.208292 ... 46.64134 46.3544\n",
       "  * y        (y) float32 0.0 32463.0 64926.0 ... 8894862.0 8927325.0 8959788.0\n",
       "  * x        (x) float32 0.0 32463.0 64926.0 ... 11264660.0 11297120.0\n",
       "  * time     (time) datetime64[ns] 1999-01-01 1999-01-02 ... 2016-12-31\n",
       "    lon      (time, y, x) float32 -145.5 -145.315 ... 357.35638 357.4301\n",
       "Data variables:\n",
       "    apcp     (time, y, x) float64 0.001682 0.001682 0.001682 ... 0.0 0.0 0.0"
      ]
     },
     "execution_count": 40,
     "metadata": {},
     "output_type": "execute_result"
    }
   ],
   "source": [
    "narr_ds"
   ]
  },
  {
   "cell_type": "code",
   "execution_count": 41,
   "metadata": {},
   "outputs": [],
   "source": [
    "narr_ds = narr_ds.drop('lon')"
   ]
  },
  {
   "cell_type": "code",
   "execution_count": 44,
   "metadata": {},
   "outputs": [],
   "source": [
    "narr_ds.coords['lon']=temp_latlon.lon\n"
   ]
  },
  {
   "cell_type": "code",
   "execution_count": 45,
   "metadata": {},
   "outputs": [
    {
     "data": {
      "text/plain": [
       "<xarray.Dataset>\n",
       "Dimensions:  (time: 6575, x: 349, y: 277)\n",
       "Coordinates:\n",
       "    lat      (y, x) float32 1.000001 1.104305 1.208292 ... 46.64134 46.3544\n",
       "  * y        (y) float32 0.0 32463.0 64926.0 ... 8894862.0 8927325.0 8959788.0\n",
       "  * x        (x) float32 0.0 32463.0 64926.0 ... 11264660.0 11297120.0\n",
       "  * time     (time) datetime64[ns] 1999-01-01 1999-01-02 ... 2016-12-31\n",
       "    lon      (y, x) float32 -145.5 -145.315 -145.1295 ... -2.643617 -2.569891\n",
       "Data variables:\n",
       "    apcp     (time, y, x) float64 0.001682 0.001682 0.001682 ... 0.0 0.0 0.0"
      ]
     },
     "execution_count": 45,
     "metadata": {},
     "output_type": "execute_result"
    }
   ],
   "source": [
    "narr_ds"
   ]
  },
  {
   "cell_type": "code",
   "execution_count": 46,
   "metadata": {},
   "outputs": [],
   "source": [
    "tempnarr = narr_ds.rolling(time=3, center=False).sum()\n",
    "tempnarr.coords['time'] = tempnarr.time.values-np.timedelta64(2,'D')"
   ]
  },
  {
   "cell_type": "code",
   "execution_count": 47,
   "metadata": {},
   "outputs": [],
   "source": [
    "import xesmf as xe\n",
    "tempnarr = tempnarr.drop(['x','y'])\n",
    "ds_out =ds_clim_test_3d[['lat','lon']]"
   ]
  },
  {
   "cell_type": "code",
   "execution_count": 48,
   "metadata": {},
   "outputs": [
    {
     "data": {
      "text/plain": [
       "<xarray.Dataset>\n",
       "Dimensions:  (lat: 28, lon: 71)\n",
       "Coordinates:\n",
       "  * lat      (lat) float32 50.0 49.0 48.0 47.0 46.0 ... 27.0 26.0 25.0 24.0 23.0\n",
       "  * lon      (lon) float32 230.0 231.0 232.0 233.0 ... 297.0 298.0 299.0 300.0\n",
       "Data variables:\n",
       "    *empty*"
      ]
     },
     "execution_count": 48,
     "metadata": {},
     "output_type": "execute_result"
    }
   ],
   "source": [
    "ds_out"
   ]
  },
  {
   "cell_type": "code",
   "execution_count": 49,
   "metadata": {},
   "outputs": [
    {
     "data": {
      "text/plain": [
       "<xarray.Dataset>\n",
       "Dimensions:  (time: 6575, x: 349, y: 277)\n",
       "Coordinates:\n",
       "    lat      (y, x) float32 1.000001 1.104305 1.208292 ... 46.64134 46.3544\n",
       "  * y        (y) float32 0.0 32463.0 64926.0 ... 8894862.0 8927325.0 8959788.0\n",
       "  * x        (x) float32 0.0 32463.0 64926.0 ... 11264660.0 11297120.0\n",
       "  * time     (time) datetime64[ns] 1999-01-01 1999-01-02 ... 2016-12-31\n",
       "    lon      (y, x) float32 -145.5 -145.315 -145.1295 ... -2.643617 -2.569891\n",
       "Data variables:\n",
       "    apcp     (time, y, x) float64 0.001682 0.001682 0.001682 ... 0.0 0.0 0.0"
      ]
     },
     "execution_count": 49,
     "metadata": {},
     "output_type": "execute_result"
    }
   ],
   "source": [
    "narr_ds"
   ]
  },
  {
   "cell_type": "code",
   "execution_count": 50,
   "metadata": {},
   "outputs": [
    {
     "name": "stdout",
     "output_type": "stream",
     "text": [
      "Overwrite existing file: bilinear_277x349_28x71.nc \n",
      " You can set reuse_weights=True to save computing time.\n",
      "using dimensions ('y', 'x') from data variable apcp as the horizontal dimensions for this dataset.\n"
     ]
    }
   ],
   "source": [
    "regridder = xe.Regridder(tempnarr, ds_out, 'bilinear')\n",
    "narr_out = regridder(tempnarr)\n"
   ]
  },
  {
   "cell_type": "code",
   "execution_count": 51,
   "metadata": {},
   "outputs": [
    {
     "data": {
      "text/plain": [
       "<xarray.Dataset>\n",
       "Dimensions:  (lat: 28, lon: 71, time: 6575)\n",
       "Coordinates:\n",
       "  * time     (time) datetime64[ns] 1998-12-30 1998-12-31 ... 2016-12-29\n",
       "  * lon      (lon) float32 230.0 231.0 232.0 233.0 ... 297.0 298.0 299.0 300.0\n",
       "  * lat      (lat) float32 50.0 49.0 48.0 47.0 46.0 ... 27.0 26.0 25.0 24.0 23.0\n",
       "Data variables:\n",
       "    apcp     (time, lat, lon) float64 nan nan nan nan ... 2.049 0.358 1.405\n",
       "Attributes:\n",
       "    regrid_method:  bilinear"
      ]
     },
     "execution_count": 51,
     "metadata": {},
     "output_type": "execute_result"
    }
   ],
   "source": [
    "narr_out"
   ]
  },
  {
   "cell_type": "code",
   "execution_count": 59,
   "metadata": {},
   "outputs": [],
   "source": [
    "# looping through the target dates for climatologies\n",
    "narr_clim_test_3d = []\n",
    "for iT in target:\n",
    "    # extract values exact values\n",
    "    temp = narr_out.where((narr_out.time.dt.month==iT.month.values[0])&\n",
    "                        (narr_out.time.dt.day==iT.day.values[0]), drop=True)\n",
    "    temp = temp.quantile(dim=['time'], q=[0.15,0.33,0.5,0.667,0.85])\n",
    "    narr_quantile = temp*1.\n",
    "    narr_quantile = narr_quantile.expand_dims('window')\n",
    "    narr_quantile.coords['window'] = 'window', np.atleast_1d(1)\n",
    "    # adding 2 days before and after\n",
    "    temp1 = narr_out.where((narr_out.time.dt.month==iT.month.values[0])&\n",
    "                        ((narr_out.time.dt.day>=iT.day.values[0]-2)&(narr_out.time.dt.day<=iT.day.values[0]+2)), \n",
    "                          drop=True)\n",
    "\n",
    "    temp1 = temp1.quantile(dim=['time'], q=[0.15,0.33,0.5,0.667,0.85])\n",
    "    temp1 = temp1.expand_dims('window')\n",
    "    temp1.coords['window'] = 'window', np.atleast_1d(5)\n",
    "    narr_quantile = xr.merge([narr_quantile, temp1])\n",
    "    narr_quantile = narr_quantile.expand_dims('target_clim')\n",
    "    narr_quantile.coords['target_clim'] = 'target_clim', np.atleast_1d(iT)\n",
    "    narr_clim_test_3d.append(narr_quantile)\n",
    "narr_clim_test_3d = xr.combine_by_coords(narr_clim_test_3d)    \n"
   ]
  },
  {
   "cell_type": "code",
   "execution_count": 60,
   "metadata": {},
   "outputs": [
    {
     "data": {
      "text/plain": [
       "<xarray.Dataset>\n",
       "Dimensions:      (lat: 28, lon: 71, quantile: 5, target_clim: 12, window: 2)\n",
       "Coordinates:\n",
       "  * lat          (lat) float32 50.0 49.0 48.0 47.0 46.0 ... 26.0 25.0 24.0 23.0\n",
       "  * quantile     (quantile) float64 0.15 0.33 0.5 0.667 0.85\n",
       "  * window       (window) int64 1 5\n",
       "  * lon          (lon) float32 230.0 231.0 232.0 233.0 ... 298.0 299.0 300.0\n",
       "  * target_clim  (target_clim) datetime64[ns] 1900-01-15 ... 1900-12-15\n",
       "Data variables:\n",
       "    apcp         (target_clim, window, quantile, lat, lon) float64 0.8683 ... 3.126"
      ]
     },
     "execution_count": 60,
     "metadata": {},
     "output_type": "execute_result"
    }
   ],
   "source": [
    "narr_clim_test_3d"
   ]
  },
  {
   "cell_type": "code",
   "execution_count": 61,
   "metadata": {},
   "outputs": [],
   "source": [
    "narr_clim_test_3d = narr_clim_test_3d.rename({'quantile':'quant'})\n"
   ]
  },
  {
   "cell_type": "code",
   "execution_count": 107,
   "metadata": {},
   "outputs": [],
   "source": [
    "narr_clim_test_3d.to_netcdf('narr_clim_test_3d.nc')"
   ]
  }
 ],
 "metadata": {
  "kernelspec": {
   "display_name": "Python 3",
   "language": "python",
   "name": "python3"
  },
  "language_info": {
   "codemirror_mode": {
    "name": "ipython",
    "version": 3
   },
   "file_extension": ".py",
   "mimetype": "text/x-python",
   "name": "python",
   "nbconvert_exporter": "python",
   "pygments_lexer": "ipython3",
   "version": "3.6.7"
  }
 },
 "nbformat": 4,
 "nbformat_minor": 2
}
