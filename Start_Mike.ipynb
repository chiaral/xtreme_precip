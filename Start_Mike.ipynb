{
 "cells": [
  {
   "cell_type": "code",
   "execution_count": 1,
   "metadata": {},
   "outputs": [],
   "source": [
    "import numpy as np\n",
    "import xarray as xr\n",
    "import pandas as pd\n",
    "import datetime\n",
    "\n",
    "\n",
    "from datetime import timedelta, datetime, date\n",
    "import calendar\n",
    "\n",
    "import numpy as np\n",
    "from matplotlib import pyplot as plt\n",
    "%matplotlib inline\n",
    "import os\n",
    "import glob\n",
    "\n"
   ]
  },
  {
   "cell_type": "markdown",
   "metadata": {},
   "source": [
    "# LOAD first dataset\n",
    "\n",
    "## ok these data are a pain because they come from monthly ingrid data that has made up the attributes. So some steps are specific of these data, you might need to change stuff for other data.\n",
    "\n"
   ]
  },
  {
   "cell_type": "code",
   "execution_count": 2,
   "metadata": {},
   "outputs": [],
   "source": [
    "ds = xr.open_dataset('https://iridl.ldeo.columbia.edu/expert/SOURCES/.Models/.NMME/.COLA-RSMAS-CCSM4/.MONTHLY/.sst/S/(1%20Jan%201982)/(1%20Dec%202010)/RANGE/L/0.5/11.5/RANGE/Y/-5/5/RANGEEDGES/X/190/240/RANGEEDGES/dods',\n",
    "                      decode_times=False)"
   ]
  },
  {
   "cell_type": "code",
   "execution_count": 3,
   "metadata": {},
   "outputs": [
    {
     "data": {
      "text/plain": [
       "<xarray.Dataset>\n",
       "Dimensions:  (L: 12, M: 10, S: 348, X: 51, Y: 11)\n",
       "Coordinates:\n",
       "  * L        (L) float32 0.5 1.5 2.5 3.5 4.5 5.5 6.5 7.5 8.5 9.5 10.5 11.5\n",
       "  * M        (M) float32 1.0 2.0 3.0 4.0 5.0 6.0 7.0 8.0 9.0 10.0\n",
       "  * S        (S) float32 264.0 265.0 266.0 267.0 ... 608.0 609.0 610.0 611.0\n",
       "  * Y        (Y) float32 -5.0 -4.0 -3.0 -2.0 -1.0 0.0 1.0 2.0 3.0 4.0 5.0\n",
       "  * X        (X) float32 190.0 191.0 192.0 193.0 ... 237.0 238.0 239.0 240.0\n",
       "Data variables:\n",
       "    sst      (S, L, M, Y, X) float32 ...\n",
       "Attributes:\n",
       "    Conventions:  IRIDL"
      ]
     },
     "execution_count": 3,
     "metadata": {},
     "output_type": "execute_result"
    }
   ],
   "source": [
    "ds"
   ]
  },
  {
   "cell_type": "code",
   "execution_count": 4,
   "metadata": {},
   "outputs": [
    {
     "data": {
      "text/plain": [
       "{'pointwidth': 0,\n",
       " 'long_name': 'Forecast Start Time',\n",
       " 'expires': 1596242520,\n",
       " 'standard_name': 'forecast_reference_time',\n",
       " 'defaultvalue': 726.0,\n",
       " 'calendar': '360',\n",
       " 'gridtype': 0,\n",
       " 'units': 'months since 1960-01-01'}"
      ]
     },
     "execution_count": 4,
     "metadata": {},
     "output_type": "execute_result"
    }
   ],
   "source": [
    "ds.S.attrs"
   ]
  },
  {
   "cell_type": "code",
   "execution_count": 5,
   "metadata": {},
   "outputs": [],
   "source": [
    "ds.coords['T'] = ('S','L'), ds.S+ds.L\n",
    "ds.T.attrs = {'pointwidth': 0,\n",
    " 'long_name': 'Forecast Start Time',\n",
    " 'expires': 1596242520,\n",
    " 'standard_name': 'forecast_reference_time',\n",
    " 'defaultvalue': 726.0,\n",
    " 'calendar': '360',\n",
    " 'gridtype': 0,\n",
    " 'units': 'months since 1960-01-01'}"
   ]
  },
  {
   "cell_type": "code",
   "execution_count": 6,
   "metadata": {},
   "outputs": [
    {
     "data": {
      "text/plain": [
       "{'pointwidth': 0,\n",
       " 'long_name': 'Forecast Start Time',\n",
       " 'expires': 1596242520,\n",
       " 'standard_name': 'forecast_reference_time',\n",
       " 'defaultvalue': 726.0,\n",
       " 'calendar': '360',\n",
       " 'gridtype': 0,\n",
       " 'units': 'months since 1960-01-01'}"
      ]
     },
     "execution_count": 6,
     "metadata": {},
     "output_type": "execute_result"
    }
   ],
   "source": [
    "ds.T.attrs"
   ]
  },
  {
   "cell_type": "markdown",
   "metadata": {},
   "source": [
    "## trick to overwrite the issues with INGRID files"
   ]
  },
  {
   "cell_type": "code",
   "execution_count": 7,
   "metadata": {},
   "outputs": [
    {
     "data": {
      "text/plain": [
       "<xarray.Dataset>\n",
       "Dimensions:  (L: 12, M: 10, S: 348, X: 51, Y: 11)\n",
       "Coordinates:\n",
       "  * L        (L) float32 0.5 1.5 2.5 3.5 4.5 5.5 6.5 7.5 8.5 9.5 10.5 11.5\n",
       "  * M        (M) float32 1.0 2.0 3.0 4.0 5.0 6.0 7.0 8.0 9.0 10.0\n",
       "  * S        (S) object 1982-01-01 00:00:00 ... 2010-12-01 00:00:00\n",
       "  * Y        (Y) float32 -5.0 -4.0 -3.0 -2.0 -1.0 0.0 1.0 2.0 3.0 4.0 5.0\n",
       "  * X        (X) float32 190.0 191.0 192.0 193.0 ... 237.0 238.0 239.0 240.0\n",
       "    T        (S, L) object ...\n",
       "Data variables:\n",
       "    sst      (S, L, M, Y, X) float32 ...\n",
       "Attributes:\n",
       "    Conventions:  IRIDL"
      ]
     },
     "execution_count": 7,
     "metadata": {},
     "output_type": "execute_result"
    }
   ],
   "source": [
    "def fix_calendar(ds, timevar='T'):\n",
    "    if ds[timevar].attrs['calendar'] == '360':\n",
    "        ds[timevar].attrs['calendar'] = '360_day'\n",
    "    return ds\n",
    "\n",
    "ds = fix_calendar(ds, 'S')\n",
    "ds = fix_calendar(ds, 'T')\n",
    "ds = xr.decode_cf(ds)\n",
    "ds\n"
   ]
  },
  {
   "cell_type": "code",
   "execution_count": 8,
   "metadata": {},
   "outputs": [],
   "source": [
    "ds.coords['S'] = [np.datetime64(it) for it in ds.S.values ]\n"
   ]
  },
  {
   "cell_type": "code",
   "execution_count": 9,
   "metadata": {},
   "outputs": [],
   "source": [
    "ds = ds.sst.mean(dim=['X','Y','M'])"
   ]
  },
  {
   "cell_type": "markdown",
   "metadata": {},
   "source": [
    "# Second dataset"
   ]
  },
  {
   "cell_type": "code",
   "execution_count": 10,
   "metadata": {},
   "outputs": [
    {
     "data": {
      "text/plain": [
       "<xarray.Dataset>\n",
       "Dimensions:  (T: 464, X: 50, Y: 10)\n",
       "Coordinates:\n",
       "  * T        (T) float32 262.5 263.5 264.5 265.5 ... 722.5 723.5 724.5 725.5\n",
       "  * Y        (Y) float32 -4.5 -3.5 -2.5 -1.5 -0.5 0.5 1.5 2.5 3.5 4.5\n",
       "  * X        (X) float32 190.5 191.5 192.5 193.5 ... 236.5 237.5 238.5 239.5\n",
       "Data variables:\n",
       "    sst      (T, Y, X) float32 ...\n",
       "Attributes:\n",
       "    Conventions:  IRIDL"
      ]
     },
     "execution_count": 10,
     "metadata": {},
     "output_type": "execute_result"
    }
   ],
   "source": [
    "ds1 = xr.open_dataset('https://iridl.ldeo.columbia.edu/expert/SOURCES/.NOAA/.NCEP/.EMC/.CMB/.GLOBAL/.Reyn_SmithOIv2/.monthly/.sst/Y/-5/5/RANGEEDGES/X/190/240/RANGEEDGES/dods',\n",
    "                     decode_times=False)\n",
    "ds1"
   ]
  },
  {
   "cell_type": "code",
   "execution_count": 11,
   "metadata": {},
   "outputs": [],
   "source": [
    "ds1.coords['L'] = ds.L *1."
   ]
  },
  {
   "cell_type": "code",
   "execution_count": 12,
   "metadata": {},
   "outputs": [
    {
     "data": {
      "text/plain": [
       "<xarray.Dataset>\n",
       "Dimensions:  (L: 12, T: 464, X: 50, Y: 10)\n",
       "Coordinates:\n",
       "  * T        (T) float32 262.5 263.5 264.5 265.5 ... 722.5 723.5 724.5 725.5\n",
       "  * Y        (Y) float32 -4.5 -3.5 -2.5 -1.5 -0.5 0.5 1.5 2.5 3.5 4.5\n",
       "  * X        (X) float32 190.5 191.5 192.5 193.5 ... 236.5 237.5 238.5 239.5\n",
       "  * L        (L) float32 0.5 1.5 2.5 3.5 4.5 5.5 6.5 7.5 8.5 9.5 10.5 11.5\n",
       "Data variables:\n",
       "    sst      (T, Y, X) float32 ...\n",
       "Attributes:\n",
       "    Conventions:  IRIDL"
      ]
     },
     "execution_count": 12,
     "metadata": {},
     "output_type": "execute_result"
    }
   ],
   "source": [
    "ds1"
   ]
  },
  {
   "cell_type": "code",
   "execution_count": 15,
   "metadata": {},
   "outputs": [
    {
     "data": {
      "text/plain": [
       "array([[26.46026 , 26.775156, 26.926655, ..., 25.40456 , 25.568565,\n",
       "        25.594755],\n",
       "       [26.897198, 27.399733, 27.584135, ..., 25.568157, 25.818249,\n",
       "        25.750467],\n",
       "       [27.534616, 27.87978 , 27.890902, ..., 25.433931, 25.855013,\n",
       "        25.8702  ],\n",
       "       ...,\n",
       "       [28.347773, 28.33862 , 28.162378, ..., 27.613876, 27.158022,\n",
       "        26.663513],\n",
       "       [28.84851 , 28.53879 , 28.198374, ..., 27.04707 , 26.787527,\n",
       "        26.822168],\n",
       "       [29.10649 , 28.596363, 28.073128, ..., 26.804482, 26.970818,\n",
       "        27.146496]], dtype=float32)"
      ]
     },
     "execution_count": 15,
     "metadata": {},
     "output_type": "execute_result"
    }
   ],
   "source": [
    "ds.T.values"
   ]
  },
  {
   "cell_type": "code",
   "execution_count": null,
   "metadata": {},
   "outputs": [],
   "source": [
    "ds1.sst.sel(T=)"
   ]
  },
  {
   "cell_type": "code",
   "execution_count": 14,
   "metadata": {},
   "outputs": [
    {
     "data": {
      "text/plain": [
       "<xarray.Dataset>\n",
       "Dimensions:  (L: 12, T: 463, X: 50, Y: 10)\n",
       "Coordinates:\n",
       "  * T        (T) float32 262.5 263.5 264.5 265.5 ... 721.5 722.5 723.5 724.5\n",
       "  * Y        (Y) float32 -4.5 -3.5 -2.5 -1.5 -0.5 0.5 1.5 2.5 3.5 4.5\n",
       "  * X        (X) float32 190.5 191.5 192.5 193.5 ... 236.5 237.5 238.5 239.5\n",
       "  * L        (L) float32 0.5 1.5 2.5 3.5 4.5 5.5 6.5 7.5 8.5 9.5 10.5 11.5\n",
       "    S        (T, L) float32 263.0 264.0 265.0 266.0 ... 733.0 734.0 735.0 736.0\n",
       "Data variables:\n",
       "    sst      (T, Y, X) float32 ...\n",
       "Attributes:\n",
       "    Conventions:  IRIDL"
      ]
     },
     "execution_count": 14,
     "metadata": {},
     "output_type": "execute_result"
    }
   ],
   "source": [
    "ds1.coords['S'] = ('T','L'), ds1.T+ds1.L\n",
    "ds1"
   ]
  },
  {
   "cell_type": "code",
   "execution_count": 16,
   "metadata": {},
   "outputs": [
    {
     "data": {
      "text/plain": [
       "{'standard_name': 'time',\n",
       " 'pointwidth': 1.0,\n",
       " 'expires': 1593993600,\n",
       " 'calendar': '360_day',\n",
       " 'gridtype': 0,\n",
       " 'units': 'months since 1960-01-01'}"
      ]
     },
     "execution_count": 16,
     "metadata": {},
     "output_type": "execute_result"
    }
   ],
   "source": [
    "ds1.T.attrs"
   ]
  },
  {
   "cell_type": "code",
   "execution_count": 17,
   "metadata": {},
   "outputs": [],
   "source": [
    "ds1.S.attrs={'standard_name': 'time',\n",
    " 'pointwidth': 1.0,\n",
    " 'expires': 1593993600,\n",
    " 'calendar': '360_day',\n",
    " 'gridtype': 0,\n",
    " 'units': 'months since 1960-01-01'}"
   ]
  },
  {
   "cell_type": "code",
   "execution_count": 18,
   "metadata": {},
   "outputs": [
    {
     "data": {
      "text/plain": [
       "<xarray.Dataset>\n",
       "Dimensions:  (L: 12, T: 463, X: 50, Y: 10)\n",
       "Coordinates:\n",
       "  * T        (T) object 1981-11-16 00:00:00 ... 2020-05-16 00:00:00\n",
       "  * Y        (Y) float32 -4.5 -3.5 -2.5 -1.5 -0.5 0.5 1.5 2.5 3.5 4.5\n",
       "  * X        (X) float32 190.5 191.5 192.5 193.5 ... 236.5 237.5 238.5 239.5\n",
       "  * L        (L) float32 0.5 1.5 2.5 3.5 4.5 5.5 6.5 7.5 8.5 9.5 10.5 11.5\n",
       "    S        (T, L) object ...\n",
       "Data variables:\n",
       "    sst      (T, Y, X) float32 ...\n",
       "Attributes:\n",
       "    Conventions:  IRIDL"
      ]
     },
     "execution_count": 18,
     "metadata": {},
     "output_type": "execute_result"
    }
   ],
   "source": [
    "ds1 = fix_calendar(ds1, 'T')\n",
    "ds1 = fix_calendar(ds1, 'S')\n",
    "ds1 = xr.decode_cf(ds1)\n",
    "ds1\n"
   ]
  },
  {
   "cell_type": "code",
   "execution_count": 19,
   "metadata": {},
   "outputs": [],
   "source": [
    "ds2 = ds1.stack(TL=('T','L'))\n"
   ]
  },
  {
   "cell_type": "code",
   "execution_count": 24,
   "metadata": {},
   "outputs": [],
   "source": [
    "ds2 = ds2.swap_dims({'TL':'S'})"
   ]
  },
  {
   "cell_type": "code",
   "execution_count": 25,
   "metadata": {},
   "outputs": [
    {
     "data": {
      "text/plain": [
       "<xarray.Dataset>\n",
       "Dimensions:  (S: 5556, X: 50, Y: 10)\n",
       "Coordinates:\n",
       "  * Y        (Y) float32 -4.5 -3.5 -2.5 -1.5 -0.5 0.5 1.5 2.5 3.5 4.5\n",
       "  * X        (X) float32 190.5 191.5 192.5 193.5 ... 236.5 237.5 238.5 239.5\n",
       "  * S        (S) object 1981-12-01 00:00:00 ... 2021-05-01 00:00:00\n",
       "    TL       (S) object (cftime.Datetime360Day(1981, 11, 16, 0, 0, 0, 0, 0, 316), 0.5) ... (cftime.Datetime360Day(2020, 5, 16, 0, 0, 0, 0, 0, 136), 11.5)\n",
       "Data variables:\n",
       "    sst      (Y, X, S) float32 28.426336 28.426336 ... 28.66917 28.66917\n",
       "Attributes:\n",
       "    Conventions:  IRIDL"
      ]
     },
     "execution_count": 25,
     "metadata": {},
     "output_type": "execute_result"
    }
   ],
   "source": [
    "ds2"
   ]
  },
  {
   "cell_type": "markdown",
   "metadata": {},
   "source": [
    "# I Calculated T from S and L before transforming them in dates, but if you have other data you would create a timedelta64 array.\n",
    "\n"
   ]
  },
  {
   "cell_type": "code",
   "execution_count": 154,
   "metadata": {},
   "outputs": [
    {
     "data": {
      "text/plain": [
       "<xarray.DataArray 'sst' (SL: 4176)>\n",
       "array([26.46026 , 26.897198, 27.534616, ..., 26.663513, 26.822168,\n",
       "       27.146496], dtype=float32)\n",
       "Coordinates:\n",
       "    T        (SL) object 1982-01-16 00:00:00 ... 2011-11-16 00:00:00\n",
       "  * SL       (SL) MultiIndex\n",
       "  - S        (SL) datetime64[ns] 1982-01-01 1982-01-01 ... 2010-12-01 2010-12-01\n",
       "  - L        (SL) float64 0.5 1.5 2.5 3.5 4.5 5.5 ... 6.5 7.5 8.5 9.5 10.5 11.5"
      ]
     },
     "execution_count": 154,
     "metadata": {},
     "output_type": "execute_result"
    }
   ],
   "source": [
    "dsT = ds.stack(SL=('S','L'))\n",
    "dsT"
   ]
  },
  {
   "cell_type": "code",
   "execution_count": 155,
   "metadata": {},
   "outputs": [
    {
     "data": {
      "text/plain": [
       "<xarray.DataArray 'sst' (T: 4176)>\n",
       "array([26.46026 , 26.897198, 27.534616, ..., 26.663513, 26.822168,\n",
       "       27.146496], dtype=float32)\n",
       "Coordinates:\n",
       "  * T        (T) object 1982-01-16 00:00:00 ... 2011-11-16 00:00:00\n",
       "    SL       (T) object (Timestamp('1982-01-01 00:00:00'), 0.5) ... (Timestamp('2010-12-01 00:00:00'), 11.5)"
      ]
     },
     "execution_count": 155,
     "metadata": {},
     "output_type": "execute_result"
    }
   ],
   "source": [
    "dsT = dsT.swap_dims({'SL':'T'})\n",
    "dsT"
   ]
  },
  {
   "cell_type": "code",
   "execution_count": 156,
   "metadata": {},
   "outputs": [
    {
     "data": {
      "text/plain": [
       "<xarray.DataArray 'sst' (T: 4176)>\n",
       "array([26.46026 , 26.897198, 27.534616, ..., 26.663513, 26.822168,\n",
       "       27.146496], dtype=float32)\n",
       "Coordinates:\n",
       "  * T        (T) object 1982-01-16 00:00:00 ... 2011-11-16 00:00:00\n",
       "    SL       (T) object (Timestamp('1982-01-01 00:00:00'), 0.5) ... (Timestamp('2010-12-01 00:00:00'), 11.5)"
      ]
     },
     "execution_count": 156,
     "metadata": {},
     "output_type": "execute_result"
    }
   ],
   "source": [
    "dsT = dsT.unstack()\n",
    "dsT"
   ]
  },
  {
   "cell_type": "markdown",
   "metadata": {},
   "source": [
    "# let's change all T to time"
   ]
  },
  {
   "cell_type": "code",
   "execution_count": 157,
   "metadata": {},
   "outputs": [],
   "source": [
    "dsT = dsT.rename({'T':'time'})\n",
    "ds1 = ds1.rename({'T':'time'})"
   ]
  },
  {
   "cell_type": "markdown",
   "metadata": {},
   "source": [
    "# selectr dates that are in the observations\n",
    "\n",
    "## I change them to np.datetime64 - note these are not eactly the same thing but being monthly values it's ok\n",
    "\n"
   ]
  },
  {
   "cell_type": "code",
   "execution_count": 158,
   "metadata": {},
   "outputs": [],
   "source": [
    "dsT.coords['time'] = [np.datetime64(it) for it in dsT.time.values ]"
   ]
  },
  {
   "cell_type": "code",
   "execution_count": 159,
   "metadata": {},
   "outputs": [],
   "source": [
    "ds1.coords['time'] = [np.datetime64(it) for it in ds1.time.values ]"
   ]
  },
  {
   "cell_type": "code",
   "execution_count": 160,
   "metadata": {},
   "outputs": [
    {
     "data": {
      "text/plain": [
       "<xarray.DataArray 'time' (time: 4176)>\n",
       "array(['1982-01-16T00:00:00.000000000', '1982-02-16T00:00:00.000000000',\n",
       "       '1982-03-16T00:00:00.000000000', ..., '2011-09-16T00:00:00.000000000',\n",
       "       '2011-10-16T00:00:00.000000000', '2011-11-16T00:00:00.000000000'],\n",
       "      dtype='datetime64[ns]')\n",
       "Coordinates:\n",
       "  * time     (time) datetime64[ns] 1982-01-16 1982-02-16 ... 2011-11-16\n",
       "    SL       (time) object (Timestamp('1982-01-01 00:00:00'), 0.5) ... (Timestamp('2010-12-01 00:00:00'), 11.5)"
      ]
     },
     "execution_count": 160,
     "metadata": {},
     "output_type": "execute_result"
    }
   ],
   "source": [
    "dsT.time"
   ]
  },
  {
   "cell_type": "code",
   "execution_count": 161,
   "metadata": {},
   "outputs": [
    {
     "data": {
      "text/plain": [
       "<xarray.DataArray 'time' (time: 463)>\n",
       "array(['1981-11-16T00:00:00.000000000', '1981-12-16T00:00:00.000000000',\n",
       "       '1982-01-16T00:00:00.000000000', ..., '2020-03-16T00:00:00.000000000',\n",
       "       '2020-04-16T00:00:00.000000000', '2020-05-16T00:00:00.000000000'],\n",
       "      dtype='datetime64[ns]')\n",
       "Coordinates:\n",
       "  * time     (time) datetime64[ns] 1981-11-16 1981-12-16 ... 2020-05-16"
      ]
     },
     "execution_count": 161,
     "metadata": {},
     "output_type": "execute_result"
    }
   ],
   "source": [
    "ds1.time"
   ]
  },
  {
   "cell_type": "markdown",
   "metadata": {},
   "source": [
    "# now you have the same time coordinate. but you can't select the values, because you have multiple dates \"time\" in the forecast data\n",
    "\n",
    "## for example for 1990-03-16 I have\n"
   ]
  },
  {
   "cell_type": "code",
   "execution_count": 162,
   "metadata": {},
   "outputs": [],
   "source": [
    "dstemp = dsT.sel(time=ds1.time[100].values)"
   ]
  },
  {
   "cell_type": "code",
   "execution_count": 186,
   "metadata": {},
   "outputs": [],
   "source": [
    "L_SL = [y for (x,y) in dstemp.SL.values]\n",
    "S_SL = [pd.DatetimeIndex([x]) for (x,y) in dstemp.SL.values]\n",
    "L_SL = np.array(y_SL)\n"
   ]
  },
  {
   "cell_type": "code",
   "execution_count": 189,
   "metadata": {},
   "outputs": [
    {
     "data": {
      "text/plain": [
       "[DatetimeIndex(['1989-04-01'], dtype='datetime64[ns]', freq=None),\n",
       " DatetimeIndex(['1989-05-01'], dtype='datetime64[ns]', freq=None),\n",
       " DatetimeIndex(['1989-06-01'], dtype='datetime64[ns]', freq=None),\n",
       " DatetimeIndex(['1989-07-01'], dtype='datetime64[ns]', freq=None),\n",
       " DatetimeIndex(['1989-08-01'], dtype='datetime64[ns]', freq=None),\n",
       " DatetimeIndex(['1989-09-01'], dtype='datetime64[ns]', freq=None),\n",
       " DatetimeIndex(['1989-10-01'], dtype='datetime64[ns]', freq=None),\n",
       " DatetimeIndex(['1989-11-01'], dtype='datetime64[ns]', freq=None),\n",
       " DatetimeIndex(['1989-12-01'], dtype='datetime64[ns]', freq=None),\n",
       " DatetimeIndex(['1990-01-01'], dtype='datetime64[ns]', freq=None),\n",
       " DatetimeIndex(['1990-02-01'], dtype='datetime64[ns]', freq=None),\n",
       " DatetimeIndex(['1990-03-01'], dtype='datetime64[ns]', freq=None)]"
      ]
     },
     "execution_count": 189,
     "metadata": {},
     "output_type": "execute_result"
    }
   ],
   "source": [
    "S_SL\n"
   ]
  },
  {
   "cell_type": "code",
   "execution_count": 191,
   "metadata": {},
   "outputs": [
    {
     "data": {
      "text/plain": [
       "Int64Index([4], dtype='int64')"
      ]
     },
     "execution_count": 191,
     "metadata": {},
     "output_type": "execute_result"
    }
   ],
   "source": [
    "S_SL[0].month"
   ]
  },
  {
   "cell_type": "code",
   "execution_count": 193,
   "metadata": {},
   "outputs": [
    {
     "data": {
      "text/plain": [
       "array([['1989-04-01T00:00:00.000000000'],\n",
       "       ['1989-05-01T00:00:00.000000000'],\n",
       "       ['1989-06-01T00:00:00.000000000'],\n",
       "       ['1989-07-01T00:00:00.000000000'],\n",
       "       ['1989-08-01T00:00:00.000000000'],\n",
       "       ['1989-09-01T00:00:00.000000000'],\n",
       "       ['1989-10-01T00:00:00.000000000'],\n",
       "       ['1989-11-01T00:00:00.000000000'],\n",
       "       ['1989-12-01T00:00:00.000000000'],\n",
       "       ['1990-01-01T00:00:00.000000000'],\n",
       "       ['1990-02-01T00:00:00.000000000'],\n",
       "       ['1990-03-01T00:00:00.000000000']], dtype='datetime64[ns]')"
      ]
     },
     "execution_count": 193,
     "metadata": {},
     "output_type": "execute_result"
    }
   ],
   "source": [
    "np.array(S_SL)"
   ]
  },
  {
   "cell_type": "code",
   "execution_count": 188,
   "metadata": {},
   "outputs": [
    {
     "data": {
      "text/plain": [
       "array([11.5, 10.5,  9.5,  8.5,  7.5,  6.5,  5.5,  4.5,  3.5,  2.5,  1.5,\n",
       "        0.5])"
      ]
     },
     "execution_count": 188,
     "metadata": {},
     "output_type": "execute_result"
    }
   ],
   "source": [
    "L_SL"
   ]
  },
  {
   "cell_type": "markdown",
   "metadata": {},
   "source": [
    "# to get the values SL corresponding to each time"
   ]
  },
  {
   "cell_type": "code",
   "execution_count": null,
   "metadata": {},
   "outputs": [],
   "source": [
    "   Y -5 5 RANGEEDGES\n",
    "   X 190 240 RANGEEDGES\n",
    "   [X Y]average\n",
    "   [L S]REORDER\n",
    "   S 12 splitstreamgrid\n",
    "   exch\n",
    "   S 12 splitstreamgrid\n",
    "   [S2] correlate\n"
   ]
  }
 ],
 "metadata": {
  "kernelspec": {
   "display_name": "Python 3",
   "language": "python",
   "name": "python3"
  },
  "language_info": {
   "codemirror_mode": {
    "name": "ipython",
    "version": 3
   },
   "file_extension": ".py",
   "mimetype": "text/x-python",
   "name": "python",
   "nbconvert_exporter": "python",
   "pygments_lexer": "ipython3",
   "version": "3.6.7"
  }
 },
 "nbformat": 4,
 "nbformat_minor": 2
}
