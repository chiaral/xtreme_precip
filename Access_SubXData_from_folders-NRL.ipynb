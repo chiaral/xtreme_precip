{
 "cells": [
  {
   "cell_type": "code",
   "execution_count": 60,
   "metadata": {},
   "outputs": [],
   "source": [
    "import xarray as xr\n",
    "import numpy as np\n",
    "from matplotlib import pyplot as plt\n",
    "%matplotlib inline\n",
    "from matplotlib.colors import LogNorm\n",
    "from xhistogram.xarray import histogram\n",
    "import os\n",
    "import time\n",
    "from matplotlib.colors import LogNorm\n",
    "import dask"
   ]
  },
  {
   "cell_type": "code",
   "execution_count": 61,
   "metadata": {},
   "outputs": [
    {
     "data": {
      "text/plain": [
       "['ESRL', 'NASA', 'EMC', 'RSMAS', 'ECCC', 'NRL', 'CESM', 'NCEP']"
      ]
     },
     "execution_count": 61,
     "metadata": {},
     "output_type": "execute_result"
    }
   ],
   "source": [
    "listOfDir = os.listdir('/Data2/SubX/')\n",
    "listOfDir = listOfDir[0:-1] # drop 'CWB\n",
    "listOfDir"
   ]
  },
  {
   "cell_type": "code",
   "execution_count": 62,
   "metadata": {},
   "outputs": [],
   "source": [
    "subfolder_to_try = ['FIMr1p1','GEOS_V2p1','GEFS','CCSM4','GEPS5','GEPS6','hindcast','NESM','46LCESM1', '30LCAM5','CFSv2']"
   ]
  },
  {
   "cell_type": "code",
   "execution_count": 63,
   "metadata": {},
   "outputs": [
    {
     "name": "stdout",
     "output_type": "stream",
     "text": [
      "sic_sfc.zip\n",
      "pr_sfc\n",
      "JJA\n",
      "tas_2m\n",
      "forecast\n",
      "forecast\n",
      "subX_reforecast_ECCC_1995081000_m01.tar\n",
      "documentation.txt\n",
      "hindcast\n",
      "hindcast\n",
      "hindcast\n"
     ]
    }
   ],
   "source": [
    "for ild in listOfDir:\n",
    "    for isb in subfolder_to_try:\n",
    "        if isb in os.listdir('/Data2/SubX/'+ild+'/'):\n",
    "            print(os.listdir('/Data2/SubX/'+ild+'/'+isb)[0])\n"
   ]
  },
  {
   "cell_type": "markdown",
   "metadata": {},
   "source": [
    "# the list above will look for the subfolder in the folder. I have 11 possibilities, one for each model. In particular"
   ]
  },
  {
   "cell_type": "code",
   "execution_count": 64,
   "metadata": {},
   "outputs": [
    {
     "name": "stdout",
     "output_type": "stream",
     "text": [
      "ESRL/FIMr1p1\n",
      "NASA/GEOS_V2p1\n",
      "EMC/GEFS\n",
      "RSMAS/CCSM4\n",
      "ECCC/GEPS5\n",
      "ECCC/GEPS6\n",
      "ECCC/hindcast\n",
      "NRL/NESM\n",
      "CESM/46LCESM1\n",
      "CESM/30LCAM5\n",
      "NCEP/CFSv2\n"
     ]
    }
   ],
   "source": [
    "for ild in listOfDir:\n",
    "    for isb in subfolder_to_try:\n",
    "        if isb in os.listdir('/Data2/SubX/'+ild+'/'):\n",
    "            print(ild+'/'+isb)\n"
   ]
  },
  {
   "cell_type": "markdown",
   "metadata": {},
   "source": [
    "## each of this subfloders are organized differently (in fact the third ECCC doesn't have a name for the submodel, but directly the folder hindcast. I assume that is the GEM model)\n",
    "\n",
    "## Unfortunately I cannot use a general loop to treat each model, but I have to write a separate script for each of them\n",
    "\n",
    "## the name of the variables *should* be the same: cape, tas_2m, tdps_2m, wap_500, pr_sfc"
   ]
  },
  {
   "cell_type": "code",
   "execution_count": 65,
   "metadata": {},
   "outputs": [],
   "source": [
    "variable_names = ['cape_sfc', 'tas_2m', 'tdps_2m', 'wap_500', 'pr_sfc']"
   ]
  },
  {
   "cell_type": "markdown",
   "metadata": {},
   "source": [
    "# NRL/NESM\n"
   ]
  },
  {
   "cell_type": "code",
   "execution_count": 66,
   "metadata": {},
   "outputs": [
    {
     "name": "stdout",
     "output_type": "stream",
     "text": [
      "NRL/NESM\n",
      "/Data2/SubX/NRL/NESM\n",
      "['documentation.txt', 'ACAF-DSS', 'ONR', 'tas_2m_NESM_24aug2002_12z_d01_d45_m01.nc', 'forecast', 'hindcast', 'ROMI', 'get_NESM_SubX_fcst.pl']\n"
     ]
    }
   ],
   "source": [
    "for ild in listOfDir[5:6]:\n",
    "    for isb in subfolder_to_try:\n",
    "        if isb in os.listdir('/Data2/SubX/'+ild+'/'):\n",
    "            subfolder_dir = ild+'/'+isb\n",
    "            print(subfolder_dir)\n",
    "            print('/Data2/SubX/'+subfolder_dir)\n",
    "            file_list = os.listdir('/Data2/SubX/'+subfolder_dir)\n",
    "#             file_list1 = [ifl if ifl[-4:]!='.zip' else print('skip') for ifl in file_list]\n",
    "            print(file_list)\n"
   ]
  },
  {
   "cell_type": "code",
   "execution_count": 67,
   "metadata": {},
   "outputs": [
    {
     "name": "stdout",
     "output_type": "stream",
     "text": [
      "NRL/NESM/hindcast/\n",
      "cape_sfc\n",
      "['1999', '2000', '2001', '2002', '2003', '2004', '2005', '2006', '2007', '2008', '2009', '2010', '2011', '2012', '2013', '2014', '2015', '2016', '2017']\n",
      "tas_2m\n",
      "['1999', '2000', '2001', '2002', '2003', '2004', '2005', '2006', '2007', '2008', '2009', '2010', '2011', '2012', '2013', '2014', '2015', '2016', '2017']\n",
      "tdps_2m\n",
      "['1999', '2000', '2001', '2002', '2003', '2004', '2005', '2006', '2007', '2008', '2009', '2010', '2011', '2012', '2013', '2014', '2015', '2016', '2017']\n",
      "wap_500\n",
      "['1999', '2000', '2001', '2002', '2003', '2004', '2005', '2006', '2007', '2008', '2009', '2010', '2011', '2012', '2013', '2014', '2015', '2016', '2017']\n",
      "pr_sfc\n",
      "['1999', '2000', '2001', '2002', '2003', '2004', '2005', '2006', '2007', '2008', '2009', '2010', '2011', '2012', '2013', '2014', '2015', '2016', '2017']\n"
     ]
    }
   ],
   "source": [
    "for ild in listOfDir[5:6]:\n",
    "    for isb in subfolder_to_try:\n",
    "        if isb in os.listdir('/Data2/SubX/'+ild+'/'):\n",
    "            subfolder_dir = ild+'/'+isb+'/'\n",
    "            subfolder_dir = subfolder_dir+'hindcast/'\n",
    "            print(subfolder_dir)\n",
    "            for ivar in variable_names:\n",
    "                print(ivar)\n",
    "                if ivar in os.listdir('/Data2/SubX/'+subfolder_dir):\n",
    "                    var_subfolder_dir = '/Data2/SubX/'+subfolder_dir+ivar+'/'\n",
    "                    file_list = os.listdir(var_subfolder_dir)\n",
    "                    print(file_list)\n"
   ]
  },
  {
   "cell_type": "code",
   "execution_count": 68,
   "metadata": {},
   "outputs": [
    {
     "name": "stdout",
     "output_type": "stream",
     "text": [
      "cape_sfc\t\t\t  NESM_may_fcsts_priority2.tar\tua_50\r\n",
      "climatology\t\t\t  pentad_climatology\t\tua_850\r\n",
      "hfls_sfc\t\t\t  pr_sfc\t\t\tuas_10m\r\n",
      "hfss_sfc\t\t\t  psl_msl\t\t\tva_10\r\n",
      "NESM_2016_fcsts_priority1.tar.gz  rad_sfc\t\t\tva_100\r\n",
      "NESM_2016_fcsts_priority2.tar.gz  rlut_toa\t\t\tva_200\r\n",
      "NESM_2017_fcsts_priority1.tar.gz  RMM\t\t\t\tva_30\r\n",
      "NESM_2017_fcsts_priority2.tar.gz  sic_sfc\t\t\tva_50\r\n",
      "NESM_apr_fcsts_priority1.tar\t  stx_sfc\t\t\tva_850\r\n",
      "NESM_apr_fcsts_priority2.tar\t  sty_sfc\t\t\tvas_10m\r\n",
      "NESM_feb_fcsts_priority1.tar\t  tas_2m\t\t\twap_500\r\n",
      "NESM_feb_fcsts_priority2.tar\t  tasmax_2m\t\t\tzg_10\r\n",
      "NESM_jan_fcsts_priority1.tar\t  tasmin_2m\t\t\tzg_200\r\n",
      "NESM_jan_fcsts_priority2.tar\t  tdps_2m\t\t\tzg_30\r\n",
      "NESM_jun_fcsts_priority1.tar\t  ts_sfc\t\t\tzg_50\r\n",
      "NESM_jun_fcsts_priority2.tar\t  ua_10\t\t\t\tzg_500\r\n",
      "NESM_mar_fcsts_priority1.tar\t  ua_100\t\t\tzg_850\r\n",
      "NESM_mar_fcsts_priority2.tar\t  ua_200\r\n",
      "NESM_may_fcsts_priority1.tar\t  ua_30\r\n"
     ]
    }
   ],
   "source": [
    "!ls /Data2/SubX/NRL/NESM/hindcast/"
   ]
  },
  {
   "cell_type": "code",
   "execution_count": 69,
   "metadata": {},
   "outputs": [],
   "source": [
    "# ds1 = xr.open_dataset('/Data2/SubX/NRL/NESM/hindcast/pr_sfc/1999/apr/pr_sfc_NESM_03apr1999_12z_d01_d45_m01.nc')\n",
    "# print(ds1.attrs['start_date'])\n",
    "# print(ds1)"
   ]
  },
  {
   "cell_type": "code",
   "execution_count": null,
   "metadata": {
    "scrolled": true
   },
   "outputs": [
    {
     "name": "stdout",
     "output_type": "stream",
     "text": [
      "cape_sfc\n",
      "1999\n",
      "2000\n"
     ]
    }
   ],
   "source": [
    "from glob import glob\n",
    "def pre_process_func(ds,strM):\n",
    "\n",
    "    ds = ds.rename({'day':'time'})\n",
    "    ds = ds.sel(lat=slice(23,50), lon=slice(230,300))\n",
    "    tempS = ds.attrs['start_date']\n",
    "    ds.coords['S'] = np.datetime64(datetime.datetime.strptime(tempS,'%Y%m%d%H'))\n",
    "    ds.coords['M'] = np.int(strM)\n",
    "    ds.coords['time'] = np.arange(43200000000000,\n",
    "                                  43200000000000+45*86400000000000,\n",
    "                                  86400000000000,dtype='timedelta64[ns]')\n",
    "    ds = ds.expand_dims(['S','M'])\n",
    "    return ds\n",
    "def read_netcdfs(files, dim, transform_func=None):\n",
    "#     print(files)\n",
    "    def process_one_path(path):\n",
    "        # use a context manager, to ensure the file gets closed after use\n",
    "        with xr.open_dataset(path, chunks={}) as ds:\n",
    "            # transform_func should do some sort of selection or\n",
    "            # aggregation\n",
    "            if transform_func is not None:\n",
    "                ds = transform_func(ds, path[-5:-3])\n",
    "            # load all data from the transformed dataset, to ensure we can\n",
    "            # use it after closing each original file\n",
    "#             print(ds)\n",
    "#             ds.load()\n",
    "            return ds\n",
    "\n",
    "    paths = sorted(glob(files))\n",
    "#     print(paths)\n",
    "    datasets = [process_one_path(p) for p in paths]\n",
    "    \n",
    "    combined = xr.combine_by_coords(datasets)\n",
    "    combined = combined.chunk({'S':4,'M':-1})\n",
    "    return combined\n",
    "\n",
    "\n",
    "\n",
    "var_l=[]\n",
    "for ivar in variable_names:\n",
    "    print(ivar)\n",
    "    if ivar in os.listdir('/Data2/SubX/NRL/NESM/hindcast/'):    \n",
    "        c_l = []\n",
    "        for iy in np.arange(1999, 2018):\n",
    "            print(iy)\n",
    "            # here we suppose we only care about the combined mean of each file;\n",
    "            # you might also use indexing operations like .sel to subset datasets\n",
    "            combined = read_netcdfs('/Data2/SubX/NRL/NESM/hindcast/'+ivar+'/'+np.str(iy)+'/*/*.nc', dim=['S','M'],\n",
    "                                    transform_func=pre_process_func)\n",
    "            \n",
    "            c_l.append(combined)\n",
    "    all_values = xr.concat(c_l, dim='S') \n",
    "    var_l.append(all_values)\n",
    "all_variables = xr.merge(var_l)\n",
    "\n"
   ]
  },
  {
   "cell_type": "code",
   "execution_count": null,
   "metadata": {},
   "outputs": [],
   "source": [
    "all_variables"
   ]
  }
 ],
 "metadata": {
  "kernelspec": {
   "display_name": "Python 3",
   "language": "python",
   "name": "python3"
  },
  "language_info": {
   "codemirror_mode": {
    "name": "ipython",
    "version": 3
   },
   "file_extension": ".py",
   "mimetype": "text/x-python",
   "name": "python",
   "nbconvert_exporter": "python",
   "pygments_lexer": "ipython3",
   "version": "3.6.7"
  }
 },
 "nbformat": 4,
 "nbformat_minor": 2
}
