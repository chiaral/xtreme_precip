{
 "cells": [
  {
   "cell_type": "code",
   "execution_count": 1,
   "metadata": {},
   "outputs": [],
   "source": [
    "import numpy as np\n",
    "import xarray as xr\n",
    "import pandas as pd\n",
    "import datetime\n",
    "\n",
    "from datetime import timedelta, datetime, date\n",
    "import calendar\n",
    "\n",
    "import numpy as np\n",
    "from matplotlib import pyplot as plt\n",
    "%matplotlib inline\n"
   ]
  },
  {
   "cell_type": "code",
   "execution_count": 2,
   "metadata": {},
   "outputs": [
    {
     "name": "stdout",
     "output_type": "stream",
     "text": [
      "/home/clepore/.conda/envs/general_python2_7/bin/python\r\n"
     ]
    }
   ],
   "source": [
    "!which python"
   ]
  },
  {
   "cell_type": "code",
   "execution_count": 3,
   "metadata": {},
   "outputs": [],
   "source": [
    "import Nio\n",
    "import glob"
   ]
  },
  {
   "cell_type": "code",
   "execution_count": 4,
   "metadata": {},
   "outputs": [
    {
     "name": "stdout",
     "output_type": "stream",
     "text": [
      "1979\n",
      "1980\n",
      "1981\n",
      "1982\n",
      "1983\n",
      "1984\n",
      "1985\n",
      "1986\n",
      "1987\n",
      "1988\n",
      "1989\n",
      "1990\n",
      "1991\n",
      "1992\n",
      "1993\n",
      "1994\n",
      "1995\n",
      "1996\n",
      "1997\n",
      "1998\n",
      "1999\n",
      "2000\n",
      "2001\n",
      "2002\n",
      "2003\n",
      "2004\n",
      "2005\n",
      "2006\n",
      "2007\n",
      "2008\n",
      "2009\n",
      "2010\n",
      "2011\n",
      "2012\n",
      "2013\n",
      "2014\n",
      "2015\n",
      "2016\n"
     ]
    }
   ],
   "source": [
    "import netCDF4\n",
    "ds_Y =[]\n",
    "for iy in np.arange(1979, 2017):\n",
    "    print iy\n",
    "    url = ('http://iridl.ldeo.columbia.edu/expert/home/.clepore/.NARR_ESRL_3hr_CONUS_1x1/.apcp/time/('+\n",
    "           np.str(iy)+\n",
    "          ')/VALUES/time/(Apr-Sep)/RANGE/lat/32/42/RANGE/lon/257/270/RANGE/time/1/boxAverage/')\n",
    "    ds_temp = xr.open_dataset(url+'dods')\n",
    "    ds_Y.append(ds_temp)\n",
    "    del ds_temp\n",
    "    \n",
    "ds_allpr = xr.concat(ds_Y, dim='time')"
   ]
  },
  {
   "cell_type": "code",
   "execution_count": 5,
   "metadata": {},
   "outputs": [
    {
     "name": "stdout",
     "output_type": "stream",
     "text": [
      "1979\n",
      "1980\n",
      "1981\n",
      "1982\n",
      "1983\n",
      "1984\n",
      "1985\n",
      "1986\n",
      "1987\n",
      "1988\n",
      "1989\n",
      "1990\n",
      "1991\n",
      "1992\n",
      "1993\n",
      "1994\n",
      "1995\n",
      "1996\n",
      "1997\n",
      "1998\n",
      "1999\n",
      "2000\n",
      "2001\n",
      "2002\n",
      "2003\n",
      "2004\n",
      "2005\n",
      "2006\n",
      "2007\n",
      "2008\n",
      "2009\n",
      "2010\n",
      "2011\n",
      "2012\n",
      "2013\n",
      "2014\n",
      "2015\n",
      "2016\n"
     ]
    }
   ],
   "source": [
    "ds_Y =[]\n",
    "for iy in np.arange(1979, 2017):\n",
    "    print iy\n",
    "    url = ('http://iridl.ldeo.columbia.edu/expert/home/.clepore/.NARR_ESRL_3hr_CONUS_1x1/.air2m/time/('+\n",
    "           np.str(iy)+\n",
    "          ')/VALUES/time/(Apr-Sep)/RANGE/lat/32/42/RANGE/lon/257/270/RANGE/time/1/boxAverage/')\n",
    "    ds_temp = xr.open_dataset(url+'dods')\n",
    "    ds_Y.append(ds_temp)\n",
    "    del ds_temp\n",
    "    \n",
    "ds_allTemp = xr.concat(ds_Y, dim='time')"
   ]
  },
  {
   "cell_type": "code",
   "execution_count": 6,
   "metadata": {},
   "outputs": [
    {
     "data": {
      "text/plain": [
       "<xarray.Dataset>\n",
       "Dimensions:  (lat: 11, lon: 14, time: 6954)\n",
       "Coordinates:\n",
       "  * lon      (lon) float32 257.0 258.0 259.0 260.0 261.0 262.0 263.0 264.0 ...\n",
       "  * lat      (lat) float32 32.0 33.0 34.0 35.0 36.0 37.0 38.0 39.0 40.0 41.0 ...\n",
       "  * time     (time) datetime64[ns] 1979-04-01T12:00:00 1979-04-02T12:00:00 ...\n",
       "Data variables:\n",
       "    apcp     (time, lat, lon) float32 0.0172432 0.000446335 0.00994562 ...\n",
       "    air2m    (time, lat, lon) float32 290.377 290.789 291.53 292.395 293.319 ...\n",
       "Attributes:\n",
       "    Conventions:  IRIDL"
      ]
     },
     "execution_count": 6,
     "metadata": {},
     "output_type": "execute_result"
    }
   ],
   "source": [
    "ds_allpr.merge(ds_allTemp, inplace=True)"
   ]
  },
  {
   "cell_type": "code",
   "execution_count": 7,
   "metadata": {},
   "outputs": [],
   "source": [
    "week1 = ds_allpr.stack(MSll=('lat','lon','time'))\n"
   ]
  },
  {
   "cell_type": "code",
   "execution_count": 8,
   "metadata": {},
   "outputs": [
    {
     "data": {
      "text/plain": [
       "<xarray.Dataset>\n",
       "Dimensions:  (MSll: 1070916)\n",
       "Coordinates:\n",
       "  * MSll     (MSll) MultiIndex\n",
       "  - lat      (MSll) float64 32.0 32.0 32.0 32.0 32.0 32.0 32.0 32.0 32.0 ...\n",
       "  - lon      (MSll) float64 257.0 257.0 257.0 257.0 257.0 257.0 257.0 257.0 ...\n",
       "  - time     (MSll) datetime64[ns] 1979-04-01T12:00:00 1979-04-02T12:00:00 ...\n",
       "Data variables:\n",
       "    apcp     (MSll) float32 0.0172432 0.000145301 0.00293407 0.000927959 ...\n",
       "    air2m    (MSll) float32 290.377 287.796 285.835 285.115 290.012 292.133 ...\n",
       "Attributes:\n",
       "    Conventions:  IRIDL"
      ]
     },
     "execution_count": 8,
     "metadata": {},
     "output_type": "execute_result"
    }
   ],
   "source": [
    "week1"
   ]
  },
  {
   "cell_type": "code",
   "execution_count": 9,
   "metadata": {},
   "outputs": [
    {
     "ename": "ValueError",
     "evalue": "conflicting sizes for dimension 'MSll': length 538384 on 'MSll' and length 1070916 on u'apcp'",
     "output_type": "error",
     "traceback": [
      "\u001b[0;31m\u001b[0m",
      "\u001b[0;31mValueError\u001b[0mTraceback (most recent call last)",
      "\u001b[0;32m<ipython-input-9-8ed36b508df3>\u001b[0m in \u001b[0;36m<module>\u001b[0;34m()\u001b[0m\n\u001b[0;32m----> 1\u001b[0;31m \u001b[0mweek1\u001b[0m\u001b[0;34m.\u001b[0m\u001b[0mcoords\u001b[0m\u001b[0;34m[\u001b[0m\u001b[0;34m'MSll'\u001b[0m\u001b[0;34m]\u001b[0m \u001b[0;34m=\u001b[0m \u001b[0mnp\u001b[0m\u001b[0;34m.\u001b[0m\u001b[0marange\u001b[0m\u001b[0;34m(\u001b[0m\u001b[0;36m0\u001b[0m\u001b[0;34m,\u001b[0m\u001b[0;36m538384\u001b[0m\u001b[0;34m)\u001b[0m\u001b[0;34m\u001b[0m\u001b[0m\n\u001b[0m",
      "\u001b[0;32m/home/clepore/.conda/envs/general_python2_7/lib/python2.7/site-packages/xarray/core/coordinates.pyc\u001b[0m in \u001b[0;36m__setitem__\u001b[0;34m(self, key, value)\u001b[0m\n\u001b[1;32m     19\u001b[0m \u001b[0;34m\u001b[0m\u001b[0m\n\u001b[1;32m     20\u001b[0m     \u001b[0;32mdef\u001b[0m \u001b[0m__setitem__\u001b[0m\u001b[0;34m(\u001b[0m\u001b[0mself\u001b[0m\u001b[0;34m,\u001b[0m \u001b[0mkey\u001b[0m\u001b[0;34m,\u001b[0m \u001b[0mvalue\u001b[0m\u001b[0;34m)\u001b[0m\u001b[0;34m:\u001b[0m\u001b[0;34m\u001b[0m\u001b[0m\n\u001b[0;32m---> 21\u001b[0;31m         \u001b[0mself\u001b[0m\u001b[0;34m.\u001b[0m\u001b[0mupdate\u001b[0m\u001b[0;34m(\u001b[0m\u001b[0;34m{\u001b[0m\u001b[0mkey\u001b[0m\u001b[0;34m:\u001b[0m \u001b[0mvalue\u001b[0m\u001b[0;34m}\u001b[0m\u001b[0;34m)\u001b[0m\u001b[0;34m\u001b[0m\u001b[0m\n\u001b[0m\u001b[1;32m     22\u001b[0m \u001b[0;34m\u001b[0m\u001b[0m\n\u001b[1;32m     23\u001b[0m     \u001b[0;34m@\u001b[0m\u001b[0mproperty\u001b[0m\u001b[0;34m\u001b[0m\u001b[0m\n",
      "\u001b[0;32m/home/clepore/.conda/envs/general_python2_7/lib/python2.7/site-packages/xarray/core/coordinates.pyc\u001b[0m in \u001b[0;36mupdate\u001b[0;34m(self, other)\u001b[0m\n\u001b[1;32m     87\u001b[0m         coords = merge_coords([self.variables, other_vars],\n\u001b[1;32m     88\u001b[0m                               priority_arg=1, indexes=self.indexes)\n\u001b[0;32m---> 89\u001b[0;31m         \u001b[0mself\u001b[0m\u001b[0;34m.\u001b[0m\u001b[0m_update_coords\u001b[0m\u001b[0;34m(\u001b[0m\u001b[0mcoords\u001b[0m\u001b[0;34m)\u001b[0m\u001b[0;34m\u001b[0m\u001b[0m\n\u001b[0m\u001b[1;32m     90\u001b[0m \u001b[0;34m\u001b[0m\u001b[0m\n\u001b[1;32m     91\u001b[0m     \u001b[0;32mdef\u001b[0m \u001b[0m_merge_raw\u001b[0m\u001b[0;34m(\u001b[0m\u001b[0mself\u001b[0m\u001b[0;34m,\u001b[0m \u001b[0mother\u001b[0m\u001b[0;34m)\u001b[0m\u001b[0;34m:\u001b[0m\u001b[0;34m\u001b[0m\u001b[0m\n",
      "\u001b[0;32m/home/clepore/.conda/envs/general_python2_7/lib/python2.7/site-packages/xarray/core/coordinates.pyc\u001b[0m in \u001b[0;36m_update_coords\u001b[0;34m(self, coords)\u001b[0m\n\u001b[1;32m    184\u001b[0m \u001b[0;34m\u001b[0m\u001b[0m\n\u001b[1;32m    185\u001b[0m         \u001b[0;31m# check for inconsistent state *before* modifying anything in-place\u001b[0m\u001b[0;34m\u001b[0m\u001b[0;34m\u001b[0m\u001b[0m\n\u001b[0;32m--> 186\u001b[0;31m         \u001b[0mdims\u001b[0m \u001b[0;34m=\u001b[0m \u001b[0mcalculate_dimensions\u001b[0m\u001b[0;34m(\u001b[0m\u001b[0mvariables\u001b[0m\u001b[0;34m)\u001b[0m\u001b[0;34m\u001b[0m\u001b[0m\n\u001b[0m\u001b[1;32m    187\u001b[0m         \u001b[0mnew_coord_names\u001b[0m \u001b[0;34m=\u001b[0m \u001b[0mset\u001b[0m\u001b[0;34m(\u001b[0m\u001b[0mcoords\u001b[0m\u001b[0;34m)\u001b[0m\u001b[0;34m\u001b[0m\u001b[0m\n\u001b[1;32m    188\u001b[0m         \u001b[0;32mfor\u001b[0m \u001b[0mdim\u001b[0m\u001b[0;34m,\u001b[0m \u001b[0msize\u001b[0m \u001b[0;32min\u001b[0m \u001b[0mdims\u001b[0m\u001b[0;34m.\u001b[0m\u001b[0mitems\u001b[0m\u001b[0;34m(\u001b[0m\u001b[0;34m)\u001b[0m\u001b[0;34m:\u001b[0m\u001b[0;34m\u001b[0m\u001b[0m\n",
      "\u001b[0;32m/home/clepore/.conda/envs/general_python2_7/lib/python2.7/site-packages/xarray/core/dataset.pyc\u001b[0m in \u001b[0;36mcalculate_dimensions\u001b[0;34m(variables)\u001b[0m\n\u001b[1;32m    106\u001b[0m                 raise ValueError('conflicting sizes for dimension %r: '\n\u001b[1;32m    107\u001b[0m                                  \u001b[0;34m'length %s on %r and length %s on %r'\u001b[0m \u001b[0;34m%\u001b[0m\u001b[0;34m\u001b[0m\u001b[0m\n\u001b[0;32m--> 108\u001b[0;31m                                  (dim, size, k, dims[dim], last_used[dim]))\n\u001b[0m\u001b[1;32m    109\u001b[0m     \u001b[0;32mreturn\u001b[0m \u001b[0mdims\u001b[0m\u001b[0;34m\u001b[0m\u001b[0m\n\u001b[1;32m    110\u001b[0m \u001b[0;34m\u001b[0m\u001b[0m\n",
      "\u001b[0;31mValueError\u001b[0m: conflicting sizes for dimension 'MSll': length 538384 on 'MSll' and length 1070916 on u'apcp'"
     ]
    }
   ],
   "source": [
    "week1.coords['MSll'] = np.arange(0,538384) "
   ]
  },
  {
   "cell_type": "code",
   "execution_count": 22,
   "metadata": {},
   "outputs": [
    {
     "data": {
      "text/plain": [
       "(array([  5.40000000e+01,   7.54000000e+02,   4.50800000e+03,\n",
       "          1.78590000e+04,   5.06860000e+04,   1.08936000e+05,\n",
       "          1.88076000e+05,   1.33767000e+05,   3.12660000e+04,\n",
       "          2.47800000e+03]),\n",
       " array([ 280.0958252 ,  283.16256409,  286.22930298,  289.29604187,\n",
       "         292.36278076,  295.42951965,  298.49625854,  301.56299744,\n",
       "         304.62973633,  307.69647522,  310.76321411]),\n",
       " <a list of 10 Patch objects>)"
      ]
     },
     "execution_count": 22,
     "metadata": {},
     "output_type": "execute_result"
    },
    {
     "data": {
      "image/png": "[encoded data removed]",
      "text/plain": [
       "<matplotlib.figure.Figure at 0x7faf93443f90>"
      ]
     },
     "metadata": {},
     "output_type": "display_data"
    }
   ],
   "source": [
    "plt.hist(week1.air2m.values.ravel())"
   ]
  },
  {
   "cell_type": "code",
   "execution_count": 23,
   "metadata": {},
   "outputs": [],
   "source": [
    "step = 2.\n",
    "to_bin = lambda x: np.round(x / step) * step\n",
    "week1[\"tasb\"] = to_bin(week1.air2m)\n"
   ]
  },
  {
   "cell_type": "code",
   "execution_count": 24,
   "metadata": {},
   "outputs": [
    {
     "data": {
      "text/plain": [
       "(array([  8.00000000e+00,   3.90000000e+01,   2.43000000e+02,\n",
       "          0.00000000e+00,   1.12200000e+03,   3.10800000e+03,\n",
       "          8.11800000e+03,   0.00000000e+00,   1.77830000e+04,\n",
       "          3.36040000e+04,   5.64880000e+04,   0.00000000e+00,\n",
       "          8.81430000e+04,   1.24756000e+05,   1.17856000e+05,\n",
       "          0.00000000e+00,   6.07280000e+04,   2.10740000e+04,\n",
       "          4.91800000e+03,   3.96000000e+02]),\n",
       " array([ 280. ,  281.5,  283. ,  284.5,  286. ,  287.5,  289. ,  290.5,\n",
       "         292. ,  293.5,  295. ,  296.5,  298. ,  299.5,  301. ,  302.5,\n",
       "         304. ,  305.5,  307. ,  308.5,  310. ]),\n",
       " <a list of 20 Patch objects>)"
      ]
     },
     "execution_count": 24,
     "metadata": {},
     "output_type": "execute_result"
    },
    {
     "data": {
      "image/png": "[encoded data removed]",
      "text/plain": [
       "<matplotlib.figure.Figure at 0x7faf93395190>"
      ]
     },
     "metadata": {},
     "output_type": "display_data"
    }
   ],
   "source": [
    "plt.hist(week1.tasb.values.ravel(),bins=20)"
   ]
  },
  {
   "cell_type": "code",
   "execution_count": 25,
   "metadata": {},
   "outputs": [
    {
     "data": {
      "text/plain": [
       "<xarray.Dataset>\n",
       "Dimensions:  (MSll: 538384)\n",
       "Coordinates:\n",
       "  * MSll     (MSll) int64 0 1 2 3 4 5 6 7 8 9 10 11 12 13 14 15 16 17 18 19 ...\n",
       "Data variables:\n",
       "    apcp     (MSll) float32 4.70275 0.278592 0.17536 0.0996123 0.00129894 ...\n",
       "    air2m    (MSll) float32 295.91 292.388 294.835 298.256 298.46 299.127 ...\n",
       "    tasb     (MSll) float32 296.0 292.0 294.0 298.0 298.0 300.0 302.0 302.0 ...\n",
       "Attributes:\n",
       "    Conventions:  IRIDL"
      ]
     },
     "execution_count": 25,
     "metadata": {},
     "output_type": "execute_result"
    }
   ],
   "source": [
    "week1"
   ]
  },
  {
   "cell_type": "code",
   "execution_count": 26,
   "metadata": {},
   "outputs": [
    {
     "data": {
      "text/plain": [
       "<xarray.core.groupby.DatasetGroupBy at 0x7faf92e0c6d0>"
      ]
     },
     "execution_count": 26,
     "metadata": {},
     "output_type": "execute_result"
    }
   ],
   "source": [
    "# templevels = np.arange(274-2.5,331+2.5,5)\n",
    "grouped1 = week1[['apcp','tasb']].groupby('tasb')\n",
    "grouped1"
   ]
  },
  {
   "cell_type": "code",
   "execution_count": 49,
   "metadata": {},
   "outputs": [
    {
     "data": {
      "text/plain": [
       "<xarray.Dataset>\n",
       "Dimensions:  (tasb: 16)\n",
       "Coordinates:\n",
       "  * tasb     (tasb) float64 280.0 282.0 284.0 286.0 288.0 290.0 292.0 294.0 ...\n",
       "Data variables:\n",
       "    apcp     (tasb) float64 2.081 2.335 4.17 5.376 7.593 7.14 9.354 9.763 ..."
      ]
     },
     "execution_count": 49,
     "metadata": {},
     "output_type": "execute_result"
    }
   ],
   "source": [
    "ds_group = grouped1.max()\n",
    "ds_group"
   ]
  },
  {
   "cell_type": "code",
   "execution_count": 50,
   "metadata": {},
   "outputs": [
    {
     "data": {
      "text/plain": [
       "<xarray.Dataset>\n",
       "Dimensions:    (quantiles: 9, tasb: 16)\n",
       "Coordinates:\n",
       "  * tasb       (tasb) float64 280.0 282.0 284.0 286.0 288.0 290.0 292.0 ...\n",
       "  * quantiles  (quantiles) float64 75.0 85.0 95.0 99.0 99.1 99.5 99.9 99.95 ...\n",
       "Data variables:\n",
       "    apcp       (tasb) float64 2.081 2.335 4.17 5.376 7.593 7.14 9.354 9.763 ..."
      ]
     },
     "execution_count": 50,
     "metadata": {},
     "output_type": "execute_result"
    }
   ],
   "source": [
    "ds_group.coords['quantiles'] = np.array([75,85,95,99,99.1,99.5,99.9,99.95,99.99])\n",
    "ds_group"
   ]
  },
  {
   "cell_type": "code",
   "execution_count": 51,
   "metadata": {},
   "outputs": [],
   "source": [
    "ds_group['pr_q'] = (('quantiles','tasb'), np.zeros((9,16))) "
   ]
  },
  {
   "cell_type": "code",
   "execution_count": 52,
   "metadata": {},
   "outputs": [
    {
     "data": {
      "text/plain": [
       "<xarray.Dataset>\n",
       "Dimensions:    (quantiles: 9, tasb: 16)\n",
       "Coordinates:\n",
       "  * tasb       (tasb) float64 280.0 282.0 284.0 286.0 288.0 290.0 292.0 ...\n",
       "  * quantiles  (quantiles) float64 75.0 85.0 95.0 99.0 99.1 99.5 99.9 99.95 ...\n",
       "Data variables:\n",
       "    apcp       (tasb) float64 2.081 2.335 4.17 5.376 7.593 7.14 9.354 9.763 ...\n",
       "    pr_q       (quantiles, tasb) float64 0.0 0.0 0.0 0.0 0.0 0.0 0.0 0.0 0.0 ..."
      ]
     },
     "execution_count": 52,
     "metadata": {},
     "output_type": "execute_result"
    }
   ],
   "source": [
    "ds_group"
   ]
  },
  {
   "cell_type": "code",
   "execution_count": 56,
   "metadata": {},
   "outputs": [
    {
     "name": "stdout",
     "output_type": "stream",
     "text": [
      "3 1122\n",
      "[ 0.83110788  1.34405782  2.54415113  3.69692777  3.70465478  4.04010512\n",
      "  4.78796744  5.05440037  5.31166132]\n",
      "4 3108\n",
      "[ 0.43256112  0.9593305   2.38859094  4.48882117  4.56193392  5.45453094\n",
      "  7.01194619  7.14532787  7.49348394]\n",
      "5 8118\n",
      "[ 0.26504634  0.68034565  1.81688792  3.65494921  3.76014765  4.21473157\n",
      "  5.38022916  5.72968258  6.1642516 ]\n",
      "6 17783\n",
      "[ 0.25768961  0.67314038  1.82923465  3.58017535  3.69389954  4.44821422\n",
      "  6.24561255  6.55882736  7.54434   ]\n",
      "7 33604\n",
      "[ 0.2877676   0.7462945   2.01740314  3.95648631  4.06149484  4.685972\n",
      "  6.35959699  7.2996972   9.21306043]\n",
      "8 56488\n",
      "[ 0.4556376   0.97902092  2.28554773  4.31736999  4.4219917   5.088918\n",
      "  7.05220464  7.76131073  9.78352914]\n",
      "9 88143\n",
      "[ 0.61255279  1.17051566  2.52949209  4.60845906  4.73241079  5.42525505\n",
      "  7.66147424  8.33739673  9.95091494]\n",
      "10 124756\n",
      "[ 0.49912378  0.97412035  2.20636576  4.0736712   4.2067696   4.92564063\n",
      "  6.83001853  7.57595491  9.35722987]\n",
      "11 117856\n",
      "[ 0.25135607  0.54201075  1.43858752  3.03390814  3.1328246   3.6508855\n",
      "  5.26734123  5.94490788  7.78860395]\n",
      "12 60728\n",
      "[ 0.12686618  0.30246027  0.8914875   2.05603382  2.13620415  2.61999097\n",
      "  3.96920516  4.23041733  5.43704486]\n",
      "13 21074\n",
      "[ 0.05935544  0.15548742  0.50312805  1.18759731  1.23387219  1.54163574\n",
      "  2.49306752  2.82844099  3.49257012]\n",
      "14 4918\n",
      "[ 0.02934096  0.08312381  0.27379769  0.6859643   0.71151126  0.87405239\n",
      "  1.52719955  1.58035422  2.12875514]\n"
     ]
    },
    {
     "data": {
      "text/plain": [
       "<xarray.Dataset>\n",
       "Dimensions:    (quantiles: 9, tasb: 16)\n",
       "Coordinates:\n",
       "  * tasb       (tasb) float64 280.0 282.0 284.0 286.0 288.0 290.0 292.0 ...\n",
       "  * quantiles  (quantiles) float64 75.0 85.0 95.0 99.0 99.1 99.5 99.9 99.95 ...\n",
       "Data variables:\n",
       "    apcp       (tasb) float64 2.081 2.335 4.17 5.376 7.593 7.14 9.354 9.763 ...\n",
       "    pr_q       (quantiles, tasb) float64 nan nan nan 0.8311 0.4326 0.265 ..."
      ]
     },
     "execution_count": 56,
     "metadata": {},
     "output_type": "execute_result"
    }
   ],
   "source": [
    "for iim, (k, gp) in enumerate(grouped1):\n",
    "    if gp.apcp.shape[0]>1000:\n",
    "        print iim,gp.apcp.shape[0]\n",
    "        var = np.nanpercentile(gp.apcp.values, q=[75,85,95,99,99.1,99.5,99.9,99.95,99.99])\n",
    "    #         ind_x = xr.DataArray([0, iim], dims=['x'])\n",
    "        print var\n",
    "        ds_group['pr_q'].loc[dict(tasb=k)] = var\n",
    "    else:\n",
    "        ds_group['pr_q'].loc[dict(tasb=k)] = np.nan\n",
    "ds_group\n"
   ]
  },
  {
   "cell_type": "code",
   "execution_count": 57,
   "metadata": {},
   "outputs": [
    {
     "data": {
      "image/png": "[encoded data removed]",
      "text/plain": [
       "<matplotlib.figure.Figure at 0x7faf9293ca90>"
      ]
     },
     "metadata": {},
     "output_type": "display_data"
    }
   ],
   "source": [
    "plt.plot(ds_group.tasb,np.log(ds_group.pr_q.T),'o-')\n",
    "plt.legend(ds_group.quantiles.values, bbox_to_anchor=(1.01,0.61))\n",
    "# plt.xlim((287,315))\n",
    "for iim in np.arange(-19,-15,0.5):\n",
    "    plt.plot(np.array([280,315]),iim+0.06*np.array([280,315]),':')\n"
   ]
  },
  {
   "cell_type": "code",
   "execution_count": 171,
   "metadata": {},
   "outputs": [
    {
     "ename": "ImportError",
     "evalue": "No module named dask_kubernetes",
     "output_type": "error",
     "traceback": [
      "\u001b[0;31m---------------------------------------------------------------------------\u001b[0m",
      "\u001b[0;31mImportError\u001b[0m                               Traceback (most recent call last)",
      "\u001b[0;32m<ipython-input-171-587da4b0a606>\u001b[0m in \u001b[0;36m<module>\u001b[0;34m()\u001b[0m\n\u001b[1;32m      4\u001b[0m \u001b[0;31m# client\u001b[0m\u001b[0;34m\u001b[0m\u001b[0;34m\u001b[0m\u001b[0m\n\u001b[1;32m      5\u001b[0m \u001b[0;34m\u001b[0m\u001b[0m\n\u001b[0;32m----> 6\u001b[0;31m \u001b[0;32mfrom\u001b[0m \u001b[0mdask_kubernetes\u001b[0m \u001b[0;32mimport\u001b[0m \u001b[0mKubeCluster\u001b[0m\u001b[0;34m\u001b[0m\u001b[0m\n\u001b[0m\u001b[1;32m      7\u001b[0m \u001b[0mcluster\u001b[0m \u001b[0;34m=\u001b[0m \u001b[0mKubeCluster\u001b[0m\u001b[0;34m(\u001b[0m\u001b[0mn_workers\u001b[0m\u001b[0;34m=\u001b[0m\u001b[0;36m20\u001b[0m\u001b[0;34m)\u001b[0m\u001b[0;34m\u001b[0m\u001b[0m\n\u001b[1;32m      8\u001b[0m \u001b[0mcluster\u001b[0m\u001b[0;34m\u001b[0m\u001b[0m\n",
      "\u001b[0;31mImportError\u001b[0m: No module named dask_kubernetes"
     ]
    }
   ],
   "source": [
    "\n",
    "# from dask.distributed import Client, progress\n",
    "# # HPC\n",
    "# # client = Client(scheduler_file='/glade/scratch/jhamman/scheduler.json')\n",
    "# # client\n",
    "\n",
    "# from dask_kubernetes import KubeCluster\n",
    "# cluster = KubeCluster(n_workers=20)\n",
    "# cluster"
   ]
  },
  {
   "cell_type": "code",
   "execution_count": 201,
   "metadata": {},
   "outputs": [],
   "source": [
    "qqq = grouped1.reduce(np.nanpercentile, dim='MSll', q=0.65)"
   ]
  },
  {
   "cell_type": "code",
   "execution_count": 202,
   "metadata": {},
   "outputs": [
    {
     "data": {
      "text/plain": [
       "[<matplotlib.lines.Line2D at 0x7fd9e42bd950>]"
      ]
     },
     "execution_count": 202,
     "metadata": {},
     "output_type": "execute_result"
    },
    {
     "data": {
      "image/png": "[encoded data removed]",
      "text/plain": [
       "<matplotlib.figure.Figure at 0x7fd9c957fcd0>"
      ]
     },
     "metadata": {},
     "output_type": "display_data"
    }
   ],
   "source": [
    "qqq.pr.plot()"
   ]
  },
  {
   "cell_type": "code",
   "execution_count": 147,
   "metadata": {},
   "outputs": [
    {
     "data": {
      "text/plain": [
       "[<matplotlib.lines.Line2D at 0x7fd9eef47590>]"
      ]
     },
     "execution_count": 147,
     "metadata": {},
     "output_type": "execute_result"
    },
    {
     "data": {
      "image/png": "[encoded data removed]",
      "text/plain": [
       "<matplotlib.figure.Figure at 0x7fd9c9e8d3d0>"
      ]
     },
     "metadata": {},
     "output_type": "display_data"
    }
   ],
   "source": [
    "plt.plot(qqq.tasb.values, grouped1.max().pr.values)#"
   ]
  },
  {
   "cell_type": "code",
   "execution_count": null,
   "metadata": {},
   "outputs": [],
   "source": []
  }
 ],
 "metadata": {
  "kernelspec": {
   "display_name": "Python 2",
   "language": "python",
   "name": "python2"
  },
  "language_info": {
   "codemirror_mode": {
    "name": "ipython",
    "version": 2
   },
   "file_extension": ".py",
   "mimetype": "text/x-python",
   "name": "python",
   "nbconvert_exporter": "python",
   "pygments_lexer": "ipython2",
   "version": "2.7.14"
  }
 },
 "nbformat": 4,
 "nbformat_minor": 2
}
