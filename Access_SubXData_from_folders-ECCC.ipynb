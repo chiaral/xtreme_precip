{
 "cells": [
  {
   "cell_type": "code",
   "execution_count": 1,
   "metadata": {},
   "outputs": [],
   "source": [
    "import xarray as xr\n",
    "import numpy as np\n",
    "from matplotlib import pyplot as plt\n",
    "%matplotlib inline\n",
    "from matplotlib.colors import LogNorm\n",
    "from xhistogram.xarray import histogram\n",
    "import os\n",
    "import time\n",
    "from matplotlib.colors import LogNorm\n",
    "import dask"
   ]
  },
  {
   "cell_type": "code",
   "execution_count": 2,
   "metadata": {},
   "outputs": [
    {
     "data": {
      "text/plain": [
       "['ESRL', 'NASA', 'EMC', 'RSMAS', 'ECCC', 'NRL', 'CESM', 'NCEP']"
      ]
     },
     "execution_count": 2,
     "metadata": {},
     "output_type": "execute_result"
    }
   ],
   "source": [
    "listOfDir = os.listdir('/Data2/SubX/')\n",
    "listOfDir = listOfDir[0:-1] # drop 'CWB\n",
    "listOfDir"
   ]
  },
  {
   "cell_type": "code",
   "execution_count": 3,
   "metadata": {},
   "outputs": [],
   "source": [
    "subfolder_to_try = ['FIMr1p1','GEOS_V2p1','GEFS','CCSM4','GEPS5','GEPS6','hindcast','NESM','46LCESM1', '30LCAM5','CFSv2']"
   ]
  },
  {
   "cell_type": "code",
   "execution_count": 4,
   "metadata": {},
   "outputs": [
    {
     "name": "stdout",
     "output_type": "stream",
     "text": [
      "sic_sfc.zip\n",
      "pr_sfc\n",
      "JJA\n",
      "tas_2m\n",
      "forecast\n",
      "forecast\n",
      "subX_reforecast_ECCC_1995081000_m01.tar\n",
      "documentation.txt\n",
      "hindcast\n",
      "hindcast\n",
      "hindcast\n"
     ]
    }
   ],
   "source": [
    "for ild in listOfDir:\n",
    "    for isb in subfolder_to_try:\n",
    "        if isb in os.listdir('/Data2/SubX/'+ild+'/'):\n",
    "            print(os.listdir('/Data2/SubX/'+ild+'/'+isb)[0])\n"
   ]
  },
  {
   "cell_type": "markdown",
   "metadata": {},
   "source": [
    "# the list above will look for the subfolder in the folder. I have 11 possibilities, one for each model. In particular"
   ]
  },
  {
   "cell_type": "code",
   "execution_count": 5,
   "metadata": {},
   "outputs": [
    {
     "name": "stdout",
     "output_type": "stream",
     "text": [
      "ESRL/FIMr1p1\n",
      "NASA/GEOS_V2p1\n",
      "EMC/GEFS\n",
      "RSMAS/CCSM4\n",
      "ECCC/GEPS5\n",
      "ECCC/GEPS6\n",
      "ECCC/hindcast\n",
      "NRL/NESM\n",
      "CESM/46LCESM1\n",
      "CESM/30LCAM5\n",
      "NCEP/CFSv2\n"
     ]
    }
   ],
   "source": [
    "for ild in listOfDir:\n",
    "    for isb in subfolder_to_try:\n",
    "        if isb in os.listdir('/Data2/SubX/'+ild+'/'):\n",
    "            print(ild+'/'+isb)\n"
   ]
  },
  {
   "cell_type": "markdown",
   "metadata": {},
   "source": [
    "## each of this subfloders are organized differently (in fact the third ECCC doesn't have a name for the submodel, but directly the folder hindcast. I assume that is the GEM model)\n",
    "\n",
    "## Unfortunately I cannot use a general loop to treat each model, but I have to write a separate script for each of them\n",
    "\n",
    "## the name of the variables *should* be the same: cape, tas_2m, tdps_2m, wap_500, pr_sfc"
   ]
  },
  {
   "cell_type": "markdown",
   "metadata": {},
   "source": [
    "# ECCC/GEPS5/hindcast"
   ]
  },
  {
   "cell_type": "markdown",
   "metadata": {},
   "source": [
    "### These models have one big folder for all variables, so I have to reorganize the script"
   ]
  },
  {
   "cell_type": "code",
   "execution_count": 12,
   "metadata": {},
   "outputs": [],
   "source": [
    "#!ls /Data2/SubX/ECCC/hindcast/"
   ]
  },
  {
   "cell_type": "code",
   "execution_count": 8,
   "metadata": {},
   "outputs": [],
   "source": [
    "# ds = xr.open_dataset('/Data2/SubX/ECCC/GEPS6/hindcast/hfls_sfc_ECCC_01aug1998_00z_d01_d32_m01.nc')\n",
    "# ds"
   ]
  },
  {
   "cell_type": "code",
   "execution_count": 10,
   "metadata": {},
   "outputs": [],
   "source": [
    "variable_names = [ 'tas_2m', 'tdps_2m', 'wap_500', 'pr']"
   ]
  },
  {
   "cell_type": "code",
   "execution_count": null,
   "metadata": {},
   "outputs": [
    {
     "name": "stdout",
     "output_type": "stream",
     "text": [
      "tas_2m\n",
      "1999\n",
      "2000\n",
      "2001\n"
     ]
    }
   ],
   "source": [
    "from glob import glob\n",
    "def pre_process_func(ds, strM):\n",
    "#     print(strM)\n",
    "#     print(ds)\n",
    "    ds = ds.rename({'latitude':'lat', 'longitude':'lon'})\n",
    "    ds = ds.sel(lat=slice(23,50), lon=slice(230,300))\n",
    "    ds.coords['S'] = ds.time[0].values\n",
    "    # FOR THIS MODEL ONLY I HAVE TO SUBSTRACT 24 HOURS\n",
    "    ds.coords['S'] = ds.S - np.timedelta64(24,'h') \n",
    "#     print(ds.S)\n",
    "    ds.coords['time']=np.array([  43200000000000,  129600000000000,  216000000000000,\n",
    "        302400000000000,  388800000000000,  475200000000000,\n",
    "        561600000000000,  648000000000000,  734400000000000,\n",
    "        820800000000000,  907200000000000,  993600000000000,\n",
    "       1080000000000000, 1166400000000000, 1252800000000000,\n",
    "       1339200000000000, 1425600000000000, 1512000000000000,\n",
    "       1598400000000000, 1684800000000000, 1771200000000000,\n",
    "       1857600000000000, 1944000000000000, 2030400000000000,\n",
    "       2116800000000000, 2203200000000000, 2289600000000000,\n",
    "       2376000000000000, 2462400000000000, 2548800000000000,\n",
    "       2635200000000000, 2721600000000000],\n",
    "      dtype='timedelta64[ns]')\n",
    "\n",
    "    ds.coords['M'] = np.int(strM)\n",
    "#     ds.coords['time'] = ds.time-ds.S\n",
    "    ds = ds.expand_dims(['S','M'])\n",
    "    return ds\n",
    "def read_netcdfs(files, dim, transform_func=None):\n",
    "    def process_one_path(path):\n",
    "        # use a context manager, to ensure the file gets closed after use\n",
    "        with xr.open_dataset(path, chunks={}) as ds:\n",
    "#             print(path)\n",
    "            # transform_func should do some sort of selection or\n",
    "            # aggregation\n",
    "            if transform_func is not None:\n",
    "                ds = transform_func(ds, path[-5:-3])\n",
    "            # load all data from the transformed dataset, to ensure we can\n",
    "            # use it after closing each original file\n",
    "#             print(ds)\n",
    "#             ds.load()\n",
    "            return ds\n",
    "\n",
    "    paths = sorted(glob(files))\n",
    "#     print(paths)\n",
    "    datasets = []\n",
    "    for p in paths:\n",
    "        try:\n",
    "            datasets.append(process_one_path(p))\n",
    "        except:\n",
    "            print(p+' did not work')\n",
    "            datasets=[]\n",
    "        \n",
    "#     datasets = [process_one_path(p) for p in paths]\n",
    "    \n",
    "    combined = xr.combine_by_coords(datasets)\n",
    "    combined = combined.chunk({'S':4,'M':-1})\n",
    "    return combined\n",
    "\n",
    "\n",
    "\n",
    "var_l=[]\n",
    "for ivar in variable_names:\n",
    "    print(ivar)\n",
    "    c_l = []\n",
    "    for iy in np.arange(1999, 2015):\n",
    "        print(iy)\n",
    "        # here we suppose we only care about the combined mean of each file;\n",
    "        # you might also use indexing operations like .sel to subset datasets\n",
    "#             for im in np.arange()\n",
    "        combined = read_netcdfs('/Data2/SubX/ECCC/hindcast/'+ivar+'*'+np.str(iy)+'*.nc', dim=['S','M'],\n",
    "                                transform_func=pre_process_func)\n",
    "\n",
    "        c_l.append(combined)\n",
    "    all_values = xr.concat(c_l, dim='S') \n",
    "    var_l.append(all_values)\n",
    "all_variables = xr.merge(var_l)"
   ]
  },
  {
   "cell_type": "code",
   "execution_count": null,
   "metadata": {},
   "outputs": [],
   "source": [
    "all_variables"
   ]
  },
  {
   "cell_type": "code",
   "execution_count": null,
   "metadata": {},
   "outputs": [],
   "source": [
    "from glob import glob\n",
    "def pre_process_func(ds, strM):\n",
    "#     print(strM)\n",
    "#     print(ds)\n",
    "    ds = ds.rename({'latitude':'lat', 'longitude':'lon'})\n",
    "    ds = ds.sel(lat=slice(23,50), lon=slice(230,300))\n",
    "    ds.coords['S'] = ds.time[0].values\n",
    "    # FOR THIS MODEL ONLY I HAVE TO SUBSTRACT 24 HOURS\n",
    "    ds.coords['S'] = ds.S - np.timedelta64(24,'h') \n",
    "#     print(ds.S)\n",
    "    ds.coords['time']=np.array([  43200000000000,  129600000000000,  216000000000000,\n",
    "        302400000000000,  388800000000000,  475200000000000,\n",
    "        561600000000000,  648000000000000,  734400000000000,\n",
    "        820800000000000,  907200000000000,  993600000000000,\n",
    "       1080000000000000, 1166400000000000, 1252800000000000,\n",
    "       1339200000000000, 1425600000000000, 1512000000000000,\n",
    "       1598400000000000, 1684800000000000, 1771200000000000,\n",
    "       1857600000000000, 1944000000000000, 2030400000000000,\n",
    "       2116800000000000, 2203200000000000, 2289600000000000,\n",
    "       2376000000000000, 2462400000000000, 2548800000000000,\n",
    "       2635200000000000, 2721600000000000],\n",
    "      dtype='timedelta64[ns]')\n",
    "\n",
    "    ds.coords['M'] = np.int(strM)\n",
    "#     ds.coords['time'] = ds.time-ds.S\n",
    "    ds = ds.expand_dims(['S','M'])\n",
    "    return ds\n",
    "def read_netcdfs(files, dim, transform_func=None):\n",
    "    def process_one_path(path):\n",
    "        # use a context manager, to ensure the file gets closed after use\n",
    "        with xr.open_dataset(path, chunks={}) as ds:\n",
    "#             print(path)\n",
    "            # transform_func should do some sort of selection or\n",
    "            # aggregation\n",
    "            if transform_func is not None:\n",
    "                ds = transform_func(ds, path[-5:-3])\n",
    "            # load all data from the transformed dataset, to ensure we can\n",
    "            # use it after closing each original file\n",
    "#             print(ds)\n",
    "#             ds.load()\n",
    "            return ds\n",
    "\n",
    "    paths = sorted(glob(files))\n",
    "#     print(paths)\n",
    "    datasets = []\n",
    "    for p in paths:\n",
    "        try:\n",
    "            datasets.append(process_one_path(p))\n",
    "        except:\n",
    "            print(p+' did not work')\n",
    "            datasets=[]\n",
    "        \n",
    "#     datasets = [process_one_path(p) for p in paths]\n",
    "    \n",
    "    combined = xr.combine_by_coords(datasets)\n",
    "    combined = combined.chunk({'S':4,'M':-1})\n",
    "    return combined\n",
    "\n",
    "\n",
    "\n",
    "var_l=[]\n",
    "for ivar in variable_names:\n",
    "    print(ivar)\n",
    "    c_l = []\n",
    "    for iy in np.arange(1999, 2015):\n",
    "        print(iy)\n",
    "        # here we suppose we only care about the combined mean of each file;\n",
    "        # you might also use indexing operations like .sel to subset datasets\n",
    "#             for im in np.arange()\n",
    "        combined = read_netcdfs('/Data2/SubX/ECCC/GEPS5/hindcast/'+ivar+'*'+np.str(iy)+'*.nc', dim=['S','M'],\n",
    "                                transform_func=pre_process_func)\n",
    "\n",
    "        c_l.append(combined)\n",
    "    all_values = xr.concat(c_l, dim='S') \n",
    "    var_l.append(all_values)\n",
    "all_variables = xr.merge(var_l)\n",
    "all_variables"
   ]
  },
  {
   "cell_type": "code",
   "execution_count": null,
   "metadata": {},
   "outputs": [],
   "source": [
    "from glob import glob\n",
    "def pre_process_func(ds, strM):\n",
    "#     print(strM)\n",
    "#     print(ds)\n",
    "    ds = ds.rename({'latitude':'lat', 'longitude':'lon'})\n",
    "    ds = ds.sel(lat=slice(23,50), lon=slice(230,300))\n",
    "    ds.coords['S'] = ds.time[0].values\n",
    "    # FOR THIS MODEL ONLY I HAVE TO SUBSTRACT 24 HOURS\n",
    "    ds.coords['S'] = ds.S - np.timedelta64(24,'h') \n",
    "#     print(ds.S)\n",
    "    ds.coords['time']=np.array([  43200000000000,  129600000000000,  216000000000000,\n",
    "        302400000000000,  388800000000000,  475200000000000,\n",
    "        561600000000000,  648000000000000,  734400000000000,\n",
    "        820800000000000,  907200000000000,  993600000000000,\n",
    "       1080000000000000, 1166400000000000, 1252800000000000,\n",
    "       1339200000000000, 1425600000000000, 1512000000000000,\n",
    "       1598400000000000, 1684800000000000, 1771200000000000,\n",
    "       1857600000000000, 1944000000000000, 2030400000000000,\n",
    "       2116800000000000, 2203200000000000, 2289600000000000,\n",
    "       2376000000000000, 2462400000000000, 2548800000000000,\n",
    "       2635200000000000, 2721600000000000],\n",
    "      dtype='timedelta64[ns]')\n",
    "\n",
    "    ds.coords['M'] = np.int(strM)\n",
    "#     ds.coords['time'] = ds.time-ds.S\n",
    "    ds = ds.expand_dims(['S','M'])\n",
    "    return ds\n",
    "def read_netcdfs(files, dim, transform_func=None):\n",
    "    def process_one_path(path):\n",
    "        # use a context manager, to ensure the file gets closed after use\n",
    "        with xr.open_dataset(path, chunks={}) as ds:\n",
    "#             print(path)\n",
    "            # transform_func should do some sort of selection or\n",
    "            # aggregation\n",
    "            if transform_func is not None:\n",
    "                ds = transform_func(ds, path[-5:-3])\n",
    "            # load all data from the transformed dataset, to ensure we can\n",
    "            # use it after closing each original file\n",
    "#             print(ds)\n",
    "#             ds.load()\n",
    "            return ds\n",
    "\n",
    "    paths = sorted(glob(files))\n",
    "#     print(paths)\n",
    "    datasets = []\n",
    "    for p in paths:\n",
    "        try:\n",
    "            datasets.append(process_one_path(p))\n",
    "        except:\n",
    "            print(p+' did not work')\n",
    "            datasets=[]\n",
    "        \n",
    "#     datasets = [process_one_path(p) for p in paths]\n",
    "    \n",
    "    combined = xr.combine_by_coords(datasets)\n",
    "    combined = combined.chunk({'S':4,'M':-1})\n",
    "    return combined\n",
    "\n",
    "\n",
    "\n",
    "var_l=[]\n",
    "for ivar in variable_names:\n",
    "    print(ivar)\n",
    "    c_l = []\n",
    "    for iy in np.arange(1999, 2015):\n",
    "        print(iy)\n",
    "        # here we suppose we only care about the combined mean of each file;\n",
    "        # you might also use indexing operations like .sel to subset datasets\n",
    "#             for im in np.arange()\n",
    "        combined = read_netcdfs('/Data2/SubX/ECCC/GEPS6/hindcast/'+ivar+'*'+np.str(iy)+'*.nc', dim=['S','M'],\n",
    "                                transform_func=pre_process_func)\n",
    "\n",
    "        c_l.append(combined)\n",
    "    all_values = xr.concat(c_l, dim='S') \n",
    "    var_l.append(all_values)\n",
    "all_variables = xr.merge(var_l)\n",
    "all_variables"
   ]
  },
  {
   "cell_type": "code",
   "execution_count": null,
   "metadata": {},
   "outputs": [],
   "source": []
  }
 ],
 "metadata": {
  "kernelspec": {
   "display_name": "Python 3",
   "language": "python",
   "name": "python3"
  },
  "language_info": {
   "codemirror_mode": {
    "name": "ipython",
    "version": 3
   },
   "file_extension": ".py",
   "mimetype": "text/x-python",
   "name": "python",
   "nbconvert_exporter": "python",
   "pygments_lexer": "ipython3",
   "version": "3.6.7"
  }
 },
 "nbformat": 4,
 "nbformat_minor": 2
}
